{
 "cells": [
  {
   "cell_type": "code",
   "execution_count": 1,
   "id": "d2f1d861",
   "metadata": {
    "ExecuteTime": {
     "end_time": "2023-01-02T12:09:06.751921Z",
     "start_time": "2023-01-02T12:09:05.016435Z"
    }
   },
   "outputs": [],
   "source": [
    "import pandas as pd\n",
    "import numpy as np\n",
    "\n",
    "from datetime import datetime"
   ]
  },
  {
   "cell_type": "markdown",
   "id": "1cde6510",
   "metadata": {
    "ExecuteTime": {
     "end_time": "2022-11-30T10:35:06.567769Z",
     "start_time": "2022-11-30T10:35:06.548931Z"
    }
   },
   "source": [
    "# 문자열 -> 시간"
   ]
  },
  {
   "cell_type": "code",
   "execution_count": 10,
   "id": "26f23953",
   "metadata": {
    "ExecuteTime": {
     "end_time": "2023-01-02T12:20:26.033782Z",
     "start_time": "2023-01-02T12:20:26.011729Z"
    }
   },
   "outputs": [
    {
     "name": "stdout",
     "output_type": "stream",
     "text": [
      "문자열 2022-11-30 : 2022-11-30 00:00:00\n",
      "문자열 2022-11-30 : 2022-11-01 00:00:00\n",
      "문자열 2022-11-30 : 2022-01-01 00:00:00\n"
     ]
    }
   ],
   "source": [
    "## 문자열-> datetime 형식\n",
    "print(\"문자열 2022-11-30 :\",pd.to_datetime('2022-11-30'))\n",
    "\n",
    "## 년 월 문자열\n",
    "print(\"문자열 2022-11-30 :\",pd.to_datetime('2022-11'))\n",
    "\n",
    "# 년도 문자열\n",
    "print(\"문자열 2022-11-30 :\",pd.to_datetime('2022'))"
   ]
  },
  {
   "cell_type": "code",
   "execution_count": 7,
   "id": "8b7e8a11",
   "metadata": {
    "ExecuteTime": {
     "end_time": "2023-01-02T12:19:33.208780Z",
     "start_time": "2023-01-02T12:19:33.184808Z"
    }
   },
   "outputs": [
    {
     "name": "stdout",
     "output_type": "stream",
     "text": [
      "2022-11-30 00:00:00\n",
      "2022-11-01 00:00:00\n",
      "2022-01-01 00:00:00\n"
     ]
    }
   ],
   "source": [
    "## 문자열-> datetime 형식\n",
    "print(datetime.strptime('2022-11-30','%Y-%m-%d'))\n",
    "\n",
    "## 년 월 문자열\n",
    "print(datetime.strptime('2022-11','%Y-%m'))\n",
    "\n",
    "# 년도 문자열\n",
    "print(datetime.strptime('2022','%Y'))"
   ]
  },
  {
   "cell_type": "code",
   "execution_count": 13,
   "id": "801362a3",
   "metadata": {
    "ExecuteTime": {
     "end_time": "2022-11-30T10:39:44.553602Z",
     "start_time": "2022-11-30T10:39:44.527710Z"
    }
   },
   "outputs": [
    {
     "data": {
      "text/plain": [
       "datetime.datetime(2022, 11, 30, 0, 0)"
      ]
     },
     "execution_count": 13,
     "metadata": {},
     "output_type": "execute_result"
    }
   ],
   "source": [
    "datetime.strptime('2022-11-30','%Y-%m-%d')"
   ]
  },
  {
   "cell_type": "code",
   "execution_count": 14,
   "id": "e7af4f1d",
   "metadata": {
    "ExecuteTime": {
     "end_time": "2022-11-30T10:40:06.579972Z",
     "start_time": "2022-11-30T10:40:06.559959Z"
    }
   },
   "outputs": [
    {
     "data": {
      "text/plain": [
       "datetime.datetime(2022, 11, 1, 0, 0)"
      ]
     },
     "execution_count": 14,
     "metadata": {},
     "output_type": "execute_result"
    }
   ],
   "source": [
    "datetime.strptime('2022-11','%Y-%m')"
   ]
  },
  {
   "cell_type": "code",
   "execution_count": 5,
   "id": "a17d7913",
   "metadata": {
    "ExecuteTime": {
     "end_time": "2023-01-02T12:15:07.447171Z",
     "start_time": "2023-01-02T12:15:07.422333Z"
    }
   },
   "outputs": [
    {
     "data": {
      "text/plain": [
       "datetime.datetime(2022, 1, 1, 0, 0)"
      ]
     },
     "execution_count": 5,
     "metadata": {},
     "output_type": "execute_result"
    }
   ],
   "source": [
    "datetime.strptime('2022','%Y')"
   ]
  },
  {
   "cell_type": "markdown",
   "id": "fcf665f4",
   "metadata": {},
   "source": [
    "# 날짜 -> 문자열"
   ]
  },
  {
   "cell_type": "code",
   "execution_count": 17,
   "id": "62ae5e85",
   "metadata": {
    "ExecuteTime": {
     "end_time": "2023-01-02T12:37:26.756804Z",
     "start_time": "2023-01-02T12:37:26.741377Z"
    }
   },
   "outputs": [
    {
     "name": "stdout",
     "output_type": "stream",
     "text": [
      "현재시간:  2023-01-02 21:37:26.746364\n",
      "datetime사용 : 2023-01-02\n",
      "datetime사용 : 2023/01/02\n",
      "str사용:  2023-01-02 21:37:26.746364\n",
      "str사용:  2023-01-02\n"
     ]
    }
   ],
   "source": [
    "now = datetime.now()\n",
    "print('현재시간: ',now)\n",
    "\n",
    "# datetime.strftime 사용\n",
    "print('datetime사용 :', datetime.strftime(now,'%Y-%m-%d'))\n",
    "\n",
    "# 문자열 형식 바꿀 수 있음\n",
    "print('datetime사용 :', datetime.strftime(now,'%Y/%m/%d'))\n",
    "\n",
    "# str 사용\n",
    "print('str사용: ', str(now))\n",
    "\n",
    "# str사용 년월일만\n",
    "print('str사용: ', str(now)[:10])\n"
   ]
  },
  {
   "cell_type": "code",
   "execution_count": 18,
   "id": "1f6fe135",
   "metadata": {
    "ExecuteTime": {
     "end_time": "2022-11-30T10:46:47.896476Z",
     "start_time": "2022-11-30T10:46:47.885453Z"
    }
   },
   "outputs": [
    {
     "data": {
      "text/plain": [
       "'2022-11-30'"
      ]
     },
     "execution_count": 18,
     "metadata": {},
     "output_type": "execute_result"
    }
   ],
   "source": [
    "datetime.strftime(now,'%Y-%m-%d')"
   ]
  },
  {
   "cell_type": "code",
   "execution_count": 19,
   "id": "52e378bf",
   "metadata": {
    "ExecuteTime": {
     "end_time": "2022-11-30T10:47:09.151525Z",
     "start_time": "2022-11-30T10:47:09.129960Z"
    }
   },
   "outputs": [
    {
     "data": {
      "text/plain": [
       "'2022-11-30 19:45:08.059053'"
      ]
     },
     "execution_count": 19,
     "metadata": {},
     "output_type": "execute_result"
    }
   ],
   "source": [
    "str(now)"
   ]
  },
  {
   "cell_type": "code",
   "execution_count": 21,
   "id": "fb129a28",
   "metadata": {
    "ExecuteTime": {
     "end_time": "2022-11-30T10:47:39.597518Z",
     "start_time": "2022-11-30T10:47:39.586788Z"
    }
   },
   "outputs": [
    {
     "data": {
      "text/plain": [
       "'2022-11-30'"
      ]
     },
     "execution_count": 21,
     "metadata": {},
     "output_type": "execute_result"
    }
   ],
   "source": [
    "str(now)[:10]"
   ]
  },
  {
   "cell_type": "code",
   "execution_count": null,
   "id": "03366aea",
   "metadata": {},
   "outputs": [],
   "source": []
  },
  {
   "cell_type": "markdown",
   "id": "ea6e31a2",
   "metadata": {},
   "source": [
    "# 시간 차이 구하기"
   ]
  },
  {
   "cell_type": "code",
   "execution_count": 28,
   "id": "119b0ca7",
   "metadata": {
    "ExecuteTime": {
     "end_time": "2022-11-30T10:54:00.464848Z",
     "start_time": "2022-11-30T10:54:00.187118Z"
    }
   },
   "outputs": [
    {
     "data": {
      "text/html": [
       "<div>\n",
       "<style scoped>\n",
       "    .dataframe tbody tr th:only-of-type {\n",
       "        vertical-align: middle;\n",
       "    }\n",
       "\n",
       "    .dataframe tbody tr th {\n",
       "        vertical-align: top;\n",
       "    }\n",
       "\n",
       "    .dataframe thead th {\n",
       "        text-align: right;\n",
       "    }\n",
       "</style>\n",
       "<table border=\"1\" class=\"dataframe\">\n",
       "  <thead>\n",
       "    <tr style=\"text-align: right;\">\n",
       "      <th></th>\n",
       "      <th>pollution</th>\n",
       "      <th>dew</th>\n",
       "      <th>temp</th>\n",
       "      <th>press</th>\n",
       "      <th>wnd_dir</th>\n",
       "      <th>wnd_spd</th>\n",
       "      <th>snow</th>\n",
       "      <th>rain</th>\n",
       "    </tr>\n",
       "    <tr>\n",
       "      <th>date</th>\n",
       "      <th></th>\n",
       "      <th></th>\n",
       "      <th></th>\n",
       "      <th></th>\n",
       "      <th></th>\n",
       "      <th></th>\n",
       "      <th></th>\n",
       "      <th></th>\n",
       "    </tr>\n",
       "  </thead>\n",
       "  <tbody>\n",
       "    <tr>\n",
       "      <th>2010-01-02 00:00:00</th>\n",
       "      <td>129.0</td>\n",
       "      <td>-16</td>\n",
       "      <td>-4.0</td>\n",
       "      <td>1020.0</td>\n",
       "      <td>SE</td>\n",
       "      <td>1.79</td>\n",
       "      <td>0</td>\n",
       "      <td>0</td>\n",
       "    </tr>\n",
       "    <tr>\n",
       "      <th>2010-01-02 01:00:00</th>\n",
       "      <td>148.0</td>\n",
       "      <td>-15</td>\n",
       "      <td>-4.0</td>\n",
       "      <td>1020.0</td>\n",
       "      <td>SE</td>\n",
       "      <td>2.68</td>\n",
       "      <td>0</td>\n",
       "      <td>0</td>\n",
       "    </tr>\n",
       "    <tr>\n",
       "      <th>2010-01-02 02:00:00</th>\n",
       "      <td>159.0</td>\n",
       "      <td>-11</td>\n",
       "      <td>-5.0</td>\n",
       "      <td>1021.0</td>\n",
       "      <td>SE</td>\n",
       "      <td>3.57</td>\n",
       "      <td>0</td>\n",
       "      <td>0</td>\n",
       "    </tr>\n",
       "    <tr>\n",
       "      <th>2010-01-02 03:00:00</th>\n",
       "      <td>181.0</td>\n",
       "      <td>-7</td>\n",
       "      <td>-5.0</td>\n",
       "      <td>1022.0</td>\n",
       "      <td>SE</td>\n",
       "      <td>5.36</td>\n",
       "      <td>1</td>\n",
       "      <td>0</td>\n",
       "    </tr>\n",
       "    <tr>\n",
       "      <th>2010-01-02 04:00:00</th>\n",
       "      <td>138.0</td>\n",
       "      <td>-7</td>\n",
       "      <td>-5.0</td>\n",
       "      <td>1022.0</td>\n",
       "      <td>SE</td>\n",
       "      <td>6.25</td>\n",
       "      <td>2</td>\n",
       "      <td>0</td>\n",
       "    </tr>\n",
       "  </tbody>\n",
       "</table>\n",
       "</div>"
      ],
      "text/plain": [
       "                     pollution  dew  temp   press wnd_dir  wnd_spd  snow  rain\n",
       "date                                                                          \n",
       "2010-01-02 00:00:00      129.0  -16  -4.0  1020.0      SE     1.79     0     0\n",
       "2010-01-02 01:00:00      148.0  -15  -4.0  1020.0      SE     2.68     0     0\n",
       "2010-01-02 02:00:00      159.0  -11  -5.0  1021.0      SE     3.57     0     0\n",
       "2010-01-02 03:00:00      181.0   -7  -5.0  1022.0      SE     5.36     1     0\n",
       "2010-01-02 04:00:00      138.0   -7  -5.0  1022.0      SE     6.25     2     0"
      ]
     },
     "execution_count": 28,
     "metadata": {},
     "output_type": "execute_result"
    }
   ],
   "source": [
    "df = pd.read_csv('./data/pollution.csv',parse_dates=['date'],index_col='date')\n",
    "df.head()"
   ]
  },
  {
   "cell_type": "code",
   "execution_count": 34,
   "id": "53add63a",
   "metadata": {
    "ExecuteTime": {
     "end_time": "2022-11-30T10:56:28.041371Z",
     "start_time": "2022-11-30T10:56:28.028406Z"
    }
   },
   "outputs": [
    {
     "data": {
      "text/plain": [
       "Timestamp('2014-12-31 23:00:00')"
      ]
     },
     "execution_count": 34,
     "metadata": {},
     "output_type": "execute_result"
    }
   ],
   "source": [
    "df.index[-1]"
   ]
  },
  {
   "cell_type": "markdown",
   "id": "732055d6",
   "metadata": {},
   "source": [
    "## train valid test split"
   ]
  },
  {
   "cell_type": "code",
   "execution_count": 22,
   "id": "52eab788",
   "metadata": {
    "ExecuteTime": {
     "end_time": "2023-01-02T12:44:26.095933Z",
     "start_time": "2023-01-02T12:44:26.080923Z"
    }
   },
   "outputs": [
    {
     "name": "stdout",
     "output_type": "stream",
     "text": [
      "0 days 01:00:00\n",
      "1 days 00:00:00\n",
      "7 days 00:00:00\n"
     ]
    }
   ],
   "source": [
    "# 1시간\n",
    "print(pd.Timedelta(hours=1))\n",
    "\n",
    "# 1일\n",
    "print(pd.Timedelta(days=1))\n",
    "\n",
    "# 1주\n",
    "print(pd.Timedelta(weeks=1))"
   ]
  },
  {
   "cell_type": "code",
   "execution_count": 19,
   "id": "42616593",
   "metadata": {
    "ExecuteTime": {
     "end_time": "2023-01-02T12:43:14.010662Z",
     "start_time": "2023-01-02T12:43:13.996898Z"
    }
   },
   "outputs": [
    {
     "name": "stdout",
     "output_type": "stream",
     "text": [
      "1 days 00:00:00\n"
     ]
    }
   ],
   "source": [
    "print(pd.Timedelta(days=1))"
   ]
  },
  {
   "cell_type": "code",
   "execution_count": 20,
   "id": "aaf35d05",
   "metadata": {
    "ExecuteTime": {
     "end_time": "2023-01-02T12:43:20.080167Z",
     "start_time": "2023-01-02T12:43:20.067568Z"
    }
   },
   "outputs": [
    {
     "name": "stdout",
     "output_type": "stream",
     "text": [
      "7 days 00:00:00\n"
     ]
    }
   ],
   "source": [
    "print(pd.Timedelta(weeks=1))"
   ]
  },
  {
   "cell_type": "code",
   "execution_count": 21,
   "id": "658006f7",
   "metadata": {
    "ExecuteTime": {
     "end_time": "2023-01-02T12:43:26.116213Z",
     "start_time": "2023-01-02T12:43:24.834869Z"
    }
   },
   "outputs": [
    {
     "ename": "ValueError",
     "evalue": "cannot construct a Timedelta from the passed arguments, allowed keywords are [weeks, days, hours, minutes, seconds, milliseconds, microseconds, nanoseconds]",
     "output_type": "error",
     "traceback": [
      "\u001b[1;31m---------------------------------------------------------------------------\u001b[0m",
      "\u001b[1;31mValueError\u001b[0m                                Traceback (most recent call last)",
      "\u001b[1;32m~\\AppData\\Local\\Temp/ipykernel_21424/1299305502.py\u001b[0m in \u001b[0;36m<module>\u001b[1;34m\u001b[0m\n\u001b[1;32m----> 1\u001b[1;33m \u001b[0mprint\u001b[0m\u001b[1;33m(\u001b[0m\u001b[0mpd\u001b[0m\u001b[1;33m.\u001b[0m\u001b[0mTimedelta\u001b[0m\u001b[1;33m(\u001b[0m\u001b[0mmonths\u001b[0m\u001b[1;33m=\u001b[0m\u001b[1;36m1\u001b[0m\u001b[1;33m)\u001b[0m\u001b[1;33m)\u001b[0m\u001b[1;33m\u001b[0m\u001b[1;33m\u001b[0m\u001b[0m\n\u001b[0m",
      "\u001b[1;32m~\\anaconda3\\lib\\site-packages\\pandas\\_libs\\tslibs\\timedeltas.pyx\u001b[0m in \u001b[0;36mpandas._libs.tslibs.timedeltas.Timedelta.__new__\u001b[1;34m()\u001b[0m\n",
      "\u001b[1;31mValueError\u001b[0m: cannot construct a Timedelta from the passed arguments, allowed keywords are [weeks, days, hours, minutes, seconds, milliseconds, microseconds, nanoseconds]"
     ]
    }
   ],
   "source": [
    "print(pd.Timedelta(months=1))"
   ]
  },
  {
   "cell_type": "markdown",
   "id": "5e000894",
   "metadata": {},
   "source": [
    "## pd.offset"
   ]
  },
  {
   "cell_type": "code",
   "execution_count": 29,
   "id": "ce722036",
   "metadata": {
    "ExecuteTime": {
     "end_time": "2023-01-02T12:50:44.890418Z",
     "start_time": "2023-01-02T12:50:44.874466Z"
    }
   },
   "outputs": [
    {
     "data": {
      "text/plain": [
       "<2 * Days>"
      ]
     },
     "execution_count": 29,
     "metadata": {},
     "output_type": "execute_result"
    }
   ],
   "source": [
    "pd.offsets.Day()"
   ]
  },
  {
   "cell_type": "code",
   "execution_count": null,
   "id": "c3af6eac",
   "metadata": {},
   "outputs": [],
   "source": []
  },
  {
   "cell_type": "markdown",
   "id": "eca23b96",
   "metadata": {},
   "source": [
    "## dateutil"
   ]
  },
  {
   "cell_type": "code",
   "execution_count": 34,
   "id": "6487ba6f",
   "metadata": {
    "ExecuteTime": {
     "end_time": "2023-01-02T12:56:17.223404Z",
     "start_time": "2023-01-02T12:56:17.207720Z"
    }
   },
   "outputs": [
    {
     "name": "stdout",
     "output_type": "stream",
     "text": [
      "현재시간 : 2023-01-02 21:56:17.210553\n",
      "한달 뒤:  2023-02-02 21:56:17.210553\n"
     ]
    }
   ],
   "source": [
    "from dateutil.relativedelta import relativedelta\n",
    "\n",
    "now = datetime.now()\n",
    "print(\"현재시간 :\", now)\n",
    "\n",
    "# 한달 뒤\n",
    "print(\"한달 뒤: \", now + relativedelta(months=1))"
   ]
  },
  {
   "cell_type": "code",
   "execution_count": null,
   "id": "5845991e",
   "metadata": {},
   "outputs": [],
   "source": []
  },
  {
   "cell_type": "code",
   "execution_count": null,
   "id": "8a727b86",
   "metadata": {},
   "outputs": [],
   "source": []
  },
  {
   "cell_type": "code",
   "execution_count": 53,
   "id": "37aff968",
   "metadata": {
    "ExecuteTime": {
     "end_time": "2022-12-04T11:34:56.004047Z",
     "start_time": "2022-12-04T11:34:55.964071Z"
    }
   },
   "outputs": [
    {
     "name": "stdout",
     "output_type": "stream",
     "text": [
      "valid_start: 2014-01, valid_end=2014-07\n",
      "test_start: 2014-08, valid_end=2015-02\n"
     ]
    }
   ],
   "source": [
    "df = df['pollution'].to_frame()\n",
    "test_range = relativedelta(months=6)\n",
    "\n",
    "train_start = '2010-01'\n",
    "train_end = '2013-12'\n",
    "\n",
    "valid_start_dt = pd.to_datetime(train_end) + relativedelta(months=1)\n",
    "valid_start = str(valid_start_dt)[:7]\n",
    "\n",
    "valid_end_dt = valid_start_dt + test_range\n",
    "valid_end = str(valid_end_dt)[:7]\n",
    "print(f'valid_start: {valid_start}, valid_end={valid_end}')\n",
    "\n",
    "test_start_dt = valid_end_dt + relativedelta(months=1)\n",
    "test_start = str(test_start_dt)[:7]\n",
    "\n",
    "test_end_dt = test_start_dt + test_range\n",
    "test_end = str(test_end_dt)[:7]\n",
    "print(f'test_start: {test_start}, valid_end={test_end}')"
   ]
  },
  {
   "cell_type": "code",
   "execution_count": 54,
   "id": "db9b8fda",
   "metadata": {
    "ExecuteTime": {
     "end_time": "2022-12-04T11:35:20.661444Z",
     "start_time": "2022-12-04T11:35:20.626537Z"
    }
   },
   "outputs": [],
   "source": [
    "df_train = df.loc[:train_end]\n",
    "df_valid = df.loc[valid_start:valid_end]\n",
    "df_test = df.loc[test_start:test_end]"
   ]
  },
  {
   "cell_type": "code",
   "execution_count": 55,
   "id": "2e758bdb",
   "metadata": {
    "ExecuteTime": {
     "end_time": "2022-12-04T11:35:22.410804Z",
     "start_time": "2022-12-04T11:35:20.893821Z"
    }
   },
   "outputs": [
    {
     "data": {
      "text/plain": [
       "Text(0.5, 0, 'date')"
      ]
     },
     "execution_count": 55,
     "metadata": {},
     "output_type": "execute_result"
    },
    {
     "data": {
      "image/png": "[encoded data removed]",
      "text/plain": [
       "<Figure size 720x360 with 1 Axes>"
      ]
     },
     "metadata": {
      "needs_background": "light"
     },
     "output_type": "display_data"
    }
   ],
   "source": [
    "import matplotlib.pyplot as plt\n",
    "fig, ax = plt.subplots(figsize=(10,5))\n",
    "df_train.plot(ax=ax, label='train')\n",
    "df_valid.plot(ax=ax, label='valid')\n",
    "df_test.plot(ax=ax, label='test')\n",
    "ax.set_title('Train Valid Test split')\n",
    "ax.set_ylabel('pollution')\n",
    "ax.set_xlabel('date')"
   ]
  },
  {
   "cell_type": "code",
   "execution_count": null,
   "id": "6ef5d144",
   "metadata": {},
   "outputs": [],
   "source": []
  },
  {
   "cell_type": "code",
   "execution_count": null,
   "id": "44d5020c",
   "metadata": {},
   "outputs": [],
   "source": []
  },
  {
   "cell_type": "code",
   "execution_count": null,
   "id": "5ce9f0ca",
   "metadata": {},
   "outputs": [],
   "source": []
  },
  {
   "cell_type": "code",
   "execution_count": null,
   "id": "ff977af1",
   "metadata": {},
   "outputs": [],
   "source": []
  }
 ],
 "metadata": {
  "kernelspec": {
   "display_name": "Python 3 (ipykernel)",
   "language": "python",
   "name": "python3"
  },
  "language_info": {
   "codemirror_mode": {
    "name": "ipython",
    "version": 3
   },
   "file_extension": ".py",
   "mimetype": "text/x-python",
   "name": "python",
   "nbconvert_exporter": "python",
   "pygments_lexer": "ipython3",
   "version": "3.9.7"
  },
  "toc": {
   "base_numbering": 1,
   "nav_menu": {},
   "number_sections": true,
   "sideBar": true,
   "skip_h1_title": false,
   "title_cell": "Table of Contents",
   "title_sidebar": "Contents",
   "toc_cell": false,
   "toc_position": {},
   "toc_section_display": true,
   "toc_window_display": false
  },
  "varInspector": {
   "cols": {
    "lenName": 16,
    "lenType": 16,
    "lenVar": 40
   },
   "kernels_config": {
    "python": {
     "delete_cmd_postfix": "",
     "delete_cmd_prefix": "del ",
     "library": "var_list.py",
     "varRefreshCmd": "print(var_dic_list())"
    },
    "r": {
     "delete_cmd_postfix": ") ",
     "delete_cmd_prefix": "rm(",
     "library": "var_list.r",
     "varRefreshCmd": "cat(var_dic_list()) "
    }
   },
   "types_to_exclude": [
    "module",
    "function",
    "builtin_function_or_method",
    "instance",
    "_Feature"
   ],
   "window_display": false
  }
 },
 "nbformat": 4,
 "nbformat_minor": 5
}
