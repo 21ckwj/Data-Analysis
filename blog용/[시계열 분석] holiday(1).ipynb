{
 "cells": [
  {
   "cell_type": "markdown",
   "id": "aade72bc",
   "metadata": {},
   "source": [
    "# Holiday feature\n",
    "1. holiday - 진짜 공휴일\n",
    "2. observance date<br>\n",
    "* 공휴일이 주말이어서 가까운 영업일(대체공휴일)<br>\n",
    "* 정해진 주, 요일 ex.세번째 목요일"
   ]
  },
  {
   "cell_type": "code",
   "execution_count": 61,
   "id": "3a669063",
   "metadata": {
    "ExecuteTime": {
     "end_time": "2022-12-07T13:50:47.385038Z",
     "start_time": "2022-12-07T13:50:47.372044Z"
    }
   },
   "outputs": [],
   "source": [
    "import pandas as pd\n",
    "import numpy as np\n",
    "import matplotlib.pyplot as plt"
   ]
  },
  {
   "cell_type": "code",
   "execution_count": 62,
   "id": "e10749a7",
   "metadata": {
    "ExecuteTime": {
     "end_time": "2022-12-07T13:50:47.634186Z",
     "start_time": "2022-12-07T13:50:47.611247Z"
    }
   },
   "outputs": [
    {
     "data": {
      "text/html": [
       "<div>\n",
       "<style scoped>\n",
       "    .dataframe tbody tr th:only-of-type {\n",
       "        vertical-align: middle;\n",
       "    }\n",
       "\n",
       "    .dataframe tbody tr th {\n",
       "        vertical-align: top;\n",
       "    }\n",
       "\n",
       "    .dataframe thead th {\n",
       "        text-align: right;\n",
       "    }\n",
       "</style>\n",
       "<table border=\"1\" class=\"dataframe\">\n",
       "  <thead>\n",
       "    <tr style=\"text-align: right;\">\n",
       "      <th></th>\n",
       "      <th>quantity</th>\n",
       "      <th>revenue</th>\n",
       "    </tr>\n",
       "    <tr>\n",
       "      <th>invoice_date</th>\n",
       "      <th></th>\n",
       "      <th></th>\n",
       "    </tr>\n",
       "  </thead>\n",
       "  <tbody>\n",
       "    <tr>\n",
       "      <th>2009-12-01</th>\n",
       "      <td>7.453558</td>\n",
       "      <td>16.765205</td>\n",
       "    </tr>\n",
       "    <tr>\n",
       "      <th>2009-12-02</th>\n",
       "      <td>8.007798</td>\n",
       "      <td>17.484464</td>\n",
       "    </tr>\n",
       "    <tr>\n",
       "      <th>2009-12-03</th>\n",
       "      <td>16.176471</td>\n",
       "      <td>25.220194</td>\n",
       "    </tr>\n",
       "    <tr>\n",
       "      <th>2009-12-04</th>\n",
       "      <td>8.101031</td>\n",
       "      <td>15.718330</td>\n",
       "    </tr>\n",
       "    <tr>\n",
       "      <th>2009-12-05</th>\n",
       "      <td>12.529730</td>\n",
       "      <td>24.438811</td>\n",
       "    </tr>\n",
       "    <tr>\n",
       "      <th>...</th>\n",
       "      <td>...</td>\n",
       "      <td>...</td>\n",
       "    </tr>\n",
       "    <tr>\n",
       "      <th>2011-12-05</th>\n",
       "      <td>8.208036</td>\n",
       "      <td>16.506276</td>\n",
       "    </tr>\n",
       "    <tr>\n",
       "      <th>2011-12-06</th>\n",
       "      <td>9.228254</td>\n",
       "      <td>17.213398</td>\n",
       "    </tr>\n",
       "    <tr>\n",
       "      <th>2011-12-07</th>\n",
       "      <td>14.087996</td>\n",
       "      <td>28.147721</td>\n",
       "    </tr>\n",
       "    <tr>\n",
       "      <th>2011-12-08</th>\n",
       "      <td>6.970632</td>\n",
       "      <td>16.717296</td>\n",
       "    </tr>\n",
       "    <tr>\n",
       "      <th>2011-12-09</th>\n",
       "      <td>62.674048</td>\n",
       "      <td>135.732941</td>\n",
       "    </tr>\n",
       "  </tbody>\n",
       "</table>\n",
       "<p>739 rows × 2 columns</p>\n",
       "</div>"
      ],
      "text/plain": [
       "               quantity     revenue\n",
       "invoice_date                       \n",
       "2009-12-01     7.453558   16.765205\n",
       "2009-12-02     8.007798   17.484464\n",
       "2009-12-03    16.176471   25.220194\n",
       "2009-12-04     8.101031   15.718330\n",
       "2009-12-05    12.529730   24.438811\n",
       "...                 ...         ...\n",
       "2011-12-05     8.208036   16.506276\n",
       "2011-12-06     9.228254   17.213398\n",
       "2011-12-07    14.087996   28.147721\n",
       "2011-12-08     6.970632   16.717296\n",
       "2011-12-09    62.674048  135.732941\n",
       "\n",
       "[739 rows x 2 columns]"
      ]
     },
     "execution_count": 62,
     "metadata": {},
     "output_type": "execute_result"
    }
   ],
   "source": [
    "df_uk = pd.read_csv('./data/online_retail_uk.csv',parse_dates=['invoice_date'],index_col=0)\n",
    "df_uk"
   ]
  },
  {
   "cell_type": "code",
   "execution_count": 63,
   "id": "fd39f300",
   "metadata": {
    "ExecuteTime": {
     "end_time": "2022-12-07T13:50:47.966370Z",
     "start_time": "2022-12-07T13:50:47.940440Z"
    }
   },
   "outputs": [
    {
     "name": "stdout",
     "output_type": "stream",
     "text": [
      "<class 'pandas.core.frame.DataFrame'>\n",
      "DatetimeIndex: 739 entries, 2009-12-01 to 2011-12-09\n",
      "Data columns (total 2 columns):\n",
      " #   Column    Non-Null Count  Dtype  \n",
      "---  ------    --------------  -----  \n",
      " 0   quantity  604 non-null    float64\n",
      " 1   revenue   604 non-null    float64\n",
      "dtypes: float64(2)\n",
      "memory usage: 17.3 KB\n"
     ]
    }
   ],
   "source": [
    "df_uk.info()"
   ]
  },
  {
   "cell_type": "markdown",
   "id": "dec39a66",
   "metadata": {},
   "source": [
    "# 직접 지정"
   ]
  },
  {
   "cell_type": "code",
   "execution_count": 64,
   "id": "de07d5af",
   "metadata": {
    "ExecuteTime": {
     "end_time": "2022-12-07T13:50:49.024977Z",
     "start_time": "2022-12-07T13:50:49.006024Z"
    }
   },
   "outputs": [],
   "source": [
    "import datetime\n",
    "# 4째주 목요일(Thanksgiving) 다음날\n",
    "blackfriday= [datetime.datetime(2010,11,26),\n",
    "              datetime.datetime(2011,11,25), \n",
    "              datetime.datetime(2012,11,23)]"
   ]
  },
  {
   "cell_type": "code",
   "execution_count": 65,
   "id": "aa6c73e2",
   "metadata": {
    "ExecuteTime": {
     "end_time": "2022-12-07T13:50:49.324755Z",
     "start_time": "2022-12-07T13:50:49.309795Z"
    }
   },
   "outputs": [
    {
     "data": {
      "text/plain": [
       "[datetime.datetime(2010, 11, 26, 0, 0),\n",
       " datetime.datetime(2011, 11, 25, 0, 0),\n",
       " datetime.datetime(2012, 11, 23, 0, 0)]"
      ]
     },
     "execution_count": 65,
     "metadata": {},
     "output_type": "execute_result"
    }
   ],
   "source": [
    "blackfriday"
   ]
  },
  {
   "cell_type": "code",
   "execution_count": 66,
   "id": "cbed485a",
   "metadata": {
    "ExecuteTime": {
     "end_time": "2022-12-07T13:50:49.650328Z",
     "start_time": "2022-12-07T13:50:49.626961Z"
    }
   },
   "outputs": [
    {
     "data": {
      "text/html": [
       "<div>\n",
       "<style scoped>\n",
       "    .dataframe tbody tr th:only-of-type {\n",
       "        vertical-align: middle;\n",
       "    }\n",
       "\n",
       "    .dataframe tbody tr th {\n",
       "        vertical-align: top;\n",
       "    }\n",
       "\n",
       "    .dataframe thead th {\n",
       "        text-align: right;\n",
       "    }\n",
       "</style>\n",
       "<table border=\"1\" class=\"dataframe\">\n",
       "  <thead>\n",
       "    <tr style=\"text-align: right;\">\n",
       "      <th></th>\n",
       "      <th>quantity</th>\n",
       "      <th>revenue</th>\n",
       "      <th>holiday_direct</th>\n",
       "    </tr>\n",
       "    <tr>\n",
       "      <th>invoice_date</th>\n",
       "      <th></th>\n",
       "      <th></th>\n",
       "      <th></th>\n",
       "    </tr>\n",
       "  </thead>\n",
       "  <tbody>\n",
       "    <tr>\n",
       "      <th>2009-12-01</th>\n",
       "      <td>7.453558</td>\n",
       "      <td>16.765205</td>\n",
       "      <td>0</td>\n",
       "    </tr>\n",
       "    <tr>\n",
       "      <th>2009-12-02</th>\n",
       "      <td>8.007798</td>\n",
       "      <td>17.484464</td>\n",
       "      <td>0</td>\n",
       "    </tr>\n",
       "    <tr>\n",
       "      <th>2009-12-03</th>\n",
       "      <td>16.176471</td>\n",
       "      <td>25.220194</td>\n",
       "      <td>0</td>\n",
       "    </tr>\n",
       "    <tr>\n",
       "      <th>2009-12-04</th>\n",
       "      <td>8.101031</td>\n",
       "      <td>15.718330</td>\n",
       "      <td>0</td>\n",
       "    </tr>\n",
       "    <tr>\n",
       "      <th>2009-12-05</th>\n",
       "      <td>12.529730</td>\n",
       "      <td>24.438811</td>\n",
       "      <td>0</td>\n",
       "    </tr>\n",
       "    <tr>\n",
       "      <th>...</th>\n",
       "      <td>...</td>\n",
       "      <td>...</td>\n",
       "      <td>...</td>\n",
       "    </tr>\n",
       "    <tr>\n",
       "      <th>2011-12-05</th>\n",
       "      <td>8.208036</td>\n",
       "      <td>16.506276</td>\n",
       "      <td>0</td>\n",
       "    </tr>\n",
       "    <tr>\n",
       "      <th>2011-12-06</th>\n",
       "      <td>9.228254</td>\n",
       "      <td>17.213398</td>\n",
       "      <td>0</td>\n",
       "    </tr>\n",
       "    <tr>\n",
       "      <th>2011-12-07</th>\n",
       "      <td>14.087996</td>\n",
       "      <td>28.147721</td>\n",
       "      <td>0</td>\n",
       "    </tr>\n",
       "    <tr>\n",
       "      <th>2011-12-08</th>\n",
       "      <td>6.970632</td>\n",
       "      <td>16.717296</td>\n",
       "      <td>0</td>\n",
       "    </tr>\n",
       "    <tr>\n",
       "      <th>2011-12-09</th>\n",
       "      <td>62.674048</td>\n",
       "      <td>135.732941</td>\n",
       "      <td>0</td>\n",
       "    </tr>\n",
       "  </tbody>\n",
       "</table>\n",
       "<p>739 rows × 3 columns</p>\n",
       "</div>"
      ],
      "text/plain": [
       "               quantity     revenue  holiday_direct\n",
       "invoice_date                                       \n",
       "2009-12-01     7.453558   16.765205               0\n",
       "2009-12-02     8.007798   17.484464               0\n",
       "2009-12-03    16.176471   25.220194               0\n",
       "2009-12-04     8.101031   15.718330               0\n",
       "2009-12-05    12.529730   24.438811               0\n",
       "...                 ...         ...             ...\n",
       "2011-12-05     8.208036   16.506276               0\n",
       "2011-12-06     9.228254   17.213398               0\n",
       "2011-12-07    14.087996   28.147721               0\n",
       "2011-12-08     6.970632   16.717296               0\n",
       "2011-12-09    62.674048  135.732941               0\n",
       "\n",
       "[739 rows x 3 columns]"
      ]
     },
     "execution_count": 66,
     "metadata": {},
     "output_type": "execute_result"
    }
   ],
   "source": [
    "df_uk['holiday_direct'] = np.where(df_uk.index.isin(blackfriday),1,0)\n",
    "df_uk"
   ]
  },
  {
   "cell_type": "code",
   "execution_count": 67,
   "id": "d0d61706",
   "metadata": {
    "ExecuteTime": {
     "end_time": "2022-12-07T13:50:50.090348Z",
     "start_time": "2022-12-07T13:50:50.076384Z"
    }
   },
   "outputs": [
    {
     "data": {
      "text/html": [
       "<div>\n",
       "<style scoped>\n",
       "    .dataframe tbody tr th:only-of-type {\n",
       "        vertical-align: middle;\n",
       "    }\n",
       "\n",
       "    .dataframe tbody tr th {\n",
       "        vertical-align: top;\n",
       "    }\n",
       "\n",
       "    .dataframe thead th {\n",
       "        text-align: right;\n",
       "    }\n",
       "</style>\n",
       "<table border=\"1\" class=\"dataframe\">\n",
       "  <thead>\n",
       "    <tr style=\"text-align: right;\">\n",
       "      <th></th>\n",
       "      <th>quantity</th>\n",
       "      <th>revenue</th>\n",
       "      <th>holiday_direct</th>\n",
       "    </tr>\n",
       "    <tr>\n",
       "      <th>invoice_date</th>\n",
       "      <th></th>\n",
       "      <th></th>\n",
       "      <th></th>\n",
       "    </tr>\n",
       "  </thead>\n",
       "  <tbody>\n",
       "    <tr>\n",
       "      <th>2010-11-26</th>\n",
       "      <td>6.140618</td>\n",
       "      <td>14.566261</td>\n",
       "      <td>1</td>\n",
       "    </tr>\n",
       "    <tr>\n",
       "      <th>2011-11-25</th>\n",
       "      <td>9.975766</td>\n",
       "      <td>15.862211</td>\n",
       "      <td>1</td>\n",
       "    </tr>\n",
       "  </tbody>\n",
       "</table>\n",
       "</div>"
      ],
      "text/plain": [
       "              quantity    revenue  holiday_direct\n",
       "invoice_date                                     \n",
       "2010-11-26    6.140618  14.566261               1\n",
       "2011-11-25    9.975766  15.862211               1"
      ]
     },
     "execution_count": 67,
     "metadata": {},
     "output_type": "execute_result"
    }
   ],
   "source": [
    "df_uk[df_uk['holiday_direct']==1]"
   ]
  },
  {
   "cell_type": "markdown",
   "id": "47a5fa40",
   "metadata": {},
   "source": [
    "# holiday 모듈"
   ]
  },
  {
   "cell_type": "code",
   "execution_count": 68,
   "id": "4aa809de",
   "metadata": {
    "ExecuteTime": {
     "end_time": "2022-12-07T13:50:51.112068Z",
     "start_time": "2022-12-07T13:50:51.098337Z"
    }
   },
   "outputs": [],
   "source": [
    "# pip install holidays"
   ]
  },
  {
   "cell_type": "code",
   "execution_count": 69,
   "id": "459ec90f",
   "metadata": {
    "ExecuteTime": {
     "end_time": "2022-12-07T13:50:51.331025Z",
     "start_time": "2022-12-07T13:50:51.323038Z"
    }
   },
   "outputs": [],
   "source": [
    "import holidays\n",
    "for date,name in holidays.UnitedStates().items():\n",
    "    print(date,name)"
   ]
  },
  {
   "cell_type": "code",
   "execution_count": 70,
   "id": "91aa74b7",
   "metadata": {
    "ExecuteTime": {
     "end_time": "2022-12-07T13:50:51.582969Z",
     "start_time": "2022-12-07T13:50:51.563592Z"
    }
   },
   "outputs": [
    {
     "data": {
      "text/plain": [
       "{datetime.date(2010, 1, 1): \"New Year's Day\", datetime.date(2010, 12, 31): \"New Year's Day (Observed)\", datetime.date(2010, 1, 18): 'Martin Luther King Jr. Day', datetime.date(2010, 2, 15): \"Washington's Birthday\", datetime.date(2010, 5, 31): 'Memorial Day', datetime.date(2010, 7, 4): 'Independence Day', datetime.date(2010, 7, 5): 'Independence Day (Observed)', datetime.date(2010, 9, 6): 'Labor Day', datetime.date(2010, 10, 11): 'Columbus Day', datetime.date(2010, 11, 11): 'Veterans Day', datetime.date(2010, 11, 25): 'Thanksgiving', datetime.date(2010, 12, 25): 'Christmas Day', datetime.date(2010, 12, 24): 'Christmas Day (Observed)', datetime.date(2011, 1, 1): \"New Year's Day\", datetime.date(2011, 1, 17): 'Martin Luther King Jr. Day', datetime.date(2011, 2, 21): \"Washington's Birthday\", datetime.date(2011, 5, 30): 'Memorial Day', datetime.date(2011, 7, 4): 'Independence Day', datetime.date(2011, 9, 5): 'Labor Day', datetime.date(2011, 10, 10): 'Columbus Day', datetime.date(2011, 11, 11): 'Veterans Day', datetime.date(2011, 11, 24): 'Thanksgiving', datetime.date(2011, 12, 25): 'Christmas Day', datetime.date(2011, 12, 26): 'Christmas Day (Observed)', datetime.date(2012, 1, 1): \"New Year's Day\", datetime.date(2012, 1, 2): \"New Year's Day (Observed)\", datetime.date(2012, 1, 16): 'Martin Luther King Jr. Day', datetime.date(2012, 2, 20): \"Washington's Birthday\", datetime.date(2012, 5, 28): 'Memorial Day', datetime.date(2012, 7, 4): 'Independence Day', datetime.date(2012, 9, 3): 'Labor Day', datetime.date(2012, 10, 8): 'Columbus Day', datetime.date(2012, 11, 11): 'Veterans Day', datetime.date(2012, 11, 12): 'Veterans Day (Observed)', datetime.date(2012, 11, 22): 'Thanksgiving', datetime.date(2012, 12, 25): 'Christmas Day'}"
      ]
     },
     "execution_count": 70,
     "metadata": {},
     "output_type": "execute_result"
    }
   ],
   "source": [
    "# dictionary 형태 : key 값에 날짜\n",
    "us_holidays = holidays.US(years=[2010,2011,2012])\n",
    "us_holidays"
   ]
  },
  {
   "cell_type": "code",
   "execution_count": 71,
   "id": "4be112f1",
   "metadata": {
    "ExecuteTime": {
     "end_time": "2022-12-07T13:50:52.067995Z",
     "start_time": "2022-12-07T13:50:52.046664Z"
    }
   },
   "outputs": [
    {
     "name": "stdout",
     "output_type": "stream",
     "text": [
      "2010-01-01   New Year's Day\n",
      "2010-12-31   New Year's Day (Observed)\n",
      "2010-01-18   Martin Luther King Jr. Day\n",
      "2010-02-15   Washington's Birthday\n",
      "2010-05-31   Memorial Day\n",
      "2010-07-04   Independence Day\n",
      "2010-07-05   Independence Day (Observed)\n",
      "2010-09-06   Labor Day\n",
      "2010-10-11   Columbus Day\n",
      "2010-11-11   Veterans Day\n",
      "2010-11-25   Thanksgiving\n",
      "2010-12-25   Christmas Day\n",
      "2010-12-24   Christmas Day (Observed)\n",
      "2011-01-01   New Year's Day\n",
      "2011-01-17   Martin Luther King Jr. Day\n",
      "2011-02-21   Washington's Birthday\n",
      "2011-05-30   Memorial Day\n",
      "2011-07-04   Independence Day\n",
      "2011-09-05   Labor Day\n",
      "2011-10-10   Columbus Day\n",
      "2011-11-11   Veterans Day\n",
      "2011-11-24   Thanksgiving\n",
      "2011-12-25   Christmas Day\n",
      "2011-12-26   Christmas Day (Observed)\n",
      "2012-01-01   New Year's Day\n",
      "2012-01-02   New Year's Day (Observed)\n",
      "2012-01-16   Martin Luther King Jr. Day\n",
      "2012-02-20   Washington's Birthday\n",
      "2012-05-28   Memorial Day\n",
      "2012-07-04   Independence Day\n",
      "2012-09-03   Labor Day\n",
      "2012-10-08   Columbus Day\n",
      "2012-11-11   Veterans Day\n",
      "2012-11-12   Veterans Day (Observed)\n",
      "2012-11-22   Thanksgiving\n",
      "2012-12-25   Christmas Day\n"
     ]
    }
   ],
   "source": [
    "for date,holiday in us_holidays.items():\n",
    "    print(date,' ',holiday)"
   ]
  },
  {
   "cell_type": "code",
   "execution_count": 72,
   "id": "0d323745",
   "metadata": {
    "ExecuteTime": {
     "end_time": "2022-12-07T13:50:52.383912Z",
     "start_time": "2022-12-07T13:50:52.349999Z"
    }
   },
   "outputs": [
    {
     "data": {
      "text/html": [
       "<div>\n",
       "<style scoped>\n",
       "    .dataframe tbody tr th:only-of-type {\n",
       "        vertical-align: middle;\n",
       "    }\n",
       "\n",
       "    .dataframe tbody tr th {\n",
       "        vertical-align: top;\n",
       "    }\n",
       "\n",
       "    .dataframe thead th {\n",
       "        text-align: right;\n",
       "    }\n",
       "</style>\n",
       "<table border=\"1\" class=\"dataframe\">\n",
       "  <thead>\n",
       "    <tr style=\"text-align: right;\">\n",
       "      <th></th>\n",
       "      <th>quantity</th>\n",
       "      <th>revenue</th>\n",
       "      <th>holiday_direct</th>\n",
       "      <th>holiday_module</th>\n",
       "    </tr>\n",
       "    <tr>\n",
       "      <th>invoice_date</th>\n",
       "      <th></th>\n",
       "      <th></th>\n",
       "      <th></th>\n",
       "      <th></th>\n",
       "    </tr>\n",
       "  </thead>\n",
       "  <tbody>\n",
       "    <tr>\n",
       "      <th>2010-01-01</th>\n",
       "      <td>NaN</td>\n",
       "      <td>NaN</td>\n",
       "      <td>0</td>\n",
       "      <td>1</td>\n",
       "    </tr>\n",
       "    <tr>\n",
       "      <th>2010-01-18</th>\n",
       "      <td>5.367095</td>\n",
       "      <td>11.046522</td>\n",
       "      <td>0</td>\n",
       "      <td>1</td>\n",
       "    </tr>\n",
       "    <tr>\n",
       "      <th>2010-02-15</th>\n",
       "      <td>16.528996</td>\n",
       "      <td>29.971953</td>\n",
       "      <td>0</td>\n",
       "      <td>1</td>\n",
       "    </tr>\n",
       "    <tr>\n",
       "      <th>2010-05-31</th>\n",
       "      <td>NaN</td>\n",
       "      <td>NaN</td>\n",
       "      <td>0</td>\n",
       "      <td>1</td>\n",
       "    </tr>\n",
       "    <tr>\n",
       "      <th>2010-07-04</th>\n",
       "      <td>7.871870</td>\n",
       "      <td>15.454580</td>\n",
       "      <td>0</td>\n",
       "      <td>1</td>\n",
       "    </tr>\n",
       "    <tr>\n",
       "      <th>2010-07-05</th>\n",
       "      <td>8.494834</td>\n",
       "      <td>17.209719</td>\n",
       "      <td>0</td>\n",
       "      <td>1</td>\n",
       "    </tr>\n",
       "    <tr>\n",
       "      <th>2010-09-06</th>\n",
       "      <td>5.302870</td>\n",
       "      <td>14.756843</td>\n",
       "      <td>0</td>\n",
       "      <td>1</td>\n",
       "    </tr>\n",
       "    <tr>\n",
       "      <th>2010-10-11</th>\n",
       "      <td>8.816742</td>\n",
       "      <td>15.942335</td>\n",
       "      <td>0</td>\n",
       "      <td>1</td>\n",
       "    </tr>\n",
       "    <tr>\n",
       "      <th>2010-11-11</th>\n",
       "      <td>10.812623</td>\n",
       "      <td>19.826815</td>\n",
       "      <td>0</td>\n",
       "      <td>1</td>\n",
       "    </tr>\n",
       "    <tr>\n",
       "      <th>2010-11-25</th>\n",
       "      <td>10.953693</td>\n",
       "      <td>20.648535</td>\n",
       "      <td>0</td>\n",
       "      <td>1</td>\n",
       "    </tr>\n",
       "    <tr>\n",
       "      <th>2010-12-24</th>\n",
       "      <td>NaN</td>\n",
       "      <td>NaN</td>\n",
       "      <td>0</td>\n",
       "      <td>1</td>\n",
       "    </tr>\n",
       "    <tr>\n",
       "      <th>2010-12-25</th>\n",
       "      <td>NaN</td>\n",
       "      <td>NaN</td>\n",
       "      <td>0</td>\n",
       "      <td>1</td>\n",
       "    </tr>\n",
       "    <tr>\n",
       "      <th>2010-12-31</th>\n",
       "      <td>NaN</td>\n",
       "      <td>NaN</td>\n",
       "      <td>0</td>\n",
       "      <td>1</td>\n",
       "    </tr>\n",
       "    <tr>\n",
       "      <th>2011-01-01</th>\n",
       "      <td>NaN</td>\n",
       "      <td>NaN</td>\n",
       "      <td>0</td>\n",
       "      <td>1</td>\n",
       "    </tr>\n",
       "    <tr>\n",
       "      <th>2011-01-17</th>\n",
       "      <td>5.001660</td>\n",
       "      <td>10.887743</td>\n",
       "      <td>0</td>\n",
       "      <td>1</td>\n",
       "    </tr>\n",
       "    <tr>\n",
       "      <th>2011-02-21</th>\n",
       "      <td>6.542100</td>\n",
       "      <td>12.417919</td>\n",
       "      <td>0</td>\n",
       "      <td>1</td>\n",
       "    </tr>\n",
       "    <tr>\n",
       "      <th>2011-05-30</th>\n",
       "      <td>NaN</td>\n",
       "      <td>NaN</td>\n",
       "      <td>0</td>\n",
       "      <td>1</td>\n",
       "    </tr>\n",
       "    <tr>\n",
       "      <th>2011-07-04</th>\n",
       "      <td>6.158567</td>\n",
       "      <td>18.381556</td>\n",
       "      <td>0</td>\n",
       "      <td>1</td>\n",
       "    </tr>\n",
       "    <tr>\n",
       "      <th>2011-09-05</th>\n",
       "      <td>12.257812</td>\n",
       "      <td>18.397713</td>\n",
       "      <td>0</td>\n",
       "      <td>1</td>\n",
       "    </tr>\n",
       "    <tr>\n",
       "      <th>2011-10-10</th>\n",
       "      <td>7.869966</td>\n",
       "      <td>14.476638</td>\n",
       "      <td>0</td>\n",
       "      <td>1</td>\n",
       "    </tr>\n",
       "    <tr>\n",
       "      <th>2011-11-11</th>\n",
       "      <td>6.488531</td>\n",
       "      <td>12.709205</td>\n",
       "      <td>0</td>\n",
       "      <td>1</td>\n",
       "    </tr>\n",
       "    <tr>\n",
       "      <th>2011-11-24</th>\n",
       "      <td>6.355717</td>\n",
       "      <td>12.803584</td>\n",
       "      <td>0</td>\n",
       "      <td>1</td>\n",
       "    </tr>\n",
       "  </tbody>\n",
       "</table>\n",
       "</div>"
      ],
      "text/plain": [
       "               quantity    revenue  holiday_direct  holiday_module\n",
       "invoice_date                                                      \n",
       "2010-01-01          NaN        NaN               0               1\n",
       "2010-01-18     5.367095  11.046522               0               1\n",
       "2010-02-15    16.528996  29.971953               0               1\n",
       "2010-05-31          NaN        NaN               0               1\n",
       "2010-07-04     7.871870  15.454580               0               1\n",
       "2010-07-05     8.494834  17.209719               0               1\n",
       "2010-09-06     5.302870  14.756843               0               1\n",
       "2010-10-11     8.816742  15.942335               0               1\n",
       "2010-11-11    10.812623  19.826815               0               1\n",
       "2010-11-25    10.953693  20.648535               0               1\n",
       "2010-12-24          NaN        NaN               0               1\n",
       "2010-12-25          NaN        NaN               0               1\n",
       "2010-12-31          NaN        NaN               0               1\n",
       "2011-01-01          NaN        NaN               0               1\n",
       "2011-01-17     5.001660  10.887743               0               1\n",
       "2011-02-21     6.542100  12.417919               0               1\n",
       "2011-05-30          NaN        NaN               0               1\n",
       "2011-07-04     6.158567  18.381556               0               1\n",
       "2011-09-05    12.257812  18.397713               0               1\n",
       "2011-10-10     7.869966  14.476638               0               1\n",
       "2011-11-11     6.488531  12.709205               0               1\n",
       "2011-11-24     6.355717  12.803584               0               1"
      ]
     },
     "execution_count": 72,
     "metadata": {},
     "output_type": "execute_result"
    }
   ],
   "source": [
    "df_uk['holiday_module'] = np.where(df_uk.index.isin(us_holidays.keys()),1,0)\n",
    "df_uk[df_uk['holiday_module']==1]"
   ]
  },
  {
   "cell_type": "markdown",
   "id": "ae452f0d",
   "metadata": {},
   "source": [
    "# Pandas.tseries.holiday\n",
    "https://pandas.pydata.org/pandas-docs/stable/user_guide/timeseries.html?highlight=holiday"
   ]
  },
  {
   "cell_type": "code",
   "execution_count": 77,
   "id": "44a7969c",
   "metadata": {
    "ExecuteTime": {
     "end_time": "2022-12-07T14:20:00.344183Z",
     "start_time": "2022-12-07T14:20:00.324238Z"
    }
   },
   "outputs": [],
   "source": [
    "from pandas.tseries.holiday import (AbstractHolidayCalendar,\n",
    "                                    GoodFriday,\n",
    "                                    EasterMonday,\n",
    "                                    Holiday,\n",
    "                                   nearest_workday,\n",
    "                                    previous_friday,\n",
    "                                    next_monday\n",
    "                               )\n",
    "from dateutil.relativedelta import MO,TU,WE,TH,FR,SA,SU"
   ]
  },
  {
   "cell_type": "code",
   "execution_count": 76,
   "id": "5e51a998",
   "metadata": {
    "ExecuteTime": {
     "end_time": "2022-12-07T14:08:01.519343Z",
     "start_time": "2022-12-07T14:08:01.505345Z"
    }
   },
   "outputs": [],
   "source": [
    "# Holidays and calendars provide a simple way to define holiday rules to be used with CustomBusinessDay or \n",
    "# in other analysis that requires a predefined set of holidays. The AbstractHolidayCalendar class provides \n",
    "# all the necessary methods to return a list of holidays and only rules need to be defined in a specific holiday calendar class. \n",
    "# Furthermore, the start_date and end_date class attributes determine over what date range holidays are generated.\n",
    "# These should be overwritten on the AbstractHolidayCalendar class to have the range apply to all calendar subclasses. \n",
    "# USFederalHolidayCalendar is the only calendar that exists and primarily serves as an example for developing other calendars."
   ]
  },
  {
   "cell_type": "markdown",
   "id": "10d7e390",
   "metadata": {},
   "source": [
    "* nearest_workday ==> move Saturday to Friday and Sunday to Monday\n",
    "* sunday_to_monday ==> move Sunday to following Monday\n",
    "* next_monday_or_tuesday ==> move Saturday to Monday and Sunday/Monday to Tuesday\n",
    "* previous_friday ==> move Saturday and Sunday to previous Friday\n",
    "* next_monday ==> move Saturday and Sunday to following Monday"
   ]
  },
  {
   "cell_type": "code",
   "execution_count": 79,
   "id": "6612a2f2",
   "metadata": {
    "ExecuteTime": {
     "end_time": "2022-12-07T14:23:51.078954Z",
     "start_time": "2022-12-07T14:23:51.064992Z"
    }
   },
   "outputs": [],
   "source": [
    "class container_holiday(AbstractHolidayCalendar):\n",
    "    rules=[\n",
    "        GoodFriday,\n",
    "        EasterMonday,\n",
    "        Holiday(\"New Year's Day\", month=1, day=1),\n",
    "        Holiday('black friday',month=11,day=1,\n",
    "           offset=pd.DateOffset(weekday=FR(3))),\n",
    "        Holiday(\"Kim's birthday\", month=3,\n",
    "                day=15, observance=nearest_workday)\n",
    "               ]"
   ]
  },
  {
   "cell_type": "code",
   "execution_count": 87,
   "id": "b0bd4254",
   "metadata": {
    "ExecuteTime": {
     "end_time": "2022-12-07T14:28:27.320377Z",
     "start_time": "2022-12-07T14:28:27.296477Z"
    }
   },
   "outputs": [
    {
     "data": {
      "text/plain": [
       "DatetimeIndex(['2009-01-01', '2009-03-16', '2009-04-10', '2009-04-13',\n",
       "               '2009-11-20', '2010-01-01', '2010-03-15', '2010-04-02',\n",
       "               '2010-04-05', '2010-11-19', '2011-01-01', '2011-03-15',\n",
       "               '2011-04-22', '2011-04-25', '2011-11-18'],\n",
       "              dtype='datetime64[ns]', freq=None)"
      ]
     },
     "execution_count": 87,
     "metadata": {},
     "output_type": "execute_result"
    }
   ],
   "source": [
    "calender = container_holiday()\n",
    "holidays = calender.holidays(datetime.datetime(2009,1,1),datetime.datetime(2011,12,30))\n",
    "holidays"
   ]
  },
  {
   "cell_type": "code",
   "execution_count": 88,
   "id": "2a8b8882",
   "metadata": {
    "ExecuteTime": {
     "end_time": "2022-12-07T14:28:43.065702Z",
     "start_time": "2022-12-07T14:28:43.049707Z"
    }
   },
   "outputs": [
    {
     "data": {
      "text/html": [
       "<div>\n",
       "<style scoped>\n",
       "    .dataframe tbody tr th:only-of-type {\n",
       "        vertical-align: middle;\n",
       "    }\n",
       "\n",
       "    .dataframe tbody tr th {\n",
       "        vertical-align: top;\n",
       "    }\n",
       "\n",
       "    .dataframe thead th {\n",
       "        text-align: right;\n",
       "    }\n",
       "</style>\n",
       "<table border=\"1\" class=\"dataframe\">\n",
       "  <thead>\n",
       "    <tr style=\"text-align: right;\">\n",
       "      <th></th>\n",
       "      <th>quantity</th>\n",
       "      <th>revenue</th>\n",
       "      <th>holiday_direct</th>\n",
       "      <th>holiday_module</th>\n",
       "      <th>holiday_pandas</th>\n",
       "    </tr>\n",
       "    <tr>\n",
       "      <th>invoice_date</th>\n",
       "      <th></th>\n",
       "      <th></th>\n",
       "      <th></th>\n",
       "      <th></th>\n",
       "      <th></th>\n",
       "    </tr>\n",
       "  </thead>\n",
       "  <tbody>\n",
       "    <tr>\n",
       "      <th>2010-01-01</th>\n",
       "      <td>NaN</td>\n",
       "      <td>NaN</td>\n",
       "      <td>0</td>\n",
       "      <td>1</td>\n",
       "      <td>1</td>\n",
       "    </tr>\n",
       "    <tr>\n",
       "      <th>2010-03-15</th>\n",
       "      <td>8.645833</td>\n",
       "      <td>15.999206</td>\n",
       "      <td>0</td>\n",
       "      <td>0</td>\n",
       "      <td>1</td>\n",
       "    </tr>\n",
       "    <tr>\n",
       "      <th>2010-04-02</th>\n",
       "      <td>NaN</td>\n",
       "      <td>NaN</td>\n",
       "      <td>0</td>\n",
       "      <td>0</td>\n",
       "      <td>1</td>\n",
       "    </tr>\n",
       "    <tr>\n",
       "      <th>2010-04-05</th>\n",
       "      <td>NaN</td>\n",
       "      <td>NaN</td>\n",
       "      <td>0</td>\n",
       "      <td>0</td>\n",
       "      <td>1</td>\n",
       "    </tr>\n",
       "    <tr>\n",
       "      <th>2010-11-19</th>\n",
       "      <td>9.132755</td>\n",
       "      <td>17.080858</td>\n",
       "      <td>0</td>\n",
       "      <td>0</td>\n",
       "      <td>1</td>\n",
       "    </tr>\n",
       "    <tr>\n",
       "      <th>2011-01-01</th>\n",
       "      <td>NaN</td>\n",
       "      <td>NaN</td>\n",
       "      <td>0</td>\n",
       "      <td>1</td>\n",
       "      <td>1</td>\n",
       "    </tr>\n",
       "    <tr>\n",
       "      <th>2011-03-15</th>\n",
       "      <td>6.390925</td>\n",
       "      <td>14.517286</td>\n",
       "      <td>0</td>\n",
       "      <td>0</td>\n",
       "      <td>1</td>\n",
       "    </tr>\n",
       "    <tr>\n",
       "      <th>2011-04-22</th>\n",
       "      <td>NaN</td>\n",
       "      <td>NaN</td>\n",
       "      <td>0</td>\n",
       "      <td>0</td>\n",
       "      <td>1</td>\n",
       "    </tr>\n",
       "    <tr>\n",
       "      <th>2011-04-25</th>\n",
       "      <td>NaN</td>\n",
       "      <td>NaN</td>\n",
       "      <td>0</td>\n",
       "      <td>0</td>\n",
       "      <td>1</td>\n",
       "    </tr>\n",
       "    <tr>\n",
       "      <th>2011-11-18</th>\n",
       "      <td>8.269044</td>\n",
       "      <td>17.580656</td>\n",
       "      <td>0</td>\n",
       "      <td>0</td>\n",
       "      <td>1</td>\n",
       "    </tr>\n",
       "  </tbody>\n",
       "</table>\n",
       "</div>"
      ],
      "text/plain": [
       "              quantity    revenue  holiday_direct  holiday_module  \\\n",
       "invoice_date                                                        \n",
       "2010-01-01         NaN        NaN               0               1   \n",
       "2010-03-15    8.645833  15.999206               0               0   \n",
       "2010-04-02         NaN        NaN               0               0   \n",
       "2010-04-05         NaN        NaN               0               0   \n",
       "2010-11-19    9.132755  17.080858               0               0   \n",
       "2011-01-01         NaN        NaN               0               1   \n",
       "2011-03-15    6.390925  14.517286               0               0   \n",
       "2011-04-22         NaN        NaN               0               0   \n",
       "2011-04-25         NaN        NaN               0               0   \n",
       "2011-11-18    8.269044  17.580656               0               0   \n",
       "\n",
       "              holiday_pandas  \n",
       "invoice_date                  \n",
       "2010-01-01                 1  \n",
       "2010-03-15                 1  \n",
       "2010-04-02                 1  \n",
       "2010-04-05                 1  \n",
       "2010-11-19                 1  \n",
       "2011-01-01                 1  \n",
       "2011-03-15                 1  \n",
       "2011-04-22                 1  \n",
       "2011-04-25                 1  \n",
       "2011-11-18                 1  "
      ]
     },
     "execution_count": 88,
     "metadata": {},
     "output_type": "execute_result"
    }
   ],
   "source": [
    "df_uk['holiday_pandas'] = np.where(df_uk.index.isin(holidays),1,0)\n",
    "df_uk[df_uk['holiday_pandas']==1]"
   ]
  },
  {
   "cell_type": "code",
   "execution_count": 37,
   "id": "46ff1f18",
   "metadata": {
    "ExecuteTime": {
     "end_time": "2022-12-04T12:15:55.248385Z",
     "start_time": "2022-12-04T12:15:55.240406Z"
    }
   },
   "outputs": [
    {
     "data": {
      "text/plain": [
       "[Holiday: New Year's Day (month=1, day=1, observance=<function nearest_workday at 0x00000211F7691430>),\n",
       " Holiday: Birthday of Martin Luther King, Jr. (month=1, day=1, offset=<DateOffset: weekday=MO(+3)>),\n",
       " Holiday: Washington’s Birthday (month=2, day=1, offset=<DateOffset: weekday=MO(+3)>),\n",
       " Holiday: Memorial Day (month=5, day=31, offset=<DateOffset: weekday=MO(-1)>),\n",
       " Holiday: Juneteenth National Independence Day (month=6, day=19, observance=<function nearest_workday at 0x00000211F7691430>),\n",
       " Holiday: Independence Day (month=7, day=4, observance=<function nearest_workday at 0x00000211F7691430>),\n",
       " Holiday: Labor Day (month=9, day=1, offset=<DateOffset: weekday=MO(+1)>),\n",
       " Holiday: Columbus Day (month=10, day=1, offset=<DateOffset: weekday=MO(+2)>),\n",
       " Holiday: Veterans Day (month=11, day=11, observance=<function nearest_workday at 0x00000211F7691430>),\n",
       " Holiday: Thanksgiving Day (month=11, day=1, offset=<DateOffset: weekday=TH(+4)>),\n",
       " Holiday: Christmas Day (month=12, day=25, observance=<function nearest_workday at 0x00000211F7691430>)]"
      ]
     },
     "execution_count": 37,
     "metadata": {},
     "output_type": "execute_result"
    }
   ],
   "source": [
    "from pandas.tseries.holiday import USFederalHolidayCalendar\n",
    "\n",
    "cal = USFederalHolidayCalendar()\n",
    "cal.rules"
   ]
  },
  {
   "cell_type": "code",
   "execution_count": null,
   "id": "afef2bc0",
   "metadata": {},
   "outputs": [],
   "source": []
  }
 ],
 "metadata": {
  "kernelspec": {
   "display_name": "Python 3 (ipykernel)",
   "language": "python",
   "name": "python3"
  },
  "language_info": {
   "codemirror_mode": {
    "name": "ipython",
    "version": 3
   },
   "file_extension": ".py",
   "mimetype": "text/x-python",
   "name": "python",
   "nbconvert_exporter": "python",
   "pygments_lexer": "ipython3",
   "version": "3.9.7"
  },
  "toc": {
   "base_numbering": 1,
   "nav_menu": {},
   "number_sections": true,
   "sideBar": true,
   "skip_h1_title": false,
   "title_cell": "Table of Contents",
   "title_sidebar": "Contents",
   "toc_cell": false,
   "toc_position": {},
   "toc_section_display": true,
   "toc_window_display": false
  },
  "varInspector": {
   "cols": {
    "lenName": 16,
    "lenType": 16,
    "lenVar": 40
   },
   "kernels_config": {
    "python": {
     "delete_cmd_postfix": "",
     "delete_cmd_prefix": "del ",
     "library": "var_list.py",
     "varRefreshCmd": "print(var_dic_list())"
    },
    "r": {
     "delete_cmd_postfix": ") ",
     "delete_cmd_prefix": "rm(",
     "library": "var_list.r",
     "varRefreshCmd": "cat(var_dic_list()) "
    }
   },
   "types_to_exclude": [
    "module",
    "function",
    "builtin_function_or_method",
    "instance",
    "_Feature"
   ],
   "window_display": false
  }
 },
 "nbformat": 4,
 "nbformat_minor": 5
}
