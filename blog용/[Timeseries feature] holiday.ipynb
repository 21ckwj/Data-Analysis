{
 "cells": [
  {
   "cell_type": "markdown",
   "id": "ae2c8fe3",
   "metadata": {},
   "source": [
    "# Holiday feature\n",
    "1. holiday - 진짜 공휴일\n",
    "2. observance date<br>\n",
    "* 공휴일이 주말이어서 가까운 영업일(대체공휴일)<br>\n",
    "* 정해진 주, 요일 ex.세번째 목요일"
   ]
  },
  {
   "cell_type": "code",
   "execution_count": 6,
   "id": "f1fd3c0d",
   "metadata": {
    "ExecuteTime": {
     "end_time": "2022-12-04T11:22:17.062397Z",
     "start_time": "2022-12-04T11:22:17.045444Z"
    }
   },
   "outputs": [],
   "source": [
    "import pandas as pd\n",
    "import numpy as np\n",
    "import matplotlib.pyplot as plt"
   ]
  },
  {
   "cell_type": "code",
   "execution_count": 12,
   "id": "12098e51",
   "metadata": {
    "ExecuteTime": {
     "end_time": "2022-12-04T11:56:32.031457Z",
     "start_time": "2022-12-04T11:56:31.899341Z"
    }
   },
   "outputs": [
    {
     "data": {
      "text/html": [
       "<div>\n",
       "<style scoped>\n",
       "    .dataframe tbody tr th:only-of-type {\n",
       "        vertical-align: middle;\n",
       "    }\n",
       "\n",
       "    .dataframe tbody tr th {\n",
       "        vertical-align: top;\n",
       "    }\n",
       "\n",
       "    .dataframe thead th {\n",
       "        text-align: right;\n",
       "    }\n",
       "</style>\n",
       "<table border=\"1\" class=\"dataframe\">\n",
       "  <thead>\n",
       "    <tr style=\"text-align: right;\">\n",
       "      <th></th>\n",
       "      <th>pollution</th>\n",
       "    </tr>\n",
       "    <tr>\n",
       "      <th>date</th>\n",
       "      <th></th>\n",
       "    </tr>\n",
       "  </thead>\n",
       "  <tbody>\n",
       "    <tr>\n",
       "      <th>2010-01-02</th>\n",
       "      <td>145.958333</td>\n",
       "    </tr>\n",
       "    <tr>\n",
       "      <th>2010-01-03</th>\n",
       "      <td>78.833333</td>\n",
       "    </tr>\n",
       "    <tr>\n",
       "      <th>2010-01-04</th>\n",
       "      <td>31.333333</td>\n",
       "    </tr>\n",
       "    <tr>\n",
       "      <th>2010-01-05</th>\n",
       "      <td>42.458333</td>\n",
       "    </tr>\n",
       "    <tr>\n",
       "      <th>2010-01-06</th>\n",
       "      <td>56.416667</td>\n",
       "    </tr>\n",
       "  </tbody>\n",
       "</table>\n",
       "</div>"
      ],
      "text/plain": [
       "             pollution\n",
       "date                  \n",
       "2010-01-02  145.958333\n",
       "2010-01-03   78.833333\n",
       "2010-01-04   31.333333\n",
       "2010-01-05   42.458333\n",
       "2010-01-06   56.416667"
      ]
     },
     "execution_count": 12,
     "metadata": {},
     "output_type": "execute_result"
    }
   ],
   "source": [
    "df = pd.read_csv('./data/pollution.csv',parse_dates=['date'], index_col='date')\n",
    "df = df.resample('D').mean()['pollution'].to_frame()\n",
    "df.head()"
   ]
  },
  {
   "cell_type": "code",
   "execution_count": 13,
   "id": "4e895bf7",
   "metadata": {
    "ExecuteTime": {
     "end_time": "2022-12-04T11:56:33.269025Z",
     "start_time": "2022-12-04T11:56:33.257057Z"
    }
   },
   "outputs": [
    {
     "data": {
      "text/plain": [
       "Timestamp('2014-12-31 00:00:00', freq='D')"
      ]
     },
     "execution_count": 13,
     "metadata": {},
     "output_type": "execute_result"
    }
   ],
   "source": [
    "df.index.max()"
   ]
  },
  {
   "cell_type": "markdown",
   "id": "929c1d49",
   "metadata": {},
   "source": [
    "# 직접 지정"
   ]
  },
  {
   "cell_type": "code",
   "execution_count": 5,
   "id": "741df931",
   "metadata": {
    "ExecuteTime": {
     "end_time": "2022-12-04T11:21:23.945722Z",
     "start_time": "2022-12-04T11:21:23.933354Z"
    }
   },
   "outputs": [],
   "source": [
    "import datetime\n",
    "# 4째주 목요일(Thanksgiving) 다음날\n",
    "blackfriday= [datetime.datetime(2010,11,26),\n",
    "              datetime.datetime(2011,11,25), \n",
    "              datetime.datetime(2012,11,23)]"
   ]
  },
  {
   "cell_type": "code",
   "execution_count": null,
   "id": "f89ef766",
   "metadata": {},
   "outputs": [],
   "source": []
  },
  {
   "cell_type": "code",
   "execution_count": null,
   "id": "7113c6f8",
   "metadata": {},
   "outputs": [],
   "source": []
  },
  {
   "cell_type": "code",
   "execution_count": null,
   "id": "71ab6705",
   "metadata": {},
   "outputs": [],
   "source": []
  },
  {
   "cell_type": "code",
   "execution_count": null,
   "id": "b96a2cb5",
   "metadata": {},
   "outputs": [],
   "source": []
  },
  {
   "cell_type": "markdown",
   "id": "8cfe8f1e",
   "metadata": {},
   "source": [
    "# holiday 모듈"
   ]
  },
  {
   "cell_type": "code",
   "execution_count": 19,
   "id": "82dfee13",
   "metadata": {
    "ExecuteTime": {
     "end_time": "2022-12-04T11:57:36.152097Z",
     "start_time": "2022-12-04T11:57:36.140151Z"
    }
   },
   "outputs": [],
   "source": [
    "# pip install holidays"
   ]
  },
  {
   "cell_type": "code",
   "execution_count": 21,
   "id": "1cc268ff",
   "metadata": {
    "ExecuteTime": {
     "end_time": "2022-12-04T11:58:32.530647Z",
     "start_time": "2022-12-04T11:58:32.512810Z"
    }
   },
   "outputs": [],
   "source": [
    "import holidays\n",
    "for date,name in holidays.UnitedStates().items():\n",
    "    print(date,name)"
   ]
  },
  {
   "cell_type": "code",
   "execution_count": 40,
   "id": "bef27be8",
   "metadata": {
    "ExecuteTime": {
     "end_time": "2022-12-04T12:17:34.258000Z",
     "start_time": "2022-12-04T12:17:34.247030Z"
    }
   },
   "outputs": [
    {
     "data": {
      "text/plain": [
       "{datetime.date(2010, 1, 1): \"New Year's Day\", datetime.date(2010, 12, 31): \"New Year's Day (Observed)\", datetime.date(2010, 1, 18): 'Martin Luther King Jr. Day', datetime.date(2010, 2, 15): \"Washington's Birthday\", datetime.date(2010, 5, 31): 'Memorial Day', datetime.date(2010, 7, 4): 'Independence Day', datetime.date(2010, 7, 5): 'Independence Day (Observed)', datetime.date(2010, 9, 6): 'Labor Day', datetime.date(2010, 10, 11): 'Columbus Day', datetime.date(2010, 11, 11): 'Veterans Day', datetime.date(2010, 11, 25): 'Thanksgiving', datetime.date(2010, 12, 25): 'Christmas Day', datetime.date(2010, 12, 24): 'Christmas Day (Observed)', datetime.date(2011, 1, 1): \"New Year's Day\", datetime.date(2011, 1, 17): 'Martin Luther King Jr. Day', datetime.date(2011, 2, 21): \"Washington's Birthday\", datetime.date(2011, 5, 30): 'Memorial Day', datetime.date(2011, 7, 4): 'Independence Day', datetime.date(2011, 9, 5): 'Labor Day', datetime.date(2011, 10, 10): 'Columbus Day', datetime.date(2011, 11, 11): 'Veterans Day', datetime.date(2011, 11, 24): 'Thanksgiving', datetime.date(2011, 12, 25): 'Christmas Day', datetime.date(2011, 12, 26): 'Christmas Day (Observed)', datetime.date(2012, 1, 1): \"New Year's Day\", datetime.date(2012, 1, 2): \"New Year's Day (Observed)\", datetime.date(2012, 1, 16): 'Martin Luther King Jr. Day', datetime.date(2012, 2, 20): \"Washington's Birthday\", datetime.date(2012, 5, 28): 'Memorial Day', datetime.date(2012, 7, 4): 'Independence Day', datetime.date(2012, 9, 3): 'Labor Day', datetime.date(2012, 10, 8): 'Columbus Day', datetime.date(2012, 11, 11): 'Veterans Day', datetime.date(2012, 11, 12): 'Veterans Day (Observed)', datetime.date(2012, 11, 22): 'Thanksgiving', datetime.date(2012, 12, 25): 'Christmas Day'}"
      ]
     },
     "execution_count": 40,
     "metadata": {},
     "output_type": "execute_result"
    }
   ],
   "source": [
    "us_holidays = holidays.US(years=[2010,2011,2012])\n",
    "us_holidays"
   ]
  },
  {
   "cell_type": "code",
   "execution_count": 27,
   "id": "86710569",
   "metadata": {
    "ExecuteTime": {
     "end_time": "2022-12-04T12:07:50.741988Z",
     "start_time": "2022-12-04T12:07:50.733079Z"
    }
   },
   "outputs": [],
   "source": [
    "for holiday in us_holidays:\n",
    "    print(holiday)"
   ]
  },
  {
   "cell_type": "markdown",
   "id": "d6f48560",
   "metadata": {},
   "source": [
    "# Pandas.tseries.holiday\n",
    "https://pandas.pydata.org/pandas-docs/stable/user_guide/timeseries.html?highlight=holiday"
   ]
  },
  {
   "cell_type": "code",
   "execution_count": null,
   "id": "a52b956f",
   "metadata": {},
   "outputs": [],
   "source": [
    "from pandas.tseries.holiday import (AbstractHolidayCalendar,\n",
    "                                    Holiday,"
   ]
  },
  {
   "cell_type": "code",
   "execution_count": null,
   "id": "6caadcf0",
   "metadata": {},
   "outputs": [],
   "source": [
    "# Holidays and calendars provide a simple way to define holiday rules to be used with CustomBusinessDay or \n",
    "# in other analysis that requires a predefined set of holidays. The AbstractHolidayCalendar class provides \n",
    "# all the necessary methods to return a list of holidays and only rules need to be defined in a specific holiday calendar class. \n",
    "# Furthermore, the start_date and end_date class attributes determine over what date range holidays are generated.\n",
    "# These should be overwritten on the AbstractHolidayCalendar class to have the range apply to all calendar subclasses. \n",
    "# USFederalHolidayCalendar is the only calendar that exists and primarily serves as an example for developing other calendars."
   ]
  },
  {
   "cell_type": "code",
   "execution_count": null,
   "id": "7c9f9495",
   "metadata": {},
   "outputs": [],
   "source": []
  },
  {
   "cell_type": "code",
   "execution_count": 37,
   "id": "c4fc788d",
   "metadata": {
    "ExecuteTime": {
     "end_time": "2022-12-04T12:15:55.248385Z",
     "start_time": "2022-12-04T12:15:55.240406Z"
    }
   },
   "outputs": [
    {
     "data": {
      "text/plain": [
       "[Holiday: New Year's Day (month=1, day=1, observance=<function nearest_workday at 0x00000211F7691430>),\n",
       " Holiday: Birthday of Martin Luther King, Jr. (month=1, day=1, offset=<DateOffset: weekday=MO(+3)>),\n",
       " Holiday: Washington’s Birthday (month=2, day=1, offset=<DateOffset: weekday=MO(+3)>),\n",
       " Holiday: Memorial Day (month=5, day=31, offset=<DateOffset: weekday=MO(-1)>),\n",
       " Holiday: Juneteenth National Independence Day (month=6, day=19, observance=<function nearest_workday at 0x00000211F7691430>),\n",
       " Holiday: Independence Day (month=7, day=4, observance=<function nearest_workday at 0x00000211F7691430>),\n",
       " Holiday: Labor Day (month=9, day=1, offset=<DateOffset: weekday=MO(+1)>),\n",
       " Holiday: Columbus Day (month=10, day=1, offset=<DateOffset: weekday=MO(+2)>),\n",
       " Holiday: Veterans Day (month=11, day=11, observance=<function nearest_workday at 0x00000211F7691430>),\n",
       " Holiday: Thanksgiving Day (month=11, day=1, offset=<DateOffset: weekday=TH(+4)>),\n",
       " Holiday: Christmas Day (month=12, day=25, observance=<function nearest_workday at 0x00000211F7691430>)]"
      ]
     },
     "execution_count": 37,
     "metadata": {},
     "output_type": "execute_result"
    }
   ],
   "source": [
    "from pandas.tseries.holiday import USFederalHolidayCalendar\n",
    "\n",
    "cal = USFederalHolidayCalendar()\n",
    "cal.rules"
   ]
  },
  {
   "cell_type": "code",
   "execution_count": null,
   "id": "343d14b2",
   "metadata": {},
   "outputs": [],
   "source": []
  }
 ],
 "metadata": {
  "kernelspec": {
   "display_name": "Python 3 (ipykernel)",
   "language": "python",
   "name": "python3"
  },
  "language_info": {
   "codemirror_mode": {
    "name": "ipython",
    "version": 3
   },
   "file_extension": ".py",
   "mimetype": "text/x-python",
   "name": "python",
   "nbconvert_exporter": "python",
   "pygments_lexer": "ipython3",
   "version": "3.9.7"
  },
  "toc": {
   "base_numbering": 1,
   "nav_menu": {},
   "number_sections": true,
   "sideBar": true,
   "skip_h1_title": false,
   "title_cell": "Table of Contents",
   "title_sidebar": "Contents",
   "toc_cell": false,
   "toc_position": {},
   "toc_section_display": true,
   "toc_window_display": false
  },
  "varInspector": {
   "cols": {
    "lenName": 16,
    "lenType": 16,
    "lenVar": 40
   },
   "kernels_config": {
    "python": {
     "delete_cmd_postfix": "",
     "delete_cmd_prefix": "del ",
     "library": "var_list.py",
     "varRefreshCmd": "print(var_dic_list())"
    },
    "r": {
     "delete_cmd_postfix": ") ",
     "delete_cmd_prefix": "rm(",
     "library": "var_list.r",
     "varRefreshCmd": "cat(var_dic_list()) "
    }
   },
   "types_to_exclude": [
    "module",
    "function",
    "builtin_function_or_method",
    "instance",
    "_Feature"
   ],
   "window_display": false
  }
 },
 "nbformat": 4,
 "nbformat_minor": 5
}
