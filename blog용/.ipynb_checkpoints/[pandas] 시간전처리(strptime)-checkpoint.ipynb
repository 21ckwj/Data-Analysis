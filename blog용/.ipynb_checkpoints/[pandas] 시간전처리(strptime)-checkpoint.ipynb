{
 "cells": [
  {
   "cell_type": "code",
   "execution_count": 8,
   "id": "c5f3cf5a",
   "metadata": {
    "ExecuteTime": {
     "end_time": "2022-11-30T10:38:29.121920Z",
     "start_time": "2022-11-30T10:38:29.112536Z"
    }
   },
   "outputs": [],
   "source": [
    "import pandas as pd\n",
    "import numpy as np\n",
    "\n",
    "from datetime import datetime"
   ]
  },
  {
   "cell_type": "markdown",
   "id": "4a06ab4e",
   "metadata": {
    "ExecuteTime": {
     "end_time": "2022-11-30T10:35:06.567769Z",
     "start_time": "2022-11-30T10:35:06.548931Z"
    }
   },
   "source": [
    "# 문자열 -> 시간"
   ]
  },
  {
   "cell_type": "code",
   "execution_count": 4,
   "id": "a13cf043",
   "metadata": {
    "ExecuteTime": {
     "end_time": "2022-11-30T10:35:44.287152Z",
     "start_time": "2022-11-30T10:35:44.261174Z"
    }
   },
   "outputs": [
    {
     "data": {
      "text/plain": [
       "Timestamp('2022-11-30 00:00:00')"
      ]
     },
     "execution_count": 4,
     "metadata": {},
     "output_type": "execute_result"
    }
   ],
   "source": [
    "## 문자열이 datetime 형식\n",
    "pd.to_datetime('2022-11-30')"
   ]
  },
  {
   "cell_type": "code",
   "execution_count": 5,
   "id": "b46b23c7",
   "metadata": {
    "ExecuteTime": {
     "end_time": "2022-11-30T10:36:22.160405Z",
     "start_time": "2022-11-30T10:36:22.147320Z"
    }
   },
   "outputs": [
    {
     "data": {
      "text/plain": [
       "Timestamp('2022-11-01 00:00:00')"
      ]
     },
     "execution_count": 5,
     "metadata": {},
     "output_type": "execute_result"
    }
   ],
   "source": [
    "## 년 월 문자열\n",
    "pd.to_datetime('2022-11')"
   ]
  },
  {
   "cell_type": "code",
   "execution_count": 13,
   "id": "7c2680ff",
   "metadata": {
    "ExecuteTime": {
     "end_time": "2022-11-30T10:39:44.553602Z",
     "start_time": "2022-11-30T10:39:44.527710Z"
    }
   },
   "outputs": [
    {
     "data": {
      "text/plain": [
       "datetime.datetime(2022, 11, 30, 0, 0)"
      ]
     },
     "execution_count": 13,
     "metadata": {},
     "output_type": "execute_result"
    }
   ],
   "source": [
    "datetime.strptime('2022-11-30','%Y-%m-%d')"
   ]
  },
  {
   "cell_type": "code",
   "execution_count": 14,
   "id": "315bba58",
   "metadata": {
    "ExecuteTime": {
     "end_time": "2022-11-30T10:40:06.579972Z",
     "start_time": "2022-11-30T10:40:06.559959Z"
    }
   },
   "outputs": [
    {
     "data": {
      "text/plain": [
       "datetime.datetime(2022, 11, 1, 0, 0)"
      ]
     },
     "execution_count": 14,
     "metadata": {},
     "output_type": "execute_result"
    }
   ],
   "source": [
    "datetime.strptime('2022-11','%Y-%m')"
   ]
  },
  {
   "cell_type": "markdown",
   "id": "3db59488",
   "metadata": {},
   "source": [
    "# 날짜 -> 문자열"
   ]
  },
  {
   "cell_type": "code",
   "execution_count": 16,
   "id": "7747bf0f",
   "metadata": {
    "ExecuteTime": {
     "end_time": "2022-11-30T10:45:08.076008Z",
     "start_time": "2022-11-30T10:45:08.058065Z"
    }
   },
   "outputs": [
    {
     "data": {
      "text/plain": [
       "datetime.datetime(2022, 11, 30, 19, 45, 8, 59053)"
      ]
     },
     "execution_count": 16,
     "metadata": {},
     "output_type": "execute_result"
    }
   ],
   "source": [
    "now = datetime.now()\n",
    "now"
   ]
  },
  {
   "cell_type": "code",
   "execution_count": 18,
   "id": "b417c0d2",
   "metadata": {
    "ExecuteTime": {
     "end_time": "2022-11-30T10:46:47.896476Z",
     "start_time": "2022-11-30T10:46:47.885453Z"
    }
   },
   "outputs": [
    {
     "data": {
      "text/plain": [
       "'2022-11-30'"
      ]
     },
     "execution_count": 18,
     "metadata": {},
     "output_type": "execute_result"
    }
   ],
   "source": [
    "datetime.strftime(now,'%Y-%m-%d')"
   ]
  },
  {
   "cell_type": "code",
   "execution_count": 19,
   "id": "b9345b2e",
   "metadata": {
    "ExecuteTime": {
     "end_time": "2022-11-30T10:47:09.151525Z",
     "start_time": "2022-11-30T10:47:09.129960Z"
    }
   },
   "outputs": [
    {
     "data": {
      "text/plain": [
       "'2022-11-30 19:45:08.059053'"
      ]
     },
     "execution_count": 19,
     "metadata": {},
     "output_type": "execute_result"
    }
   ],
   "source": [
    "str(now)"
   ]
  },
  {
   "cell_type": "code",
   "execution_count": 21,
   "id": "e3c0065c",
   "metadata": {
    "ExecuteTime": {
     "end_time": "2022-11-30T10:47:39.597518Z",
     "start_time": "2022-11-30T10:47:39.586788Z"
    }
   },
   "outputs": [
    {
     "data": {
      "text/plain": [
       "'2022-11-30'"
      ]
     },
     "execution_count": 21,
     "metadata": {},
     "output_type": "execute_result"
    }
   ],
   "source": [
    "str(now)[:10]"
   ]
  },
  {
   "cell_type": "code",
   "execution_count": null,
   "id": "56dd5d2a",
   "metadata": {},
   "outputs": [],
   "source": []
  },
  {
   "cell_type": "markdown",
   "id": "28328bef",
   "metadata": {},
   "source": [
    "# 시간 차이 구하기"
   ]
  },
  {
   "cell_type": "code",
   "execution_count": 28,
   "id": "f6bdf983",
   "metadata": {
    "ExecuteTime": {
     "end_time": "2022-11-30T10:54:00.464848Z",
     "start_time": "2022-11-30T10:54:00.187118Z"
    }
   },
   "outputs": [
    {
     "data": {
      "text/html": [
       "<div>\n",
       "<style scoped>\n",
       "    .dataframe tbody tr th:only-of-type {\n",
       "        vertical-align: middle;\n",
       "    }\n",
       "\n",
       "    .dataframe tbody tr th {\n",
       "        vertical-align: top;\n",
       "    }\n",
       "\n",
       "    .dataframe thead th {\n",
       "        text-align: right;\n",
       "    }\n",
       "</style>\n",
       "<table border=\"1\" class=\"dataframe\">\n",
       "  <thead>\n",
       "    <tr style=\"text-align: right;\">\n",
       "      <th></th>\n",
       "      <th>pollution</th>\n",
       "      <th>dew</th>\n",
       "      <th>temp</th>\n",
       "      <th>press</th>\n",
       "      <th>wnd_dir</th>\n",
       "      <th>wnd_spd</th>\n",
       "      <th>snow</th>\n",
       "      <th>rain</th>\n",
       "    </tr>\n",
       "    <tr>\n",
       "      <th>date</th>\n",
       "      <th></th>\n",
       "      <th></th>\n",
       "      <th></th>\n",
       "      <th></th>\n",
       "      <th></th>\n",
       "      <th></th>\n",
       "      <th></th>\n",
       "      <th></th>\n",
       "    </tr>\n",
       "  </thead>\n",
       "  <tbody>\n",
       "    <tr>\n",
       "      <th>2010-01-02 00:00:00</th>\n",
       "      <td>129.0</td>\n",
       "      <td>-16</td>\n",
       "      <td>-4.0</td>\n",
       "      <td>1020.0</td>\n",
       "      <td>SE</td>\n",
       "      <td>1.79</td>\n",
       "      <td>0</td>\n",
       "      <td>0</td>\n",
       "    </tr>\n",
       "    <tr>\n",
       "      <th>2010-01-02 01:00:00</th>\n",
       "      <td>148.0</td>\n",
       "      <td>-15</td>\n",
       "      <td>-4.0</td>\n",
       "      <td>1020.0</td>\n",
       "      <td>SE</td>\n",
       "      <td>2.68</td>\n",
       "      <td>0</td>\n",
       "      <td>0</td>\n",
       "    </tr>\n",
       "    <tr>\n",
       "      <th>2010-01-02 02:00:00</th>\n",
       "      <td>159.0</td>\n",
       "      <td>-11</td>\n",
       "      <td>-5.0</td>\n",
       "      <td>1021.0</td>\n",
       "      <td>SE</td>\n",
       "      <td>3.57</td>\n",
       "      <td>0</td>\n",
       "      <td>0</td>\n",
       "    </tr>\n",
       "    <tr>\n",
       "      <th>2010-01-02 03:00:00</th>\n",
       "      <td>181.0</td>\n",
       "      <td>-7</td>\n",
       "      <td>-5.0</td>\n",
       "      <td>1022.0</td>\n",
       "      <td>SE</td>\n",
       "      <td>5.36</td>\n",
       "      <td>1</td>\n",
       "      <td>0</td>\n",
       "    </tr>\n",
       "    <tr>\n",
       "      <th>2010-01-02 04:00:00</th>\n",
       "      <td>138.0</td>\n",
       "      <td>-7</td>\n",
       "      <td>-5.0</td>\n",
       "      <td>1022.0</td>\n",
       "      <td>SE</td>\n",
       "      <td>6.25</td>\n",
       "      <td>2</td>\n",
       "      <td>0</td>\n",
       "    </tr>\n",
       "  </tbody>\n",
       "</table>\n",
       "</div>"
      ],
      "text/plain": [
       "                     pollution  dew  temp   press wnd_dir  wnd_spd  snow  rain\n",
       "date                                                                          \n",
       "2010-01-02 00:00:00      129.0  -16  -4.0  1020.0      SE     1.79     0     0\n",
       "2010-01-02 01:00:00      148.0  -15  -4.0  1020.0      SE     2.68     0     0\n",
       "2010-01-02 02:00:00      159.0  -11  -5.0  1021.0      SE     3.57     0     0\n",
       "2010-01-02 03:00:00      181.0   -7  -5.0  1022.0      SE     5.36     1     0\n",
       "2010-01-02 04:00:00      138.0   -7  -5.0  1022.0      SE     6.25     2     0"
      ]
     },
     "execution_count": 28,
     "metadata": {},
     "output_type": "execute_result"
    }
   ],
   "source": [
    "df = pd.read_csv('./data/pollution.csv',parse_dates=['date'],index_col='date')\n",
    "df.head()"
   ]
  },
  {
   "cell_type": "code",
   "execution_count": 34,
   "id": "d051840a",
   "metadata": {
    "ExecuteTime": {
     "end_time": "2022-11-30T10:56:28.041371Z",
     "start_time": "2022-11-30T10:56:28.028406Z"
    }
   },
   "outputs": [
    {
     "data": {
      "text/plain": [
       "Timestamp('2014-12-31 23:00:00')"
      ]
     },
     "execution_count": 34,
     "metadata": {},
     "output_type": "execute_result"
    }
   ],
   "source": [
    "df.index[-1]"
   ]
  },
  {
   "cell_type": "markdown",
   "id": "2fd9d2da",
   "metadata": {},
   "source": [
    "## train valid test split"
   ]
  },
  {
   "cell_type": "code",
   "execution_count": 51,
   "id": "71e74406",
   "metadata": {
    "ExecuteTime": {
     "end_time": "2022-11-30T12:36:54.356954Z",
     "start_time": "2022-11-30T12:36:54.344458Z"
    }
   },
   "outputs": [
    {
     "data": {
      "text/plain": [
       "Timedelta('0 days 01:00:00')"
      ]
     },
     "execution_count": 51,
     "metadata": {},
     "output_type": "execute_result"
    }
   ],
   "source": [
    "pd.Timedelta(hours=1)"
   ]
  },
  {
   "cell_type": "code",
   "execution_count": 46,
   "id": "1288aec9",
   "metadata": {
    "ExecuteTime": {
     "end_time": "2022-11-30T12:34:42.275036Z",
     "start_time": "2022-11-30T12:34:42.256105Z"
    }
   },
   "outputs": [
    {
     "data": {
      "text/plain": [
       "Timedelta('1 days 00:00:00')"
      ]
     },
     "execution_count": 46,
     "metadata": {},
     "output_type": "execute_result"
    }
   ],
   "source": [
    "pd.Timedelta(days=1)"
   ]
  },
  {
   "cell_type": "code",
   "execution_count": 50,
   "id": "f919c7f4",
   "metadata": {
    "ExecuteTime": {
     "end_time": "2022-11-30T12:36:37.261939Z",
     "start_time": "2022-11-30T12:36:37.244460Z"
    }
   },
   "outputs": [
    {
     "data": {
      "text/plain": [
       "Timedelta('7 days 00:00:00')"
      ]
     },
     "execution_count": 50,
     "metadata": {},
     "output_type": "execute_result"
    }
   ],
   "source": [
    "pd.Timedelta(weeks=1)"
   ]
  },
  {
   "cell_type": "code",
   "execution_count": 52,
   "id": "7e1e0d46",
   "metadata": {
    "ExecuteTime": {
     "end_time": "2022-11-30T12:37:15.726245Z",
     "start_time": "2022-11-30T12:37:15.697235Z"
    }
   },
   "outputs": [
    {
     "ename": "ValueError",
     "evalue": "cannot construct a Timedelta from the passed arguments, allowed keywords are [weeks, days, hours, minutes, seconds, milliseconds, microseconds, nanoseconds]",
     "output_type": "error",
     "traceback": [
      "\u001b[1;31m---------------------------------------------------------------------------\u001b[0m",
      "\u001b[1;31mValueError\u001b[0m                                Traceback (most recent call last)",
      "\u001b[1;32m~\\AppData\\Local\\Temp/ipykernel_10632/3896720967.py\u001b[0m in \u001b[0;36m<module>\u001b[1;34m\u001b[0m\n\u001b[1;32m----> 1\u001b[1;33m \u001b[0mpd\u001b[0m\u001b[1;33m.\u001b[0m\u001b[0mTimedelta\u001b[0m\u001b[1;33m(\u001b[0m\u001b[0mmonths\u001b[0m\u001b[1;33m=\u001b[0m\u001b[1;36m1\u001b[0m\u001b[1;33m)\u001b[0m\u001b[1;33m\u001b[0m\u001b[1;33m\u001b[0m\u001b[0m\n\u001b[0m",
      "\u001b[1;32m~\\anaconda3\\lib\\site-packages\\pandas\\_libs\\tslibs\\timedeltas.pyx\u001b[0m in \u001b[0;36mpandas._libs.tslibs.timedeltas.Timedelta.__new__\u001b[1;34m()\u001b[0m\n",
      "\u001b[1;31mValueError\u001b[0m: cannot construct a Timedelta from the passed arguments, allowed keywords are [weeks, days, hours, minutes, seconds, milliseconds, microseconds, nanoseconds]"
     ]
    }
   ],
   "source": [
    "pd.Timedelta(months=1)"
   ]
  },
  {
   "cell_type": "code",
   "execution_count": 40,
   "id": "dc1a821e",
   "metadata": {
    "ExecuteTime": {
     "end_time": "2022-11-30T11:11:13.131482Z",
     "start_time": "2022-11-30T11:11:13.106787Z"
    }
   },
   "outputs": [
    {
     "name": "stdout",
     "output_type": "stream",
     "text": [
      "valid:  2014-06\n",
      "test:  2014-12\n"
     ]
    }
   ],
   "source": [
    "df = df['pollution'].to_frame()\n",
    "test_range = relativedelta(months=6)\n",
    "\n",
    "train_end = '2013-12'\n",
    "\n",
    "valid_dt = pd.to_datetime(train_end) + test_range\n",
    "valid_end = str(valid_dt)[:7]\n",
    "print('valid: ',valid_end)\n",
    "\n",
    "test_dt = pd.to_datetime(valid_end) + test_range\n",
    "test_end = str(test_dt)[:7]\n",
    "print('test: ',test_end)"
   ]
  },
  {
   "cell_type": "code",
   "execution_count": 41,
   "id": "7ba5cf61",
   "metadata": {
    "ExecuteTime": {
     "end_time": "2022-11-30T11:11:13.574298Z",
     "start_time": "2022-11-30T11:11:13.555385Z"
    }
   },
   "outputs": [],
   "source": [
    "df_train = df.loc[:train_end]\n",
    "df_valid = df.loc[train_end:valid_end]\n",
    "df_test = df.loc[valid_end:]"
   ]
  },
  {
   "cell_type": "code",
   "execution_count": 43,
   "id": "ec6f28a2",
   "metadata": {
    "ExecuteTime": {
     "end_time": "2022-11-30T11:12:11.963641Z",
     "start_time": "2022-11-30T11:12:10.838689Z"
    }
   },
   "outputs": [
    {
     "data": {
      "text/plain": [
       "Text(0.5, 0, 'date')"
      ]
     },
     "execution_count": 43,
     "metadata": {},
     "output_type": "execute_result"
    },
    {
     "data": {
      "image/png": "[encoded data removed]",
      "text/plain": [
       "<Figure size 720x360 with 1 Axes>"
      ]
     },
     "metadata": {
      "needs_background": "light"
     },
     "output_type": "display_data"
    }
   ],
   "source": [
    "import matplotlib.pyplot as plt\n",
    "fig, ax = plt.subplots(figsize=(10,5))\n",
    "df_train.plot(ax=ax, label='train')\n",
    "df_valid.plot(ax=ax, label='valid')\n",
    "df_test.plot(ax=ax, label='test')\n",
    "ax.set_title('Train Valid Test split')\n",
    "ax.set_ylabel('pollution')\n",
    "ax.set_xlabel('date')"
   ]
  },
  {
   "cell_type": "code",
   "execution_count": null,
   "id": "d88c6b86",
   "metadata": {},
   "outputs": [],
   "source": []
  },
  {
   "cell_type": "code",
   "execution_count": null,
   "id": "8763e852",
   "metadata": {},
   "outputs": [],
   "source": []
  },
  {
   "cell_type": "code",
   "execution_count": null,
   "id": "2df7f646",
   "metadata": {},
   "outputs": [],
   "source": []
  },
  {
   "cell_type": "code",
   "execution_count": 6,
   "id": "3a82db37",
   "metadata": {
    "ExecuteTime": {
     "end_time": "2022-11-30T10:37:29.791948Z",
     "start_time": "2022-11-30T10:37:29.778166Z"
    }
   },
   "outputs": [],
   "source": [
    "from dateutil.relativedelta import relativedelta"
   ]
  },
  {
   "cell_type": "code",
   "execution_count": null,
   "id": "72cc585a",
   "metadata": {},
   "outputs": [],
   "source": []
  }
 ],
 "metadata": {
  "kernelspec": {
   "display_name": "Python 3 (ipykernel)",
   "language": "python",
   "name": "python3"
  },
  "language_info": {
   "codemirror_mode": {
    "name": "ipython",
    "version": 3
   },
   "file_extension": ".py",
   "mimetype": "text/x-python",
   "name": "python",
   "nbconvert_exporter": "python",
   "pygments_lexer": "ipython3",
   "version": "3.9.7"
  },
  "toc": {
   "base_numbering": 1,
   "nav_menu": {},
   "number_sections": true,
   "sideBar": true,
   "skip_h1_title": false,
   "title_cell": "Table of Contents",
   "title_sidebar": "Contents",
   "toc_cell": false,
   "toc_position": {},
   "toc_section_display": true,
   "toc_window_display": false
  },
  "varInspector": {
   "cols": {
    "lenName": 16,
    "lenType": 16,
    "lenVar": 40
   },
   "kernels_config": {
    "python": {
     "delete_cmd_postfix": "",
     "delete_cmd_prefix": "del ",
     "library": "var_list.py",
     "varRefreshCmd": "print(var_dic_list())"
    },
    "r": {
     "delete_cmd_postfix": ") ",
     "delete_cmd_prefix": "rm(",
     "library": "var_list.r",
     "varRefreshCmd": "cat(var_dic_list()) "
    }
   },
   "types_to_exclude": [
    "module",
    "function",
    "builtin_function_or_method",
    "instance",
    "_Feature"
   ],
   "window_display": false
  }
 },
 "nbformat": 4,
 "nbformat_minor": 5
}
