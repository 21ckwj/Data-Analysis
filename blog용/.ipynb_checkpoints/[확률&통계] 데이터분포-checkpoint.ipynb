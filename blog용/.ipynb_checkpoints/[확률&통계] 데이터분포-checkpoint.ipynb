{
 "cells": [
  {
   "cell_type": "code",
   "execution_count": 2,
   "id": "a5497b46",
   "metadata": {
    "ExecuteTime": {
     "end_time": "2023-06-04T08:34:35.334534Z",
     "start_time": "2023-06-04T08:34:29.646344Z"
    }
   },
   "outputs": [],
   "source": [
    "import pandas as pd\n",
    "import numpy as np\n",
    "import matplotlib.pyplot as plt\n",
    "import seaborn as sns"
   ]
  },
  {
   "cell_type": "code",
   "execution_count": 3,
   "id": "c9a8ab95",
   "metadata": {
    "ExecuteTime": {
     "end_time": "2023-06-04T08:44:01.318231Z",
     "start_time": "2023-06-04T08:44:01.311250Z"
    }
   },
   "outputs": [],
   "source": [
    "import scipy as sp\n",
    "import scipy.stats"
   ]
  },
  {
   "cell_type": "code",
   "execution_count": 5,
   "id": "f72f7ea9",
   "metadata": {
    "ExecuteTime": {
     "end_time": "2023-06-04T08:45:24.341960Z",
     "start_time": "2023-06-04T08:45:24.323337Z"
    }
   },
   "outputs": [],
   "source": [
    "# 평균 1, 표준편차 2 인 정규분포 객체\n",
    "rv = sp.stats.norm(loc=1, scale=2)"
   ]
  },
  {
   "cell_type": "markdown",
   "id": "f269ef4f",
   "metadata": {},
   "source": [
    "# 확률 밀도 함수"
   ]
  },
  {
   "cell_type": "code",
   "execution_count": 7,
   "id": "968e02ef",
   "metadata": {
    "ExecuteTime": {
     "end_time": "2023-06-04T08:57:35.230490Z",
     "start_time": "2023-06-04T08:57:34.672511Z"
    }
   },
   "outputs": [
    {
     "data": {
      "text/plain": [
       "[<matplotlib.lines.Line2D at 0x211b1a3fcd0>]"
      ]
     },
     "execution_count": 7,
     "metadata": {},
     "output_type": "execute_result"
    },
    {
     "data": {
      "image/png": "[encoded data removed]",
      "text/plain": [
       "<Figure size 432x288 with 1 Axes>"
      ]
     },
     "metadata": {
      "needs_background": "light"
     },
     "output_type": "display_data"
    }
   ],
   "source": [
    "data = np.linspace(-8,8,100)\n",
    "pdf = rv.pdf(data)\n",
    "plt.plot(data, pdf)"
   ]
  },
  {
   "cell_type": "code",
   "execution_count": null,
   "id": "333b19b7",
   "metadata": {},
   "outputs": [],
   "source": []
  },
  {
   "cell_type": "markdown",
   "id": "8ff939d3",
   "metadata": {},
   "source": [
    "# 확률 누적분포 함수"
   ]
  },
  {
   "cell_type": "code",
   "execution_count": 8,
   "id": "84d03211",
   "metadata": {
    "ExecuteTime": {
     "end_time": "2023-06-04T08:59:24.977001Z",
     "start_time": "2023-06-04T08:59:24.697622Z"
    }
   },
   "outputs": [
    {
     "data": {
      "text/plain": [
       "[<matplotlib.lines.Line2D at 0x211b1c48160>]"
      ]
     },
     "execution_count": 8,
     "metadata": {},
     "output_type": "execute_result"
    },
    {
     "data": {
      "image/png": "[encoded data removed]",
      "text/plain": [
       "<Figure size 432x288 with 1 Axes>"
      ]
     },
     "metadata": {
      "needs_background": "light"
     },
     "output_type": "display_data"
    }
   ],
   "source": [
    "data = np.linspace(-8,8,100)\n",
    "cdf = rv.cdf(data)\n",
    "plt.plot(data, cdf)"
   ]
  },
  {
   "cell_type": "code",
   "execution_count": null,
   "id": "d9f0c189",
   "metadata": {},
   "outputs": [],
   "source": []
  },
  {
   "cell_type": "code",
   "execution_count": null,
   "id": "1183d779",
   "metadata": {},
   "outputs": [],
   "source": []
  },
  {
   "cell_type": "code",
   "execution_count": null,
   "id": "a3ea6939",
   "metadata": {},
   "outputs": [],
   "source": []
  },
  {
   "cell_type": "code",
   "execution_count": null,
   "id": "e11760bd",
   "metadata": {},
   "outputs": [],
   "source": []
  }
 ],
 "metadata": {
  "kernelspec": {
   "display_name": "Python 3 (ipykernel)",
   "language": "python",
   "name": "python3"
  },
  "language_info": {
   "codemirror_mode": {
    "name": "ipython",
    "version": 3
   },
   "file_extension": ".py",
   "mimetype": "text/x-python",
   "name": "python",
   "nbconvert_exporter": "python",
   "pygments_lexer": "ipython3",
   "version": "3.10.11"
  },
  "toc": {
   "base_numbering": 1,
   "nav_menu": {},
   "number_sections": true,
   "sideBar": true,
   "skip_h1_title": false,
   "title_cell": "Table of Contents",
   "title_sidebar": "Contents",
   "toc_cell": false,
   "toc_position": {},
   "toc_section_display": true,
   "toc_window_display": false
  },
  "varInspector": {
   "cols": {
    "lenName": 16,
    "lenType": 16,
    "lenVar": 40
   },
   "kernels_config": {
    "python": {
     "delete_cmd_postfix": "",
     "delete_cmd_prefix": "del ",
     "library": "var_list.py",
     "varRefreshCmd": "print(var_dic_list())"
    },
    "r": {
     "delete_cmd_postfix": ") ",
     "delete_cmd_prefix": "rm(",
     "library": "var_list.r",
     "varRefreshCmd": "cat(var_dic_list()) "
    }
   },
   "types_to_exclude": [
    "module",
    "function",
    "builtin_function_or_method",
    "instance",
    "_Feature"
   ],
   "window_display": false
  }
 },
 "nbformat": 4,
 "nbformat_minor": 5
}
