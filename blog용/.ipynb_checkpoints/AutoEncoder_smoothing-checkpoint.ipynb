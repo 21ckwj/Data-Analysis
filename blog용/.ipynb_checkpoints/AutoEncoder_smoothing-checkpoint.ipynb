{
 "cells": [
  {
   "cell_type": "code",
   "execution_count": 11,
   "id": "968d6132",
   "metadata": {
    "ExecuteTime": {
     "end_time": "2022-10-28T12:51:35.134801Z",
     "start_time": "2022-10-28T12:51:35.123678Z"
    }
   },
   "outputs": [],
   "source": [
    "import pandas as pd\n",
    "import numpy as np\n",
    "import matplotlib.pyplot as plt\n",
    "\n",
    "# ---- DL ----\n",
    "import torch\n",
    "import tensorflow as tf\n",
    "from tensorflow.keras.models import Sequential\n",
    "from tensorflow.keras.layers import LSTM, Dropout, TimeDistributed, RepeatVector, Dense"
   ]
  },
  {
   "cell_type": "code",
   "execution_count": null,
   "id": "0f81d98f",
   "metadata": {},
   "outputs": [],
   "source": [
    "import torch\n",
    "import torch.nn as nn\n",
    "import torch.nn.functional as F\n",
    "import torch.optim as optim\n",
    "import torch.utils.data as data_utils \n",
    "\n",
    "class TimeDistributed(nn.Module):\n",
    "    def __init__(self, module):\n",
    "        super(TimeDistributed, self).__init__()\n",
    "        self.module = module\n",
    "\n",
    "    def forward(self, x):\n",
    "        if len(x.size()) <= 2:\n",
    "            return self.module(x)\n",
    "        x_reshape = x.contiguous().view(-1, x.size(-1)) \n",
    "        y = self.module(x_reshape)\n",
    "        if len(x.size()) == 3:\n",
    "            y = y.contiguous().view(x.size(0), -1, y.size(-1))\n",
    "        return y\n",
    "\n",
    "class Autoencoder(nn.Module):\n",
    "    def __init__(self):\n",
    "        super(Autoencoder, self).__init__()\n",
    "        self.encoder = nn.LSTM(\n",
    "                               input_size = 1, \n",
    "                               hidden_size = 16, \n",
    "                               dropout = 0.25,\n",
    "                               num_layers = 2,\n",
    "                               bias = True,\n",
    "                               batch_first = True,\n",
    "                               bidirectional = True,\n",
    "                               )\n",
    "        self.decoder = nn.LSTM(\n",
    "                               input_size = 32, \n",
    "                               hidden_size = 16, \n",
    "                               dropout = 0.25,\n",
    "                               num_layers = 2,\n",
    "                               bias = True,\n",
    "                               batch_first = True,\n",
    "                               bidirectional = True,\n",
    "                               )\n",
    "        self.fc = TimeDistributed(nn.Linear(32, 1))\n",
    "                \n",
    "    def forward(self, x):\n",
    "        h0, (h_n, c_n) = self.encoder(x)\n",
    "        h0, (h_n, c_n) = self.decoder(h0[:,-1:,:].repeat(1,5,1))\n",
    "        out = self.fc(h0)\n",
    "        return out\n"
   ]
  },
  {
   "cell_type": "markdown",
   "id": "70726506",
   "metadata": {},
   "source": [
    "torch.nn.Module은 모든 뉴럴 네트워크 모듈의 기본 클래스입니다. 일반적인 모델들은 이 클래스를 상속받아야 합니다. \n",
    "모듈들은 다른 모듈을 또 포함할 수 있습니다. 이러한 중첩된 구조는 복잡한 아키텍처를 쉽게 구축하고 관리할 수 있습니다.\n",
    "\n",
    "torch.nn.Module 은 PyTorch의 모든 Neural Network의 Base Class입니다. \n",
    "모듈은 다른 모듈을 포함할 수 있고, 트리 구조로 형성할 수 있습니다. \n",
    "nn 패키지는 신경망 계층(layer)과 거의 비슷한 Module 의 집합을 정의합니다. \n",
    "Module은 입력 텐서를 받고 출력 텐서를 계산하는 한편, 학습 가능한 매개변수를 갖는 텐서들을 내부 상태(internal state)로 갖습니다. \n",
    "nn 패키지는 또한 신경망을 학습시킬 때 주로 사용하는 유용한 손실 함수(loss function)들도 정의하고 있습니다."
   ]
  },
  {
   "cell_type": "markdown",
   "id": "accecedd",
   "metadata": {},
   "source": [
    "## data"
   ]
  },
  {
   "cell_type": "code",
   "execution_count": 13,
   "id": "b5a7fa24",
   "metadata": {
    "ExecuteTime": {
     "end_time": "2022-10-28T13:02:53.407134Z",
     "start_time": "2022-10-28T13:02:53.356092Z"
    }
   },
   "outputs": [
    {
     "data": {
      "text/html": [
       "<div>\n",
       "<style scoped>\n",
       "    .dataframe tbody tr th:only-of-type {\n",
       "        vertical-align: middle;\n",
       "    }\n",
       "\n",
       "    .dataframe tbody tr th {\n",
       "        vertical-align: top;\n",
       "    }\n",
       "\n",
       "    .dataframe thead th {\n",
       "        text-align: right;\n",
       "    }\n",
       "</style>\n",
       "<table border=\"1\" class=\"dataframe\">\n",
       "  <thead>\n",
       "    <tr style=\"text-align: right;\">\n",
       "      <th></th>\n",
       "      <th>Open</th>\n",
       "      <th>High</th>\n",
       "      <th>Low</th>\n",
       "      <th>Close</th>\n",
       "      <th>Adj Close</th>\n",
       "      <th>Volume</th>\n",
       "    </tr>\n",
       "    <tr>\n",
       "      <th>Date</th>\n",
       "      <th></th>\n",
       "      <th></th>\n",
       "      <th></th>\n",
       "      <th></th>\n",
       "      <th></th>\n",
       "      <th></th>\n",
       "    </tr>\n",
       "  </thead>\n",
       "  <tbody>\n",
       "    <tr>\n",
       "      <th>2010-01-04</th>\n",
       "      <td>112.370003</td>\n",
       "      <td>113.389999</td>\n",
       "      <td>111.510002</td>\n",
       "      <td>113.330002</td>\n",
       "      <td>92.246048</td>\n",
       "      <td>118944600</td>\n",
       "    </tr>\n",
       "    <tr>\n",
       "      <th>2010-01-05</th>\n",
       "      <td>113.260002</td>\n",
       "      <td>113.680000</td>\n",
       "      <td>112.849998</td>\n",
       "      <td>113.629997</td>\n",
       "      <td>92.490204</td>\n",
       "      <td>111579900</td>\n",
       "    </tr>\n",
       "    <tr>\n",
       "      <th>2010-01-06</th>\n",
       "      <td>113.519997</td>\n",
       "      <td>113.989998</td>\n",
       "      <td>113.430000</td>\n",
       "      <td>113.709999</td>\n",
       "      <td>92.555328</td>\n",
       "      <td>116074400</td>\n",
       "    </tr>\n",
       "    <tr>\n",
       "      <th>2010-01-07</th>\n",
       "      <td>113.500000</td>\n",
       "      <td>114.330002</td>\n",
       "      <td>113.180000</td>\n",
       "      <td>114.190002</td>\n",
       "      <td>92.946060</td>\n",
       "      <td>131091100</td>\n",
       "    </tr>\n",
       "    <tr>\n",
       "      <th>2010-01-08</th>\n",
       "      <td>113.889999</td>\n",
       "      <td>114.620003</td>\n",
       "      <td>113.660004</td>\n",
       "      <td>114.570000</td>\n",
       "      <td>93.255348</td>\n",
       "      <td>126402800</td>\n",
       "    </tr>\n",
       "  </tbody>\n",
       "</table>\n",
       "</div>"
      ],
      "text/plain": [
       "                  Open        High         Low       Close  Adj Close  \\\n",
       "Date                                                                    \n",
       "2010-01-04  112.370003  113.389999  111.510002  113.330002  92.246048   \n",
       "2010-01-05  113.260002  113.680000  112.849998  113.629997  92.490204   \n",
       "2010-01-06  113.519997  113.989998  113.430000  113.709999  92.555328   \n",
       "2010-01-07  113.500000  114.330002  113.180000  114.190002  92.946060   \n",
       "2010-01-08  113.889999  114.620003  113.660004  114.570000  93.255348   \n",
       "\n",
       "               Volume  \n",
       "Date                   \n",
       "2010-01-04  118944600  \n",
       "2010-01-05  111579900  \n",
       "2010-01-06  116074400  \n",
       "2010-01-07  131091100  \n",
       "2010-01-08  126402800  "
      ]
     },
     "execution_count": 13,
     "metadata": {},
     "output_type": "execute_result"
    }
   ],
   "source": [
    "df = pd.read_csv('./data/SPY.csv',parse_dates=['Date'],index_col=0)\n",
    "df.head()"
   ]
  },
  {
   "cell_type": "code",
   "execution_count": null,
   "id": "5b180ea8",
   "metadata": {},
   "outputs": [],
   "source": []
  },
  {
   "cell_type": "markdown",
   "id": "d62aaec5",
   "metadata": {},
   "source": [
    "## creat sequence"
   ]
  },
  {
   "cell_type": "code",
   "execution_count": 47,
   "id": "b54ca7d2",
   "metadata": {
    "ExecuteTime": {
     "end_time": "2022-10-28T13:24:54.927628Z",
     "start_time": "2022-10-28T13:24:54.898113Z"
    }
   },
   "outputs": [],
   "source": [
    "def reshape_data(x):\n",
    "    x = np.array(x)\n",
    "    if x.ndim == 1:\n",
    "        reshape = np.array(x).reshape(-1,1)\n",
    "    if x.ndim == 2:\n",
    "        reshape = np.array(x).reshape(-1,2)\n",
    "    return reshape\n",
    "        \n",
    "\n",
    "def create_lstm_sequence(X,time_step):\n",
    "    X_out,y_out = [], []\n",
    "    for i in range(len(X)-time_step):\n",
    "        X_out.append([X[i:i+t] for t in range(time_step)])\n",
    "        y_out.append(X[i+time_step])\n",
    "        \n",
    "    X_out = np.array(X_out)\n",
    "    y_out = np.array(y_out)\n",
    "    \n",
    "    return X_out,y_out"
   ]
  },
  {
   "cell_type": "code",
   "execution_count": 48,
   "id": "59a617f3",
   "metadata": {
    "ExecuteTime": {
     "end_time": "2022-10-28T13:24:56.248115Z",
     "start_time": "2022-10-28T13:24:56.235742Z"
    }
   },
   "outputs": [
    {
     "data": {
      "text/plain": [
       "(2263, 1)"
      ]
     },
     "execution_count": 48,
     "metadata": {},
     "output_type": "execute_result"
    }
   ],
   "source": [
    "reshape = reshape_data(df.Close)\n",
    "reshape.shape"
   ]
  },
  {
   "cell_type": "code",
   "execution_count": 49,
   "id": "3d9b7263",
   "metadata": {
    "ExecuteTime": {
     "end_time": "2022-10-28T13:24:57.554838Z",
     "start_time": "2022-10-28T13:24:57.497051Z"
    }
   },
   "outputs": [
    {
     "name": "stderr",
     "output_type": "stream",
     "text": [
      "C:\\Users\\21ckw\\AppData\\Local\\Temp/ipykernel_7148/1320030256.py:16: VisibleDeprecationWarning: Creating an ndarray from ragged nested sequences (which is a list-or-tuple of lists-or-tuples-or ndarrays with different lengths or shapes) is deprecated. If you meant to do this, you must specify 'dtype=object' when creating the ndarray.\n",
      "  X_out = np.array(X_out).reshape(-1,1,time_step)\n"
     ]
    },
    {
     "ename": "ValueError",
     "evalue": "cannot reshape array of size 2259 into shape (1,4)",
     "output_type": "error",
     "traceback": [
      "\u001b[1;31m---------------------------------------------------------------------------\u001b[0m",
      "\u001b[1;31mValueError\u001b[0m                                Traceback (most recent call last)",
      "\u001b[1;32m~\\AppData\\Local\\Temp/ipykernel_7148/3653363123.py\u001b[0m in \u001b[0;36m<module>\u001b[1;34m\u001b[0m\n\u001b[1;32m----> 1\u001b[1;33m \u001b[0mX\u001b[0m\u001b[1;33m,\u001b[0m \u001b[0my\u001b[0m \u001b[1;33m=\u001b[0m \u001b[0mcreate_lstm_sequence\u001b[0m\u001b[1;33m(\u001b[0m\u001b[0mreshape\u001b[0m\u001b[1;33m,\u001b[0m\u001b[1;36m4\u001b[0m\u001b[1;33m)\u001b[0m\u001b[1;33m\u001b[0m\u001b[1;33m\u001b[0m\u001b[0m\n\u001b[0m",
      "\u001b[1;32m~\\AppData\\Local\\Temp/ipykernel_7148/1320030256.py\u001b[0m in \u001b[0;36mcreate_lstm_sequence\u001b[1;34m(X, time_step)\u001b[0m\n\u001b[0;32m     15\u001b[0m \u001b[1;33m\u001b[0m\u001b[0m\n\u001b[0;32m     16\u001b[0m     \u001b[0mX_out\u001b[0m \u001b[1;33m=\u001b[0m \u001b[0mnp\u001b[0m\u001b[1;33m.\u001b[0m\u001b[0marray\u001b[0m\u001b[1;33m(\u001b[0m\u001b[0mX_out\u001b[0m\u001b[1;33m)\u001b[0m\u001b[1;33m.\u001b[0m\u001b[0mreshape\u001b[0m\u001b[1;33m(\u001b[0m\u001b[1;33m-\u001b[0m\u001b[1;36m1\u001b[0m\u001b[1;33m,\u001b[0m\u001b[1;36m1\u001b[0m\u001b[1;33m,\u001b[0m\u001b[0mtime_step\u001b[0m\u001b[1;33m)\u001b[0m\u001b[1;33m\u001b[0m\u001b[1;33m\u001b[0m\u001b[0m\n\u001b[1;32m---> 17\u001b[1;33m     \u001b[0my_out\u001b[0m \u001b[1;33m=\u001b[0m \u001b[0mnp\u001b[0m\u001b[1;33m.\u001b[0m\u001b[0marray\u001b[0m\u001b[1;33m(\u001b[0m\u001b[0my_out\u001b[0m\u001b[1;33m)\u001b[0m\u001b[1;33m.\u001b[0m\u001b[0mreshape\u001b[0m\u001b[1;33m(\u001b[0m\u001b[1;33m-\u001b[0m\u001b[1;36m1\u001b[0m\u001b[1;33m,\u001b[0m\u001b[1;36m1\u001b[0m\u001b[1;33m,\u001b[0m\u001b[0mtime_step\u001b[0m\u001b[1;33m)\u001b[0m\u001b[1;33m\u001b[0m\u001b[1;33m\u001b[0m\u001b[0m\n\u001b[0m\u001b[0;32m     18\u001b[0m \u001b[1;33m\u001b[0m\u001b[0m\n\u001b[0;32m     19\u001b[0m     \u001b[1;32mreturn\u001b[0m \u001b[0mX_out\u001b[0m\u001b[1;33m,\u001b[0m\u001b[0my_out\u001b[0m\u001b[1;33m\u001b[0m\u001b[1;33m\u001b[0m\u001b[0m\n",
      "\u001b[1;31mValueError\u001b[0m: cannot reshape array of size 2259 into shape (1,4)"
     ]
    }
   ],
   "source": [
    "X, y = create_lstm_sequence(reshape,4)"
   ]
  },
  {
   "cell_type": "code",
   "execution_count": null,
   "id": "78b6350f",
   "metadata": {
    "ExecuteTime": {
     "end_time": "2022-10-28T13:24:57.558792Z",
     "start_time": "2022-10-28T13:24:57.558792Z"
    }
   },
   "outputs": [],
   "source": [
    "X"
   ]
  },
  {
   "cell_type": "code",
   "execution_count": 43,
   "id": "8156a236",
   "metadata": {
    "ExecuteTime": {
     "end_time": "2022-10-28T13:20:36.908010Z",
     "start_time": "2022-10-28T13:20:36.866908Z"
    }
   },
   "outputs": [
    {
     "ename": "AttributeError",
     "evalue": "'list' object has no attribute 'shape'",
     "output_type": "error",
     "traceback": [
      "\u001b[1;31m---------------------------------------------------------------------------\u001b[0m",
      "\u001b[1;31mAttributeError\u001b[0m                            Traceback (most recent call last)",
      "\u001b[1;32m~\\AppData\\Local\\Temp/ipykernel_7148/3481471543.py\u001b[0m in \u001b[0;36m<module>\u001b[1;34m\u001b[0m\n\u001b[1;32m----> 1\u001b[1;33m \u001b[0mprint\u001b[0m\u001b[1;33m(\u001b[0m\u001b[0mX\u001b[0m\u001b[1;33m.\u001b[0m\u001b[0mshape\u001b[0m\u001b[1;33m,\u001b[0m \u001b[0my\u001b[0m\u001b[1;33m.\u001b[0m\u001b[0mshape\u001b[0m\u001b[1;33m)\u001b[0m\u001b[1;33m\u001b[0m\u001b[1;33m\u001b[0m\u001b[0m\n\u001b[0m",
      "\u001b[1;31mAttributeError\u001b[0m: 'list' object has no attribute 'shape'"
     ]
    }
   ],
   "source": [
    "print(X.shape, y.shape)"
   ]
  },
  {
   "cell_type": "code",
   "execution_count": null,
   "id": "f1b60946",
   "metadata": {},
   "outputs": [],
   "source": [
    "model = Sequential()\n",
    "model.add(LSTM(128,input_size=()))"
   ]
  },
  {
   "cell_type": "code",
   "execution_count": null,
   "id": "262fee7e",
   "metadata": {},
   "outputs": [],
   "source": [
    "model = Sequential(\n",
    "    [\n",
    "        Input(shape=(x_train.shape[1], x_train.shape[2])),\n",
    "        LSTM(\n",
    "            filters=32, kernel_size=7, padding=\"same\", strides=2, activation=\"relu\"\n",
    "        ),\n",
    "        LSTM(\n",
    "            filters=16, kernel_size=7, padding=\"same\", strides=2, activation=\"relu\"\n",
    "        )\n",
    "    ]\n",
    ")\n",
    "model.compile(optimizer=keras.optimizers.Adam(learning_rate=0.001), loss=\"mse\")\n",
    "model.summary()"
   ]
  },
  {
   "cell_type": "code",
   "execution_count": null,
   "id": "b28e6b7f",
   "metadata": {},
   "outputs": [],
   "source": []
  },
  {
   "cell_type": "code",
   "execution_count": null,
   "id": "f8bfe21f",
   "metadata": {},
   "outputs": [],
   "source": []
  },
  {
   "cell_type": "code",
   "execution_count": null,
   "id": "a22925cd",
   "metadata": {},
   "outputs": [],
   "source": []
  }
 ],
 "metadata": {
  "kernelspec": {
   "display_name": "Python 3 (ipykernel)",
   "language": "python",
   "name": "python3"
  },
  "language_info": {
   "codemirror_mode": {
    "name": "ipython",
    "version": 3
   },
   "file_extension": ".py",
   "mimetype": "text/x-python",
   "name": "python",
   "nbconvert_exporter": "python",
   "pygments_lexer": "ipython3",
   "version": "3.9.7"
  },
  "toc": {
   "base_numbering": 1,
   "nav_menu": {},
   "number_sections": true,
   "sideBar": true,
   "skip_h1_title": false,
   "title_cell": "Table of Contents",
   "title_sidebar": "Contents",
   "toc_cell": false,
   "toc_position": {},
   "toc_section_display": true,
   "toc_window_display": false
  },
  "varInspector": {
   "cols": {
    "lenName": 16,
    "lenType": 16,
    "lenVar": 40
   },
   "kernels_config": {
    "python": {
     "delete_cmd_postfix": "",
     "delete_cmd_prefix": "del ",
     "library": "var_list.py",
     "varRefreshCmd": "print(var_dic_list())"
    },
    "r": {
     "delete_cmd_postfix": ") ",
     "delete_cmd_prefix": "rm(",
     "library": "var_list.r",
     "varRefreshCmd": "cat(var_dic_list()) "
    }
   },
   "types_to_exclude": [
    "module",
    "function",
    "builtin_function_or_method",
    "instance",
    "_Feature"
   ],
   "window_display": false
  }
 },
 "nbformat": 4,
 "nbformat_minor": 5
}
