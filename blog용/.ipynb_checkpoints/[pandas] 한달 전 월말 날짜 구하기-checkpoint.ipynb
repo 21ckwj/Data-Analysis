{
 "cells": [
  {
   "cell_type": "code",
   "execution_count": 8,
   "id": "61615056",
   "metadata": {
    "ExecuteTime": {
     "end_time": "2023-03-16T15:16:41.911989Z",
     "start_time": "2023-03-16T15:16:41.896996Z"
    }
   },
   "outputs": [
    {
     "data": {
      "text/plain": [
       "Timestamp('2022-11-30 00:00:00')"
      ]
     },
     "execution_count": 8,
     "metadata": {},
     "output_type": "execute_result"
    }
   ],
   "source": [
    "import pandas as pd\n",
    "\n",
    "date = pd.to_datetime(\"2022-11-30\")\n",
    "date"
   ]
  },
  {
   "cell_type": "markdown",
   "id": "50fe188a",
   "metadata": {},
   "source": [
    "# 한달 전"
   ]
  },
  {
   "cell_type": "code",
   "execution_count": 9,
   "id": "1a2d78a1",
   "metadata": {
    "ExecuteTime": {
     "end_time": "2023-03-16T15:16:42.718901Z",
     "start_time": "2023-03-16T15:16:42.696960Z"
    }
   },
   "outputs": [
    {
     "data": {
      "text/plain": [
       "Timestamp('2022-10-30 00:00:00')"
      ]
     },
     "execution_count": 9,
     "metadata": {},
     "output_type": "execute_result"
    }
   ],
   "source": [
    "from dateutil.relativedelta import relativedelta\n",
    "\n",
    "month_before = date - relativedelta(months=1)\n",
    "month_before"
   ]
  },
  {
   "cell_type": "markdown",
   "id": "f21380e5",
   "metadata": {},
   "source": [
    "# 한달 전 월말 날짜 구하기"
   ]
  },
  {
   "cell_type": "code",
   "execution_count": 11,
   "id": "54591d91",
   "metadata": {
    "ExecuteTime": {
     "end_time": "2023-03-16T15:16:50.682557Z",
     "start_time": "2023-03-16T15:16:50.665602Z"
    }
   },
   "outputs": [
    {
     "data": {
      "text/plain": [
       "Timestamp('2022-10-31 00:00:00')"
      ]
     },
     "execution_count": 11,
     "metadata": {},
     "output_type": "execute_result"
    }
   ],
   "source": [
    "# 한달 전 마지막 날짜\n",
    "from dateutil.relativedelta import relativedelta\n",
    "from pandas.tseries.offsets import MonthEnd, MonthBegin\n",
    "\n",
    "month_before = date - relativedelta(months=1) + MonthEnd(0)\n",
    "month_before"
   ]
  },
  {
   "cell_type": "code",
   "execution_count": 12,
   "id": "4609780d",
   "metadata": {
    "ExecuteTime": {
     "end_time": "2023-03-16T15:17:17.194064Z",
     "start_time": "2023-03-16T15:17:17.177107Z"
    }
   },
   "outputs": [
    {
     "data": {
      "text/plain": [
       "Timestamp('2022-10-31 00:00:00')"
      ]
     },
     "execution_count": 12,
     "metadata": {},
     "output_type": "execute_result"
    }
   ],
   "source": [
    "month_before = date - relativedelta(months=1) + MonthEnd(1)\n",
    "month_before"
   ]
  },
  {
   "cell_type": "code",
   "execution_count": 13,
   "id": "db22ef1c",
   "metadata": {
    "ExecuteTime": {
     "end_time": "2023-03-16T15:17:30.229592Z",
     "start_time": "2023-03-16T15:17:30.224606Z"
    }
   },
   "outputs": [
    {
     "data": {
      "text/plain": [
       "Timestamp('2022-11-30 00:00:00')"
      ]
     },
     "execution_count": 13,
     "metadata": {},
     "output_type": "execute_result"
    }
   ],
   "source": [
    "month_before = date - relativedelta(months=1) + MonthEnd(2)\n",
    "month_before"
   ]
  },
  {
   "cell_type": "markdown",
   "id": "c50a6077",
   "metadata": {},
   "source": [
    "# 한달 전 마지막 주 금요일 구하기"
   ]
  },
  {
   "cell_type": "code",
   "execution_count": 15,
   "id": "7d824918",
   "metadata": {
    "ExecuteTime": {
     "end_time": "2023-03-16T15:22:33.024505Z",
     "start_time": "2023-03-16T15:22:33.017521Z"
    }
   },
   "outputs": [
    {
     "data": {
      "text/plain": [
       "Timestamp('2022-10-28 00:00:00')"
      ]
     },
     "execution_count": 15,
     "metadata": {},
     "output_type": "execute_result"
    }
   ],
   "source": [
    "from dateutil.relativedelta import relativedelta, FR\n",
    "\n",
    "month_before = date - relativedelta(months=1,weekday=FR(-1))\n",
    "month_before"
   ]
  },
  {
   "cell_type": "code",
   "execution_count": null,
   "id": "e8c8b36b",
   "metadata": {},
   "outputs": [],
   "source": [
    " "
   ]
  }
 ],
 "metadata": {
  "kernelspec": {
   "display_name": "Python 3 (ipykernel)",
   "language": "python",
   "name": "python3"
  },
  "language_info": {
   "codemirror_mode": {
    "name": "ipython",
    "version": 3
   },
   "file_extension": ".py",
   "mimetype": "text/x-python",
   "name": "python",
   "nbconvert_exporter": "python",
   "pygments_lexer": "ipython3",
   "version": "3.9.7"
  },
  "toc": {
   "base_numbering": 1,
   "nav_menu": {},
   "number_sections": true,
   "sideBar": true,
   "skip_h1_title": false,
   "title_cell": "Table of Contents",
   "title_sidebar": "Contents",
   "toc_cell": false,
   "toc_position": {},
   "toc_section_display": true,
   "toc_window_display": false
  },
  "varInspector": {
   "cols": {
    "lenName": 16,
    "lenType": 16,
    "lenVar": 40
   },
   "kernels_config": {
    "python": {
     "delete_cmd_postfix": "",
     "delete_cmd_prefix": "del ",
     "library": "var_list.py",
     "varRefreshCmd": "print(var_dic_list())"
    },
    "r": {
     "delete_cmd_postfix": ") ",
     "delete_cmd_prefix": "rm(",
     "library": "var_list.r",
     "varRefreshCmd": "cat(var_dic_list()) "
    }
   },
   "types_to_exclude": [
    "module",
    "function",
    "builtin_function_or_method",
    "instance",
    "_Feature"
   ],
   "window_display": false
  }
 },
 "nbformat": 4,
 "nbformat_minor": 5
}
