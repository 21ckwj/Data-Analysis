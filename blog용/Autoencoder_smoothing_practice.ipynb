{
 "cells": [
  {
   "cell_type": "code",
   "execution_count": 1,
   "id": "2f7a6d47",
   "metadata": {
    "ExecuteTime": {
     "end_time": "2022-11-06T13:10:41.358708Z",
     "start_time": "2022-11-06T13:10:33.766403Z"
    }
   },
   "outputs": [],
   "source": [
    "import pandas as pd\n",
    "import numpy as np\n",
    "\n",
    "# ----- 시각화 -----\n",
    "import matplotlib.pyplot as plt\n",
    "\n",
    "# ----- DL -----\n",
    "from tensorflow.keras.models import Model, Sequential\n",
    "from tensorflow.keras.layers import Input, Dense, Conv1D, MaxPooling1D, UpSampling1D, BatchNormalization, LSTM, RepeatVector\n",
    "from tensorflow.keras import regularizers\n",
    "\n",
    "#----- time ----\n",
    "import datetime\n",
    "import time\n",
    "\n",
    "#----- scaler-----\n",
    "from sklearn.preprocessing import StandardScaler, MinMaxScaler"
   ]
  },
  {
   "cell_type": "markdown",
   "id": "c389b23d",
   "metadata": {},
   "source": [
    "## get data"
   ]
  },
  {
   "cell_type": "code",
   "execution_count": 3,
   "id": "0fdcae57",
   "metadata": {
    "ExecuteTime": {
     "end_time": "2022-11-06T13:10:55.957806Z",
     "start_time": "2022-11-06T13:10:55.900092Z"
    }
   },
   "outputs": [
    {
     "data": {
      "text/html": [
       "<div>\n",
       "<style scoped>\n",
       "    .dataframe tbody tr th:only-of-type {\n",
       "        vertical-align: middle;\n",
       "    }\n",
       "\n",
       "    .dataframe tbody tr th {\n",
       "        vertical-align: top;\n",
       "    }\n",
       "\n",
       "    .dataframe thead th {\n",
       "        text-align: right;\n",
       "    }\n",
       "</style>\n",
       "<table border=\"1\" class=\"dataframe\">\n",
       "  <thead>\n",
       "    <tr style=\"text-align: right;\">\n",
       "      <th></th>\n",
       "      <th>Open</th>\n",
       "      <th>High</th>\n",
       "      <th>Low</th>\n",
       "      <th>Close</th>\n",
       "      <th>Adj Close</th>\n",
       "      <th>Volume</th>\n",
       "    </tr>\n",
       "    <tr>\n",
       "      <th>Date</th>\n",
       "      <th></th>\n",
       "      <th></th>\n",
       "      <th></th>\n",
       "      <th></th>\n",
       "      <th></th>\n",
       "      <th></th>\n",
       "    </tr>\n",
       "  </thead>\n",
       "  <tbody>\n",
       "    <tr>\n",
       "      <th>2010-01-04</th>\n",
       "      <td>112.370003</td>\n",
       "      <td>113.389999</td>\n",
       "      <td>111.510002</td>\n",
       "      <td>113.330002</td>\n",
       "      <td>92.246048</td>\n",
       "      <td>118944600</td>\n",
       "    </tr>\n",
       "    <tr>\n",
       "      <th>2010-01-05</th>\n",
       "      <td>113.260002</td>\n",
       "      <td>113.680000</td>\n",
       "      <td>112.849998</td>\n",
       "      <td>113.629997</td>\n",
       "      <td>92.490204</td>\n",
       "      <td>111579900</td>\n",
       "    </tr>\n",
       "    <tr>\n",
       "      <th>2010-01-06</th>\n",
       "      <td>113.519997</td>\n",
       "      <td>113.989998</td>\n",
       "      <td>113.430000</td>\n",
       "      <td>113.709999</td>\n",
       "      <td>92.555328</td>\n",
       "      <td>116074400</td>\n",
       "    </tr>\n",
       "    <tr>\n",
       "      <th>2010-01-07</th>\n",
       "      <td>113.500000</td>\n",
       "      <td>114.330002</td>\n",
       "      <td>113.180000</td>\n",
       "      <td>114.190002</td>\n",
       "      <td>92.946060</td>\n",
       "      <td>131091100</td>\n",
       "    </tr>\n",
       "    <tr>\n",
       "      <th>2010-01-08</th>\n",
       "      <td>113.889999</td>\n",
       "      <td>114.620003</td>\n",
       "      <td>113.660004</td>\n",
       "      <td>114.570000</td>\n",
       "      <td>93.255348</td>\n",
       "      <td>126402800</td>\n",
       "    </tr>\n",
       "  </tbody>\n",
       "</table>\n",
       "</div>"
      ],
      "text/plain": [
       "                  Open        High         Low       Close  Adj Close  \\\n",
       "Date                                                                    \n",
       "2010-01-04  112.370003  113.389999  111.510002  113.330002  92.246048   \n",
       "2010-01-05  113.260002  113.680000  112.849998  113.629997  92.490204   \n",
       "2010-01-06  113.519997  113.989998  113.430000  113.709999  92.555328   \n",
       "2010-01-07  113.500000  114.330002  113.180000  114.190002  92.946060   \n",
       "2010-01-08  113.889999  114.620003  113.660004  114.570000  93.255348   \n",
       "\n",
       "               Volume  \n",
       "Date                   \n",
       "2010-01-04  118944600  \n",
       "2010-01-05  111579900  \n",
       "2010-01-06  116074400  \n",
       "2010-01-07  131091100  \n",
       "2010-01-08  126402800  "
      ]
     },
     "execution_count": 3,
     "metadata": {},
     "output_type": "execute_result"
    }
   ],
   "source": [
    "df = pd.read_csv('./data/SPY.csv',index_col=0)\n",
    "df.head()"
   ]
  },
  {
   "cell_type": "markdown",
   "id": "b6fa0a76",
   "metadata": {},
   "source": [
    "## parameter"
   ]
  },
  {
   "cell_type": "code",
   "execution_count": 4,
   "id": "a8a6ff7b",
   "metadata": {
    "ExecuteTime": {
     "end_time": "2022-11-06T13:10:56.612437Z",
     "start_time": "2022-11-06T13:10:56.604422Z"
    }
   },
   "outputs": [],
   "source": [
    "test_sample = int(len(df)*0.2)\n",
    "window_size = 10"
   ]
  },
  {
   "cell_type": "code",
   "execution_count": 5,
   "id": "c4ba4eb5",
   "metadata": {
    "ExecuteTime": {
     "end_time": "2022-11-06T13:10:57.296529Z",
     "start_time": "2022-11-06T13:10:57.110567Z"
    }
   },
   "outputs": [
    {
     "data": {
      "text/plain": [
       "<AxesSubplot:xlabel='Date'>"
      ]
     },
     "execution_count": 5,
     "metadata": {},
     "output_type": "execute_result"
    },
    {
     "data": {
      "image/png": "[encoded data removed]",
      "text/plain": [
       "<Figure size 720x360 with 1 Axes>"
      ]
     },
     "metadata": {
      "needs_background": "light"
     },
     "output_type": "display_data"
    }
   ],
   "source": [
    "df.Close.plot(figsize=(10,5))"
   ]
  },
  {
   "cell_type": "code",
   "execution_count": 6,
   "id": "d3ce4895",
   "metadata": {
    "ExecuteTime": {
     "end_time": "2022-11-06T13:10:57.725603Z",
     "start_time": "2022-11-06T13:10:57.717668Z"
    }
   },
   "outputs": [],
   "source": [
    "x_train = df.Close[:-test_sample]\n",
    "x_test = df.Close[-test_sample:]"
   ]
  },
  {
   "cell_type": "markdown",
   "id": "ae9ed7fc",
   "metadata": {},
   "source": [
    "## scaling"
   ]
  },
  {
   "cell_type": "code",
   "execution_count": 7,
   "id": "f85e2d81",
   "metadata": {
    "ExecuteTime": {
     "end_time": "2022-11-06T13:10:58.709931Z",
     "start_time": "2022-11-06T13:10:58.699956Z"
    }
   },
   "outputs": [],
   "source": [
    "scaler = MinMaxScaler()\n",
    "scaler.fit(np.array(x_train).reshape(-1,1))\n",
    "x_train_scaled = scaler.transform(np.array(x_train).reshape(-1,1))\n",
    "x_test_scaled = scaler.transform(np.array(x_test).reshape(-1,1))"
   ]
  },
  {
   "cell_type": "markdown",
   "id": "751eddfd",
   "metadata": {},
   "source": [
    " ## make sequence"
   ]
  },
  {
   "cell_type": "code",
   "execution_count": 8,
   "id": "6d572de4",
   "metadata": {
    "ExecuteTime": {
     "end_time": "2022-11-06T13:10:59.475792Z",
     "start_time": "2022-11-06T13:10:59.468803Z"
    }
   },
   "outputs": [],
   "source": [
    "def make_sequence(x, window_size):\n",
    "    X = []\n",
    "    for i in range(len(x)-window_size):\n",
    "        X.append([x[i+t] for t in range(window_size)])\n",
    "    X = np.array(X)\n",
    "    return X"
   ]
  },
  {
   "cell_type": "code",
   "execution_count": 9,
   "id": "c167a4f0",
   "metadata": {
    "ExecuteTime": {
     "end_time": "2022-11-06T13:10:59.888305Z",
     "start_time": "2022-11-06T13:10:59.853302Z"
    },
    "scrolled": true
   },
   "outputs": [],
   "source": [
    "seq_train = make_sequence(x_train_scaled,window_size)\n",
    "seq_test = make_sequence(x_test_scaled,window_size)"
   ]
  },
  {
   "cell_type": "markdown",
   "id": "8bf85042",
   "metadata": {},
   "source": [
    "## simple model"
   ]
  },
  {
   "cell_type": "code",
   "execution_count": 13,
   "id": "e7b7c73e",
   "metadata": {
    "ExecuteTime": {
     "end_time": "2022-11-06T13:23:25.364355Z",
     "start_time": "2022-11-06T13:23:25.267614Z"
    },
    "scrolled": false
   },
   "outputs": [
    {
     "name": "stdout",
     "output_type": "stream",
     "text": [
      "Model: \"sequential_2\"\n",
      "_________________________________________________________________\n",
      " Layer (type)                Output Shape              Param #   \n",
      "=================================================================\n",
      " dense (Dense)               (None, 10, 128)           256       \n",
      "                                                                 \n",
      " dense_1 (Dense)             (None, 10, 3)             387       \n",
      "                                                                 \n",
      " dense_2 (Dense)             (None, 10, 128)           512       \n",
      "                                                                 \n",
      "=================================================================\n",
      "Total params: 1,155\n",
      "Trainable params: 1,155\n",
      "Non-trainable params: 0\n",
      "_________________________________________________________________\n"
     ]
    }
   ],
   "source": [
    "model = Sequential()\n",
    "model.add(Dense(128, input_shape=(window_size,1), activation='relu'))\n",
    "model.add(Dense(3, activation='relu'))\n",
    "model.add(Dense(128, activation='linear'))\n",
    "model.summary()"
   ]
  },
  {
   "cell_type": "code",
   "execution_count": 14,
   "id": "6845052e",
   "metadata": {
    "ExecuteTime": {
     "end_time": "2022-11-06T13:28:25.302502Z",
     "start_time": "2022-11-06T13:28:19.397107Z"
    }
   },
   "outputs": [
    {
     "name": "stdout",
     "output_type": "stream",
     "text": [
      "Epoch 1/100\n",
      "4/4 [==============================] - 1s 60ms/step - loss: 0.2910 - val_loss: 1.3605\n",
      "Epoch 2/100\n",
      "4/4 [==============================] - 0s 15ms/step - loss: 0.2860 - val_loss: 1.3452\n",
      "Epoch 3/100\n",
      "4/4 [==============================] - 0s 14ms/step - loss: 0.2808 - val_loss: 1.3287\n",
      "Epoch 4/100\n",
      "4/4 [==============================] - 0s 14ms/step - loss: 0.2753 - val_loss: 1.3107\n",
      "Epoch 5/100\n",
      "4/4 [==============================] - 0s 14ms/step - loss: 0.2694 - val_loss: 1.2911\n",
      "Epoch 6/100\n",
      "4/4 [==============================] - 0s 14ms/step - loss: 0.2633 - val_loss: 1.2698\n",
      "Epoch 7/100\n",
      "4/4 [==============================] - 0s 13ms/step - loss: 0.2567 - val_loss: 1.2469\n",
      "Epoch 8/100\n",
      "4/4 [==============================] - 0s 15ms/step - loss: 0.2498 - val_loss: 1.2222\n",
      "Epoch 9/100\n",
      "4/4 [==============================] - 0s 16ms/step - loss: 0.2426 - val_loss: 1.1956\n",
      "Epoch 10/100\n",
      "4/4 [==============================] - 0s 14ms/step - loss: 0.2350 - val_loss: 1.1670\n",
      "Epoch 11/100\n",
      "4/4 [==============================] - 0s 13ms/step - loss: 0.2271 - val_loss: 1.1366\n",
      "Epoch 12/100\n",
      "4/4 [==============================] - 0s 13ms/step - loss: 0.2187 - val_loss: 1.1042\n",
      "Epoch 13/100\n",
      "4/4 [==============================] - 0s 13ms/step - loss: 0.2101 - val_loss: 1.0696\n",
      "Epoch 14/100\n",
      "4/4 [==============================] - 0s 13ms/step - loss: 0.2010 - val_loss: 1.0331\n",
      "Epoch 15/100\n",
      "4/4 [==============================] - 0s 13ms/step - loss: 0.1918 - val_loss: 0.9947\n",
      "Epoch 16/100\n",
      "4/4 [==============================] - 0s 14ms/step - loss: 0.1823 - val_loss: 0.9547\n",
      "Epoch 17/100\n",
      "4/4 [==============================] - 0s 14ms/step - loss: 0.1727 - val_loss: 0.9131\n",
      "Epoch 18/100\n",
      "4/4 [==============================] - 0s 13ms/step - loss: 0.1631 - val_loss: 0.8704\n",
      "Epoch 19/100\n",
      "4/4 [==============================] - 0s 13ms/step - loss: 0.1537 - val_loss: 0.8269\n",
      "Epoch 20/100\n",
      "4/4 [==============================] - 0s 14ms/step - loss: 0.1443 - val_loss: 0.7831\n",
      "Epoch 21/100\n",
      "4/4 [==============================] - 0s 14ms/step - loss: 0.1355 - val_loss: 0.7393\n",
      "Epoch 22/100\n",
      "4/4 [==============================] - 0s 14ms/step - loss: 0.1270 - val_loss: 0.6962\n",
      "Epoch 23/100\n",
      "4/4 [==============================] - 0s 16ms/step - loss: 0.1189 - val_loss: 0.6547\n",
      "Epoch 24/100\n",
      "4/4 [==============================] - 0s 15ms/step - loss: 0.1117 - val_loss: 0.6148\n",
      "Epoch 25/100\n",
      "4/4 [==============================] - 0s 14ms/step - loss: 0.1049 - val_loss: 0.5776\n",
      "Epoch 26/100\n",
      "4/4 [==============================] - 0s 13ms/step - loss: 0.0986 - val_loss: 0.5422\n",
      "Epoch 27/100\n",
      "4/4 [==============================] - 0s 16ms/step - loss: 0.0925 - val_loss: 0.5075\n",
      "Epoch 28/100\n",
      "4/4 [==============================] - 0s 16ms/step - loss: 0.0865 - val_loss: 0.4732\n",
      "Epoch 29/100\n",
      "4/4 [==============================] - 0s 14ms/step - loss: 0.0804 - val_loss: 0.4395\n",
      "Epoch 30/100\n",
      "4/4 [==============================] - 0s 15ms/step - loss: 0.0744 - val_loss: 0.4064\n",
      "Epoch 31/100\n",
      "4/4 [==============================] - 0s 16ms/step - loss: 0.0685 - val_loss: 0.3743\n",
      "Epoch 32/100\n",
      "4/4 [==============================] - 0s 13ms/step - loss: 0.0628 - val_loss: 0.3434\n",
      "Epoch 33/100\n",
      "4/4 [==============================] - 0s 13ms/step - loss: 0.0574 - val_loss: 0.3141\n",
      "Epoch 34/100\n",
      "4/4 [==============================] - 0s 13ms/step - loss: 0.0524 - val_loss: 0.2861\n",
      "Epoch 35/100\n",
      "4/4 [==============================] - 0s 14ms/step - loss: 0.0477 - val_loss: 0.2602\n",
      "Epoch 36/100\n",
      "4/4 [==============================] - 0s 14ms/step - loss: 0.0434 - val_loss: 0.2370\n",
      "Epoch 37/100\n",
      "4/4 [==============================] - 0s 14ms/step - loss: 0.0395 - val_loss: 0.2153\n",
      "Epoch 38/100\n",
      "4/4 [==============================] - 0s 13ms/step - loss: 0.0361 - val_loss: 0.1957\n",
      "Epoch 39/100\n",
      "4/4 [==============================] - 0s 13ms/step - loss: 0.0330 - val_loss: 0.1778\n",
      "Epoch 40/100\n",
      "4/4 [==============================] - 0s 13ms/step - loss: 0.0302 - val_loss: 0.1616\n",
      "Epoch 41/100\n",
      "4/4 [==============================] - 0s 14ms/step - loss: 0.0278 - val_loss: 0.1472\n",
      "Epoch 42/100\n",
      "4/4 [==============================] - 0s 13ms/step - loss: 0.0256 - val_loss: 0.1339\n",
      "Epoch 43/100\n",
      "4/4 [==============================] - 0s 14ms/step - loss: 0.0237 - val_loss: 0.1223\n",
      "Epoch 44/100\n",
      "4/4 [==============================] - 0s 13ms/step - loss: 0.0219 - val_loss: 0.1115\n",
      "Epoch 45/100\n",
      "4/4 [==============================] - 0s 13ms/step - loss: 0.0202 - val_loss: 0.1022\n",
      "Epoch 46/100\n",
      "4/4 [==============================] - 0s 13ms/step - loss: 0.0187 - val_loss: 0.0936\n",
      "Epoch 47/100\n",
      "4/4 [==============================] - 0s 20ms/step - loss: 0.0173 - val_loss: 0.0855\n",
      "Epoch 48/100\n",
      "4/4 [==============================] - 0s 19ms/step - loss: 0.0159 - val_loss: 0.0779\n",
      "Epoch 49/100\n",
      "4/4 [==============================] - 0s 20ms/step - loss: 0.0147 - val_loss: 0.0708\n",
      "Epoch 50/100\n",
      "4/4 [==============================] - 0s 18ms/step - loss: 0.0135 - val_loss: 0.0644\n",
      "Epoch 51/100\n",
      "4/4 [==============================] - 0s 25ms/step - loss: 0.0123 - val_loss: 0.0584\n",
      "Epoch 52/100\n",
      "4/4 [==============================] - 0s 17ms/step - loss: 0.0112 - val_loss: 0.0524\n",
      "Epoch 53/100\n",
      "4/4 [==============================] - 0s 17ms/step - loss: 0.0102 - val_loss: 0.0467\n",
      "Epoch 54/100\n",
      "4/4 [==============================] - 0s 18ms/step - loss: 0.0092 - val_loss: 0.0416\n",
      "Epoch 55/100\n",
      "4/4 [==============================] - 0s 16ms/step - loss: 0.0083 - val_loss: 0.0368\n",
      "Epoch 56/100\n",
      "4/4 [==============================] - 0s 17ms/step - loss: 0.0074 - val_loss: 0.0324\n",
      "Epoch 57/100\n",
      "4/4 [==============================] - 0s 18ms/step - loss: 0.0066 - val_loss: 0.0285\n",
      "Epoch 58/100\n",
      "4/4 [==============================] - 0s 18ms/step - loss: 0.0058 - val_loss: 0.0249\n",
      "Epoch 59/100\n",
      "4/4 [==============================] - 0s 18ms/step - loss: 0.0051 - val_loss: 0.0215\n",
      "Epoch 60/100\n",
      "4/4 [==============================] - 0s 18ms/step - loss: 0.0045 - val_loss: 0.0185\n",
      "Epoch 61/100\n",
      "4/4 [==============================] - 0s 17ms/step - loss: 0.0039 - val_loss: 0.0159\n",
      "Epoch 62/100\n",
      "4/4 [==============================] - 0s 17ms/step - loss: 0.0034 - val_loss: 0.0137\n",
      "Epoch 63/100\n",
      "4/4 [==============================] - 0s 18ms/step - loss: 0.0029 - val_loss: 0.0117\n",
      "Epoch 64/100\n",
      "4/4 [==============================] - 0s 18ms/step - loss: 0.0025 - val_loss: 0.0099\n",
      "Epoch 65/100\n",
      "4/4 [==============================] - 0s 15ms/step - loss: 0.0021 - val_loss: 0.0084\n",
      "Epoch 66/100\n",
      "4/4 [==============================] - 0s 13ms/step - loss: 0.0018 - val_loss: 0.0072\n",
      "Epoch 67/100\n",
      "4/4 [==============================] - 0s 13ms/step - loss: 0.0016 - val_loss: 0.0060\n",
      "Epoch 68/100\n",
      "4/4 [==============================] - 0s 13ms/step - loss: 0.0014 - val_loss: 0.0051\n",
      "Epoch 69/100\n",
      "4/4 [==============================] - 0s 13ms/step - loss: 0.0012 - val_loss: 0.0043\n",
      "Epoch 70/100\n",
      "4/4 [==============================] - 0s 15ms/step - loss: 0.0011 - val_loss: 0.0037\n",
      "Epoch 71/100\n",
      "4/4 [==============================] - 0s 13ms/step - loss: 9.6819e-04 - val_loss: 0.0032\n",
      "Epoch 72/100\n",
      "4/4 [==============================] - 0s 13ms/step - loss: 8.7683e-04 - val_loss: 0.0028\n",
      "Epoch 73/100\n",
      "4/4 [==============================] - 0s 13ms/step - loss: 8.0406e-04 - val_loss: 0.0025\n",
      "Epoch 74/100\n",
      "4/4 [==============================] - 0s 13ms/step - loss: 7.4541e-04 - val_loss: 0.0022\n",
      "Epoch 75/100\n",
      "4/4 [==============================] - 0s 13ms/step - loss: 6.9786e-04 - val_loss: 0.0020\n",
      "Epoch 76/100\n",
      "4/4 [==============================] - 0s 13ms/step - loss: 6.5963e-04 - val_loss: 0.0018\n",
      "Epoch 77/100\n",
      "4/4 [==============================] - 0s 13ms/step - loss: 6.2828e-04 - val_loss: 0.0016\n",
      "Epoch 78/100\n",
      "4/4 [==============================] - 0s 15ms/step - loss: 6.0281e-04 - val_loss: 0.0015\n",
      "Epoch 79/100\n",
      "4/4 [==============================] - 0s 13ms/step - loss: 5.8171e-04 - val_loss: 0.0014\n",
      "Epoch 80/100\n",
      "4/4 [==============================] - 0s 14ms/step - loss: 5.6385e-04 - val_loss: 0.0013\n",
      "Epoch 81/100\n",
      "4/4 [==============================] - 0s 14ms/step - loss: 5.4901e-04 - val_loss: 0.0012\n",
      "Epoch 82/100\n",
      "4/4 [==============================] - 0s 15ms/step - loss: 5.3624e-04 - val_loss: 0.0011\n",
      "Epoch 83/100\n"
     ]
    },
    {
     "name": "stdout",
     "output_type": "stream",
     "text": [
      "4/4 [==============================] - 0s 14ms/step - loss: 5.2505e-04 - val_loss: 0.0011\n",
      "Epoch 84/100\n",
      "4/4 [==============================] - 0s 14ms/step - loss: 5.1500e-04 - val_loss: 0.0010\n",
      "Epoch 85/100\n",
      "4/4 [==============================] - 0s 13ms/step - loss: 5.0606e-04 - val_loss: 9.7846e-04\n",
      "Epoch 86/100\n",
      "4/4 [==============================] - 0s 13ms/step - loss: 4.9802e-04 - val_loss: 9.3409e-04\n",
      "Epoch 87/100\n",
      "4/4 [==============================] - 0s 13ms/step - loss: 4.9068e-04 - val_loss: 8.9295e-04\n",
      "Epoch 88/100\n",
      "4/4 [==============================] - 0s 13ms/step - loss: 4.8370e-04 - val_loss: 8.5703e-04\n",
      "Epoch 89/100\n",
      "4/4 [==============================] - 0s 13ms/step - loss: 4.7718e-04 - val_loss: 8.2531e-04\n",
      "Epoch 90/100\n",
      "4/4 [==============================] - 0s 13ms/step - loss: 4.7107e-04 - val_loss: 7.9817e-04\n",
      "Epoch 91/100\n",
      "4/4 [==============================] - 0s 13ms/step - loss: 4.6518e-04 - val_loss: 7.7110e-04\n",
      "Epoch 92/100\n",
      "4/4 [==============================] - 0s 13ms/step - loss: 4.5966e-04 - val_loss: 7.4753e-04\n",
      "Epoch 93/100\n",
      "4/4 [==============================] - 0s 14ms/step - loss: 4.5429e-04 - val_loss: 7.2504e-04\n",
      "Epoch 94/100\n",
      "4/4 [==============================] - 0s 13ms/step - loss: 4.4909e-04 - val_loss: 7.0630e-04\n",
      "Epoch 95/100\n",
      "4/4 [==============================] - 0s 13ms/step - loss: 4.4403e-04 - val_loss: 6.8888e-04\n",
      "Epoch 96/100\n",
      "4/4 [==============================] - 0s 13ms/step - loss: 4.3912e-04 - val_loss: 6.7141e-04\n",
      "Epoch 97/100\n",
      "4/4 [==============================] - 0s 13ms/step - loss: 4.3427e-04 - val_loss: 6.5645e-04\n",
      "Epoch 98/100\n",
      "4/4 [==============================] - 0s 13ms/step - loss: 4.2965e-04 - val_loss: 6.4238e-04\n",
      "Epoch 99/100\n",
      "4/4 [==============================] - 0s 13ms/step - loss: 4.2509e-04 - val_loss: 6.2890e-04\n",
      "Epoch 100/100\n",
      "4/4 [==============================] - 0s 13ms/step - loss: 4.2057e-04 - val_loss: 6.1537e-04\n"
     ]
    }
   ],
   "source": [
    "model.compile(loss='mse',optimizer='adam')\n",
    "his = model.fit(seq_train,seq_train,\n",
    "               epochs=100,\n",
    "               batch_size=512,\n",
    "               shuffle=True,\n",
    "               validation_data=(seq_test,seq_test))"
   ]
  },
  {
   "cell_type": "code",
   "execution_count": 18,
   "id": "b9428b9a",
   "metadata": {
    "ExecuteTime": {
     "end_time": "2022-11-06T13:30:12.335029Z",
     "start_time": "2022-11-06T13:30:12.206847Z"
    }
   },
   "outputs": [
    {
     "data": {
      "text/plain": [
       "<matplotlib.legend.Legend at 0x1e271a27d60>"
      ]
     },
     "execution_count": 18,
     "metadata": {},
     "output_type": "execute_result"
    },
    {
     "data": {
      "image/png": "[encoded data removed]",
      "text/plain": [
       "<Figure size 432x288 with 1 Axes>"
      ]
     },
     "metadata": {
      "needs_background": "light"
     },
     "output_type": "display_data"
    }
   ],
   "source": [
    "plt.plot(his.history['loss'],label='train')\n",
    "plt.plot(his.history['val_loss'],label='test')\n",
    "plt.legend()"
   ]
  },
  {
   "cell_type": "code",
   "execution_count": 22,
   "id": "ddabf23c",
   "metadata": {
    "ExecuteTime": {
     "end_time": "2022-11-06T13:36:43.419803Z",
     "start_time": "2022-11-06T13:36:43.327099Z"
    }
   },
   "outputs": [
    {
     "data": {
      "text/plain": [
       "(1801, 10, 128)"
      ]
     },
     "execution_count": 22,
     "metadata": {},
     "output_type": "execute_result"
    }
   ],
   "source": [
    "decoded_stock = model.predict(seq_train)\n",
    "decoded_stock.shape"
   ]
  },
  {
   "cell_type": "code",
   "execution_count": 23,
   "id": "9a80d9b5",
   "metadata": {
    "ExecuteTime": {
     "end_time": "2022-11-06T13:47:29.927384Z",
     "start_time": "2022-11-06T13:47:13.565499Z"
    },
    "scrolled": true
   },
   "outputs": [
    {
     "data": {
      "text/plain": [
       "[<matplotlib.lines.Line2D at 0x1e278216ee0>]"
      ]
     },
     "execution_count": 23,
     "metadata": {},
     "output_type": "execute_result"
    },
    {
     "data": {
      "image/png": "[encoded data removed]",
      "text/plain": [
       "<Figure size 432x288 with 1 Axes>"
      ]
     },
     "metadata": {
      "needs_background": "light"
     },
     "output_type": "display_data"
    }
   ],
   "source": [
    "plt.plot(x_train.index.to_list(),x_train_scaled, label= 'x_train_scaled')\n",
    "# plt.plot(x_train.index.to_list(), decoded_stock, label= 'x_train_decoded')"
   ]
  },
  {
   "cell_type": "markdown",
   "id": "fda602fe",
   "metadata": {},
   "source": [
    "# 시도"
   ]
  },
  {
   "cell_type": "code",
   "execution_count": 47,
   "id": "047dfd3b",
   "metadata": {
    "ExecuteTime": {
     "end_time": "2022-11-06T14:02:53.366796Z",
     "start_time": "2022-11-06T14:02:53.356822Z"
    }
   },
   "outputs": [
    {
     "data": {
      "text/plain": [
       "1811"
      ]
     },
     "execution_count": 47,
     "metadata": {},
     "output_type": "execute_result"
    }
   ],
   "source": [
    "len(x_train)"
   ]
  },
  {
   "cell_type": "code",
   "execution_count": 48,
   "id": "35e55cb3",
   "metadata": {
    "ExecuteTime": {
     "end_time": "2022-11-06T14:02:53.532379Z",
     "start_time": "2022-11-06T14:02:53.517395Z"
    }
   },
   "outputs": [
    {
     "data": {
      "text/plain": [
       "Date\n",
       "2010-01-04    113.330002\n",
       "2010-01-05    113.629997\n",
       "2010-01-06    113.709999\n",
       "2010-01-07    114.190002\n",
       "2010-01-08    114.570000\n",
       "                 ...    \n",
       "2010-06-30    103.220001\n",
       "2010-07-01    102.760002\n",
       "2010-07-02    102.199997\n",
       "2010-07-06    102.870003\n",
       "2010-07-07    106.110001\n",
       "Name: Close, Length: 128, dtype: float64"
      ]
     },
     "execution_count": 48,
     "metadata": {},
     "output_type": "execute_result"
    }
   ],
   "source": [
    "x_train[:128]"
   ]
  },
  {
   "cell_type": "code",
   "execution_count": 49,
   "id": "e077e9d2",
   "metadata": {
    "ExecuteTime": {
     "end_time": "2022-11-06T14:02:53.802128Z",
     "start_time": "2022-11-06T14:02:53.693417Z"
    }
   },
   "outputs": [
    {
     "name": "stdout",
     "output_type": "stream",
     "text": [
      "Model: \"sequential_8\"\n",
      "_________________________________________________________________\n",
      " Layer (type)                Output Shape              Param #   \n",
      "=================================================================\n",
      " dense_28 (Dense)            (None, 1, 128)            256       \n",
      "                                                                 \n",
      " dense_29 (Dense)            (None, 1, 64)             8256      \n",
      "                                                                 \n",
      " dense_30 (Dense)            (None, 1, 3)              195       \n",
      "                                                                 \n",
      " dense_31 (Dense)            (None, 1, 64)             256       \n",
      "                                                                 \n",
      " dense_32 (Dense)            (None, 1, 128)            8320      \n",
      "                                                                 \n",
      "=================================================================\n",
      "Total params: 17,283\n",
      "Trainable params: 17,283\n",
      "Non-trainable params: 0\n",
      "_________________________________________________________________\n"
     ]
    }
   ],
   "source": [
    "model = Sequential()\n",
    "model.add(Dense(128, input_shape=(1,1), activation='relu'))\n",
    "model.add(Dense(64, activation='relu'))\n",
    "model.add(Dense(3, activation='relu'))\n",
    "model.add(Dense(64, activation='relu'))\n",
    "model.add(Dense(128, activation='linear'))\n",
    "model.summary()"
   ]
  },
  {
   "cell_type": "code",
   "execution_count": 50,
   "id": "03414587",
   "metadata": {
    "ExecuteTime": {
     "end_time": "2022-11-06T14:03:06.089829Z",
     "start_time": "2022-11-06T14:02:58.198087Z"
    }
   },
   "outputs": [
    {
     "name": "stdout",
     "output_type": "stream",
     "text": [
      "Epoch 1/200\n",
      "1/1 [==============================] - 1s 585ms/step - loss: 12764.5762 - val_loss: 13489.6602\n",
      "Epoch 2/200\n",
      "1/1 [==============================] - 0s 36ms/step - loss: 12750.1387 - val_loss: 13479.9922\n",
      "Epoch 3/200\n",
      "1/1 [==============================] - 0s 36ms/step - loss: 12740.9834 - val_loss: 13463.1074\n",
      "Epoch 4/200\n",
      "1/1 [==============================] - 0s 34ms/step - loss: 12724.9961 - val_loss: 13437.9375\n",
      "Epoch 5/200\n",
      "1/1 [==============================] - 0s 35ms/step - loss: 12701.1719 - val_loss: 13404.0723\n",
      "Epoch 6/200\n",
      "1/1 [==============================] - 0s 36ms/step - loss: 12669.1162 - val_loss: 13360.7832\n",
      "Epoch 7/200\n",
      "1/1 [==============================] - 0s 34ms/step - loss: 12628.1445 - val_loss: 13308.8887\n",
      "Epoch 8/200\n",
      "1/1 [==============================] - 0s 34ms/step - loss: 12579.0264 - val_loss: 13248.2617\n",
      "Epoch 9/200\n",
      "1/1 [==============================] - 0s 36ms/step - loss: 12521.6475 - val_loss: 13179.2822\n",
      "Epoch 10/200\n",
      "1/1 [==============================] - 0s 34ms/step - loss: 12456.3613 - val_loss: 13100.4980\n",
      "Epoch 11/200\n",
      "1/1 [==============================] - 0s 34ms/step - loss: 12381.7988 - val_loss: 13011.8535\n",
      "Epoch 12/200\n",
      "1/1 [==============================] - 0s 34ms/step - loss: 12297.9043 - val_loss: 12912.8262\n",
      "Epoch 13/200\n",
      "1/1 [==============================] - 0s 34ms/step - loss: 12204.1797 - val_loss: 12802.0957\n",
      "Epoch 14/200\n",
      "1/1 [==============================] - 0s 35ms/step - loss: 12099.3838 - val_loss: 12679.0605\n",
      "Epoch 15/200\n",
      "1/1 [==============================] - 0s 35ms/step - loss: 11982.9414 - val_loss: 12543.0830\n",
      "Epoch 16/200\n",
      "1/1 [==============================] - 0s 36ms/step - loss: 11854.2480 - val_loss: 12395.1279\n",
      "Epoch 17/200\n",
      "1/1 [==============================] - 0s 38ms/step - loss: 11714.2207 - val_loss: 12234.2891\n",
      "Epoch 18/200\n",
      "1/1 [==============================] - 0s 37ms/step - loss: 11561.9980 - val_loss: 12060.7598\n",
      "Epoch 19/200\n",
      "1/1 [==============================] - 0s 33ms/step - loss: 11397.7656 - val_loss: 11872.3164\n",
      "Epoch 20/200\n",
      "1/1 [==============================] - 0s 35ms/step - loss: 11219.4160 - val_loss: 11668.2510\n",
      "Epoch 21/200\n",
      "1/1 [==============================] - 0s 36ms/step - loss: 11026.2773 - val_loss: 11452.0898\n",
      "Epoch 22/200\n",
      "1/1 [==============================] - 0s 33ms/step - loss: 10821.6973 - val_loss: 11222.5918\n",
      "Epoch 23/200\n",
      "1/1 [==============================] - 0s 32ms/step - loss: 10604.4844 - val_loss: 10976.4883\n",
      "Epoch 24/200\n",
      "1/1 [==============================] - 0s 33ms/step - loss: 10371.5508 - val_loss: 10713.3223\n",
      "Epoch 25/200\n",
      "1/1 [==============================] - 0s 34ms/step - loss: 10122.4668 - val_loss: 10432.7070\n",
      "Epoch 26/200\n",
      "1/1 [==============================] - 0s 34ms/step - loss: 9856.8604 - val_loss: 10134.6855\n",
      "Epoch 27/200\n",
      "1/1 [==============================] - 0s 35ms/step - loss: 9574.7773 - val_loss: 9819.9570\n",
      "Epoch 28/200\n",
      "1/1 [==============================] - 0s 35ms/step - loss: 9276.8701 - val_loss: 9487.2461\n",
      "Epoch 29/200\n",
      "1/1 [==============================] - 0s 34ms/step - loss: 8961.9375 - val_loss: 9137.5176\n",
      "Epoch 30/200\n",
      "1/1 [==============================] - 0s 35ms/step - loss: 8630.8945 - val_loss: 8778.8955\n",
      "Epoch 31/200\n",
      "1/1 [==============================] - 0s 36ms/step - loss: 8291.4150 - val_loss: 8402.9365\n",
      "Epoch 32/200\n",
      "1/1 [==============================] - 0s 35ms/step - loss: 7935.5132 - val_loss: 8010.7222\n",
      "Epoch 33/200\n",
      "1/1 [==============================] - 0s 34ms/step - loss: 7564.2100 - val_loss: 7603.2646\n",
      "Epoch 34/200\n",
      "1/1 [==============================] - 0s 39ms/step - loss: 7178.4600 - val_loss: 7181.8560\n",
      "Epoch 35/200\n",
      "1/1 [==============================] - 0s 36ms/step - loss: 6779.4863 - val_loss: 6748.3921\n",
      "Epoch 36/200\n",
      "1/1 [==============================] - 0s 37ms/step - loss: 6369.0796 - val_loss: 6304.2153\n",
      "Epoch 37/200\n",
      "1/1 [==============================] - 0s 35ms/step - loss: 5948.4980 - val_loss: 5852.4639\n",
      "Epoch 38/200\n",
      "1/1 [==============================] - 0s 34ms/step - loss: 5520.7188 - val_loss: 5395.7412\n",
      "Epoch 39/200\n",
      "1/1 [==============================] - 0s 36ms/step - loss: 5088.1953 - val_loss: 4934.5293\n",
      "Epoch 40/200\n",
      "1/1 [==============================] - 0s 36ms/step - loss: 4651.3804 - val_loss: 4474.9634\n",
      "Epoch 41/200\n",
      "1/1 [==============================] - 0s 33ms/step - loss: 4216.0767 - val_loss: 4022.1094\n",
      "Epoch 42/200\n",
      "1/1 [==============================] - 0s 33ms/step - loss: 3787.0710 - val_loss: 3581.4263\n",
      "Epoch 43/200\n",
      "1/1 [==============================] - 0s 35ms/step - loss: 3369.5259 - val_loss: 3158.7861\n",
      "Epoch 44/200\n",
      "1/1 [==============================] - 0s 34ms/step - loss: 2968.9956 - val_loss: 2760.3799\n",
      "Epoch 45/200\n",
      "1/1 [==============================] - 0s 35ms/step - loss: 2591.3354 - val_loss: 2392.5142\n",
      "Epoch 46/200\n",
      "1/1 [==============================] - 0s 34ms/step - loss: 2242.5117 - val_loss: 2061.3052\n",
      "Epoch 47/200\n",
      "1/1 [==============================] - 0s 33ms/step - loss: 1928.3123 - val_loss: 1772.2454\n",
      "Epoch 48/200\n",
      "1/1 [==============================] - 0s 35ms/step - loss: 1653.9382 - val_loss: 1529.6445\n",
      "Epoch 49/200\n",
      "1/1 [==============================] - 0s 35ms/step - loss: 1423.4751 - val_loss: 1335.9656\n",
      "Epoch 50/200\n",
      "1/1 [==============================] - 0s 34ms/step - loss: 1239.2660 - val_loss: 1191.1309\n",
      "Epoch 51/200\n",
      "1/1 [==============================] - 0s 34ms/step - loss: 1101.2543 - val_loss: 1091.9409\n",
      "Epoch 52/200\n",
      "1/1 [==============================] - 0s 35ms/step - loss: 1006.4358 - val_loss: 1031.8142\n",
      "Epoch 53/200\n",
      "1/1 [==============================] - 0s 34ms/step - loss: 948.6110 - val_loss: 1001.0681\n",
      "Epoch 54/200\n",
      "1/1 [==============================] - 0s 33ms/step - loss: 918.6497 - val_loss: 987.8934\n",
      "Epoch 55/200\n",
      "1/1 [==============================] - 0s 32ms/step - loss: 905.4096 - val_loss: 979.9731\n",
      "Epoch 56/200\n",
      "1/1 [==============================] - 0s 33ms/step - loss: 897.2648 - val_loss: 966.3845\n",
      "Epoch 57/200\n",
      "1/1 [==============================] - 0s 33ms/step - loss: 883.9015 - val_loss: 939.2188\n",
      "Epoch 58/200\n",
      "1/1 [==============================] - 0s 33ms/step - loss: 857.8478 - val_loss: 894.4588\n",
      "Epoch 59/200\n",
      "1/1 [==============================] - 0s 33ms/step - loss: 815.3036 - val_loss: 831.9715\n",
      "Epoch 60/200\n",
      "1/1 [==============================] - 0s 32ms/step - loss: 756.1342 - val_loss: 754.7738\n",
      "Epoch 61/200\n",
      "1/1 [==============================] - 0s 32ms/step - loss: 683.1787 - val_loss: 667.9100\n",
      "Epoch 62/200\n",
      "1/1 [==============================] - 0s 33ms/step - loss: 601.1882 - val_loss: 577.2601\n",
      "Epoch 63/200\n",
      "1/1 [==============================] - 0s 36ms/step - loss: 515.7036 - val_loss: 488.5191\n",
      "Epoch 64/200\n",
      "1/1 [==============================] - 0s 30ms/step - loss: 432.0888 - val_loss: 406.4633\n",
      "Epoch 65/200\n",
      "1/1 [==============================] - 0s 30ms/step - loss: 354.8405 - val_loss: 334.5342\n",
      "Epoch 66/200\n",
      "1/1 [==============================] - 0s 31ms/step - loss: 287.1948 - val_loss: 274.7085\n",
      "Epoch 67/200\n",
      "1/1 [==============================] - 0s 31ms/step - loss: 231.0038 - val_loss: 227.5833\n",
      "Epoch 68/200\n",
      "1/1 [==============================] - 0s 31ms/step - loss: 186.8183 - val_loss: 192.6101\n",
      "Epoch 69/200\n",
      "1/1 [==============================] - 0s 32ms/step - loss: 154.1074 - val_loss: 168.4015\n",
      "Epoch 70/200\n",
      "1/1 [==============================] - 0s 32ms/step - loss: 131.5499 - val_loss: 153.0556\n",
      "Epoch 71/200\n",
      "1/1 [==============================] - 0s 32ms/step - loss: 117.3400 - val_loss: 144.4527\n",
      "Epoch 72/200\n",
      "1/1 [==============================] - 0s 31ms/step - loss: 109.4682 - val_loss: 140.4996\n",
      "Epoch 73/200\n",
      "1/1 [==============================] - 0s 32ms/step - loss: 105.9518 - val_loss: 139.3087\n",
      "Epoch 74/200\n",
      "1/1 [==============================] - 0s 32ms/step - loss: 105.0043 - val_loss: 139.3136\n",
      "Epoch 75/200\n",
      "1/1 [==============================] - 0s 31ms/step - loss: 105.1439 - val_loss: 139.3258\n",
      "Epoch 76/200\n",
      "1/1 [==============================] - 0s 32ms/step - loss: 105.2476 - val_loss: 138.5449\n",
      "Epoch 77/200\n",
      "1/1 [==============================] - 0s 31ms/step - loss: 104.5602 - val_loss: 136.5335\n",
      "Epoch 78/200\n",
      "1/1 [==============================] - 0s 32ms/step - loss: 102.6704 - val_loss: 133.1677\n",
      "Epoch 79/200\n"
     ]
    },
    {
     "name": "stdout",
     "output_type": "stream",
     "text": [
      "1/1 [==============================] - 0s 32ms/step - loss: 99.4644 - val_loss: 128.5727\n",
      "Epoch 80/200\n",
      "1/1 [==============================] - 0s 33ms/step - loss: 95.0638 - val_loss: 123.0513\n",
      "Epoch 81/200\n",
      "1/1 [==============================] - 0s 33ms/step - loss: 89.7593 - val_loss: 117.0122\n",
      "Epoch 82/200\n",
      "1/1 [==============================] - 0s 35ms/step - loss: 83.9413 - val_loss: 110.9018\n",
      "Epoch 83/200\n",
      "1/1 [==============================] - 0s 36ms/step - loss: 78.0368 - val_loss: 105.1449\n",
      "Epoch 84/200\n",
      "1/1 [==============================] - 0s 36ms/step - loss: 72.4521 - val_loss: 100.0962\n",
      "Epoch 85/200\n",
      "1/1 [==============================] - 0s 36ms/step - loss: 67.5275 - val_loss: 96.0069\n",
      "Epoch 86/200\n",
      "1/1 [==============================] - 0s 38ms/step - loss: 63.5053 - val_loss: 93.0055\n",
      "Epoch 87/200\n",
      "1/1 [==============================] - 0s 35ms/step - loss: 60.5117 - val_loss: 91.0955\n",
      "Epoch 88/200\n",
      "1/1 [==============================] - 0s 34ms/step - loss: 58.5545 - val_loss: 90.1670\n",
      "Epoch 89/200\n",
      "1/1 [==============================] - 0s 37ms/step - loss: 57.5340 - val_loss: 90.0214\n",
      "Epoch 90/200\n",
      "1/1 [==============================] - 0s 34ms/step - loss: 57.2660 - val_loss: 90.4041\n",
      "Epoch 91/200\n",
      "1/1 [==============================] - 0s 33ms/step - loss: 57.5128 - val_loss: 91.0410\n",
      "Epoch 92/200\n",
      "1/1 [==============================] - 0s 33ms/step - loss: 58.0177 - val_loss: 91.6739\n",
      "Epoch 93/200\n",
      "1/1 [==============================] - 0s 33ms/step - loss: 58.5380 - val_loss: 92.0896\n",
      "Epoch 94/200\n",
      "1/1 [==============================] - 0s 33ms/step - loss: 58.8734 - val_loss: 92.1404\n",
      "Epoch 95/200\n",
      "1/1 [==============================] - 0s 32ms/step - loss: 58.8841 - val_loss: 91.7529\n",
      "Epoch 96/200\n",
      "1/1 [==============================] - 0s 32ms/step - loss: 58.5001 - val_loss: 90.9258\n",
      "Epoch 97/200\n",
      "1/1 [==============================] - 0s 33ms/step - loss: 57.7192 - val_loss: 89.7191\n",
      "Epoch 98/200\n",
      "1/1 [==============================] - 0s 32ms/step - loss: 56.5961 - val_loss: 88.2360\n",
      "Epoch 99/200\n",
      "1/1 [==============================] - 0s 31ms/step - loss: 55.2264 - val_loss: 86.6032\n",
      "Epoch 100/200\n",
      "1/1 [==============================] - 0s 31ms/step - loss: 53.7272 - val_loss: 84.9500\n",
      "Epoch 101/200\n",
      "1/1 [==============================] - 0s 32ms/step - loss: 52.2180 - val_loss: 83.3916\n",
      "Epoch 102/200\n",
      "1/1 [==============================] - 0s 32ms/step - loss: 50.8050 - val_loss: 82.0171\n",
      "Epoch 103/200\n",
      "1/1 [==============================] - 0s 33ms/step - loss: 49.5698 - val_loss: 80.8826\n",
      "Epoch 104/200\n",
      "1/1 [==============================] - 0s 32ms/step - loss: 48.5627 - val_loss: 80.0109\n",
      "Epoch 105/200\n",
      "1/1 [==============================] - 0s 33ms/step - loss: 47.8028 - val_loss: 79.3936\n",
      "Epoch 106/200\n",
      "1/1 [==============================] - 0s 35ms/step - loss: 47.2803 - val_loss: 78.9990\n",
      "Epoch 107/200\n",
      "1/1 [==============================] - 0s 33ms/step - loss: 46.9631 - val_loss: 78.7795\n",
      "Epoch 108/200\n",
      "1/1 [==============================] - 0s 34ms/step - loss: 46.8052 - val_loss: 78.6812\n",
      "Epoch 109/200\n",
      "1/1 [==============================] - 0s 35ms/step - loss: 46.7541 - val_loss: 78.6506\n",
      "Epoch 110/200\n",
      "1/1 [==============================] - 0s 34ms/step - loss: 46.7587 - val_loss: 78.6416\n",
      "Epoch 111/200\n",
      "1/1 [==============================] - 0s 32ms/step - loss: 46.7751 - val_loss: 78.6195\n",
      "Epoch 112/200\n",
      "1/1 [==============================] - 0s 32ms/step - loss: 46.7705 - val_loss: 78.5627\n",
      "Epoch 113/200\n",
      "1/1 [==============================] - 0s 33ms/step - loss: 46.7245 - val_loss: 78.4624\n",
      "Epoch 114/200\n",
      "1/1 [==============================] - 0s 33ms/step - loss: 46.6296 - val_loss: 78.3215\n",
      "Epoch 115/200\n",
      "1/1 [==============================] - 0s 34ms/step - loss: 46.4890 - val_loss: 78.1509\n",
      "Epoch 116/200\n",
      "1/1 [==============================] - 0s 36ms/step - loss: 46.3141 - val_loss: 77.9668\n",
      "Epoch 117/200\n",
      "1/1 [==============================] - 0s 33ms/step - loss: 46.1212 - val_loss: 77.7866\n",
      "Epoch 118/200\n",
      "1/1 [==============================] - 0s 34ms/step - loss: 45.9279 - val_loss: 77.6264\n",
      "Epoch 119/200\n",
      "1/1 [==============================] - 0s 38ms/step - loss: 45.7506 - val_loss: 77.4982\n",
      "Epoch 120/200\n",
      "1/1 [==============================] - 0s 37ms/step - loss: 45.6019 - val_loss: 77.4089\n",
      "Epoch 121/200\n",
      "1/1 [==============================] - 0s 38ms/step - loss: 45.4895 - val_loss: 77.3598\n",
      "Epoch 122/200\n",
      "1/1 [==============================] - 0s 36ms/step - loss: 45.4155 - val_loss: 77.3470\n",
      "Epoch 123/200\n",
      "1/1 [==============================] - 0s 34ms/step - loss: 45.3774 - val_loss: 77.3626\n",
      "Epoch 124/200\n",
      "1/1 [==============================] - 0s 34ms/step - loss: 45.3684 - val_loss: 77.3961\n",
      "Epoch 125/200\n",
      "1/1 [==============================] - 0s 34ms/step - loss: 45.3794 - val_loss: 77.4367\n",
      "Epoch 126/200\n",
      "1/1 [==============================] - 0s 38ms/step - loss: 45.4005 - val_loss: 77.4738\n",
      "Epoch 127/200\n",
      "1/1 [==============================] - 0s 35ms/step - loss: 45.4223 - val_loss: 77.4996\n",
      "Epoch 128/200\n",
      "1/1 [==============================] - 0s 34ms/step - loss: 45.4373 - val_loss: 77.5087\n",
      "Epoch 129/200\n",
      "1/1 [==============================] - 0s 39ms/step - loss: 45.4405 - val_loss: 77.4989\n",
      "Epoch 130/200\n",
      "1/1 [==============================] - 0s 42ms/step - loss: 45.4298 - val_loss: 77.4709\n",
      "Epoch 131/200\n",
      "1/1 [==============================] - 0s 36ms/step - loss: 45.4054 - val_loss: 77.4278\n",
      "Epoch 132/200\n",
      "1/1 [==============================] - 0s 36ms/step - loss: 45.3699 - val_loss: 77.3744\n",
      "Epoch 133/200\n",
      "1/1 [==============================] - 0s 38ms/step - loss: 45.3272 - val_loss: 77.3158\n",
      "Epoch 134/200\n",
      "1/1 [==============================] - 0s 39ms/step - loss: 45.2818 - val_loss: 77.2571\n",
      "Epoch 135/200\n",
      "1/1 [==============================] - 0s 37ms/step - loss: 45.2378 - val_loss: 77.2027\n",
      "Epoch 136/200\n",
      "1/1 [==============================] - 0s 39ms/step - loss: 45.1988 - val_loss: 77.1556\n",
      "Epoch 137/200\n",
      "1/1 [==============================] - 0s 41ms/step - loss: 45.1671 - val_loss: 77.1176\n",
      "Epoch 138/200\n",
      "1/1 [==============================] - 0s 44ms/step - loss: 45.1438 - val_loss: 77.0889\n",
      "Epoch 139/200\n",
      "1/1 [==============================] - 0s 36ms/step - loss: 45.1287 - val_loss: 77.0687\n",
      "Epoch 140/200\n",
      "1/1 [==============================] - 0s 39ms/step - loss: 45.1206 - val_loss: 77.0556\n",
      "Epoch 141/200\n",
      "1/1 [==============================] - 0s 37ms/step - loss: 45.1178 - val_loss: 77.0476\n",
      "Epoch 142/200\n",
      "1/1 [==============================] - 0s 40ms/step - loss: 45.1182 - val_loss: 77.0427\n",
      "Epoch 143/200\n",
      "1/1 [==============================] - 0s 39ms/step - loss: 45.1197 - val_loss: 77.0393\n",
      "Epoch 144/200\n",
      "1/1 [==============================] - 0s 39ms/step - loss: 45.1208 - val_loss: 77.0362\n",
      "Epoch 145/200\n",
      "1/1 [==============================] - 0s 37ms/step - loss: 45.1203 - val_loss: 77.0327\n",
      "Epoch 146/200\n",
      "1/1 [==============================] - 0s 39ms/step - loss: 45.1176 - val_loss: 77.0286\n",
      "Epoch 147/200\n",
      "1/1 [==============================] - 0s 39ms/step - loss: 45.1128 - val_loss: 77.0243\n",
      "Epoch 148/200\n",
      "1/1 [==============================] - 0s 38ms/step - loss: 45.1063 - val_loss: 77.0201\n",
      "Epoch 149/200\n",
      "1/1 [==============================] - 0s 37ms/step - loss: 45.0986 - val_loss: 77.0168\n",
      "Epoch 150/200\n",
      "1/1 [==============================] - 0s 33ms/step - loss: 45.0909 - val_loss: 77.0147\n",
      "Epoch 151/200\n",
      "1/1 [==============================] - 0s 35ms/step - loss: 45.0836 - val_loss: 77.0143\n",
      "Epoch 152/200\n",
      "1/1 [==============================] - 0s 34ms/step - loss: 45.0776 - val_loss: 77.0156\n",
      "Epoch 153/200\n",
      "1/1 [==============================] - 0s 33ms/step - loss: 45.0731 - val_loss: 77.0185\n",
      "Epoch 154/200\n",
      "1/1 [==============================] - 0s 37ms/step - loss: 45.0701 - val_loss: 77.0226\n",
      "Epoch 155/200\n",
      "1/1 [==============================] - 0s 34ms/step - loss: 45.0687 - val_loss: 77.0273\n",
      "Epoch 156/200\n",
      "1/1 [==============================] - 0s 36ms/step - loss: 45.0684 - val_loss: 77.0321\n",
      "Epoch 157/200\n",
      "1/1 [==============================] - 0s 35ms/step - loss: 45.0688 - val_loss: 77.0362\n",
      "Epoch 158/200\n",
      "1/1 [==============================] - 0s 37ms/step - loss: 45.0695 - val_loss: 77.0394\n",
      "Epoch 159/200\n"
     ]
    },
    {
     "name": "stdout",
     "output_type": "stream",
     "text": [
      "1/1 [==============================] - 0s 36ms/step - loss: 45.0702 - val_loss: 77.0412\n",
      "Epoch 160/200\n",
      "1/1 [==============================] - 0s 35ms/step - loss: 45.0704 - val_loss: 77.0415\n",
      "Epoch 161/200\n",
      "1/1 [==============================] - 0s 37ms/step - loss: 45.0700 - val_loss: 77.0403\n",
      "Epoch 162/200\n",
      "1/1 [==============================] - 0s 36ms/step - loss: 45.0690 - val_loss: 77.0378\n",
      "Epoch 163/200\n",
      "1/1 [==============================] - 0s 36ms/step - loss: 45.0676 - val_loss: 77.0342\n",
      "Epoch 164/200\n",
      "1/1 [==============================] - 0s 36ms/step - loss: 45.0657 - val_loss: 77.0299\n",
      "Epoch 165/200\n",
      "1/1 [==============================] - 0s 37ms/step - loss: 45.0637 - val_loss: 77.0254\n",
      "Epoch 166/200\n",
      "1/1 [==============================] - 0s 38ms/step - loss: 45.0619 - val_loss: 77.0208\n",
      "Epoch 167/200\n",
      "1/1 [==============================] - 0s 37ms/step - loss: 45.0601 - val_loss: 77.0164\n",
      "Epoch 168/200\n",
      "1/1 [==============================] - 0s 38ms/step - loss: 45.0587 - val_loss: 77.0125\n",
      "Epoch 169/200\n",
      "1/1 [==============================] - 0s 38ms/step - loss: 45.0577 - val_loss: 77.0091\n",
      "Epoch 170/200\n",
      "1/1 [==============================] - 0s 38ms/step - loss: 45.0570 - val_loss: 77.0064\n",
      "Epoch 171/200\n",
      "1/1 [==============================] - 0s 39ms/step - loss: 45.0567 - val_loss: 77.0041\n",
      "Epoch 172/200\n",
      "1/1 [==============================] - 0s 38ms/step - loss: 45.0566 - val_loss: 77.0024\n",
      "Epoch 173/200\n",
      "1/1 [==============================] - 0s 37ms/step - loss: 45.0565 - val_loss: 77.0011\n",
      "Epoch 174/200\n",
      "1/1 [==============================] - 0s 42ms/step - loss: 45.0566 - val_loss: 77.0002\n",
      "Epoch 175/200\n",
      "1/1 [==============================] - 0s 36ms/step - loss: 45.0565 - val_loss: 76.9997\n",
      "Epoch 176/200\n",
      "1/1 [==============================] - 0s 36ms/step - loss: 45.0564 - val_loss: 76.9995\n",
      "Epoch 177/200\n",
      "1/1 [==============================] - 0s 36ms/step - loss: 45.0561 - val_loss: 76.9996\n",
      "Epoch 178/200\n",
      "1/1 [==============================] - 0s 36ms/step - loss: 45.0558 - val_loss: 76.9998\n",
      "Epoch 179/200\n",
      "1/1 [==============================] - 0s 37ms/step - loss: 45.0554 - val_loss: 77.0004\n",
      "Epoch 180/200\n",
      "1/1 [==============================] - 0s 37ms/step - loss: 45.0550 - val_loss: 77.0011\n",
      "Epoch 181/200\n",
      "1/1 [==============================] - 0s 37ms/step - loss: 45.0546 - val_loss: 77.0020\n",
      "Epoch 182/200\n",
      "1/1 [==============================] - 0s 36ms/step - loss: 45.0542 - val_loss: 77.0030\n",
      "Epoch 183/200\n",
      "1/1 [==============================] - 0s 35ms/step - loss: 45.0539 - val_loss: 77.0041\n",
      "Epoch 184/200\n",
      "1/1 [==============================] - 0s 37ms/step - loss: 45.0538 - val_loss: 77.0051\n",
      "Epoch 185/200\n",
      "1/1 [==============================] - 0s 36ms/step - loss: 45.0536 - val_loss: 77.0061\n",
      "Epoch 186/200\n",
      "1/1 [==============================] - 0s 36ms/step - loss: 45.0536 - val_loss: 77.0070\n",
      "Epoch 187/200\n",
      "1/1 [==============================] - 0s 37ms/step - loss: 45.0535 - val_loss: 77.0076\n",
      "Epoch 188/200\n",
      "1/1 [==============================] - 0s 41ms/step - loss: 45.0535 - val_loss: 77.0080\n",
      "Epoch 189/200\n",
      "1/1 [==============================] - 0s 37ms/step - loss: 45.0535 - val_loss: 77.0082\n",
      "Epoch 190/200\n",
      "1/1 [==============================] - 0s 37ms/step - loss: 45.0534 - val_loss: 77.0081\n",
      "Epoch 191/200\n",
      "1/1 [==============================] - 0s 40ms/step - loss: 45.0533 - val_loss: 77.0079\n",
      "Epoch 192/200\n",
      "1/1 [==============================] - 0s 39ms/step - loss: 45.0532 - val_loss: 77.0074\n",
      "Epoch 193/200\n",
      "1/1 [==============================] - 0s 39ms/step - loss: 45.0530 - val_loss: 77.0067\n",
      "Epoch 194/200\n",
      "1/1 [==============================] - 0s 42ms/step - loss: 45.0528 - val_loss: 77.0060\n",
      "Epoch 195/200\n",
      "1/1 [==============================] - 0s 38ms/step - loss: 45.0527 - val_loss: 77.0051\n",
      "Epoch 196/200\n",
      "1/1 [==============================] - 0s 41ms/step - loss: 45.0525 - val_loss: 77.0043\n",
      "Epoch 197/200\n",
      "1/1 [==============================] - 0s 36ms/step - loss: 45.0524 - val_loss: 77.0034\n",
      "Epoch 198/200\n",
      "1/1 [==============================] - 0s 40ms/step - loss: 45.0522 - val_loss: 77.0027\n",
      "Epoch 199/200\n",
      "1/1 [==============================] - 0s 37ms/step - loss: 45.0521 - val_loss: 77.0019\n",
      "Epoch 200/200\n",
      "1/1 [==============================] - 0s 39ms/step - loss: 45.0520 - val_loss: 77.0013\n"
     ]
    },
    {
     "data": {
      "text/plain": [
       "<keras.callbacks.History at 0x1e20254b5b0>"
      ]
     },
     "execution_count": 50,
     "metadata": {},
     "output_type": "execute_result"
    }
   ],
   "source": [
    "model.compile(loss='mse',optimizer='adam')\n",
    "model.fit(x_train[:128],x_train[:128],\n",
    "          epochs=200,\n",
    "          batch_size=512,\n",
    "          shuffle=True,\n",
    "           validation_data=(x_train[128:256],x_train[128:256]))"
   ]
  },
  {
   "cell_type": "code",
   "execution_count": 51,
   "id": "5eba27b9",
   "metadata": {
    "ExecuteTime": {
     "end_time": "2022-11-06T14:03:09.019215Z",
     "start_time": "2022-11-06T14:03:08.907513Z"
    }
   },
   "outputs": [
    {
     "data": {
      "text/plain": [
       "array([[[113.126175, 113.105995, 113.13043 , ..., 113.14455 ,\n",
       "         113.105774, 113.11504 ]],\n",
       "\n",
       "       [[113.42403 , 113.40376 , 113.42837 , ..., 113.44242 ,\n",
       "         113.40355 , 113.41279 ]],\n",
       "\n",
       "       [[113.50347 , 113.48321 , 113.50784 , ..., 113.52186 ,\n",
       "         113.48297 , 113.4922  ]],\n",
       "\n",
       "       ...,\n",
       "\n",
       "       [[102.07538 , 102.05779 , 102.07593 , ..., 102.09362 ,\n",
       "         102.05771 , 102.067924]],\n",
       "\n",
       "       [[102.74059 , 102.72287 , 102.74136 , ..., 102.758835,\n",
       "         102.72277 , 102.732925]],\n",
       "\n",
       "       [[105.957535, 105.939064, 105.9594  , ..., 105.97584 ,\n",
       "         105.93893 , 105.94879 ]]], dtype=float32)"
      ]
     },
     "execution_count": 51,
     "metadata": {},
     "output_type": "execute_result"
    }
   ],
   "source": [
    "decoded = model.predict(x_train[:128])\n",
    "decoded"
   ]
  },
  {
   "cell_type": "code",
   "execution_count": 52,
   "id": "6919dd6f",
   "metadata": {
    "ExecuteTime": {
     "end_time": "2022-11-06T14:03:11.709052Z",
     "start_time": "2022-11-06T14:03:11.687110Z"
    }
   },
   "outputs": [
    {
     "data": {
      "text/plain": [
       "(128, 1, 128)"
      ]
     },
     "execution_count": 52,
     "metadata": {},
     "output_type": "execute_result"
    }
   ],
   "source": [
    " decoded.shape"
   ]
  },
  {
   "cell_type": "code",
   "execution_count": 62,
   "id": "b88fda5f",
   "metadata": {
    "ExecuteTime": {
     "end_time": "2022-11-06T14:06:20.679830Z",
     "start_time": "2022-11-06T14:06:20.661878Z"
    }
   },
   "outputs": [
    {
     "data": {
      "text/plain": [
       "array([[113.126175, 113.105995, 113.13043 , 113.127396, 113.12531 ,\n",
       "        113.09563 , 113.11393 , 113.12399 , 113.12011 , 113.13759 ,\n",
       "        113.12798 , 113.10412 , 113.12492 , 113.12493 , 113.11911 ,\n",
       "        113.11028 , 113.12978 , 113.12913 , 113.10585 , 113.13057 ,\n",
       "        113.133865, 113.12243 , 113.126144, 113.12642 , 113.124756,\n",
       "        113.10542 , 113.13057 , 113.130005, 113.13803 , 113.13468 ,\n",
       "        113.125496, 113.12708 , 113.11766 , 113.12731 , 113.138466,\n",
       "        113.1169  , 113.10447 , 113.10785 , 113.13022 , 113.126976,\n",
       "        113.128235, 113.128006, 113.126175, 113.10967 , 113.118866,\n",
       "        113.129974, 113.13354 , 113.10591 , 113.13423 , 113.12449 ,\n",
       "        113.13092 , 113.10349 , 113.1396  , 113.1274  , 113.13869 ,\n",
       "        113.11482 , 113.129105, 113.146675, 113.12404 , 113.12609 ,\n",
       "        113.127686, 113.120384, 113.129425, 113.12779 , 113.1376  ,\n",
       "        113.13778 , 113.118935, 113.121376, 113.130844, 113.12666 ,\n",
       "        113.1228  , 113.12555 , 113.1132  , 113.11826 , 113.12233 ,\n",
       "        113.115166, 113.08859 , 113.10922 , 113.10785 , 113.12739 ,\n",
       "        113.111534, 113.11159 , 113.11126 , 113.12613 , 113.13052 ,\n",
       "        113.12648 , 113.14527 , 113.13761 , 113.127   , 113.13247 ,\n",
       "        113.12529 , 113.11581 , 113.10928 , 113.13243 , 113.133286,\n",
       "        113.10787 , 113.109726, 113.12046 , 113.1286  , 113.11642 ,\n",
       "        113.11955 , 113.12613 , 113.128044, 113.09475 , 113.13219 ,\n",
       "        113.122406, 113.11792 , 113.14414 , 113.12123 , 113.12688 ,\n",
       "        113.127846, 113.13237 , 113.126595, 113.12177 , 113.12914 ,\n",
       "        113.13489 , 113.13851 , 113.126686, 113.13666 , 113.12739 ,\n",
       "        113.12549 , 113.13578 , 113.1233  , 113.12705 , 113.12528 ,\n",
       "        113.14455 , 113.105774, 113.11504 ]], dtype=float32)"
      ]
     },
     "execution_count": 62,
     "metadata": {},
     "output_type": "execute_result"
    }
   ],
   "source": [
    "decoded[0]"
   ]
  },
  {
   "cell_type": "code",
   "execution_count": 60,
   "id": "6768336b",
   "metadata": {
    "ExecuteTime": {
     "end_time": "2022-11-06T14:05:46.789157Z",
     "start_time": "2022-11-06T14:05:46.777189Z"
    }
   },
   "outputs": [
    {
     "data": {
      "text/plain": [
       "[113.12617492675781,\n",
       " 113.10599517822266,\n",
       " 113.13043212890625,\n",
       " 113.12739562988281,\n",
       " 113.12531280517578]"
      ]
     },
     "execution_count": 60,
     "metadata": {},
     "output_type": "execute_result"
    }
   ],
   "source": [
    "decoded.flatten().tolist()[:5]"
   ]
  },
  {
   "cell_type": "code",
   "execution_count": 64,
   "id": "de9fe63a",
   "metadata": {
    "ExecuteTime": {
     "end_time": "2022-11-06T14:07:25.293855Z",
     "start_time": "2022-11-06T14:07:24.016419Z"
    }
   },
   "outputs": [
    {
     "data": {
      "text/plain": [
       "[<matplotlib.lines.Line2D at 0x1e203ed4a00>]"
      ]
     },
     "execution_count": 64,
     "metadata": {},
     "output_type": "execute_result"
    },
    {
     "data": {
      "image/png": "[encoded data removed]",
      "text/plain": [
       "<Figure size 720x360 with 1 Axes>"
      ]
     },
     "metadata": {
      "needs_background": "light"
     },
     "output_type": "display_data"
    }
   ],
   "source": [
    "plt.figure(figsize=(10,5))\n",
    "plt.plot(x_train[:128].index, x_train[:128],label='real')\n",
    "plt.plot(x_train[:128].index, decoded[1].flatten().tolist(),label='decoded')"
   ]
  },
  {
   "cell_type": "code",
   "execution_count": null,
   "id": "42866fa9",
   "metadata": {},
   "outputs": [],
   "source": []
  }
 ],
 "metadata": {
  "kernelspec": {
   "display_name": "Python 3 (ipykernel)",
   "language": "python",
   "name": "python3"
  },
  "language_info": {
   "codemirror_mode": {
    "name": "ipython",
    "version": 3
   },
   "file_extension": ".py",
   "mimetype": "text/x-python",
   "name": "python",
   "nbconvert_exporter": "python",
   "pygments_lexer": "ipython3",
   "version": "3.9.7"
  },
  "toc": {
   "base_numbering": 1,
   "nav_menu": {},
   "number_sections": true,
   "sideBar": true,
   "skip_h1_title": false,
   "title_cell": "Table of Contents",
   "title_sidebar": "Contents",
   "toc_cell": false,
   "toc_position": {},
   "toc_section_display": true,
   "toc_window_display": true
  },
  "varInspector": {
   "cols": {
    "lenName": 16,
    "lenType": 16,
    "lenVar": 40
   },
   "kernels_config": {
    "python": {
     "delete_cmd_postfix": "",
     "delete_cmd_prefix": "del ",
     "library": "var_list.py",
     "varRefreshCmd": "print(var_dic_list())"
    },
    "r": {
     "delete_cmd_postfix": ") ",
     "delete_cmd_prefix": "rm(",
     "library": "var_list.r",
     "varRefreshCmd": "cat(var_dic_list()) "
    }
   },
   "types_to_exclude": [
    "module",
    "function",
    "builtin_function_or_method",
    "instance",
    "_Feature"
   ],
   "window_display": false
  }
 },
 "nbformat": 4,
 "nbformat_minor": 5
}
