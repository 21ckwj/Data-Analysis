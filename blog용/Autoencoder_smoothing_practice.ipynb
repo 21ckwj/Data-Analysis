{
 "cells": [
  {
   "cell_type": "code",
   "execution_count": 1,
   "id": "2f7a6d47",
   "metadata": {
    "ExecuteTime": {
     "end_time": "2022-11-06T13:10:41.358708Z",
     "start_time": "2022-11-06T13:10:33.766403Z"
    }
   },
   "outputs": [],
   "source": [
    "import pandas as pd\n",
    "import numpy as np\n",
    "\n",
    "# ----- 시각화 -----\n",
    "import matplotlib.pyplot as plt\n",
    "\n",
    "# ----- DL -----\n",
    "from tensorflow.keras.models import Model, Sequential\n",
    "from tensorflow.keras.layers import Input, Dense, Conv1D, MaxPooling1D, UpSampling1D, BatchNormalization, LSTM, RepeatVector\n",
    "from tensorflow.keras import regularizers\n",
    "\n",
    "#----- time ----\n",
    "import datetime\n",
    "import time\n",
    "\n",
    "#----- scaler-----\n",
    "from sklearn.preprocessing import StandardScaler, MinMaxScaler"
   ]
  },
  {
   "cell_type": "markdown",
   "id": "c389b23d",
   "metadata": {},
   "source": [
    "## get data"
   ]
  },
  {
   "cell_type": "code",
   "execution_count": 65,
   "id": "0fdcae57",
   "metadata": {
    "ExecuteTime": {
     "end_time": "2022-11-06T14:28:25.966618Z",
     "start_time": "2022-11-06T14:28:25.937626Z"
    }
   },
   "outputs": [
    {
     "data": {
      "text/html": [
       "<div>\n",
       "<style scoped>\n",
       "    .dataframe tbody tr th:only-of-type {\n",
       "        vertical-align: middle;\n",
       "    }\n",
       "\n",
       "    .dataframe tbody tr th {\n",
       "        vertical-align: top;\n",
       "    }\n",
       "\n",
       "    .dataframe thead th {\n",
       "        text-align: right;\n",
       "    }\n",
       "</style>\n",
       "<table border=\"1\" class=\"dataframe\">\n",
       "  <thead>\n",
       "    <tr style=\"text-align: right;\">\n",
       "      <th></th>\n",
       "      <th>Open</th>\n",
       "      <th>High</th>\n",
       "      <th>Low</th>\n",
       "      <th>Close</th>\n",
       "      <th>Adj Close</th>\n",
       "      <th>Volume</th>\n",
       "    </tr>\n",
       "    <tr>\n",
       "      <th>Date</th>\n",
       "      <th></th>\n",
       "      <th></th>\n",
       "      <th></th>\n",
       "      <th></th>\n",
       "      <th></th>\n",
       "      <th></th>\n",
       "    </tr>\n",
       "  </thead>\n",
       "  <tbody>\n",
       "    <tr>\n",
       "      <th>2010-01-04</th>\n",
       "      <td>112.370003</td>\n",
       "      <td>113.389999</td>\n",
       "      <td>111.510002</td>\n",
       "      <td>113.330002</td>\n",
       "      <td>92.246048</td>\n",
       "      <td>118944600</td>\n",
       "    </tr>\n",
       "    <tr>\n",
       "      <th>2010-01-05</th>\n",
       "      <td>113.260002</td>\n",
       "      <td>113.680000</td>\n",
       "      <td>112.849998</td>\n",
       "      <td>113.629997</td>\n",
       "      <td>92.490204</td>\n",
       "      <td>111579900</td>\n",
       "    </tr>\n",
       "    <tr>\n",
       "      <th>2010-01-06</th>\n",
       "      <td>113.519997</td>\n",
       "      <td>113.989998</td>\n",
       "      <td>113.430000</td>\n",
       "      <td>113.709999</td>\n",
       "      <td>92.555328</td>\n",
       "      <td>116074400</td>\n",
       "    </tr>\n",
       "    <tr>\n",
       "      <th>2010-01-07</th>\n",
       "      <td>113.500000</td>\n",
       "      <td>114.330002</td>\n",
       "      <td>113.180000</td>\n",
       "      <td>114.190002</td>\n",
       "      <td>92.946060</td>\n",
       "      <td>131091100</td>\n",
       "    </tr>\n",
       "    <tr>\n",
       "      <th>2010-01-08</th>\n",
       "      <td>113.889999</td>\n",
       "      <td>114.620003</td>\n",
       "      <td>113.660004</td>\n",
       "      <td>114.570000</td>\n",
       "      <td>93.255348</td>\n",
       "      <td>126402800</td>\n",
       "    </tr>\n",
       "  </tbody>\n",
       "</table>\n",
       "</div>"
      ],
      "text/plain": [
       "                  Open        High         Low       Close  Adj Close  \\\n",
       "Date                                                                    \n",
       "2010-01-04  112.370003  113.389999  111.510002  113.330002  92.246048   \n",
       "2010-01-05  113.260002  113.680000  112.849998  113.629997  92.490204   \n",
       "2010-01-06  113.519997  113.989998  113.430000  113.709999  92.555328   \n",
       "2010-01-07  113.500000  114.330002  113.180000  114.190002  92.946060   \n",
       "2010-01-08  113.889999  114.620003  113.660004  114.570000  93.255348   \n",
       "\n",
       "               Volume  \n",
       "Date                   \n",
       "2010-01-04  118944600  \n",
       "2010-01-05  111579900  \n",
       "2010-01-06  116074400  \n",
       "2010-01-07  131091100  \n",
       "2010-01-08  126402800  "
      ]
     },
     "execution_count": 65,
     "metadata": {},
     "output_type": "execute_result"
    }
   ],
   "source": [
    "df = pd.read_csv('./data/SPY.csv',index_col=0)\n",
    "df.head()"
   ]
  },
  {
   "cell_type": "markdown",
   "id": "b6fa0a76",
   "metadata": {},
   "source": [
    "## parameter"
   ]
  },
  {
   "cell_type": "code",
   "execution_count": 66,
   "id": "a8a6ff7b",
   "metadata": {
    "ExecuteTime": {
     "end_time": "2022-11-06T14:28:26.286182Z",
     "start_time": "2022-11-06T14:28:26.277166Z"
    }
   },
   "outputs": [],
   "source": [
    "test_sample = int(len(df)*0.2)\n",
    "window_size = 10"
   ]
  },
  {
   "cell_type": "code",
   "execution_count": 67,
   "id": "c4ba4eb5",
   "metadata": {
    "ExecuteTime": {
     "end_time": "2022-11-06T14:28:26.604291Z",
     "start_time": "2022-11-06T14:28:26.438735Z"
    }
   },
   "outputs": [
    {
     "data": {
      "text/plain": [
       "<AxesSubplot:xlabel='Date'>"
      ]
     },
     "execution_count": 67,
     "metadata": {},
     "output_type": "execute_result"
    },
    {
     "data": {
      "image/png": "[encoded data removed]",
      "text/plain": [
       "<Figure size 720x360 with 1 Axes>"
      ]
     },
     "metadata": {
      "needs_background": "light"
     },
     "output_type": "display_data"
    }
   ],
   "source": [
    "df.Close.plot(figsize=(10,5))"
   ]
  },
  {
   "cell_type": "code",
   "execution_count": 68,
   "id": "d3ce4895",
   "metadata": {
    "ExecuteTime": {
     "end_time": "2022-11-06T14:28:26.649171Z",
     "start_time": "2022-11-06T14:28:26.636207Z"
    }
   },
   "outputs": [],
   "source": [
    "x_train = df.Close[:-test_sample]\n",
    "x_test = df.Close[-test_sample:]"
   ]
  },
  {
   "cell_type": "markdown",
   "id": "ae9ed7fc",
   "metadata": {},
   "source": [
    "## scaling"
   ]
  },
  {
   "cell_type": "code",
   "execution_count": 69,
   "id": "f85e2d81",
   "metadata": {
    "ExecuteTime": {
     "end_time": "2022-11-06T14:28:26.951364Z",
     "start_time": "2022-11-06T14:28:26.941392Z"
    }
   },
   "outputs": [],
   "source": [
    "scaler = MinMaxScaler()\n",
    "scaler.fit(np.array(x_train).reshape(-1,1))\n",
    "x_train_scaled = scaler.transform(np.array(x_train).reshape(-1,1))\n",
    "x_test_scaled = scaler.transform(np.array(x_test).reshape(-1,1))"
   ]
  },
  {
   "cell_type": "markdown",
   "id": "751eddfd",
   "metadata": {},
   "source": [
    " ## make sequence"
   ]
  },
  {
   "cell_type": "code",
   "execution_count": 70,
   "id": "6d572de4",
   "metadata": {
    "ExecuteTime": {
     "end_time": "2022-11-06T14:28:27.683467Z",
     "start_time": "2022-11-06T14:28:27.672379Z"
    }
   },
   "outputs": [],
   "source": [
    "def make_sequence(x, window_size):\n",
    "    X = []\n",
    "    for i in range(len(x)-window_size):\n",
    "        X.append([x[i+t] for t in range(window_size)])\n",
    "    X = np.array(X)\n",
    "    return X"
   ]
  },
  {
   "cell_type": "code",
   "execution_count": 71,
   "id": "c167a4f0",
   "metadata": {
    "ExecuteTime": {
     "end_time": "2022-11-06T14:28:28.019317Z",
     "start_time": "2022-11-06T14:28:27.977938Z"
    },
    "scrolled": true
   },
   "outputs": [],
   "source": [
    "seq_train = make_sequence(x_train_scaled,window_size)\n",
    "seq_test = make_sequence(x_test_scaled,window_size)"
   ]
  },
  {
   "cell_type": "markdown",
   "id": "8bf85042",
   "metadata": {},
   "source": [
    "## simple model"
   ]
  },
  {
   "cell_type": "code",
   "execution_count": 72,
   "id": "e7b7c73e",
   "metadata": {
    "ExecuteTime": {
     "end_time": "2022-11-06T14:28:31.597306Z",
     "start_time": "2022-11-06T14:28:31.519051Z"
    },
    "scrolled": false
   },
   "outputs": [
    {
     "name": "stdout",
     "output_type": "stream",
     "text": [
      "Model: \"sequential_9\"\n",
      "_________________________________________________________________\n",
      " Layer (type)                Output Shape              Param #   \n",
      "=================================================================\n",
      " dense_33 (Dense)            (None, 10, 128)           256       \n",
      "                                                                 \n",
      " dense_34 (Dense)            (None, 10, 3)             387       \n",
      "                                                                 \n",
      " dense_35 (Dense)            (None, 10, 128)           512       \n",
      "                                                                 \n",
      " dense_36 (Dense)            (None, 10, 1)             129       \n",
      "                                                                 \n",
      "=================================================================\n",
      "Total params: 1,284\n",
      "Trainable params: 1,284\n",
      "Non-trainable params: 0\n",
      "_________________________________________________________________\n"
     ]
    }
   ],
   "source": [
    "model = Sequential()\n",
    "model.add(Dense(128, input_shape=(window_size,1), activation='relu'))\n",
    "model.add(Dense(3, activation='relu'))\n",
    "model.add(Dense(128, activation='relu'))\n",
    "model.add(Dense(1, activation='sigmoid'))\n",
    "model.summary()"
   ]
  },
  {
   "cell_type": "code",
   "execution_count": 14,
   "id": "6845052e",
   "metadata": {
    "ExecuteTime": {
     "end_time": "2022-11-06T13:28:25.302502Z",
     "start_time": "2022-11-06T13:28:19.397107Z"
    }
   },
   "outputs": [
    {
     "name": "stdout",
     "output_type": "stream",
     "text": [
      "Epoch 1/100\n",
      "4/4 [==============================] - 1s 60ms/step - loss: 0.2910 - val_loss: 1.3605\n",
      "Epoch 2/100\n",
      "4/4 [==============================] - 0s 15ms/step - loss: 0.2860 - val_loss: 1.3452\n",
      "Epoch 3/100\n",
      "4/4 [==============================] - 0s 14ms/step - loss: 0.2808 - val_loss: 1.3287\n",
      "Epoch 4/100\n",
      "4/4 [==============================] - 0s 14ms/step - loss: 0.2753 - val_loss: 1.3107\n",
      "Epoch 5/100\n",
      "4/4 [==============================] - 0s 14ms/step - loss: 0.2694 - val_loss: 1.2911\n",
      "Epoch 6/100\n",
      "4/4 [==============================] - 0s 14ms/step - loss: 0.2633 - val_loss: 1.2698\n",
      "Epoch 7/100\n",
      "4/4 [==============================] - 0s 13ms/step - loss: 0.2567 - val_loss: 1.2469\n",
      "Epoch 8/100\n",
      "4/4 [==============================] - 0s 15ms/step - loss: 0.2498 - val_loss: 1.2222\n",
      "Epoch 9/100\n",
      "4/4 [==============================] - 0s 16ms/step - loss: 0.2426 - val_loss: 1.1956\n",
      "Epoch 10/100\n",
      "4/4 [==============================] - 0s 14ms/step - loss: 0.2350 - val_loss: 1.1670\n",
      "Epoch 11/100\n",
      "4/4 [==============================] - 0s 13ms/step - loss: 0.2271 - val_loss: 1.1366\n",
      "Epoch 12/100\n",
      "4/4 [==============================] - 0s 13ms/step - loss: 0.2187 - val_loss: 1.1042\n",
      "Epoch 13/100\n",
      "4/4 [==============================] - 0s 13ms/step - loss: 0.2101 - val_loss: 1.0696\n",
      "Epoch 14/100\n",
      "4/4 [==============================] - 0s 13ms/step - loss: 0.2010 - val_loss: 1.0331\n",
      "Epoch 15/100\n",
      "4/4 [==============================] - 0s 13ms/step - loss: 0.1918 - val_loss: 0.9947\n",
      "Epoch 16/100\n",
      "4/4 [==============================] - 0s 14ms/step - loss: 0.1823 - val_loss: 0.9547\n",
      "Epoch 17/100\n",
      "4/4 [==============================] - 0s 14ms/step - loss: 0.1727 - val_loss: 0.9131\n",
      "Epoch 18/100\n",
      "4/4 [==============================] - 0s 13ms/step - loss: 0.1631 - val_loss: 0.8704\n",
      "Epoch 19/100\n",
      "4/4 [==============================] - 0s 13ms/step - loss: 0.1537 - val_loss: 0.8269\n",
      "Epoch 20/100\n",
      "4/4 [==============================] - 0s 14ms/step - loss: 0.1443 - val_loss: 0.7831\n",
      "Epoch 21/100\n",
      "4/4 [==============================] - 0s 14ms/step - loss: 0.1355 - val_loss: 0.7393\n",
      "Epoch 22/100\n",
      "4/4 [==============================] - 0s 14ms/step - loss: 0.1270 - val_loss: 0.6962\n",
      "Epoch 23/100\n",
      "4/4 [==============================] - 0s 16ms/step - loss: 0.1189 - val_loss: 0.6547\n",
      "Epoch 24/100\n",
      "4/4 [==============================] - 0s 15ms/step - loss: 0.1117 - val_loss: 0.6148\n",
      "Epoch 25/100\n",
      "4/4 [==============================] - 0s 14ms/step - loss: 0.1049 - val_loss: 0.5776\n",
      "Epoch 26/100\n",
      "4/4 [==============================] - 0s 13ms/step - loss: 0.0986 - val_loss: 0.5422\n",
      "Epoch 27/100\n",
      "4/4 [==============================] - 0s 16ms/step - loss: 0.0925 - val_loss: 0.5075\n",
      "Epoch 28/100\n",
      "4/4 [==============================] - 0s 16ms/step - loss: 0.0865 - val_loss: 0.4732\n",
      "Epoch 29/100\n",
      "4/4 [==============================] - 0s 14ms/step - loss: 0.0804 - val_loss: 0.4395\n",
      "Epoch 30/100\n",
      "4/4 [==============================] - 0s 15ms/step - loss: 0.0744 - val_loss: 0.4064\n",
      "Epoch 31/100\n",
      "4/4 [==============================] - 0s 16ms/step - loss: 0.0685 - val_loss: 0.3743\n",
      "Epoch 32/100\n",
      "4/4 [==============================] - 0s 13ms/step - loss: 0.0628 - val_loss: 0.3434\n",
      "Epoch 33/100\n",
      "4/4 [==============================] - 0s 13ms/step - loss: 0.0574 - val_loss: 0.3141\n",
      "Epoch 34/100\n",
      "4/4 [==============================] - 0s 13ms/step - loss: 0.0524 - val_loss: 0.2861\n",
      "Epoch 35/100\n",
      "4/4 [==============================] - 0s 14ms/step - loss: 0.0477 - val_loss: 0.2602\n",
      "Epoch 36/100\n",
      "4/4 [==============================] - 0s 14ms/step - loss: 0.0434 - val_loss: 0.2370\n",
      "Epoch 37/100\n",
      "4/4 [==============================] - 0s 14ms/step - loss: 0.0395 - val_loss: 0.2153\n",
      "Epoch 38/100\n",
      "4/4 [==============================] - 0s 13ms/step - loss: 0.0361 - val_loss: 0.1957\n",
      "Epoch 39/100\n",
      "4/4 [==============================] - 0s 13ms/step - loss: 0.0330 - val_loss: 0.1778\n",
      "Epoch 40/100\n",
      "4/4 [==============================] - 0s 13ms/step - loss: 0.0302 - val_loss: 0.1616\n",
      "Epoch 41/100\n",
      "4/4 [==============================] - 0s 14ms/step - loss: 0.0278 - val_loss: 0.1472\n",
      "Epoch 42/100\n",
      "4/4 [==============================] - 0s 13ms/step - loss: 0.0256 - val_loss: 0.1339\n",
      "Epoch 43/100\n",
      "4/4 [==============================] - 0s 14ms/step - loss: 0.0237 - val_loss: 0.1223\n",
      "Epoch 44/100\n",
      "4/4 [==============================] - 0s 13ms/step - loss: 0.0219 - val_loss: 0.1115\n",
      "Epoch 45/100\n",
      "4/4 [==============================] - 0s 13ms/step - loss: 0.0202 - val_loss: 0.1022\n",
      "Epoch 46/100\n",
      "4/4 [==============================] - 0s 13ms/step - loss: 0.0187 - val_loss: 0.0936\n",
      "Epoch 47/100\n",
      "4/4 [==============================] - 0s 20ms/step - loss: 0.0173 - val_loss: 0.0855\n",
      "Epoch 48/100\n",
      "4/4 [==============================] - 0s 19ms/step - loss: 0.0159 - val_loss: 0.0779\n",
      "Epoch 49/100\n",
      "4/4 [==============================] - 0s 20ms/step - loss: 0.0147 - val_loss: 0.0708\n",
      "Epoch 50/100\n",
      "4/4 [==============================] - 0s 18ms/step - loss: 0.0135 - val_loss: 0.0644\n",
      "Epoch 51/100\n",
      "4/4 [==============================] - 0s 25ms/step - loss: 0.0123 - val_loss: 0.0584\n",
      "Epoch 52/100\n",
      "4/4 [==============================] - 0s 17ms/step - loss: 0.0112 - val_loss: 0.0524\n",
      "Epoch 53/100\n",
      "4/4 [==============================] - 0s 17ms/step - loss: 0.0102 - val_loss: 0.0467\n",
      "Epoch 54/100\n",
      "4/4 [==============================] - 0s 18ms/step - loss: 0.0092 - val_loss: 0.0416\n",
      "Epoch 55/100\n",
      "4/4 [==============================] - 0s 16ms/step - loss: 0.0083 - val_loss: 0.0368\n",
      "Epoch 56/100\n",
      "4/4 [==============================] - 0s 17ms/step - loss: 0.0074 - val_loss: 0.0324\n",
      "Epoch 57/100\n",
      "4/4 [==============================] - 0s 18ms/step - loss: 0.0066 - val_loss: 0.0285\n",
      "Epoch 58/100\n",
      "4/4 [==============================] - 0s 18ms/step - loss: 0.0058 - val_loss: 0.0249\n",
      "Epoch 59/100\n",
      "4/4 [==============================] - 0s 18ms/step - loss: 0.0051 - val_loss: 0.0215\n",
      "Epoch 60/100\n",
      "4/4 [==============================] - 0s 18ms/step - loss: 0.0045 - val_loss: 0.0185\n",
      "Epoch 61/100\n",
      "4/4 [==============================] - 0s 17ms/step - loss: 0.0039 - val_loss: 0.0159\n",
      "Epoch 62/100\n",
      "4/4 [==============================] - 0s 17ms/step - loss: 0.0034 - val_loss: 0.0137\n",
      "Epoch 63/100\n",
      "4/4 [==============================] - 0s 18ms/step - loss: 0.0029 - val_loss: 0.0117\n",
      "Epoch 64/100\n",
      "4/4 [==============================] - 0s 18ms/step - loss: 0.0025 - val_loss: 0.0099\n",
      "Epoch 65/100\n",
      "4/4 [==============================] - 0s 15ms/step - loss: 0.0021 - val_loss: 0.0084\n",
      "Epoch 66/100\n",
      "4/4 [==============================] - 0s 13ms/step - loss: 0.0018 - val_loss: 0.0072\n",
      "Epoch 67/100\n",
      "4/4 [==============================] - 0s 13ms/step - loss: 0.0016 - val_loss: 0.0060\n",
      "Epoch 68/100\n",
      "4/4 [==============================] - 0s 13ms/step - loss: 0.0014 - val_loss: 0.0051\n",
      "Epoch 69/100\n",
      "4/4 [==============================] - 0s 13ms/step - loss: 0.0012 - val_loss: 0.0043\n",
      "Epoch 70/100\n",
      "4/4 [==============================] - 0s 15ms/step - loss: 0.0011 - val_loss: 0.0037\n",
      "Epoch 71/100\n",
      "4/4 [==============================] - 0s 13ms/step - loss: 9.6819e-04 - val_loss: 0.0032\n",
      "Epoch 72/100\n",
      "4/4 [==============================] - 0s 13ms/step - loss: 8.7683e-04 - val_loss: 0.0028\n",
      "Epoch 73/100\n",
      "4/4 [==============================] - 0s 13ms/step - loss: 8.0406e-04 - val_loss: 0.0025\n",
      "Epoch 74/100\n",
      "4/4 [==============================] - 0s 13ms/step - loss: 7.4541e-04 - val_loss: 0.0022\n",
      "Epoch 75/100\n",
      "4/4 [==============================] - 0s 13ms/step - loss: 6.9786e-04 - val_loss: 0.0020\n",
      "Epoch 76/100\n",
      "4/4 [==============================] - 0s 13ms/step - loss: 6.5963e-04 - val_loss: 0.0018\n",
      "Epoch 77/100\n",
      "4/4 [==============================] - 0s 13ms/step - loss: 6.2828e-04 - val_loss: 0.0016\n",
      "Epoch 78/100\n",
      "4/4 [==============================] - 0s 15ms/step - loss: 6.0281e-04 - val_loss: 0.0015\n",
      "Epoch 79/100\n",
      "4/4 [==============================] - 0s 13ms/step - loss: 5.8171e-04 - val_loss: 0.0014\n",
      "Epoch 80/100\n",
      "4/4 [==============================] - 0s 14ms/step - loss: 5.6385e-04 - val_loss: 0.0013\n",
      "Epoch 81/100\n",
      "4/4 [==============================] - 0s 14ms/step - loss: 5.4901e-04 - val_loss: 0.0012\n",
      "Epoch 82/100\n",
      "4/4 [==============================] - 0s 15ms/step - loss: 5.3624e-04 - val_loss: 0.0011\n",
      "Epoch 83/100\n"
     ]
    },
    {
     "name": "stdout",
     "output_type": "stream",
     "text": [
      "4/4 [==============================] - 0s 14ms/step - loss: 5.2505e-04 - val_loss: 0.0011\n",
      "Epoch 84/100\n",
      "4/4 [==============================] - 0s 14ms/step - loss: 5.1500e-04 - val_loss: 0.0010\n",
      "Epoch 85/100\n",
      "4/4 [==============================] - 0s 13ms/step - loss: 5.0606e-04 - val_loss: 9.7846e-04\n",
      "Epoch 86/100\n",
      "4/4 [==============================] - 0s 13ms/step - loss: 4.9802e-04 - val_loss: 9.3409e-04\n",
      "Epoch 87/100\n",
      "4/4 [==============================] - 0s 13ms/step - loss: 4.9068e-04 - val_loss: 8.9295e-04\n",
      "Epoch 88/100\n",
      "4/4 [==============================] - 0s 13ms/step - loss: 4.8370e-04 - val_loss: 8.5703e-04\n",
      "Epoch 89/100\n",
      "4/4 [==============================] - 0s 13ms/step - loss: 4.7718e-04 - val_loss: 8.2531e-04\n",
      "Epoch 90/100\n",
      "4/4 [==============================] - 0s 13ms/step - loss: 4.7107e-04 - val_loss: 7.9817e-04\n",
      "Epoch 91/100\n",
      "4/4 [==============================] - 0s 13ms/step - loss: 4.6518e-04 - val_loss: 7.7110e-04\n",
      "Epoch 92/100\n",
      "4/4 [==============================] - 0s 13ms/step - loss: 4.5966e-04 - val_loss: 7.4753e-04\n",
      "Epoch 93/100\n",
      "4/4 [==============================] - 0s 14ms/step - loss: 4.5429e-04 - val_loss: 7.2504e-04\n",
      "Epoch 94/100\n",
      "4/4 [==============================] - 0s 13ms/step - loss: 4.4909e-04 - val_loss: 7.0630e-04\n",
      "Epoch 95/100\n",
      "4/4 [==============================] - 0s 13ms/step - loss: 4.4403e-04 - val_loss: 6.8888e-04\n",
      "Epoch 96/100\n",
      "4/4 [==============================] - 0s 13ms/step - loss: 4.3912e-04 - val_loss: 6.7141e-04\n",
      "Epoch 97/100\n",
      "4/4 [==============================] - 0s 13ms/step - loss: 4.3427e-04 - val_loss: 6.5645e-04\n",
      "Epoch 98/100\n",
      "4/4 [==============================] - 0s 13ms/step - loss: 4.2965e-04 - val_loss: 6.4238e-04\n",
      "Epoch 99/100\n",
      "4/4 [==============================] - 0s 13ms/step - loss: 4.2509e-04 - val_loss: 6.2890e-04\n",
      "Epoch 100/100\n",
      "4/4 [==============================] - 0s 13ms/step - loss: 4.2057e-04 - val_loss: 6.1537e-04\n"
     ]
    }
   ],
   "source": [
    "model.compile(loss='mse',optimizer='adam')\n",
    "his = model.fit(seq_train,seq_train,\n",
    "               epochs=100,\n",
    "               batch_size=512,\n",
    "               shuffle=True,\n",
    "               validation_data=(seq_test,seq_test))"
   ]
  },
  {
   "cell_type": "code",
   "execution_count": 18,
   "id": "bd3d2410",
   "metadata": {
    "ExecuteTime": {
     "end_time": "2022-11-06T13:30:12.335029Z",
     "start_time": "2022-11-06T13:30:12.206847Z"
    }
   },
   "outputs": [
    {
     "data": {
      "text/plain": [
       "<matplotlib.legend.Legend at 0x1e271a27d60>"
      ]
     },
     "execution_count": 18,
     "metadata": {},
     "output_type": "execute_result"
    },
    {
     "data": {
      "image/png": "[encoded data removed]",
      "text/plain": [
       "<Figure size 432x288 with 1 Axes>"
      ]
     },
     "metadata": {
      "needs_background": "light"
     },
     "output_type": "display_data"
    }
   ],
   "source": [
    "plt.plot(his.history['loss'],label='train')\n",
    "plt.plot(his.history['val_loss'],label='test')\n",
    "plt.legend()"
   ]
  },
  {
   "cell_type": "code",
   "execution_count": 22,
   "id": "fc473531",
   "metadata": {
    "ExecuteTime": {
     "end_time": "2022-11-06T13:36:43.419803Z",
     "start_time": "2022-11-06T13:36:43.327099Z"
    }
   },
   "outputs": [
    {
     "data": {
      "text/plain": [
       "(1801, 10, 128)"
      ]
     },
     "execution_count": 22,
     "metadata": {},
     "output_type": "execute_result"
    }
   ],
   "source": [
    "decoded_stock = model.predict(seq_train)\n",
    "decoded_stock.shape"
   ]
  },
  {
   "cell_type": "code",
   "execution_count": 23,
   "id": "9a80d9b5",
   "metadata": {
    "ExecuteTime": {
     "end_time": "2022-11-06T13:47:29.927384Z",
     "start_time": "2022-11-06T13:47:13.565499Z"
    },
    "scrolled": true
   },
   "outputs": [
    {
     "data": {
      "text/plain": [
       "[<matplotlib.lines.Line2D at 0x1e278216ee0>]"
      ]
     },
     "execution_count": 23,
     "metadata": {},
     "output_type": "execute_result"
    },
    {
     "data": {
      "image/png": "[encoded data removed]",
      "text/plain": [
       "<Figure size 432x288 with 1 Axes>"
      ]
     },
     "metadata": {
      "needs_background": "light"
     },
     "output_type": "display_data"
    }
   ],
   "source": [
    "plt.plot(x_train.index.to_list(),x_train_scaled, label= 'x_train_scaled')\n",
    "# plt.plot(x_train.index.to_list(), decoded_stock, label= 'x_train_decoded')"
   ]
  },
  {
   "cell_type": "markdown",
   "id": "6abc9f11",
   "metadata": {},
   "source": [
    "# 시도"
   ]
  },
  {
   "cell_type": "code",
   "execution_count": 104,
   "id": "62330fa4",
   "metadata": {
    "ExecuteTime": {
     "end_time": "2022-11-06T14:57:11.164342Z",
     "start_time": "2022-11-06T14:57:11.155328Z"
    }
   },
   "outputs": [],
   "source": [
    "# Regression chart.\n",
    "def chart_regression(pred, y, sort=True):\n",
    "    t = pd.DataFrame({'pred': pred, 'y': y.flatten()})\n",
    "    if sort:\n",
    "        t.sort_values(by=['y'], inplace=True)\n",
    "    plt.plot(t['y'].tolist(), label='real')\n",
    "    plt.plot(t['pred'].tolist(), label='prediction')\n",
    "    plt.ylabel('output')\n",
    "    plt.legend()\n",
    "    plt.show()"
   ]
  },
  {
   "cell_type": "code",
   "execution_count": 89,
   "id": "27d5974e",
   "metadata": {
    "ExecuteTime": {
     "end_time": "2022-11-06T14:50:05.868659Z",
     "start_time": "2022-11-06T14:49:29.418584Z"
    }
   },
   "outputs": [
    {
     "name": "stdout",
     "output_type": "stream",
     "text": [
      "Actual\n",
      "[[0.00071864]\n",
      " [0.01803382]\n",
      " [0.11465593]\n",
      " [0.1213861 ]\n",
      " [0.1712333 ]]\n",
      "Pred\n",
      "[[0.00073847]\n",
      " [0.01833689]\n",
      " [0.10769933]\n",
      " [0.1226781 ]\n",
      " [0.17948735]]\n"
     ]
    },
    {
     "data": {
      "image/png": "[encoded data removed]",
      "text/plain": [
       "<Figure size 432x288 with 1 Axes>"
      ]
     },
     "metadata": {
      "needs_background": "light"
     },
     "output_type": "display_data"
    }
   ],
   "source": [
    "import tensorflow as tf\n",
    "import numpy as np\n",
    "import pandas as pd\n",
    "from tensorflow.keras.models import Sequential\n",
    "from tensorflow.keras.layers import Dense, Activation\n",
    "from tensorflow.keras.callbacks import EarlyStopping\n",
    "import matplotlib.pyplot as plt\n",
    "\n",
    "rng = np.random.RandomState(1)\n",
    "x = np.sort((360 * rng.rand(100, 1)), axis=0)\n",
    "y = np.array([np.sin(x*(np.pi/180.0)).ravel()]).T\n",
    "\n",
    "model = Sequential()\n",
    "model.add(Dense(100, input_dim=x.shape[1], activation='relu'))\n",
    "model.add(Dense(50, activation='relu'))\n",
    "model.add(Dense(25, activation='relu'))\n",
    "model.add(Dense(1))\n",
    "model.compile(loss='mean_squared_error', optimizer='adam')\n",
    "model.fit(x,y,verbose=0,batch_size=len(x),epochs=25000)\n",
    "\n",
    "pred = model.predict(x)\n",
    "\n",
    "print(\"Actual\")\n",
    "print(y[0:5])\n",
    "\n",
    "print(\"Pred\")\n",
    "print(pred[0:5])\n",
    "\n",
    "chart_regression(pred.flatten(),y,sort=False)"
   ]
  },
  {
   "cell_type": "code",
   "execution_count": 137,
   "id": "88b1d2f7",
   "metadata": {
    "ExecuteTime": {
     "end_time": "2022-11-06T15:08:48.296553Z",
     "start_time": "2022-11-06T15:08:47.566022Z"
    }
   },
   "outputs": [
    {
     "name": "stdout",
     "output_type": "stream",
     "text": [
      "Actual\n",
      "[[113.33000183]\n",
      " [113.62999725]\n",
      " [113.70999908]\n",
      " [114.19000244]\n",
      " [114.56999969]]\n",
      "Pred\n",
      "[[113.32334 ]\n",
      " [113.622   ]\n",
      " [113.70165 ]\n",
      " [114.179504]\n",
      " [114.55781 ]]\n"
     ]
    }
   ],
   "source": [
    "import tensorflow as tf\n",
    "import numpy as np\n",
    "import pandas as pd\n",
    "from tensorflow.keras.models import Sequential\n",
    "from tensorflow.keras.layers import Dense, Activation\n",
    "from tensorflow.keras.callbacks import EarlyStopping\n",
    "import matplotlib.pyplot as plt\n",
    "\n",
    "df = pd.read_csv('./data/SPY.csv',index_col=0)\n",
    "real = df.Close[:50]\n",
    "x = np.array(df.Close[:50]).reshape(-1,1)\n",
    "\n",
    "model = Sequential()\n",
    "model.add(Dense(100, input_dim=x.shape[1], activation='relu'))\n",
    "model.add(Dense(50, activation='relu'))\n",
    "model.add(Dense(2, activation='relu'))\n",
    "model.add(Dense(50, activation='relu'))\n",
    "model.add(Dense(100, activation='relu'))\n",
    "model.add(Dense(1))\n",
    "model.compile(loss='mean_squared_error', optimizer='adam')\n",
    "model.fit(x,x,verbose=0,batch_size=len(x),epochs=200)\n",
    "\n",
    "pred = model.predict(x)\n",
    "\n",
    "print(\"Actual\")\n",
    "print(x_train[0:5])\n",
    "\n",
    "print(\"Pred\")\n",
    "print(pred[0:5])"
   ]
  },
  {
   "cell_type": "code",
   "execution_count": 138,
   "id": "81a8ebfe",
   "metadata": {
    "ExecuteTime": {
     "end_time": "2022-11-06T15:08:51.029745Z",
     "start_time": "2022-11-06T15:08:50.511096Z"
    }
   },
   "outputs": [
    {
     "data": {
      "text/plain": [
       "<matplotlib.legend.Legend at 0x1e212323af0>"
      ]
     },
     "execution_count": 138,
     "metadata": {},
     "output_type": "execute_result"
    },
    {
     "data": {
      "image/png": "[encoded data removed]",
      "text/plain": [
       "<Figure size 720x360 with 1 Axes>"
      ]
     },
     "metadata": {
      "needs_background": "light"
     },
     "output_type": "display_data"
    }
   ],
   "source": [
    "plt.figure(figsize=(10,5))\n",
    "plt.plot(real.index.to_list(),real, label='real')\n",
    "plt.plot(real.index.to_list(), pred.flatten(),label='denoise')\n",
    "plt.legend()"
   ]
  },
  {
   "cell_type": "code",
   "execution_count": null,
   "id": "9c05d6df",
   "metadata": {},
   "outputs": [],
   "source": []
  }
 ],
 "metadata": {
  "kernelspec": {
   "display_name": "Python 3 (ipykernel)",
   "language": "python",
   "name": "python3"
  },
  "language_info": {
   "codemirror_mode": {
    "name": "ipython",
    "version": 3
   },
   "file_extension": ".py",
   "mimetype": "text/x-python",
   "name": "python",
   "nbconvert_exporter": "python",
   "pygments_lexer": "ipython3",
   "version": "3.9.7"
  },
  "toc": {
   "base_numbering": 1,
   "nav_menu": {},
   "number_sections": true,
   "sideBar": true,
   "skip_h1_title": false,
   "title_cell": "Table of Contents",
   "title_sidebar": "Contents",
   "toc_cell": false,
   "toc_position": {},
   "toc_section_display": true,
   "toc_window_display": true
  },
  "varInspector": {
   "cols": {
    "lenName": 16,
    "lenType": 16,
    "lenVar": 40
   },
   "kernels_config": {
    "python": {
     "delete_cmd_postfix": "",
     "delete_cmd_prefix": "del ",
     "library": "var_list.py",
     "varRefreshCmd": "print(var_dic_list())"
    },
    "r": {
     "delete_cmd_postfix": ") ",
     "delete_cmd_prefix": "rm(",
     "library": "var_list.r",
     "varRefreshCmd": "cat(var_dic_list()) "
    }
   },
   "types_to_exclude": [
    "module",
    "function",
    "builtin_function_or_method",
    "instance",
    "_Feature"
   ],
   "window_display": false
  }
 },
 "nbformat": 4,
 "nbformat_minor": 5
}
