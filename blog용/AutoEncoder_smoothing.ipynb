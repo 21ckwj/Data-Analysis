{
 "cells": [
  {
   "cell_type": "code",
   "execution_count": 1,
   "id": "64525d15",
   "metadata": {
    "ExecuteTime": {
     "end_time": "2022-11-06T13:38:52.591220Z",
     "start_time": "2022-11-06T13:38:46.514683Z"
    }
   },
   "outputs": [],
   "source": [
    "import pandas as pd\n",
    "import numpy as np\n",
    "import matplotlib.pyplot as plt\n",
    "\n",
    "# ---- DL ----\n",
    "import torch\n",
    "import tensorflow as tf\n",
    "from tensorflow.keras.models import Sequential\n",
    "from tensorflow.keras.layers import LSTM, Dropout, TimeDistributed, RepeatVector, Dense"
   ]
  },
  {
   "cell_type": "code",
   "execution_count": 2,
   "id": "628ae9a5",
   "metadata": {
    "ExecuteTime": {
     "end_time": "2022-11-06T13:38:52.636798Z",
     "start_time": "2022-11-06T13:38:52.623728Z"
    }
   },
   "outputs": [],
   "source": [
    "import torch\n",
    "import torch.nn as nn\n",
    "import torch.nn.functional as F\n",
    "import torch.optim as optim\n",
    "import torch.utils.data as data_utils \n",
    "\n",
    "class TimeDistributed(nn.Module):\n",
    "    def __init__(self, module):\n",
    "        super(TimeDistributed, self).__init__()\n",
    "        self.module = module\n",
    "\n",
    "    def forward(self, x):\n",
    "        if len(x.size()) <= 2:\n",
    "            return self.module(x)\n",
    "        x_reshape = x.contiguous().view(-1, x.size(-1)) \n",
    "        y = self.module(x_reshape)\n",
    "        if len(x.size()) == 3:\n",
    "            y = y.contiguous().view(x.size(0), -1, y.size(-1))\n",
    "        return y\n",
    "\n",
    "class Autoencoder(nn.Module):\n",
    "    def __init__(self):\n",
    "        super(Autoencoder, self).__init__()\n",
    "        self.encoder = nn.LSTM(\n",
    "                               input_size = 1, \n",
    "                               hidden_size = 16, \n",
    "                               dropout = 0.25,\n",
    "                               num_layers = 2,\n",
    "                               bias = True,\n",
    "                               batch_first = True,\n",
    "                               bidirectional = True,\n",
    "                               )\n",
    "        self.decoder = nn.LSTM(\n",
    "                               input_size = 32, \n",
    "                               hidden_size = 16, \n",
    "                               dropout = 0.25,\n",
    "                               num_layers = 2,\n",
    "                               bias = True,\n",
    "                               batch_first = True,\n",
    "                               bidirectional = True,\n",
    "                               )\n",
    "        self.fc = TimeDistributed(nn.Linear(32, 1))\n",
    "                \n",
    "    def forward(self, x):\n",
    "        h0, (h_n, c_n) = self.encoder(x)\n",
    "        h0, (h_n, c_n) = self.decoder(h0[:,-1:,:].repeat(1,5,1))\n",
    "        out = self.fc(h0)\n",
    "        return out\n"
   ]
  },
  {
   "cell_type": "markdown",
   "id": "3b3cf219",
   "metadata": {},
   "source": [
    "torch.nn.Module은 모든 뉴럴 네트워크 모듈의 기본 클래스입니다. 일반적인 모델들은 이 클래스를 상속받아야 합니다. \n",
    "모듈들은 다른 모듈을 또 포함할 수 있습니다. 이러한 중첩된 구조는 복잡한 아키텍처를 쉽게 구축하고 관리할 수 있습니다.\n",
    "\n",
    "torch.nn.Module 은 PyTorch의 모든 Neural Network의 Base Class입니다. \n",
    "모듈은 다른 모듈을 포함할 수 있고, 트리 구조로 형성할 수 있습니다. \n",
    "nn 패키지는 신경망 계층(layer)과 거의 비슷한 Module 의 집합을 정의합니다. \n",
    "Module은 입력 텐서를 받고 출력 텐서를 계산하는 한편, 학습 가능한 매개변수를 갖는 텐서들을 내부 상태(internal state)로 갖습니다. \n",
    "nn 패키지는 또한 신경망을 학습시킬 때 주로 사용하는 유용한 손실 함수(loss function)들도 정의하고 있습니다."
   ]
  },
  {
   "cell_type": "markdown",
   "id": "1f0b4d54",
   "metadata": {},
   "source": [
    "## data"
   ]
  },
  {
   "cell_type": "code",
   "execution_count": 13,
   "id": "787064cc",
   "metadata": {
    "ExecuteTime": {
     "end_time": "2022-10-28T13:02:53.407134Z",
     "start_time": "2022-10-28T13:02:53.356092Z"
    }
   },
   "outputs": [
    {
     "data": {
      "text/html": [
       "<div>\n",
       "<style scoped>\n",
       "    .dataframe tbody tr th:only-of-type {\n",
       "        vertical-align: middle;\n",
       "    }\n",
       "\n",
       "    .dataframe tbody tr th {\n",
       "        vertical-align: top;\n",
       "    }\n",
       "\n",
       "    .dataframe thead th {\n",
       "        text-align: right;\n",
       "    }\n",
       "</style>\n",
       "<table border=\"1\" class=\"dataframe\">\n",
       "  <thead>\n",
       "    <tr style=\"text-align: right;\">\n",
       "      <th></th>\n",
       "      <th>Open</th>\n",
       "      <th>High</th>\n",
       "      <th>Low</th>\n",
       "      <th>Close</th>\n",
       "      <th>Adj Close</th>\n",
       "      <th>Volume</th>\n",
       "    </tr>\n",
       "    <tr>\n",
       "      <th>Date</th>\n",
       "      <th></th>\n",
       "      <th></th>\n",
       "      <th></th>\n",
       "      <th></th>\n",
       "      <th></th>\n",
       "      <th></th>\n",
       "    </tr>\n",
       "  </thead>\n",
       "  <tbody>\n",
       "    <tr>\n",
       "      <th>2010-01-04</th>\n",
       "      <td>112.370003</td>\n",
       "      <td>113.389999</td>\n",
       "      <td>111.510002</td>\n",
       "      <td>113.330002</td>\n",
       "      <td>92.246048</td>\n",
       "      <td>118944600</td>\n",
       "    </tr>\n",
       "    <tr>\n",
       "      <th>2010-01-05</th>\n",
       "      <td>113.260002</td>\n",
       "      <td>113.680000</td>\n",
       "      <td>112.849998</td>\n",
       "      <td>113.629997</td>\n",
       "      <td>92.490204</td>\n",
       "      <td>111579900</td>\n",
       "    </tr>\n",
       "    <tr>\n",
       "      <th>2010-01-06</th>\n",
       "      <td>113.519997</td>\n",
       "      <td>113.989998</td>\n",
       "      <td>113.430000</td>\n",
       "      <td>113.709999</td>\n",
       "      <td>92.555328</td>\n",
       "      <td>116074400</td>\n",
       "    </tr>\n",
       "    <tr>\n",
       "      <th>2010-01-07</th>\n",
       "      <td>113.500000</td>\n",
       "      <td>114.330002</td>\n",
       "      <td>113.180000</td>\n",
       "      <td>114.190002</td>\n",
       "      <td>92.946060</td>\n",
       "      <td>131091100</td>\n",
       "    </tr>\n",
       "    <tr>\n",
       "      <th>2010-01-08</th>\n",
       "      <td>113.889999</td>\n",
       "      <td>114.620003</td>\n",
       "      <td>113.660004</td>\n",
       "      <td>114.570000</td>\n",
       "      <td>93.255348</td>\n",
       "      <td>126402800</td>\n",
       "    </tr>\n",
       "  </tbody>\n",
       "</table>\n",
       "</div>"
      ],
      "text/plain": [
       "                  Open        High         Low       Close  Adj Close  \\\n",
       "Date                                                                    \n",
       "2010-01-04  112.370003  113.389999  111.510002  113.330002  92.246048   \n",
       "2010-01-05  113.260002  113.680000  112.849998  113.629997  92.490204   \n",
       "2010-01-06  113.519997  113.989998  113.430000  113.709999  92.555328   \n",
       "2010-01-07  113.500000  114.330002  113.180000  114.190002  92.946060   \n",
       "2010-01-08  113.889999  114.620003  113.660004  114.570000  93.255348   \n",
       "\n",
       "               Volume  \n",
       "Date                   \n",
       "2010-01-04  118944600  \n",
       "2010-01-05  111579900  \n",
       "2010-01-06  116074400  \n",
       "2010-01-07  131091100  \n",
       "2010-01-08  126402800  "
      ]
     },
     "execution_count": 13,
     "metadata": {},
     "output_type": "execute_result"
    }
   ],
   "source": [
    "df = pd.read_csv('./data/SPY.csv',parse_dates=['Date'],index_col=0)\n",
    "df.head()"
   ]
  },
  {
   "cell_type": "markdown",
   "id": "9009c106",
   "metadata": {},
   "source": [
    "# 블로그"
   ]
  },
  {
   "cell_type": "code",
   "execution_count": 3,
   "id": "58313452",
   "metadata": {
    "ExecuteTime": {
     "end_time": "2022-11-06T13:38:57.145129Z",
     "start_time": "2022-11-06T13:38:56.629236Z"
    }
   },
   "outputs": [
    {
     "name": "stdout",
     "output_type": "stream",
     "text": [
      "Populating the interactive namespace from numpy and matplotlib\n"
     ]
    }
   ],
   "source": [
    "from keras.layers import Input, Dense, Conv1D, MaxPooling1D, UpSampling1D, BatchNormalization, LSTM, RepeatVector\n",
    "from keras.models import Model\n",
    "from keras.models import model_from_json\n",
    "from keras import regularizers\n",
    "import datetime\n",
    "import time\n",
    "import requests as req\n",
    "import json\n",
    "import pandas as pd\n",
    "import pickle\n",
    "import os\n",
    "import numpy as np\n",
    "from sklearn.preprocessing import MinMaxScaler\n",
    "from tqdm import tqdm\n",
    "from mpl_toolkits.mplot3d import Axes3D\n",
    "import matplotlib.pyplot as plt\n",
    "%pylab inline"
   ]
  },
  {
   "cell_type": "code",
   "execution_count": 4,
   "id": "6fcc3f8f",
   "metadata": {
    "ExecuteTime": {
     "end_time": "2022-11-06T13:38:57.613373Z",
     "start_time": "2022-11-06T13:38:57.598376Z"
    }
   },
   "outputs": [],
   "source": [
    "## Parameters"
   ]
  },
  {
   "cell_type": "code",
   "execution_count": 5,
   "id": "cf6b2ebb",
   "metadata": {
    "ExecuteTime": {
     "end_time": "2022-11-06T13:38:58.132623Z",
     "start_time": "2022-11-06T13:38:58.127633Z"
    }
   },
   "outputs": [],
   "source": [
    "startdate=\"01/01/2015\"\n",
    "window_length = 10\n",
    "encoding_dim = 3\n",
    "epochs = 100\n",
    "test_samples = 2000"
   ]
  },
  {
   "cell_type": "markdown",
   "id": "e9260775",
   "metadata": {
    "ExecuteTime": {
     "end_time": "2022-11-05T06:20:04.746476Z",
     "start_time": "2022-11-05T06:20:04.723537Z"
    }
   },
   "source": [
    "## Utils"
   ]
  },
  {
   "cell_type": "code",
   "execution_count": 6,
   "id": "cc1a5031",
   "metadata": {
    "ExecuteTime": {
     "end_time": "2022-11-06T13:38:58.971366Z",
     "start_time": "2022-11-06T13:38:58.951415Z"
    }
   },
   "outputs": [],
   "source": [
    "def mkdate(ts):\n",
    "    return datetime.datetime.fromtimestamp(\n",
    "        int(ts)\n",
    "    ).strftime('%Y-%m-%d')\n",
    "\n",
    "def plot_examples(stock_input, stock_decoded):\n",
    "    n = 10  \n",
    "    plt.figure(figsize=(20, 4))\n",
    "    for i, idx in enumerate(list(np.arange(0, test_samples, 200))):\n",
    "        # display original\n",
    "        ax = plt.subplot(2, n, i + 1)\n",
    "        if i == 0:\n",
    "            ax.set_ylabel(\"Input\", fontweight=600)\n",
    "        else:\n",
    "            ax.get_yaxis().set_visible(False)\n",
    "        plt.plot(stock_input[idx])\n",
    "        ax.get_xaxis().set_visible(False)\n",
    "        \n",
    "\n",
    "        # display reconstruction\n",
    "        ax = plt.subplot(2, n, i + 1 + n)\n",
    "        if i == 0:\n",
    "            ax.set_ylabel(\"Output\", fontweight=600)\n",
    "        else:\n",
    "            ax.get_yaxis().set_visible(False)\n",
    "        plt.plot(stock_decoded[idx])\n",
    "        ax.get_xaxis().set_visible(False)\n",
    "        \n",
    "def plot_history(history):\n",
    "    plt.figure(figsize=(15, 5))\n",
    "    ax = plt.subplot(1, 2, 1)\n",
    "    plt.plot(history.history[\"loss\"])\n",
    "    plt.title(\"Train loss\")\n",
    "    ax = plt.subplot(1, 2, 2)\n",
    "    plt.plot(history.history[\"val_loss\"])\n",
    "    plt.title(\"Test loss\")        "
   ]
  },
  {
   "cell_type": "code",
   "execution_count": 7,
   "id": "2c2b138e",
   "metadata": {
    "ExecuteTime": {
     "end_time": "2022-11-06T13:39:07.311694Z",
     "start_time": "2022-11-06T13:39:00.117050Z"
    }
   },
   "outputs": [
    {
     "name": "stdout",
     "output_type": "stream",
     "text": [
      "days_recorded  2866\n"
     ]
    },
    {
     "name": "stderr",
     "output_type": "stream",
     "text": [
      "100%|████████████████████████████████████████████████████████████████████████| 48643/48643 [00:00<00:00, 240260.31it/s]\n",
      "100%|██████████████████████████████████████████████████████████████████████████| 48643/48643 [00:06<00:00, 7178.97it/s]\n"
     ]
    }
   ],
   "source": [
    "# get data\n",
    "start_timestamp = time.mktime(datetime.datetime.strptime(startdate, \"%d/%m/%Y\").timetuple())\n",
    "end_timestamp = int(time.time())\n",
    "one_week = 3600*24*7 # s\n",
    "one_day = 3600*24 # s\n",
    "weeks = list(np.arange(start_timestamp, end_timestamp, one_week))\n",
    "days_recorded = (datetime.datetime.fromtimestamp(end_timestamp)-datetime.datetime.fromtimestamp(start_timestamp)).days\n",
    "print(\"days_recorded \",days_recorded)\n",
    "data = []\n",
    "if not os.path.isfile(\"data.pickle\"):\n",
    "    s = req.Session()\n",
    "    r = s.get(\"https://www.coindesk.com/price/\")\n",
    "    for i in range(1, len(weeks)):\n",
    "        start_weekday = mkdate(weeks[i-1])\n",
    "        end_weekday = mkdate(weeks[i]-one_day)\n",
    "        print(start_weekday, end_weekday)\n",
    "        r = s.get(\"https://api.coindesk.com/charts/data?data=close&startdate={}&enddate={}&exchanges=bpi&dev=1&index=USD\".format(start_weekday, end_weekday))\n",
    "        ans = json.loads(r.text.replace(\"cb(\", \"\").replace(\");\",\"\"))[\"bpi\"]\n",
    "        ans.sort(key=lambda x: x[0])\n",
    "        for pricepoint in ans:\n",
    "            if pricepoint[0]/1000 >= weeks[i-1] and pricepoint[0]/1000 < (weeks[i]-one_day):\n",
    "                data.append([int(pricepoint[0]/1000), pricepoint[1]])\n",
    "                \n",
    "    pickle.dump(data, open(\"./data.pickle\", \"wb\"))\n",
    "else:\n",
    "    data = pickle.load(open(\"./data.pickle\", \"rb\"))\n",
    "\n",
    "df = pd.DataFrame(np.array(data)[:,1], columns=['price'])\n",
    "df['pct_change'] = df.price.pct_change()\n",
    "df['log_ret'] = np.log(df.price) - np.log(df.price.shift(1))\n",
    "\n",
    "scaler = MinMaxScaler()\n",
    "x_train_nonscaled = np.array([df['log_ret'].values[i-window_length:i].reshape(-1, 1) for i in tqdm(range(window_length+1,len(df['log_ret'])))])\n",
    "x_train = np.array([scaler.fit_transform(df['log_ret'].values[i-window_length:i].reshape(-1, 1)) for i in tqdm(range(window_length+1,len(df['log_ret'])))])\n",
    "\n",
    "x_test = x_train[-test_samples:]\n",
    "x_train = x_train[:-test_samples]\n",
    "\n",
    "x_train = x_train.astype('float32')\n",
    "x_test = x_test.astype('float32')"
   ]
  },
  {
   "cell_type": "code",
   "execution_count": 17,
   "id": "2cd0313f",
   "metadata": {
    "ExecuteTime": {
     "end_time": "2022-11-05T07:55:00.316762Z",
     "start_time": "2022-11-05T07:55:00.303320Z"
    }
   },
   "outputs": [
    {
     "data": {
      "text/plain": [
       "(46643, 10, 1)"
      ]
     },
     "execution_count": 17,
     "metadata": {},
     "output_type": "execute_result"
    }
   ],
   "source": [
    "x_train.shape"
   ]
  },
  {
   "cell_type": "code",
   "execution_count": 8,
   "id": "3b565bbb",
   "metadata": {
    "ExecuteTime": {
     "end_time": "2022-11-06T13:41:23.712693Z",
     "start_time": "2022-11-06T13:41:23.493778Z"
    }
   },
   "outputs": [
    {
     "data": {
      "text/plain": [
       "[<matplotlib.lines.Line2D at 0x187306a0f70>]"
      ]
     },
     "execution_count": 8,
     "metadata": {},
     "output_type": "execute_result"
    },
    {
     "data": {
      "image/png": "[encoded data removed]",
      "text/plain": [
       "<Figure size 1440x720 with 1 Axes>"
      ]
     },
     "metadata": {
      "needs_background": "light"
     },
     "output_type": "display_data"
    }
   ],
   "source": [
    "plt.figure(figsize=(20,10))\n",
    "plt.plot(np.array(data)[:,1])"
   ]
  },
  {
   "cell_type": "code",
   "execution_count": null,
   "id": "d8538426",
   "metadata": {},
   "outputs": [],
   "source": []
  },
  {
   "cell_type": "code",
   "execution_count": null,
   "id": "e2945c24",
   "metadata": {},
   "outputs": [],
   "source": []
  },
  {
   "cell_type": "markdown",
   "id": "254cfacf",
   "metadata": {},
   "source": [
    "## Simple feedforward autoencoder"
   ]
  },
  {
   "cell_type": "code",
   "execution_count": 9,
   "id": "5a5d8ee8",
   "metadata": {
    "ExecuteTime": {
     "end_time": "2022-11-06T13:41:34.894345Z",
     "start_time": "2022-11-06T13:41:25.803266Z"
    }
   },
   "outputs": [
    {
     "name": "stdout",
     "output_type": "stream",
     "text": [
      "Model: \"model\"\n",
      "_________________________________________________________________\n",
      " Layer (type)                Output Shape              Param #   \n",
      "=================================================================\n",
      " input_1 (InputLayer)        [(None, 10)]              0         \n",
      "                                                                 \n",
      " dense (Dense)               (None, 3)                 33        \n",
      "                                                                 \n",
      " dense_1 (Dense)             (None, 10)                40        \n",
      "                                                                 \n",
      "=================================================================\n",
      "Total params: 73\n",
      "Trainable params: 73\n",
      "Non-trainable params: 0\n",
      "_________________________________________________________________\n",
      "Epoch 1/100\n",
      "46/46 [==============================] - 0s 4ms/step - loss: 0.6940 - val_loss: 0.6909\n",
      "Epoch 2/100\n",
      "46/46 [==============================] - 0s 2ms/step - loss: 0.6882 - val_loss: 0.6855\n",
      "Epoch 3/100\n",
      "46/46 [==============================] - 0s 2ms/step - loss: 0.6822 - val_loss: 0.6789\n",
      "Epoch 4/100\n",
      "46/46 [==============================] - 0s 2ms/step - loss: 0.6755 - val_loss: 0.6720\n",
      "Epoch 5/100\n",
      "46/46 [==============================] - 0s 2ms/step - loss: 0.6690 - val_loss: 0.6656\n",
      "Epoch 6/100\n",
      "46/46 [==============================] - 0s 2ms/step - loss: 0.6633 - val_loss: 0.6601\n",
      "Epoch 7/100\n",
      "46/46 [==============================] - 0s 2ms/step - loss: 0.6584 - val_loss: 0.6554\n",
      "Epoch 8/100\n",
      "46/46 [==============================] - 0s 2ms/step - loss: 0.6544 - val_loss: 0.6516\n",
      "Epoch 9/100\n",
      "46/46 [==============================] - 0s 2ms/step - loss: 0.6509 - val_loss: 0.6484\n",
      "Epoch 10/100\n",
      "46/46 [==============================] - 0s 2ms/step - loss: 0.6481 - val_loss: 0.6457\n",
      "Epoch 11/100\n",
      "46/46 [==============================] - 0s 2ms/step - loss: 0.6456 - val_loss: 0.6434\n",
      "Epoch 12/100\n",
      "46/46 [==============================] - 0s 2ms/step - loss: 0.6435 - val_loss: 0.6413\n",
      "Epoch 13/100\n",
      "46/46 [==============================] - 0s 2ms/step - loss: 0.6416 - val_loss: 0.6395\n",
      "Epoch 14/100\n",
      "46/46 [==============================] - 0s 2ms/step - loss: 0.6400 - val_loss: 0.6378\n",
      "Epoch 15/100\n",
      "46/46 [==============================] - 0s 2ms/step - loss: 0.6384 - val_loss: 0.6363\n",
      "Epoch 16/100\n",
      "46/46 [==============================] - 0s 2ms/step - loss: 0.6370 - val_loss: 0.6349\n",
      "Epoch 17/100\n",
      "46/46 [==============================] - 0s 2ms/step - loss: 0.6356 - val_loss: 0.6335\n",
      "Epoch 18/100\n",
      "46/46 [==============================] - 0s 2ms/step - loss: 0.6344 - val_loss: 0.6323\n",
      "Epoch 19/100\n",
      "46/46 [==============================] - 0s 2ms/step - loss: 0.6332 - val_loss: 0.6310\n",
      "Epoch 20/100\n",
      "46/46 [==============================] - 0s 2ms/step - loss: 0.6321 - val_loss: 0.6299\n",
      "Epoch 21/100\n",
      "46/46 [==============================] - 0s 2ms/step - loss: 0.6311 - val_loss: 0.6288\n",
      "Epoch 22/100\n",
      "46/46 [==============================] - 0s 2ms/step - loss: 0.6301 - val_loss: 0.6278\n",
      "Epoch 23/100\n",
      "46/46 [==============================] - 0s 2ms/step - loss: 0.6292 - val_loss: 0.6269\n",
      "Epoch 24/100\n",
      "46/46 [==============================] - 0s 2ms/step - loss: 0.6283 - val_loss: 0.6258\n",
      "Epoch 25/100\n",
      "46/46 [==============================] - 0s 2ms/step - loss: 0.6274 - val_loss: 0.6249\n",
      "Epoch 26/100\n",
      "46/46 [==============================] - 0s 2ms/step - loss: 0.6265 - val_loss: 0.6240\n",
      "Epoch 27/100\n",
      "46/46 [==============================] - 0s 2ms/step - loss: 0.6257 - val_loss: 0.6231\n",
      "Epoch 28/100\n",
      "46/46 [==============================] - 0s 1ms/step - loss: 0.6250 - val_loss: 0.6223\n",
      "Epoch 29/100\n",
      "46/46 [==============================] - 0s 2ms/step - loss: 0.6242 - val_loss: 0.6215\n",
      "Epoch 30/100\n",
      "46/46 [==============================] - 0s 2ms/step - loss: 0.6235 - val_loss: 0.6207\n",
      "Epoch 31/100\n",
      "46/46 [==============================] - 0s 2ms/step - loss: 0.6228 - val_loss: 0.6200\n",
      "Epoch 32/100\n",
      "46/46 [==============================] - 0s 2ms/step - loss: 0.6221 - val_loss: 0.6193\n",
      "Epoch 33/100\n",
      "46/46 [==============================] - 0s 2ms/step - loss: 0.6215 - val_loss: 0.6187\n",
      "Epoch 34/100\n",
      "46/46 [==============================] - 0s 2ms/step - loss: 0.6208 - val_loss: 0.6180\n",
      "Epoch 35/100\n",
      "46/46 [==============================] - 0s 2ms/step - loss: 0.6203 - val_loss: 0.6174\n",
      "Epoch 36/100\n",
      "46/46 [==============================] - 0s 2ms/step - loss: 0.6197 - val_loss: 0.6168\n",
      "Epoch 37/100\n",
      "46/46 [==============================] - 0s 2ms/step - loss: 0.6192 - val_loss: 0.6163\n",
      "Epoch 38/100\n",
      "46/46 [==============================] - 0s 2ms/step - loss: 0.6187 - val_loss: 0.6158\n",
      "Epoch 39/100\n",
      "46/46 [==============================] - 0s 2ms/step - loss: 0.6182 - val_loss: 0.6153\n",
      "Epoch 40/100\n",
      "46/46 [==============================] - 0s 2ms/step - loss: 0.6178 - val_loss: 0.6149\n",
      "Epoch 41/100\n",
      "46/46 [==============================] - 0s 2ms/step - loss: 0.6174 - val_loss: 0.6146\n",
      "Epoch 42/100\n",
      "46/46 [==============================] - 0s 2ms/step - loss: 0.6171 - val_loss: 0.6142\n",
      "Epoch 43/100\n",
      "46/46 [==============================] - 0s 2ms/step - loss: 0.6167 - val_loss: 0.6139\n",
      "Epoch 44/100\n",
      "46/46 [==============================] - 0s 2ms/step - loss: 0.6164 - val_loss: 0.6136\n",
      "Epoch 45/100\n",
      "46/46 [==============================] - 0s 2ms/step - loss: 0.6161 - val_loss: 0.6133\n",
      "Epoch 46/100\n",
      "46/46 [==============================] - 0s 2ms/step - loss: 0.6159 - val_loss: 0.6130\n",
      "Epoch 47/100\n",
      "46/46 [==============================] - 0s 2ms/step - loss: 0.6156 - val_loss: 0.6128\n",
      "Epoch 48/100\n",
      "46/46 [==============================] - 0s 2ms/step - loss: 0.6154 - val_loss: 0.6126\n",
      "Epoch 49/100\n",
      "46/46 [==============================] - 0s 2ms/step - loss: 0.6152 - val_loss: 0.6124\n",
      "Epoch 50/100\n",
      "46/46 [==============================] - 0s 2ms/step - loss: 0.6150 - val_loss: 0.6122\n",
      "Epoch 51/100\n",
      "46/46 [==============================] - 0s 2ms/step - loss: 0.6148 - val_loss: 0.6121\n",
      "Epoch 52/100\n",
      "46/46 [==============================] - 0s 2ms/step - loss: 0.6147 - val_loss: 0.6119\n",
      "Epoch 53/100\n",
      "46/46 [==============================] - 0s 2ms/step - loss: 0.6145 - val_loss: 0.6118\n",
      "Epoch 54/100\n",
      "46/46 [==============================] - 0s 2ms/step - loss: 0.6144 - val_loss: 0.6117\n",
      "Epoch 55/100\n",
      "46/46 [==============================] - 0s 2ms/step - loss: 0.6143 - val_loss: 0.6116\n",
      "Epoch 56/100\n",
      "46/46 [==============================] - 0s 2ms/step - loss: 0.6141 - val_loss: 0.6115\n",
      "Epoch 57/100\n",
      "46/46 [==============================] - 0s 2ms/step - loss: 0.6140 - val_loss: 0.6114\n",
      "Epoch 58/100\n",
      "46/46 [==============================] - 0s 2ms/step - loss: 0.6139 - val_loss: 0.6113\n",
      "Epoch 59/100\n",
      "46/46 [==============================] - 0s 2ms/step - loss: 0.6138 - val_loss: 0.6112\n",
      "Epoch 60/100\n",
      "46/46 [==============================] - 0s 1ms/step - loss: 0.6137 - val_loss: 0.6111\n",
      "Epoch 61/100\n",
      "46/46 [==============================] - 0s 2ms/step - loss: 0.6137 - val_loss: 0.6111\n",
      "Epoch 62/100\n",
      "46/46 [==============================] - 0s 1ms/step - loss: 0.6136 - val_loss: 0.6110\n",
      "Epoch 63/100\n",
      "46/46 [==============================] - 0s 1ms/step - loss: 0.6135 - val_loss: 0.6110\n",
      "Epoch 64/100\n",
      "46/46 [==============================] - 0s 2ms/step - loss: 0.6134 - val_loss: 0.6109\n",
      "Epoch 65/100\n",
      "46/46 [==============================] - 0s 2ms/step - loss: 0.6133 - val_loss: 0.6108\n",
      "Epoch 66/100\n",
      "46/46 [==============================] - 0s 2ms/step - loss: 0.6133 - val_loss: 0.6108\n",
      "Epoch 67/100\n",
      "46/46 [==============================] - 0s 1ms/step - loss: 0.6132 - val_loss: 0.6108\n",
      "Epoch 68/100\n",
      "46/46 [==============================] - 0s 1ms/step - loss: 0.6132 - val_loss: 0.6107\n",
      "Epoch 69/100\n",
      "46/46 [==============================] - 0s 1ms/step - loss: 0.6131 - val_loss: 0.6106\n",
      "Epoch 70/100\n",
      "46/46 [==============================] - 0s 2ms/step - loss: 0.6130 - val_loss: 0.6106\n",
      "Epoch 71/100\n",
      "46/46 [==============================] - 0s 1ms/step - loss: 0.6130 - val_loss: 0.6106\n",
      "Epoch 72/100\n",
      "46/46 [==============================] - 0s 2ms/step - loss: 0.6129 - val_loss: 0.6105\n",
      "Epoch 73/100\n",
      "46/46 [==============================] - 0s 1ms/step - loss: 0.6129 - val_loss: 0.6105\n",
      "Epoch 74/100\n",
      "46/46 [==============================] - 0s 1ms/step - loss: 0.6129 - val_loss: 0.6105\n"
     ]
    },
    {
     "name": "stdout",
     "output_type": "stream",
     "text": [
      "Epoch 75/100\n",
      "46/46 [==============================] - 0s 2ms/step - loss: 0.6128 - val_loss: 0.6104\n",
      "Epoch 76/100\n",
      "46/46 [==============================] - 0s 1ms/step - loss: 0.6128 - val_loss: 0.6104\n",
      "Epoch 77/100\n",
      "46/46 [==============================] - 0s 2ms/step - loss: 0.6127 - val_loss: 0.6104\n",
      "Epoch 78/100\n",
      "46/46 [==============================] - 0s 2ms/step - loss: 0.6127 - val_loss: 0.6104\n",
      "Epoch 79/100\n",
      "46/46 [==============================] - 0s 2ms/step - loss: 0.6127 - val_loss: 0.6103\n",
      "Epoch 80/100\n",
      "46/46 [==============================] - 0s 2ms/step - loss: 0.6126 - val_loss: 0.6103\n",
      "Epoch 81/100\n",
      "46/46 [==============================] - 0s 2ms/step - loss: 0.6126 - val_loss: 0.6103\n",
      "Epoch 82/100\n",
      "46/46 [==============================] - 0s 2ms/step - loss: 0.6126 - val_loss: 0.6103\n",
      "Epoch 83/100\n",
      "46/46 [==============================] - 0s 2ms/step - loss: 0.6125 - val_loss: 0.6103\n",
      "Epoch 84/100\n",
      "46/46 [==============================] - 0s 2ms/step - loss: 0.6125 - val_loss: 0.6102\n",
      "Epoch 85/100\n",
      "46/46 [==============================] - 0s 2ms/step - loss: 0.6125 - val_loss: 0.6102\n",
      "Epoch 86/100\n",
      "46/46 [==============================] - 0s 2ms/step - loss: 0.6124 - val_loss: 0.6102\n",
      "Epoch 87/100\n",
      "46/46 [==============================] - 0s 1ms/step - loss: 0.6124 - val_loss: 0.6102\n",
      "Epoch 88/100\n",
      "46/46 [==============================] - 0s 1ms/step - loss: 0.6124 - val_loss: 0.6102\n",
      "Epoch 89/100\n",
      "46/46 [==============================] - 0s 2ms/step - loss: 0.6124 - val_loss: 0.6101\n",
      "Epoch 90/100\n",
      "46/46 [==============================] - 0s 1ms/step - loss: 0.6123 - val_loss: 0.6101\n",
      "Epoch 91/100\n",
      "46/46 [==============================] - 0s 1ms/step - loss: 0.6123 - val_loss: 0.6101\n",
      "Epoch 92/100\n",
      "46/46 [==============================] - 0s 1ms/step - loss: 0.6123 - val_loss: 0.6101\n",
      "Epoch 93/100\n",
      "46/46 [==============================] - 0s 1ms/step - loss: 0.6123 - val_loss: 0.6101\n",
      "Epoch 94/100\n",
      "46/46 [==============================] - 0s 1ms/step - loss: 0.6123 - val_loss: 0.6101\n",
      "Epoch 95/100\n",
      "46/46 [==============================] - 0s 1ms/step - loss: 0.6122 - val_loss: 0.6101\n",
      "Epoch 96/100\n",
      "46/46 [==============================] - 0s 1ms/step - loss: 0.6122 - val_loss: 0.6101\n",
      "Epoch 97/100\n",
      "46/46 [==============================] - 0s 1ms/step - loss: 0.6122 - val_loss: 0.6100\n",
      "Epoch 98/100\n",
      "46/46 [==============================] - 0s 1ms/step - loss: 0.6122 - val_loss: 0.6100\n",
      "Epoch 99/100\n",
      "46/46 [==============================] - 0s 1ms/step - loss: 0.6122 - val_loss: 0.6100\n",
      "Epoch 100/100\n",
      "46/46 [==============================] - 0s 1ms/step - loss: 0.6121 - val_loss: 0.6100\n"
     ]
    }
   ],
   "source": [
    "x_train_simple = x_train.reshape((len(x_train), np.prod(x_train.shape[1:])))\n",
    "x_test_simple = x_test.reshape((len(x_test), np.prod(x_test.shape[1:])))\n",
    "\n",
    "# this is our input placeholder\n",
    "input_window = Input(shape=(window_length,))\n",
    "# \"encoded\" is the encoded representation of the input\n",
    "encoded = Dense(encoding_dim, activation='relu')(input_window)\n",
    "# \"decoded\" is the lossy reconstruction of the input\n",
    "decoded = Dense(window_length, activation='sigmoid')(encoded)\n",
    "\n",
    "# this model maps an input to its reconstruction\n",
    "autoencoder = Model(input_window, decoded)\n",
    "\n",
    "# this model maps an input to its encoded representation\n",
    "encoder = Model(input_window, encoded)\n",
    "\n",
    "autoencoder.summary()\n",
    "autoencoder.compile(optimizer='adam', loss='binary_crossentropy')\n",
    "history = autoencoder.fit(x_train_simple, x_train_simple,\n",
    "                epochs=epochs,\n",
    "                batch_size=1024,\n",
    "                shuffle=True,\n",
    "                validation_data=(x_test_simple, x_test_simple))\n",
    "\n",
    "decoded_stocks = autoencoder.predict(x_test_simple)"
   ]
  },
  {
   "cell_type": "code",
   "execution_count": 10,
   "id": "eac948a0",
   "metadata": {
    "ExecuteTime": {
     "end_time": "2022-11-05T06:57:40.068920Z",
     "start_time": "2022-11-05T06:57:38.396625Z"
    }
   },
   "outputs": [
    {
     "data": {
      "image/png": "[encoded data removed]",
      "text/plain": [
       "<Figure size 1080x360 with 2 Axes>"
      ]
     },
     "metadata": {
      "needs_background": "light"
     },
     "output_type": "display_data"
    },
    {
     "data": {
      "image/png": "[encoded data removed]",
      "text/plain": [
       "<Figure size 1440x288 with 20 Axes>"
      ]
     },
     "metadata": {
      "needs_background": "light"
     },
     "output_type": "display_data"
    }
   ],
   "source": [
    "plot_history(history)\n",
    "plot_examples(x_test_simple, decoded_stocks)"
   ]
  },
  {
   "cell_type": "markdown",
   "id": "0d35eed2",
   "metadata": {},
   "source": [
    "## Deep autoencoder"
   ]
  },
  {
   "cell_type": "code",
   "execution_count": 11,
   "id": "bd96ef91",
   "metadata": {
    "ExecuteTime": {
     "end_time": "2022-11-05T07:05:39.072690Z",
     "start_time": "2022-11-05T07:05:07.535431Z"
    },
    "scrolled": true
   },
   "outputs": [
    {
     "name": "stdout",
     "output_type": "stream",
     "text": [
      "Model: \"model_2\"\n",
      "_________________________________________________________________\n",
      " Layer (type)                Output Shape              Param #   \n",
      "=================================================================\n",
      " input_2 (InputLayer)        [(None, 10)]              0         \n",
      "                                                                 \n",
      " dense_2 (Dense)             (None, 6)                 66        \n",
      "                                                                 \n",
      " batch_normalization (BatchN  (None, 6)                24        \n",
      " ormalization)                                                   \n",
      "                                                                 \n",
      " dense_3 (Dense)             (None, 3)                 21        \n",
      "                                                                 \n",
      " dense_4 (Dense)             (None, 6)                 24        \n",
      "                                                                 \n",
      " batch_normalization_1 (Batc  (None, 6)                24        \n",
      " hNormalization)                                                 \n",
      "                                                                 \n",
      " dense_5 (Dense)             (None, 10)                70        \n",
      "                                                                 \n",
      "=================================================================\n",
      "Total params: 229\n",
      "Trainable params: 205\n",
      "Non-trainable params: 24\n",
      "_________________________________________________________________\n",
      "Epoch 1/100\n",
      "46/46 [==============================] - 1s 8ms/step - loss: 0.7279 - val_loss: 0.6918\n",
      "Epoch 2/100\n",
      "46/46 [==============================] - 0s 3ms/step - loss: 0.6915 - val_loss: 0.6902\n",
      "Epoch 3/100\n",
      "46/46 [==============================] - 0s 4ms/step - loss: 0.6798 - val_loss: 0.6884\n",
      "Epoch 4/100\n",
      "46/46 [==============================] - 0s 5ms/step - loss: 0.6734 - val_loss: 0.6863\n",
      "Epoch 5/100\n",
      "46/46 [==============================] - 0s 7ms/step - loss: 0.6687 - val_loss: 0.6835\n",
      "Epoch 6/100\n",
      "46/46 [==============================] - 0s 10ms/step - loss: 0.6624 - val_loss: 0.6800\n",
      "Epoch 7/100\n",
      "46/46 [==============================] - 1s 12ms/step - loss: 0.6522 - val_loss: 0.6739\n",
      "Epoch 8/100\n",
      "46/46 [==============================] - 0s 7ms/step - loss: 0.6451 - val_loss: 0.6653\n",
      "Epoch 9/100\n",
      "46/46 [==============================] - 0s 5ms/step - loss: 0.6412 - val_loss: 0.6579\n",
      "Epoch 10/100\n",
      "46/46 [==============================] - 0s 4ms/step - loss: 0.6389 - val_loss: 0.6519\n",
      "Epoch 11/100\n",
      "46/46 [==============================] - 0s 4ms/step - loss: 0.6366 - val_loss: 0.6477\n",
      "Epoch 12/100\n",
      "46/46 [==============================] - 0s 4ms/step - loss: 0.6328 - val_loss: 0.6435\n",
      "Epoch 13/100\n",
      "46/46 [==============================] - 0s 4ms/step - loss: 0.6260 - val_loss: 0.6423\n",
      "Epoch 14/100\n",
      "46/46 [==============================] - 0s 4ms/step - loss: 0.6204 - val_loss: 0.6457\n",
      "Epoch 15/100\n",
      "46/46 [==============================] - 0s 4ms/step - loss: 0.6175 - val_loss: 0.6457\n",
      "Epoch 16/100\n",
      "46/46 [==============================] - 0s 4ms/step - loss: 0.6160 - val_loss: 0.6423\n",
      "Epoch 17/100\n",
      "46/46 [==============================] - 0s 4ms/step - loss: 0.6151 - val_loss: 0.6363\n",
      "Epoch 18/100\n",
      "46/46 [==============================] - 0s 4ms/step - loss: 0.6145 - val_loss: 0.6331\n",
      "Epoch 19/100\n",
      "46/46 [==============================] - 0s 7ms/step - loss: 0.6141 - val_loss: 0.6302\n",
      "Epoch 20/100\n",
      "46/46 [==============================] - 0s 5ms/step - loss: 0.6138 - val_loss: 0.6275\n",
      "Epoch 21/100\n",
      "46/46 [==============================] - 0s 9ms/step - loss: 0.6136 - val_loss: 0.6248\n",
      "Epoch 22/100\n",
      "46/46 [==============================] - 1s 11ms/step - loss: 0.6134 - val_loss: 0.6229\n",
      "Epoch 23/100\n",
      "46/46 [==============================] - 1s 11ms/step - loss: 0.6132 - val_loss: 0.6214\n",
      "Epoch 24/100\n",
      "46/46 [==============================] - 0s 9ms/step - loss: 0.6131 - val_loss: 0.6199\n",
      "Epoch 25/100\n",
      "46/46 [==============================] - 0s 4ms/step - loss: 0.6130 - val_loss: 0.6183\n",
      "Epoch 26/100\n",
      "46/46 [==============================] - 0s 4ms/step - loss: 0.6128 - val_loss: 0.6177\n",
      "Epoch 27/100\n",
      "46/46 [==============================] - 0s 6ms/step - loss: 0.6127 - val_loss: 0.6174\n",
      "Epoch 28/100\n",
      "46/46 [==============================] - 0s 10ms/step - loss: 0.6127 - val_loss: 0.6162\n",
      "Epoch 29/100\n",
      "46/46 [==============================] - 0s 10ms/step - loss: 0.6126 - val_loss: 0.6157\n",
      "Epoch 30/100\n",
      "46/46 [==============================] - 1s 11ms/step - loss: 0.6125 - val_loss: 0.6148\n",
      "Epoch 31/100\n",
      "46/46 [==============================] - 0s 10ms/step - loss: 0.6124 - val_loss: 0.6144\n",
      "Epoch 32/100\n",
      "46/46 [==============================] - 0s 4ms/step - loss: 0.6123 - val_loss: 0.6141\n",
      "Epoch 33/100\n",
      "46/46 [==============================] - 0s 4ms/step - loss: 0.6123 - val_loss: 0.6138\n",
      "Epoch 34/100\n",
      "46/46 [==============================] - 0s 4ms/step - loss: 0.6122 - val_loss: 0.6138\n",
      "Epoch 35/100\n",
      "46/46 [==============================] - 0s 5ms/step - loss: 0.6121 - val_loss: 0.6141\n",
      "Epoch 36/100\n",
      "46/46 [==============================] - 0s 4ms/step - loss: 0.6121 - val_loss: 0.6136\n",
      "Epoch 37/100\n",
      "46/46 [==============================] - 0s 4ms/step - loss: 0.6120 - val_loss: 0.6136\n",
      "Epoch 38/100\n",
      "46/46 [==============================] - 0s 4ms/step - loss: 0.6119 - val_loss: 0.6140\n",
      "Epoch 39/100\n",
      "46/46 [==============================] - 0s 4ms/step - loss: 0.6118 - val_loss: 0.6141\n",
      "Epoch 40/100\n",
      "46/46 [==============================] - 0s 4ms/step - loss: 0.6117 - val_loss: 0.6139\n",
      "Epoch 41/100\n",
      "46/46 [==============================] - 0s 5ms/step - loss: 0.6116 - val_loss: 0.6134\n",
      "Epoch 42/100\n",
      "46/46 [==============================] - 0s 9ms/step - loss: 0.6115 - val_loss: 0.6134\n",
      "Epoch 43/100\n",
      "46/46 [==============================] - 0s 7ms/step - loss: 0.6114 - val_loss: 0.6128\n",
      "Epoch 44/100\n",
      "46/46 [==============================] - 0s 9ms/step - loss: 0.6112 - val_loss: 0.6140\n",
      "Epoch 45/100\n",
      "46/46 [==============================] - 0s 6ms/step - loss: 0.6111 - val_loss: 0.6123\n",
      "Epoch 46/100\n",
      "46/46 [==============================] - 0s 10ms/step - loss: 0.6111 - val_loss: 0.6124\n",
      "Epoch 47/100\n",
      "46/46 [==============================] - 0s 11ms/step - loss: 0.6109 - val_loss: 0.6114\n",
      "Epoch 48/100\n",
      "46/46 [==============================] - 0s 10ms/step - loss: 0.6108 - val_loss: 0.6119\n",
      "Epoch 49/100\n",
      "46/46 [==============================] - 0s 10ms/step - loss: 0.6107 - val_loss: 0.6106\n",
      "Epoch 50/100\n",
      "46/46 [==============================] - 0s 9ms/step - loss: 0.6106 - val_loss: 0.6104\n",
      "Epoch 51/100\n",
      "46/46 [==============================] - 0s 8ms/step - loss: 0.6105 - val_loss: 0.6107\n",
      "Epoch 52/100\n",
      "46/46 [==============================] - 0s 8ms/step - loss: 0.6105 - val_loss: 0.6095\n",
      "Epoch 53/100\n",
      "46/46 [==============================] - 0s 8ms/step - loss: 0.6104 - val_loss: 0.6098\n",
      "Epoch 54/100\n",
      "46/46 [==============================] - 0s 5ms/step - loss: 0.6104 - val_loss: 0.6095\n",
      "Epoch 55/100\n",
      "46/46 [==============================] - 0s 3ms/step - loss: 0.6103 - val_loss: 0.6090\n",
      "Epoch 56/100\n",
      "46/46 [==============================] - 0s 3ms/step - loss: 0.6102 - val_loss: 0.6090\n",
      "Epoch 57/100\n",
      "46/46 [==============================] - 0s 4ms/step - loss: 0.6102 - val_loss: 0.6093\n",
      "Epoch 58/100\n",
      "46/46 [==============================] - 0s 4ms/step - loss: 0.6102 - val_loss: 0.6091\n",
      "Epoch 59/100\n",
      "46/46 [==============================] - 0s 4ms/step - loss: 0.6101 - val_loss: 0.6096\n",
      "Epoch 60/100\n",
      "46/46 [==============================] - 0s 4ms/step - loss: 0.6101 - val_loss: 0.6091\n",
      "Epoch 61/100\n",
      "46/46 [==============================] - 0s 4ms/step - loss: 0.6101 - val_loss: 0.6095\n",
      "Epoch 62/100\n",
      "46/46 [==============================] - 0s 4ms/step - loss: 0.6100 - val_loss: 0.6094\n",
      "Epoch 63/100\n",
      "46/46 [==============================] - 0s 3ms/step - loss: 0.6100 - val_loss: 0.6092\n",
      "Epoch 64/100\n",
      "46/46 [==============================] - 0s 8ms/step - loss: 0.6099 - val_loss: 0.6093\n",
      "Epoch 65/100\n",
      "46/46 [==============================] - 0s 9ms/step - loss: 0.6099 - val_loss: 0.6092\n",
      "Epoch 66/100\n",
      "46/46 [==============================] - 0s 7ms/step - loss: 0.6099 - val_loss: 0.6091\n",
      "Epoch 67/100\n",
      "46/46 [==============================] - 0s 7ms/step - loss: 0.6098 - val_loss: 0.6091\n",
      "Epoch 68/100\n",
      "46/46 [==============================] - 0s 8ms/step - loss: 0.6098 - val_loss: 0.6089\n",
      "Epoch 69/100\n",
      "46/46 [==============================] - 0s 8ms/step - loss: 0.6098 - val_loss: 0.6088\n",
      "Epoch 70/100\n",
      "46/46 [==============================] - 0s 7ms/step - loss: 0.6098 - val_loss: 0.6089\n",
      "Epoch 71/100\n",
      "46/46 [==============================] - 0s 7ms/step - loss: 0.6097 - val_loss: 0.6088\n",
      "Epoch 72/100\n",
      "46/46 [==============================] - 0s 8ms/step - loss: 0.6096 - val_loss: 0.6092\n",
      "Epoch 73/100\n",
      "46/46 [==============================] - 0s 7ms/step - loss: 0.6096 - val_loss: 0.6092\n",
      "Epoch 74/100\n",
      "46/46 [==============================] - 0s 8ms/step - loss: 0.6095 - val_loss: 0.6096\n",
      "Epoch 75/100\n",
      "46/46 [==============================] - 0s 8ms/step - loss: 0.6094 - val_loss: 0.6100\n",
      "Epoch 76/100\n",
      "46/46 [==============================] - 0s 7ms/step - loss: 0.6091 - val_loss: 0.6153\n",
      "Epoch 77/100\n",
      "46/46 [==============================] - 0s 7ms/step - loss: 0.6077 - val_loss: 0.6290\n",
      "Epoch 78/100\n",
      "46/46 [==============================] - 0s 7ms/step - loss: 0.6057 - val_loss: 0.6276\n",
      "Epoch 79/100\n",
      "46/46 [==============================] - 0s 6ms/step - loss: 0.6051 - val_loss: 0.6257\n",
      "Epoch 80/100\n",
      "46/46 [==============================] - 0s 4ms/step - loss: 0.6048 - val_loss: 0.6195\n",
      "Epoch 81/100\n",
      "46/46 [==============================] - 0s 4ms/step - loss: 0.6045 - val_loss: 0.6135\n",
      "Epoch 82/100\n",
      "46/46 [==============================] - 0s 4ms/step - loss: 0.6044 - val_loss: 0.6102\n",
      "Epoch 83/100\n",
      "46/46 [==============================] - 0s 4ms/step - loss: 0.6042 - val_loss: 0.6075\n",
      "Epoch 84/100\n",
      "46/46 [==============================] - 0s 4ms/step - loss: 0.6042 - val_loss: 0.6077\n",
      "Epoch 85/100\n",
      "46/46 [==============================] - 0s 4ms/step - loss: 0.6041 - val_loss: 0.6026\n",
      "Epoch 86/100\n",
      "46/46 [==============================] - 0s 4ms/step - loss: 0.6039 - val_loss: 0.6020\n",
      "Epoch 87/100\n",
      "46/46 [==============================] - 0s 4ms/step - loss: 0.6040 - val_loss: 0.6024\n",
      "Epoch 88/100\n",
      "46/46 [==============================] - 0s 6ms/step - loss: 0.6039 - val_loss: 0.6025\n",
      "Epoch 89/100\n",
      "46/46 [==============================] - 0s 10ms/step - loss: 0.6039 - val_loss: 0.6022\n",
      "Epoch 90/100\n",
      "46/46 [==============================] - 0s 4ms/step - loss: 0.6038 - val_loss: 0.6027\n",
      "Epoch 91/100\n",
      "46/46 [==============================] - 0s 10ms/step - loss: 0.6037 - val_loss: 0.6022\n",
      "Epoch 92/100\n",
      "46/46 [==============================] - 0s 7ms/step - loss: 0.6036 - val_loss: 0.6018\n",
      "Epoch 93/100\n",
      "46/46 [==============================] - 0s 7ms/step - loss: 0.6036 - val_loss: 0.6022\n",
      "Epoch 94/100\n",
      "46/46 [==============================] - 0s 7ms/step - loss: 0.6037 - val_loss: 0.6015\n",
      "Epoch 95/100\n",
      "46/46 [==============================] - 0s 10ms/step - loss: 0.6037 - val_loss: 0.6015\n",
      "Epoch 96/100\n",
      "46/46 [==============================] - 0s 10ms/step - loss: 0.6036 - val_loss: 0.6017\n",
      "Epoch 97/100\n",
      "46/46 [==============================] - 0s 10ms/step - loss: 0.6036 - val_loss: 0.6016\n",
      "Epoch 98/100\n",
      "46/46 [==============================] - 0s 5ms/step - loss: 0.6036 - val_loss: 0.6018\n",
      "Epoch 99/100\n",
      "46/46 [==============================] - 0s 8ms/step - loss: 0.6036 - val_loss: 0.6016\n",
      "Epoch 100/100\n",
      "46/46 [==============================] - 0s 9ms/step - loss: 0.6035 - val_loss: 0.6015\n"
     ]
    }
   ],
   "source": [
    "x_train_deep = x_train.reshape((len(x_train), np.prod(x_train.shape[1:])))\n",
    "x_test_deep = x_test.reshape((len(x_test), np.prod(x_test.shape[1:])))\n",
    "\n",
    "input_window = Input(shape=(window_length,))\n",
    "\n",
    "x = Dense(6, activation='relu')(input_window)\n",
    "x = BatchNormalization()(x)\n",
    "encoded = Dense(encoding_dim, activation='relu')(x)\n",
    "# \"decoded\" is the lossy reconstruction of the input\n",
    "\n",
    "x = Dense(6, activation='relu')(encoded)\n",
    "x = BatchNormalization()(x)\n",
    "decoded = Dense(window_length, activation='sigmoid')(x)\n",
    "\n",
    "# this model maps an input to its reconstruction\n",
    "autoencoder = Model(input_window, decoded)\n",
    "\n",
    "# this model maps an input to its encoded representation\n",
    "encoder = Model(input_window, encoded)\n",
    "\n",
    "autoencoder.summary()\n",
    "\n",
    "autoencoder.compile(optimizer='adam', loss='binary_crossentropy')\n",
    "history = autoencoder.fit(x_train_deep, x_train_deep,\n",
    "                epochs=epochs,\n",
    "                batch_size=1024,\n",
    "                shuffle=True,\n",
    "                validation_data=(x_test_deep, x_test_deep))\n",
    "\n",
    "decoded_stocks = autoencoder.predict(x_test_deep)"
   ]
  },
  {
   "cell_type": "code",
   "execution_count": 11,
   "id": "22014351",
   "metadata": {
    "ExecuteTime": {
     "end_time": "2022-11-06T13:41:49.500012Z",
     "start_time": "2022-11-06T13:41:49.483606Z"
    }
   },
   "outputs": [
    {
     "data": {
      "text/plain": [
       "(2000, 10)"
      ]
     },
     "execution_count": 11,
     "metadata": {},
     "output_type": "execute_result"
    }
   ],
   "source": [
    "decoded_stocks.shape"
   ]
  },
  {
   "cell_type": "code",
   "execution_count": 12,
   "id": "4ad11f13",
   "metadata": {
    "ExecuteTime": {
     "end_time": "2022-11-05T07:05:48.693846Z",
     "start_time": "2022-11-05T07:05:47.167537Z"
    }
   },
   "outputs": [
    {
     "data": {
      "image/png": "[encoded data removed]",
      "text/plain": [
       "<Figure size 1080x360 with 2 Axes>"
      ]
     },
     "metadata": {
      "needs_background": "light"
     },
     "output_type": "display_data"
    },
    {
     "data": {
      "image/png": "[encoded data removed]",
      "text/plain": [
       "<Figure size 1440x288 with 20 Axes>"
      ]
     },
     "metadata": {
      "needs_background": "light"
     },
     "output_type": "display_data"
    }
   ],
   "source": [
    "plot_history(history)\n",
    "plot_examples(x_test_deep, decoded_stocks)"
   ]
  },
  {
   "cell_type": "code",
   "execution_count": 19,
   "id": "80fdc9f9",
   "metadata": {
    "ExecuteTime": {
     "end_time": "2022-11-05T08:51:16.068113Z",
     "start_time": "2022-11-05T08:51:16.050941Z"
    }
   },
   "outputs": [
    {
     "data": {
      "text/plain": [
       "(46643, 10)"
      ]
     },
     "execution_count": 19,
     "metadata": {},
     "output_type": "execute_result"
    }
   ],
   "source": [
    "x_train_deep.shape"
   ]
  },
  {
   "cell_type": "code",
   "execution_count": null,
   "id": "9dded543",
   "metadata": {},
   "outputs": [],
   "source": []
  },
  {
   "cell_type": "markdown",
   "id": "8ff3cc4a",
   "metadata": {
    "ExecuteTime": {
     "end_time": "2022-11-05T07:06:05.906055Z",
     "start_time": "2022-11-05T07:06:05.891252Z"
    }
   },
   "source": [
    "## 1D Convolutional autoencoder"
   ]
  },
  {
   "cell_type": "code",
   "execution_count": 14,
   "id": "da71755f",
   "metadata": {
    "ExecuteTime": {
     "end_time": "2022-11-05T07:08:02.696522Z",
     "start_time": "2022-11-05T07:06:18.120881Z"
    }
   },
   "outputs": [
    {
     "name": "stdout",
     "output_type": "stream",
     "text": [
      "Model: \"model_5\"\n",
      "_________________________________________________________________\n",
      " Layer (type)                Output Shape              Param #   \n",
      "=================================================================\n",
      " input_3 (InputLayer)        [(None, 10, 1)]           0         \n",
      "                                                                 \n",
      " conv1d (Conv1D)             (None, 10, 16)            64        \n",
      "                                                                 \n",
      " max_pooling1d (MaxPooling1D  (None, 5, 16)            0         \n",
      " )                                                               \n",
      "                                                                 \n",
      " conv1d_1 (Conv1D)           (None, 5, 1)              49        \n",
      "                                                                 \n",
      " max_pooling1d_1 (MaxPooling  (None, 3, 1)             0         \n",
      " 1D)                                                             \n",
      "                                                                 \n",
      " conv1d_2 (Conv1D)           (None, 3, 1)              4         \n",
      "                                                                 \n",
      " up_sampling1d (UpSampling1D  (None, 6, 1)             0         \n",
      " )                                                               \n",
      "                                                                 \n",
      " conv1d_3 (Conv1D)           (None, 5, 16)             48        \n",
      "                                                                 \n",
      " up_sampling1d_1 (UpSampling  (None, 10, 16)           0         \n",
      " 1D)                                                             \n",
      "                                                                 \n",
      " conv1d_4 (Conv1D)           (None, 10, 1)             49        \n",
      "                                                                 \n",
      "=================================================================\n",
      "Total params: 214\n",
      "Trainable params: 214\n",
      "Non-trainable params: 0\n",
      "_________________________________________________________________\n",
      "Epoch 1/100\n",
      "46/46 [==============================] - 3s 39ms/step - loss: 0.6929 - val_loss: 0.6920\n",
      "Epoch 2/100\n",
      "46/46 [==============================] - 2s 38ms/step - loss: 0.6893 - val_loss: 0.6870\n",
      "Epoch 3/100\n",
      "46/46 [==============================] - 2s 35ms/step - loss: 0.6787 - val_loss: 0.6730\n",
      "Epoch 4/100\n",
      "46/46 [==============================] - 1s 15ms/step - loss: 0.6664 - val_loss: 0.6614\n",
      "Epoch 5/100\n",
      "46/46 [==============================] - 1s 14ms/step - loss: 0.6571 - val_loss: 0.6511\n",
      "Epoch 6/100\n",
      "46/46 [==============================] - 1s 20ms/step - loss: 0.6475 - val_loss: 0.6404\n",
      "Epoch 7/100\n",
      "46/46 [==============================] - 2s 35ms/step - loss: 0.6361 - val_loss: 0.6284\n",
      "Epoch 8/100\n",
      "46/46 [==============================] - 1s 23ms/step - loss: 0.6285 - val_loss: 0.6235\n",
      "Epoch 9/100\n",
      "46/46 [==============================] - 2s 36ms/step - loss: 0.6253 - val_loss: 0.6213\n",
      "Epoch 10/100\n",
      "46/46 [==============================] - 1s 17ms/step - loss: 0.6237 - val_loss: 0.6200\n",
      "Epoch 11/100\n",
      "46/46 [==============================] - 1s 18ms/step - loss: 0.6229 - val_loss: 0.6194\n",
      "Epoch 12/100\n",
      "46/46 [==============================] - 1s 16ms/step - loss: 0.6224 - val_loss: 0.6190\n",
      "Epoch 13/100\n",
      "46/46 [==============================] - 1s 21ms/step - loss: 0.6221 - val_loss: 0.6188\n",
      "Epoch 14/100\n",
      "46/46 [==============================] - 1s 14ms/step - loss: 0.6219 - val_loss: 0.6186\n",
      "Epoch 15/100\n",
      "46/46 [==============================] - 1s 16ms/step - loss: 0.6217 - val_loss: 0.6185\n",
      "Epoch 16/100\n",
      "46/46 [==============================] - 1s 26ms/step - loss: 0.6216 - val_loss: 0.6184\n",
      "Epoch 17/100\n",
      "46/46 [==============================] - 1s 26ms/step - loss: 0.6215 - val_loss: 0.6183\n",
      "Epoch 18/100\n",
      "46/46 [==============================] - 1s 16ms/step - loss: 0.6214 - val_loss: 0.6182\n",
      "Epoch 19/100\n",
      "46/46 [==============================] - 1s 14ms/step - loss: 0.6213 - val_loss: 0.6182\n",
      "Epoch 20/100\n",
      "46/46 [==============================] - 1s 15ms/step - loss: 0.6213 - val_loss: 0.6181\n",
      "Epoch 21/100\n",
      "46/46 [==============================] - 2s 34ms/step - loss: 0.6212 - val_loss: 0.6180\n",
      "Epoch 22/100\n",
      "46/46 [==============================] - 1s 19ms/step - loss: 0.6212 - val_loss: 0.6180\n",
      "Epoch 23/100\n",
      "46/46 [==============================] - 1s 28ms/step - loss: 0.6211 - val_loss: 0.6180\n",
      "Epoch 24/100\n",
      "46/46 [==============================] - 1s 26ms/step - loss: 0.6211 - val_loss: 0.6179\n",
      "Epoch 25/100\n",
      "46/46 [==============================] - 1s 15ms/step - loss: 0.6210 - val_loss: 0.6179\n",
      "Epoch 26/100\n",
      "46/46 [==============================] - 1s 15ms/step - loss: 0.6210 - val_loss: 0.6178\n",
      "Epoch 27/100\n",
      "46/46 [==============================] - 1s 19ms/step - loss: 0.6210 - val_loss: 0.6178\n",
      "Epoch 28/100\n",
      "46/46 [==============================] - 1s 27ms/step - loss: 0.6209 - val_loss: 0.6178\n",
      "Epoch 29/100\n",
      "46/46 [==============================] - 1s 19ms/step - loss: 0.6209 - val_loss: 0.6177\n",
      "Epoch 30/100\n",
      "46/46 [==============================] - 1s 23ms/step - loss: 0.6209 - val_loss: 0.6177\n",
      "Epoch 31/100\n",
      "46/46 [==============================] - 1s 22ms/step - loss: 0.6209 - val_loss: 0.6177\n",
      "Epoch 32/100\n",
      "46/46 [==============================] - 1s 19ms/step - loss: 0.6208 - val_loss: 0.6176\n",
      "Epoch 33/100\n",
      "46/46 [==============================] - 1s 14ms/step - loss: 0.6208 - val_loss: 0.6176\n",
      "Epoch 34/100\n",
      "46/46 [==============================] - 1s 15ms/step - loss: 0.6208 - val_loss: 0.6176\n",
      "Epoch 35/100\n",
      "46/46 [==============================] - 1s 28ms/step - loss: 0.6207 - val_loss: 0.6176\n",
      "Epoch 36/100\n",
      "46/46 [==============================] - 1s 31ms/step - loss: 0.6207 - val_loss: 0.6175\n",
      "Epoch 37/100\n",
      "46/46 [==============================] - 2s 35ms/step - loss: 0.6207 - val_loss: 0.6175\n",
      "Epoch 38/100\n",
      "46/46 [==============================] - 1s 22ms/step - loss: 0.6207 - val_loss: 0.6175\n",
      "Epoch 39/100\n",
      "46/46 [==============================] - 1s 15ms/step - loss: 0.6206 - val_loss: 0.6175\n",
      "Epoch 40/100\n",
      "46/46 [==============================] - 1s 15ms/step - loss: 0.6206 - val_loss: 0.6175\n",
      "Epoch 41/100\n",
      "46/46 [==============================] - 2s 37ms/step - loss: 0.6206 - val_loss: 0.6174\n",
      "Epoch 42/100\n",
      "46/46 [==============================] - 1s 19ms/step - loss: 0.6206 - val_loss: 0.6174\n",
      "Epoch 43/100\n",
      "46/46 [==============================] - 1s 31ms/step - loss: 0.6205 - val_loss: 0.6173\n",
      "Epoch 44/100\n",
      "46/46 [==============================] - 1s 30ms/step - loss: 0.6205 - val_loss: 0.6174\n",
      "Epoch 45/100\n",
      "46/46 [==============================] - 1s 16ms/step - loss: 0.6205 - val_loss: 0.6173\n",
      "Epoch 46/100\n",
      "46/46 [==============================] - 1s 16ms/step - loss: 0.6204 - val_loss: 0.6173\n",
      "Epoch 47/100\n",
      "46/46 [==============================] - 1s 27ms/step - loss: 0.6204 - val_loss: 0.6172\n",
      "Epoch 48/100\n",
      "46/46 [==============================] - 2s 35ms/step - loss: 0.6204 - val_loss: 0.6172\n",
      "Epoch 49/100\n",
      "46/46 [==============================] - 2s 33ms/step - loss: 0.6203 - val_loss: 0.6172\n",
      "Epoch 50/100\n",
      "46/46 [==============================] - 1s 26ms/step - loss: 0.6203 - val_loss: 0.6171\n",
      "Epoch 51/100\n",
      "46/46 [==============================] - 1s 15ms/step - loss: 0.6203 - val_loss: 0.6171\n",
      "Epoch 52/100\n",
      "46/46 [==============================] - 1s 14ms/step - loss: 0.6203 - val_loss: 0.6171\n",
      "Epoch 53/100\n",
      "46/46 [==============================] - 1s 26ms/step - loss: 0.6202 - val_loss: 0.6170\n",
      "Epoch 54/100\n",
      "46/46 [==============================] - 2s 33ms/step - loss: 0.6202 - val_loss: 0.6170\n",
      "Epoch 55/100\n",
      "46/46 [==============================] - 1s 32ms/step - loss: 0.6202 - val_loss: 0.6170\n",
      "Epoch 56/100\n",
      "46/46 [==============================] - 1s 28ms/step - loss: 0.6202 - val_loss: 0.6170\n",
      "Epoch 57/100\n",
      "46/46 [==============================] - 1s 15ms/step - loss: 0.6202 - val_loss: 0.6170\n",
      "Epoch 58/100\n",
      "46/46 [==============================] - 1s 15ms/step - loss: 0.6201 - val_loss: 0.6169\n",
      "Epoch 59/100\n",
      "46/46 [==============================] - 1s 25ms/step - loss: 0.6201 - val_loss: 0.6169\n",
      "Epoch 60/100\n",
      "46/46 [==============================] - 2s 35ms/step - loss: 0.6201 - val_loss: 0.6169\n",
      "Epoch 61/100\n",
      "46/46 [==============================] - 1s 21ms/step - loss: 0.6201 - val_loss: 0.6169\n",
      "Epoch 62/100\n",
      "46/46 [==============================] - 1s 30ms/step - loss: 0.6201 - val_loss: 0.6168\n",
      "Epoch 63/100\n",
      "46/46 [==============================] - 1s 16ms/step - loss: 0.6201 - val_loss: 0.6168\n",
      "Epoch 64/100\n",
      "46/46 [==============================] - 1s 14ms/step - loss: 0.6200 - val_loss: 0.6168\n",
      "Epoch 65/100\n",
      "46/46 [==============================] - 1s 17ms/step - loss: 0.6200 - val_loss: 0.6168\n",
      "Epoch 66/100\n",
      "46/46 [==============================] - 2s 33ms/step - loss: 0.6200 - val_loss: 0.6168\n",
      "Epoch 67/100\n",
      "46/46 [==============================] - 2s 34ms/step - loss: 0.6200 - val_loss: 0.6168\n",
      "Epoch 68/100\n",
      "46/46 [==============================] - 2s 35ms/step - loss: 0.6200 - val_loss: 0.6168\n",
      "Epoch 69/100\n",
      "46/46 [==============================] - 1s 14ms/step - loss: 0.6200 - val_loss: 0.6168\n",
      "Epoch 70/100\n",
      "46/46 [==============================] - 1s 14ms/step - loss: 0.6200 - val_loss: 0.6167\n",
      "Epoch 71/100\n",
      "46/46 [==============================] - 1s 14ms/step - loss: 0.6200 - val_loss: 0.6168\n",
      "Epoch 72/100\n",
      "46/46 [==============================] - 1s 18ms/step - loss: 0.6200 - val_loss: 0.6167\n",
      "Epoch 73/100\n",
      "46/46 [==============================] - 1s 26ms/step - loss: 0.6199 - val_loss: 0.6168\n",
      "Epoch 74/100\n",
      "46/46 [==============================] - 2s 35ms/step - loss: 0.6199 - val_loss: 0.6167\n",
      "Epoch 75/100\n",
      "46/46 [==============================] - 1s 28ms/step - loss: 0.6199 - val_loss: 0.6167\n",
      "Epoch 76/100\n",
      "46/46 [==============================] - 1s 14ms/step - loss: 0.6199 - val_loss: 0.6167\n",
      "Epoch 77/100\n",
      "46/46 [==============================] - 1s 15ms/step - loss: 0.6199 - val_loss: 0.6167\n",
      "Epoch 78/100\n",
      "46/46 [==============================] - 1s 21ms/step - loss: 0.6199 - val_loss: 0.6167\n",
      "Epoch 79/100\n",
      "46/46 [==============================] - 1s 23ms/step - loss: 0.6199 - val_loss: 0.6167\n",
      "Epoch 80/100\n",
      "46/46 [==============================] - 1s 20ms/step - loss: 0.6199 - val_loss: 0.6167\n",
      "Epoch 81/100\n",
      "46/46 [==============================] - 1s 20ms/step - loss: 0.6199 - val_loss: 0.6167\n",
      "Epoch 82/100\n",
      "46/46 [==============================] - 1s 14ms/step - loss: 0.6199 - val_loss: 0.6167\n",
      "Epoch 83/100\n",
      "46/46 [==============================] - 1s 15ms/step - loss: 0.6199 - val_loss: 0.6167\n",
      "Epoch 84/100\n",
      "46/46 [==============================] - 1s 19ms/step - loss: 0.6199 - val_loss: 0.6166\n",
      "Epoch 85/100\n",
      "46/46 [==============================] - 1s 18ms/step - loss: 0.6199 - val_loss: 0.6166\n",
      "Epoch 86/100\n",
      "46/46 [==============================] - 1s 16ms/step - loss: 0.6199 - val_loss: 0.6166\n",
      "Epoch 87/100\n",
      "46/46 [==============================] - 1s 16ms/step - loss: 0.6199 - val_loss: 0.6166\n",
      "Epoch 88/100\n",
      "46/46 [==============================] - 1s 15ms/step - loss: 0.6198 - val_loss: 0.6166\n",
      "Epoch 89/100\n",
      "46/46 [==============================] - 1s 27ms/step - loss: 0.6198 - val_loss: 0.6166\n",
      "Epoch 90/100\n",
      "46/46 [==============================] - 1s 26ms/step - loss: 0.6198 - val_loss: 0.6166\n",
      "Epoch 91/100\n",
      "46/46 [==============================] - 1s 17ms/step - loss: 0.6198 - val_loss: 0.6166\n",
      "Epoch 92/100\n",
      "46/46 [==============================] - 1s 16ms/step - loss: 0.6198 - val_loss: 0.6166\n",
      "Epoch 93/100\n",
      "46/46 [==============================] - 1s 16ms/step - loss: 0.6198 - val_loss: 0.6166\n",
      "Epoch 94/100\n",
      "46/46 [==============================] - 1s 17ms/step - loss: 0.6198 - val_loss: 0.6166\n",
      "Epoch 95/100\n",
      "46/46 [==============================] - 1s 24ms/step - loss: 0.6198 - val_loss: 0.6166\n",
      "Epoch 96/100\n",
      "46/46 [==============================] - 1s 23ms/step - loss: 0.6198 - val_loss: 0.6166\n",
      "Epoch 97/100\n",
      "46/46 [==============================] - 1s 28ms/step - loss: 0.6198 - val_loss: 0.6166\n",
      "Epoch 98/100\n",
      "46/46 [==============================] - 1s 21ms/step - loss: 0.6198 - val_loss: 0.6166\n",
      "Epoch 99/100\n",
      "46/46 [==============================] - 1s 16ms/step - loss: 0.6198 - val_loss: 0.6166\n",
      "Epoch 100/100\n",
      "46/46 [==============================] - 1s 16ms/step - loss: 0.6198 - val_loss: 0.6166\n"
     ]
    }
   ],
   "source": [
    "input_window = Input(shape=(window_length,1))\n",
    "x = Conv1D(16, 3, activation=\"relu\", padding=\"same\")(input_window) # 10 dims\n",
    "#x = BatchNormalization()(x)\n",
    "x = MaxPooling1D(2, padding=\"same\")(x) # 5 dims\n",
    "x = Conv1D(1, 3, activation=\"relu\", padding=\"same\")(x) # 5 dims\n",
    "#x = BatchNormalization()(x)\n",
    "encoded = MaxPooling1D(2, padding=\"same\")(x) # 3 dims\n",
    "\n",
    "encoder = Model(input_window, encoded)\n",
    "\n",
    "# 3 dimensions in the encoded layer\n",
    "\n",
    "x = Conv1D(1, 3, activation=\"relu\", padding=\"same\")(encoded) # 3 dims\n",
    "#x = BatchNormalization()(x)\n",
    "x = UpSampling1D(2)(x) # 6 dims\n",
    "x = Conv1D(16, 2, activation='relu')(x) # 5 dims\n",
    "#x = BatchNormalization()(x)\n",
    "x = UpSampling1D(2)(x) # 10 dims\n",
    "decoded = Conv1D(1, 3, activation='sigmoid', padding='same')(x) # 10 dims\n",
    "autoencoder = Model(input_window, decoded)\n",
    "autoencoder.summary()\n",
    "\n",
    "autoencoder.compile(optimizer='adam', loss='binary_crossentropy')\n",
    "history = autoencoder.fit(x_train, x_train,\n",
    "                epochs=epochs,\n",
    "                batch_size=1024,\n",
    "                shuffle=True,\n",
    "                validation_data=(x_test, x_test))\n",
    "\n",
    "decoded_stocks = autoencoder.predict(x_test)"
   ]
  },
  {
   "cell_type": "code",
   "execution_count": null,
   "id": "26509c99",
   "metadata": {},
   "outputs": [],
   "source": []
  },
  {
   "cell_type": "code",
   "execution_count": null,
   "id": "1f17b560",
   "metadata": {},
   "outputs": [],
   "source": []
  },
  {
   "cell_type": "code",
   "execution_count": null,
   "id": "87eabeba",
   "metadata": {},
   "outputs": [],
   "source": []
  },
  {
   "cell_type": "markdown",
   "id": "cc7b882b",
   "metadata": {},
   "source": [
    "## LSTM autoencoder"
   ]
  },
  {
   "cell_type": "code",
   "execution_count": null,
   "id": "28edfd4c",
   "metadata": {},
   "outputs": [],
   "source": [
    "inputs = Input(shape=(window_length, 1))\n",
    "encoded = LSTM(encoding_dim)(inputs)\n",
    "\n",
    "decoded = RepeatVector(window_length)(encoded)\n",
    "decoded = LSTM(1, return_sequences=True)(decoded)\n",
    "\n",
    "sequence_autoencoder = Model(inputs, decoded)\n",
    "encoder = Model(inputs, encoded)\n",
    "sequence_autoencoder.summary()\n",
    "\n",
    "sequence_autoencoder.compile(optimizer='adam', loss='binary_crossentropy')\n",
    "history = sequence_autoencoder.fit(x_train, x_train,\n",
    "                epochs=epochs,\n",
    "                batch_size=1024,\n",
    "                shuffle=True,\n",
    "                validation_data=(x_test, x_test))\n",
    "\n",
    "decoded_stocks = sequence_autoencoder.predict(x_test)"
   ]
  },
  {
   "cell_type": "code",
   "execution_count": null,
   "id": "a3d5ce9b",
   "metadata": {},
   "outputs": [],
   "source": []
  },
  {
   "cell_type": "code",
   "execution_count": null,
   "id": "6426268e",
   "metadata": {},
   "outputs": [],
   "source": []
  },
  {
   "cell_type": "markdown",
   "id": "4caeeadc",
   "metadata": {},
   "source": [
    "## simple AE + augumention with synthetic data"
   ]
  },
  {
   "cell_type": "code",
   "execution_count": null,
   "id": "12039d7d",
   "metadata": {},
   "outputs": [],
   "source": [
    "synthesized = []\n",
    "required_nums = [0, 1]\n",
    "optional_nums = list(np.arange(0.1, 0.9, 0.1))\n",
    "for i in tqdm(range(100000)):\n",
    "    combo = list(np.random.choice(optional_nums, 8))+required_nums\n",
    "    np.random.shuffle(combo)\n",
    "    synthesized.append(combo)"
   ]
  },
  {
   "cell_type": "code",
   "execution_count": null,
   "id": "003531e7",
   "metadata": {},
   "outputs": [],
   "source": [
    "x_train_simple = np.concatenate((x_train.reshape((len(x_train), np.prod(x_train.shape[1:]))),synthesized))\n",
    "x_test_simple = x_test.reshape((len(x_test), np.prod(x_test.shape[1:])))\n",
    "\n",
    "\n",
    "input_window = Input(shape=(window_length,))\n",
    "encoded = Dense(encoding_dim, activation='relu')(input_window)\n",
    "decoded = Dense(window_length, activation='sigmoid')(encoded)\n",
    "autoencoder = Model(input_window, decoded)\n",
    "encoder = Model(input_window, encoded)\n",
    "\n",
    "\n",
    "autoencoder.summary()\n",
    "autoencoder.compile(optimizer='adam', loss='binary_crossentropy')\n",
    "history = autoencoder.fit(x_train_simple, x_train_simple,\n",
    "                epochs=epochs,\n",
    "                batch_size=1024,\n",
    "                shuffle=True,\n",
    "                validation_data=(x_test_simple, x_test_simple))\n",
    "\n",
    "decoded_stocks = autoencoder.predict(x_test_simple)"
   ]
  },
  {
   "cell_type": "code",
   "execution_count": null,
   "id": "12195087",
   "metadata": {},
   "outputs": [],
   "source": []
  },
  {
   "cell_type": "code",
   "execution_count": null,
   "id": "43384032",
   "metadata": {},
   "outputs": [],
   "source": []
  },
  {
   "cell_type": "code",
   "execution_count": null,
   "id": "8f622e5d",
   "metadata": {},
   "outputs": [],
   "source": []
  },
  {
   "cell_type": "markdown",
   "id": "c9a24787",
   "metadata": {},
   "source": [
    "## Deep autoencoder + sythetic data"
   ]
  },
  {
   "cell_type": "code",
   "execution_count": null,
   "id": "338252df",
   "metadata": {},
   "outputs": [],
   "source": [
    "x_train_deep = np.concatenate((x_train.reshape((len(x_train), np.prod(x_train.shape[1:]))),synthesized))\n",
    "x_test_deep = x_test.reshape((len(x_test), np.prod(x_test.shape[1:])))\n",
    "input_window = Input(shape=(window_length,))\n",
    "\n",
    "x = Dense(6, activation='relu')(input_window)\n",
    "x = BatchNormalization()(x)\n",
    "encoded = Dense(encoding_dim, activation='relu')(x)\n",
    "x = Dense(6, activation='relu')(encoded)\n",
    "x = BatchNormalization()(x)\n",
    "decoded = Dense(window_length, activation='sigmoid')(x)\n",
    "autoencoder = Model(input_window, decoded)\n",
    "\n",
    "autoencoder.summary()\n",
    "\n",
    "autoencoder.compile(optimizer='adam', loss='binary_crossentropy')\n",
    "history = autoencoder.fit(x_train_deep, x_train_deep,\n",
    "                epochs=epochs,\n",
    "                batch_size=1024,\n",
    "                shuffle=True,\n",
    "                validation_data=(x_test_deep, x_test_deep))\n",
    "\n",
    "decoded_stocks = autoencoder.predict(x_test_deep)"
   ]
  }
 ],
 "metadata": {
  "kernelspec": {
   "display_name": "Python 3 (ipykernel)",
   "language": "python",
   "name": "python3"
  },
  "language_info": {
   "codemirror_mode": {
    "name": "ipython",
    "version": 3
   },
   "file_extension": ".py",
   "mimetype": "text/x-python",
   "name": "python",
   "nbconvert_exporter": "python",
   "pygments_lexer": "ipython3",
   "version": "3.9.7"
  },
  "toc": {
   "base_numbering": 1,
   "nav_menu": {},
   "number_sections": true,
   "sideBar": true,
   "skip_h1_title": false,
   "title_cell": "Table of Contents",
   "title_sidebar": "Contents",
   "toc_cell": false,
   "toc_position": {
    "height": "calc(100% - 180px)",
    "left": "10px",
    "top": "150px",
    "width": "341.333px"
   },
   "toc_section_display": true,
   "toc_window_display": false
  },
  "varInspector": {
   "cols": {
    "lenName": 16,
    "lenType": 16,
    "lenVar": 40
   },
   "kernels_config": {
    "python": {
     "delete_cmd_postfix": "",
     "delete_cmd_prefix": "del ",
     "library": "var_list.py",
     "varRefreshCmd": "print(var_dic_list())"
    },
    "r": {
     "delete_cmd_postfix": ") ",
     "delete_cmd_prefix": "rm(",
     "library": "var_list.r",
     "varRefreshCmd": "cat(var_dic_list()) "
    }
   },
   "types_to_exclude": [
    "module",
    "function",
    "builtin_function_or_method",
    "instance",
    "_Feature"
   ],
   "window_display": false
  }
 },
 "nbformat": 4,
 "nbformat_minor": 5
}
