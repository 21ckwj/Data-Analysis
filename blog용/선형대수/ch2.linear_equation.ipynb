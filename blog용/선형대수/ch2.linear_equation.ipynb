{
 "cells": [
  {
   "cell_type": "markdown",
   "id": "7b8f81ac",
   "metadata": {},
   "source": [
    "1. 2 * 3 영행렬, 모든 성분이 1인 2 * 2 행렬, 모든 성분이 3인 3 * 2 행렬, 2 * 2 단위행렬을 만들어 출력하는 프로그램을 작성하여라"
   ]
  },
  {
   "cell_type": "code",
   "execution_count": 13,
   "id": "4422c5da",
   "metadata": {
    "ExecuteTime": {
     "end_time": "2023-01-24T08:22:04.545879Z",
     "start_time": "2023-01-24T08:22:04.517954Z"
    }
   },
   "outputs": [
    {
     "name": "stdout",
     "output_type": "stream",
     "text": [
      "[[0. 0. 0.]\n",
      " [0. 0. 0.]]\n",
      "[[1. 1.]\n",
      " [1. 1.]]\n",
      "[[3. 3.]\n",
      " [3. 3.]\n",
      " [3. 3.]]\n",
      "[[1. 0.]\n",
      " [0. 1.]]\n"
     ]
    }
   ],
   "source": [
    "import numpy as np\n",
    "\n",
    "# 2 * 3 영행렬\n",
    "print(np.zeros(shape=[2,3]))\n",
    "\n",
    "# 모든 성분 1인  2 * 2 행렬\n",
    "print(np.ones(shape=[2,2]))\n",
    "\n",
    "# 모든 성분 3인 3 * 2 인 행렬\n",
    "print(np.ones(shape=[3,2]) * 3)\n",
    "\n",
    "# 단위 행렬 2 * 2\n",
    "M = np.zeros((2,2))\n",
    "M[0][0]=1\n",
    "M[1][1]=1\n",
    "print(M)"
   ]
  },
  {
   "cell_type": "code",
   "execution_count": 12,
   "id": "a8266721",
   "metadata": {
    "ExecuteTime": {
     "end_time": "2023-01-24T08:21:06.084917Z",
     "start_time": "2023-01-24T08:21:06.058311Z"
    }
   },
   "outputs": [
    {
     "name": "stdout",
     "output_type": "stream",
     "text": [
      "[[0. 0. 0.]\n",
      " [0. 0. 0.]]\n",
      "[[1. 1.]\n",
      " [1. 1.]]\n",
      "[[3 3]\n",
      " [3 3]\n",
      " [3 3]]\n",
      "[[1. 0.]\n",
      " [0. 1.]]\n"
     ]
    }
   ],
   "source": [
    "# 책 풀이\n",
    "\n",
    "# 2 * 3 영행렬\n",
    "print(np.zeros((2,3)))\n",
    "\n",
    "# 모든 성분 1인  2 * 2 행렬\n",
    "print(np.ones((2,2)))\n",
    "\n",
    "# 모든 성분 3인 3 * 2 인 행렬\n",
    "print(np.full((3,2),3))\n",
    "\n",
    "# 단위 행렬 2 * 2\n",
    "print(np.eye(2))"
   ]
  },
  {
   "cell_type": "markdown",
   "id": "cb7d4fdd",
   "metadata": {
    "ExecuteTime": {
     "end_time": "2023-01-24T08:24:45.483621Z",
     "start_time": "2023-01-24T08:24:45.474307Z"
    }
   },
   "source": [
    "2. 가우스 조단 소거법을 수행하는 gauss()라는 함수를 정의하고, 이 함수를 이용하여 다음 연립선형방정식의 해를 구하여라.<br>\n",
    "gauss(A) 의 입력으로 주어지는 A 는 주어진 연립선형방정식에 대한 첨가행렬이다.\n",
    "\n",
    "2* x1 + 2* x2+ 4* x3 = 18 <br>\n",
    "x1 + 3* x3 + 2* x3 = 13 <br>\n",
    "3* x1 + x2 + 3 * x3 = 14\n"
   ]
  },
  {
   "cell_type": "code",
   "execution_count": 16,
   "id": "57c39e3b",
   "metadata": {
    "ExecuteTime": {
     "end_time": "2023-01-24T08:36:39.400273Z",
     "start_time": "2023-01-24T08:36:39.388228Z"
    }
   },
   "outputs": [],
   "source": [
    "A = np.array([[2,2,4,18],[1,3,2,13],[3,1,3,14]])"
   ]
  },
  {
   "cell_type": "code",
   "execution_count": 18,
   "id": "df0176ca",
   "metadata": {
    "ExecuteTime": {
     "end_time": "2023-01-24T08:37:18.767013Z",
     "start_time": "2023-01-24T08:37:18.757739Z"
    }
   },
   "outputs": [
    {
     "name": "stdout",
     "output_type": "stream",
     "text": [
      "2\n",
      "3\n",
      "3\n"
     ]
    }
   ],
   "source": [
    "for i in range(A.shape[0]):\n",
    "    print(A[i][i])"
   ]
  },
  {
   "cell_type": "code",
   "execution_count": null,
   "id": "49f53dd8",
   "metadata": {},
   "outputs": [],
   "source": []
  },
  {
   "cell_type": "code",
   "execution_count": null,
   "id": "a382d08d",
   "metadata": {},
   "outputs": [],
   "source": []
  },
  {
   "cell_type": "code",
   "execution_count": null,
   "id": "0e3a3660",
   "metadata": {},
   "outputs": [],
   "source": []
  },
  {
   "cell_type": "code",
   "execution_count": null,
   "id": "0fb0bed6",
   "metadata": {},
   "outputs": [],
   "source": []
  },
  {
   "cell_type": "code",
   "execution_count": null,
   "id": "8e4227a9",
   "metadata": {},
   "outputs": [],
   "source": []
  },
  {
   "cell_type": "code",
   "execution_count": null,
   "id": "b26f92b7",
   "metadata": {},
   "outputs": [],
   "source": []
  }
 ],
 "metadata": {
  "kernelspec": {
   "display_name": "Python 3 (ipykernel)",
   "language": "python",
   "name": "python3"
  },
  "language_info": {
   "codemirror_mode": {
    "name": "ipython",
    "version": 3
   },
   "file_extension": ".py",
   "mimetype": "text/x-python",
   "name": "python",
   "nbconvert_exporter": "python",
   "pygments_lexer": "ipython3",
   "version": "3.9.7"
  },
  "varInspector": {
   "cols": {
    "lenName": 16,
    "lenType": 16,
    "lenVar": 40
   },
   "kernels_config": {
    "python": {
     "delete_cmd_postfix": "",
     "delete_cmd_prefix": "del ",
     "library": "var_list.py",
     "varRefreshCmd": "print(var_dic_list())"
    },
    "r": {
     "delete_cmd_postfix": ") ",
     "delete_cmd_prefix": "rm(",
     "library": "var_list.r",
     "varRefreshCmd": "cat(var_dic_list()) "
    }
   },
   "types_to_exclude": [
    "module",
    "function",
    "builtin_function_or_method",
    "instance",
    "_Feature"
   ],
   "window_display": false
  }
 },
 "nbformat": 4,
 "nbformat_minor": 5
}
