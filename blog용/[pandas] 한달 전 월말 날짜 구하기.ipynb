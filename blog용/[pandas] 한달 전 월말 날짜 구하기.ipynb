{
 "cells": [
  {
   "cell_type": "code",
   "execution_count": 8,
   "id": "90de8e9c",
   "metadata": {
    "ExecuteTime": {
     "end_time": "2023-03-16T15:16:41.911989Z",
     "start_time": "2023-03-16T15:16:41.896996Z"
    }
   },
   "outputs": [
    {
     "data": {
      "text/plain": [
       "Timestamp('2022-11-30 00:00:00')"
      ]
     },
     "execution_count": 8,
     "metadata": {},
     "output_type": "execute_result"
    }
   ],
   "source": [
    "import pandas as pd\n",
    "\n",
    "date = pd.to_datetime(\"2022-11-30\")\n",
    "date"
   ]
  },
  {
   "cell_type": "code",
   "execution_count": null,
   "id": "89c4653a",
   "metadata": {},
   "outputs": [],
   "source": []
  },
  {
   "cell_type": "markdown",
   "id": "48430396",
   "metadata": {},
   "source": [
    "# 한달 전"
   ]
  },
  {
   "cell_type": "code",
   "execution_count": 9,
   "id": "3d79442b",
   "metadata": {
    "ExecuteTime": {
     "end_time": "2023-03-16T15:16:42.718901Z",
     "start_time": "2023-03-16T15:16:42.696960Z"
    }
   },
   "outputs": [
    {
     "data": {
      "text/plain": [
       "Timestamp('2022-10-30 00:00:00')"
      ]
     },
     "execution_count": 9,
     "metadata": {},
     "output_type": "execute_result"
    }
   ],
   "source": [
    "from dateutil.relativedelta import relativedelta\n",
    "\n",
    "month_before = date - relativedelta(months=1)\n",
    "month_before"
   ]
  },
  {
   "cell_type": "markdown",
   "id": "d4fd4afe",
   "metadata": {},
   "source": [
    "# 한달 전 월말 날짜 구하기"
   ]
  },
  {
   "cell_type": "code",
   "execution_count": 16,
   "id": "1ee2b91c",
   "metadata": {
    "ExecuteTime": {
     "end_time": "2023-03-16T15:33:35.821547Z",
     "start_time": "2023-03-16T15:33:35.801612Z"
    }
   },
   "outputs": [
    {
     "data": {
      "text/plain": [
       "Timestamp('2022-10-31 00:00:00')"
      ]
     },
     "execution_count": 16,
     "metadata": {},
     "output_type": "execute_result"
    }
   ],
   "source": [
    "# 한달 전 마지막 날짜\n",
    "from dateutil.relativedelta import relativedelta\n",
    "from pandas.tseries.offsets import MonthEnd, MonthBegin\n",
    "\n",
    "month_before_last = date - relativedelta(months=1) + MonthEnd(0)\n",
    "month_before_last"
   ]
  },
  {
   "cell_type": "code",
   "execution_count": 17,
   "id": "aabbdb42",
   "metadata": {
    "ExecuteTime": {
     "end_time": "2023-03-16T15:33:44.792714Z",
     "start_time": "2023-03-16T15:33:44.777754Z"
    }
   },
   "outputs": [
    {
     "data": {
      "text/plain": [
       "Timestamp('2022-10-31 00:00:00')"
      ]
     },
     "execution_count": 17,
     "metadata": {},
     "output_type": "execute_result"
    }
   ],
   "source": [
    "month_before_last = date - relativedelta(months=1) + MonthEnd(1)\n",
    "month_before_last"
   ]
  },
  {
   "cell_type": "code",
   "execution_count": 18,
   "id": "8a2611ee",
   "metadata": {
    "ExecuteTime": {
     "end_time": "2023-03-16T15:33:51.859903Z",
     "start_time": "2023-03-16T15:33:51.844120Z"
    }
   },
   "outputs": [
    {
     "data": {
      "text/plain": [
       "Timestamp('2022-11-30 00:00:00')"
      ]
     },
     "execution_count": 18,
     "metadata": {},
     "output_type": "execute_result"
    }
   ],
   "source": [
    "month_before_last = date - relativedelta(months=1) + MonthEnd(2)\n",
    "month_before_last"
   ]
  },
  {
   "cell_type": "markdown",
   "id": "85387d87",
   "metadata": {},
   "source": [
    "# 한달 전 마지막 주 금요일 구하기"
   ]
  },
  {
   "cell_type": "code",
   "execution_count": 15,
   "id": "2f17d68f",
   "metadata": {
    "ExecuteTime": {
     "end_time": "2023-03-16T15:22:33.024505Z",
     "start_time": "2023-03-16T15:22:33.017521Z"
    }
   },
   "outputs": [
    {
     "data": {
      "text/plain": [
       "Timestamp('2022-10-28 00:00:00')"
      ]
     },
     "execution_count": 15,
     "metadata": {},
     "output_type": "execute_result"
    }
   ],
   "source": [
    "from dateutil.relativedelta import relativedelta, FR\n",
    "\n",
    "month_before_last_f = date - relativedelta(months=1,weekday=FR(-1))\n",
    "month_before_last_f"
   ]
  },
  {
   "cell_type": "code",
   "execution_count": null,
   "id": "90aaea85",
   "metadata": {},
   "outputs": [],
   "source": [
    " "
   ]
  }
 ],
 "metadata": {
  "kernelspec": {
   "display_name": "Python 3 (ipykernel)",
   "language": "python",
   "name": "python3"
  },
  "language_info": {
   "codemirror_mode": {
    "name": "ipython",
    "version": 3
   },
   "file_extension": ".py",
   "mimetype": "text/x-python",
   "name": "python",
   "nbconvert_exporter": "python",
   "pygments_lexer": "ipython3",
   "version": "3.9.7"
  },
  "toc": {
   "base_numbering": 1,
   "nav_menu": {},
   "number_sections": true,
   "sideBar": true,
   "skip_h1_title": false,
   "title_cell": "Table of Contents",
   "title_sidebar": "Contents",
   "toc_cell": false,
   "toc_position": {},
   "toc_section_display": true,
   "toc_window_display": false
  },
  "varInspector": {
   "cols": {
    "lenName": 16,
    "lenType": 16,
    "lenVar": 40
   },
   "kernels_config": {
    "python": {
     "delete_cmd_postfix": "",
     "delete_cmd_prefix": "del ",
     "library": "var_list.py",
     "varRefreshCmd": "print(var_dic_list())"
    },
    "r": {
     "delete_cmd_postfix": ") ",
     "delete_cmd_prefix": "rm(",
     "library": "var_list.r",
     "varRefreshCmd": "cat(var_dic_list()) "
    }
   },
   "types_to_exclude": [
    "module",
    "function",
    "builtin_function_or_method",
    "instance",
    "_Feature"
   ],
   "window_display": false
  }
 },
 "nbformat": 4,
 "nbformat_minor": 5
}
