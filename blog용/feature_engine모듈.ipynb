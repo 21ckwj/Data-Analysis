{
 "cells": [
  {
   "cell_type": "code",
   "execution_count": 18,
   "id": "93bc9cf5",
   "metadata": {
    "ExecuteTime": {
     "end_time": "2022-11-15T14:49:21.089769Z",
     "start_time": "2022-11-15T14:49:21.085781Z"
    }
   },
   "outputs": [],
   "source": [
    "import pandas as pd\n",
    "import numpy as np\n",
    "from feature_engine.timeseries.forecasting import LagFeatures\n",
    "# from feature_engine."
   ]
  },
  {
   "cell_type": "code",
   "execution_count": 58,
   "id": "2b100d8b",
   "metadata": {
    "ExecuteTime": {
     "end_time": "2022-11-15T15:54:29.383323Z",
     "start_time": "2022-11-15T15:54:29.289002Z"
    }
   },
   "outputs": [
    {
     "data": {
      "text/html": [
       "<div>\n",
       "<style scoped>\n",
       "    .dataframe tbody tr th:only-of-type {\n",
       "        vertical-align: middle;\n",
       "    }\n",
       "\n",
       "    .dataframe tbody tr th {\n",
       "        vertical-align: top;\n",
       "    }\n",
       "\n",
       "    .dataframe thead th {\n",
       "        text-align: right;\n",
       "    }\n",
       "</style>\n",
       "<table border=\"1\" class=\"dataframe\">\n",
       "  <thead>\n",
       "    <tr style=\"text-align: right;\">\n",
       "      <th></th>\n",
       "      <th>pollution</th>\n",
       "      <th>dew</th>\n",
       "      <th>temp</th>\n",
       "      <th>press</th>\n",
       "      <th>wnd_dir</th>\n",
       "      <th>wnd_spd</th>\n",
       "      <th>snow</th>\n",
       "      <th>rain</th>\n",
       "    </tr>\n",
       "    <tr>\n",
       "      <th>date</th>\n",
       "      <th></th>\n",
       "      <th></th>\n",
       "      <th></th>\n",
       "      <th></th>\n",
       "      <th></th>\n",
       "      <th></th>\n",
       "      <th></th>\n",
       "      <th></th>\n",
       "    </tr>\n",
       "  </thead>\n",
       "  <tbody>\n",
       "    <tr>\n",
       "      <th>2010-01-02 00:00:00</th>\n",
       "      <td>129.0</td>\n",
       "      <td>-16</td>\n",
       "      <td>-4.0</td>\n",
       "      <td>1020.0</td>\n",
       "      <td>SE</td>\n",
       "      <td>1.79</td>\n",
       "      <td>0</td>\n",
       "      <td>0</td>\n",
       "    </tr>\n",
       "    <tr>\n",
       "      <th>2010-01-02 01:00:00</th>\n",
       "      <td>148.0</td>\n",
       "      <td>-15</td>\n",
       "      <td>-4.0</td>\n",
       "      <td>1020.0</td>\n",
       "      <td>SE</td>\n",
       "      <td>2.68</td>\n",
       "      <td>0</td>\n",
       "      <td>0</td>\n",
       "    </tr>\n",
       "    <tr>\n",
       "      <th>2010-01-02 02:00:00</th>\n",
       "      <td>159.0</td>\n",
       "      <td>-11</td>\n",
       "      <td>-5.0</td>\n",
       "      <td>1021.0</td>\n",
       "      <td>SE</td>\n",
       "      <td>3.57</td>\n",
       "      <td>0</td>\n",
       "      <td>0</td>\n",
       "    </tr>\n",
       "    <tr>\n",
       "      <th>2010-01-02 03:00:00</th>\n",
       "      <td>181.0</td>\n",
       "      <td>-7</td>\n",
       "      <td>-5.0</td>\n",
       "      <td>1022.0</td>\n",
       "      <td>SE</td>\n",
       "      <td>5.36</td>\n",
       "      <td>1</td>\n",
       "      <td>0</td>\n",
       "    </tr>\n",
       "    <tr>\n",
       "      <th>2010-01-02 04:00:00</th>\n",
       "      <td>138.0</td>\n",
       "      <td>-7</td>\n",
       "      <td>-5.0</td>\n",
       "      <td>1022.0</td>\n",
       "      <td>SE</td>\n",
       "      <td>6.25</td>\n",
       "      <td>2</td>\n",
       "      <td>0</td>\n",
       "    </tr>\n",
       "  </tbody>\n",
       "</table>\n",
       "</div>"
      ],
      "text/plain": [
       "                     pollution  dew  temp   press wnd_dir  wnd_spd  snow  rain\n",
       "date                                                                          \n",
       "2010-01-02 00:00:00      129.0  -16  -4.0  1020.0      SE     1.79     0     0\n",
       "2010-01-02 01:00:00      148.0  -15  -4.0  1020.0      SE     2.68     0     0\n",
       "2010-01-02 02:00:00      159.0  -11  -5.0  1021.0      SE     3.57     0     0\n",
       "2010-01-02 03:00:00      181.0   -7  -5.0  1022.0      SE     5.36     1     0\n",
       "2010-01-02 04:00:00      138.0   -7  -5.0  1022.0      SE     6.25     2     0"
      ]
     },
     "execution_count": 58,
     "metadata": {},
     "output_type": "execute_result"
    }
   ],
   "source": [
    "df = pd.read_csv('./data/pollution.csv',index_col=['date'], parse_dates=['date'])\n",
    "df.head()"
   ]
  },
  {
   "cell_type": "code",
   "execution_count": 59,
   "id": "ae16ea90",
   "metadata": {
    "ExecuteTime": {
     "end_time": "2022-11-15T15:54:29.490741Z",
     "start_time": "2022-11-15T15:54:29.464206Z"
    }
   },
   "outputs": [
    {
     "data": {
      "text/html": [
       "<div>\n",
       "<style scoped>\n",
       "    .dataframe tbody tr th:only-of-type {\n",
       "        vertical-align: middle;\n",
       "    }\n",
       "\n",
       "    .dataframe tbody tr th {\n",
       "        vertical-align: top;\n",
       "    }\n",
       "\n",
       "    .dataframe thead th {\n",
       "        text-align: right;\n",
       "    }\n",
       "</style>\n",
       "<table border=\"1\" class=\"dataframe\">\n",
       "  <thead>\n",
       "    <tr style=\"text-align: right;\">\n",
       "      <th></th>\n",
       "      <th>pollution</th>\n",
       "    </tr>\n",
       "    <tr>\n",
       "      <th>date</th>\n",
       "      <th></th>\n",
       "    </tr>\n",
       "  </thead>\n",
       "  <tbody>\n",
       "    <tr>\n",
       "      <th>2010-01-02</th>\n",
       "      <td>145.958333</td>\n",
       "    </tr>\n",
       "    <tr>\n",
       "      <th>2010-01-03</th>\n",
       "      <td>78.833333</td>\n",
       "    </tr>\n",
       "    <tr>\n",
       "      <th>2010-01-04</th>\n",
       "      <td>31.333333</td>\n",
       "    </tr>\n",
       "    <tr>\n",
       "      <th>2010-01-05</th>\n",
       "      <td>42.458333</td>\n",
       "    </tr>\n",
       "    <tr>\n",
       "      <th>2010-01-06</th>\n",
       "      <td>56.416667</td>\n",
       "    </tr>\n",
       "  </tbody>\n",
       "</table>\n",
       "</div>"
      ],
      "text/plain": [
       "             pollution\n",
       "date                  \n",
       "2010-01-02  145.958333\n",
       "2010-01-03   78.833333\n",
       "2010-01-04   31.333333\n",
       "2010-01-05   42.458333\n",
       "2010-01-06   56.416667"
      ]
     },
     "execution_count": 59,
     "metadata": {},
     "output_type": "execute_result"
    }
   ],
   "source": [
    "df = df.pollution.to_frame().resample('D').mean()\n",
    "df.head()"
   ]
  },
  {
   "cell_type": "markdown",
   "id": "25c99e4c",
   "metadata": {},
   "source": [
    "# lag"
   ]
  },
  {
   "cell_type": "code",
   "execution_count": 61,
   "id": "0fb85d5f",
   "metadata": {
    "ExecuteTime": {
     "end_time": "2022-11-15T15:54:37.302255Z",
     "start_time": "2022-11-15T15:54:37.284300Z"
    }
   },
   "outputs": [
    {
     "data": {
      "text/html": [
       "<div>\n",
       "<style scoped>\n",
       "    .dataframe tbody tr th:only-of-type {\n",
       "        vertical-align: middle;\n",
       "    }\n",
       "\n",
       "    .dataframe tbody tr th {\n",
       "        vertical-align: top;\n",
       "    }\n",
       "\n",
       "    .dataframe thead th {\n",
       "        text-align: right;\n",
       "    }\n",
       "</style>\n",
       "<table border=\"1\" class=\"dataframe\">\n",
       "  <thead>\n",
       "    <tr style=\"text-align: right;\">\n",
       "      <th></th>\n",
       "      <th>pollution</th>\n",
       "      <th>pollution_lag_2</th>\n",
       "    </tr>\n",
       "    <tr>\n",
       "      <th>date</th>\n",
       "      <th></th>\n",
       "      <th></th>\n",
       "    </tr>\n",
       "  </thead>\n",
       "  <tbody>\n",
       "    <tr>\n",
       "      <th>2010-01-02</th>\n",
       "      <td>145.958333</td>\n",
       "      <td>NaN</td>\n",
       "    </tr>\n",
       "    <tr>\n",
       "      <th>2010-01-03</th>\n",
       "      <td>78.833333</td>\n",
       "      <td>NaN</td>\n",
       "    </tr>\n",
       "    <tr>\n",
       "      <th>2010-01-04</th>\n",
       "      <td>31.333333</td>\n",
       "      <td>145.958333</td>\n",
       "    </tr>\n",
       "    <tr>\n",
       "      <th>2010-01-05</th>\n",
       "      <td>42.458333</td>\n",
       "      <td>78.833333</td>\n",
       "    </tr>\n",
       "    <tr>\n",
       "      <th>2010-01-06</th>\n",
       "      <td>56.416667</td>\n",
       "      <td>31.333333</td>\n",
       "    </tr>\n",
       "  </tbody>\n",
       "</table>\n",
       "</div>"
      ],
      "text/plain": [
       "             pollution  pollution_lag_2\n",
       "date                                   \n",
       "2010-01-02  145.958333              NaN\n",
       "2010-01-03   78.833333              NaN\n",
       "2010-01-04   31.333333       145.958333\n",
       "2010-01-05   42.458333        78.833333\n",
       "2010-01-06   56.416667        31.333333"
      ]
     },
     "execution_count": 61,
     "metadata": {},
     "output_type": "execute_result"
    }
   ],
   "source": [
    "df1 = df.copy()\n",
    "lag= 2 \n",
    "df1[f'pollution_lag_{lag}'] = df1['pollution'].shift(periods=lag, freq='D')\n",
    "df1.head()"
   ]
  },
  {
   "cell_type": "markdown",
   "id": "0d1126ea",
   "metadata": {
    "ExecuteTime": {
     "end_time": "2022-11-15T14:49:45.765588Z",
     "start_time": "2022-11-15T14:49:45.754618Z"
    }
   },
   "source": [
    "## feature engine"
   ]
  },
  {
   "cell_type": "code",
   "execution_count": 62,
   "id": "d7c16590",
   "metadata": {
    "ExecuteTime": {
     "end_time": "2022-11-15T15:54:48.803038Z",
     "start_time": "2022-11-15T15:54:48.777857Z"
    },
    "scrolled": true
   },
   "outputs": [
    {
     "data": {
      "text/html": [
       "<div>\n",
       "<style scoped>\n",
       "    .dataframe tbody tr th:only-of-type {\n",
       "        vertical-align: middle;\n",
       "    }\n",
       "\n",
       "    .dataframe tbody tr th {\n",
       "        vertical-align: top;\n",
       "    }\n",
       "\n",
       "    .dataframe thead th {\n",
       "        text-align: right;\n",
       "    }\n",
       "</style>\n",
       "<table border=\"1\" class=\"dataframe\">\n",
       "  <thead>\n",
       "    <tr style=\"text-align: right;\">\n",
       "      <th></th>\n",
       "      <th>pollution</th>\n",
       "      <th>pollution_lag_1D</th>\n",
       "      <th>pollution_lag_2D</th>\n",
       "    </tr>\n",
       "    <tr>\n",
       "      <th>date</th>\n",
       "      <th></th>\n",
       "      <th></th>\n",
       "      <th></th>\n",
       "    </tr>\n",
       "  </thead>\n",
       "  <tbody>\n",
       "    <tr>\n",
       "      <th>2010-01-02</th>\n",
       "      <td>145.958333</td>\n",
       "      <td>NaN</td>\n",
       "      <td>NaN</td>\n",
       "    </tr>\n",
       "    <tr>\n",
       "      <th>2010-01-03</th>\n",
       "      <td>78.833333</td>\n",
       "      <td>145.958333</td>\n",
       "      <td>NaN</td>\n",
       "    </tr>\n",
       "    <tr>\n",
       "      <th>2010-01-04</th>\n",
       "      <td>31.333333</td>\n",
       "      <td>78.833333</td>\n",
       "      <td>145.958333</td>\n",
       "    </tr>\n",
       "    <tr>\n",
       "      <th>2010-01-05</th>\n",
       "      <td>42.458333</td>\n",
       "      <td>31.333333</td>\n",
       "      <td>78.833333</td>\n",
       "    </tr>\n",
       "    <tr>\n",
       "      <th>2010-01-06</th>\n",
       "      <td>56.416667</td>\n",
       "      <td>42.458333</td>\n",
       "      <td>31.333333</td>\n",
       "    </tr>\n",
       "    <tr>\n",
       "      <th>...</th>\n",
       "      <td>...</td>\n",
       "      <td>...</td>\n",
       "      <td>...</td>\n",
       "    </tr>\n",
       "    <tr>\n",
       "      <th>2014-12-27</th>\n",
       "      <td>238.666667</td>\n",
       "      <td>170.250000</td>\n",
       "      <td>27.000000</td>\n",
       "    </tr>\n",
       "    <tr>\n",
       "      <th>2014-12-28</th>\n",
       "      <td>197.375000</td>\n",
       "      <td>238.666667</td>\n",
       "      <td>170.250000</td>\n",
       "    </tr>\n",
       "    <tr>\n",
       "      <th>2014-12-29</th>\n",
       "      <td>159.000000</td>\n",
       "      <td>197.375000</td>\n",
       "      <td>238.666667</td>\n",
       "    </tr>\n",
       "    <tr>\n",
       "      <th>2014-12-30</th>\n",
       "      <td>46.083333</td>\n",
       "      <td>159.000000</td>\n",
       "      <td>197.375000</td>\n",
       "    </tr>\n",
       "    <tr>\n",
       "      <th>2014-12-31</th>\n",
       "      <td>10.041667</td>\n",
       "      <td>46.083333</td>\n",
       "      <td>159.000000</td>\n",
       "    </tr>\n",
       "  </tbody>\n",
       "</table>\n",
       "<p>1825 rows × 3 columns</p>\n",
       "</div>"
      ],
      "text/plain": [
       "             pollution  pollution_lag_1D  pollution_lag_2D\n",
       "date                                                      \n",
       "2010-01-02  145.958333               NaN               NaN\n",
       "2010-01-03   78.833333        145.958333               NaN\n",
       "2010-01-04   31.333333         78.833333        145.958333\n",
       "2010-01-05   42.458333         31.333333         78.833333\n",
       "2010-01-06   56.416667         42.458333         31.333333\n",
       "...                ...               ...               ...\n",
       "2014-12-27  238.666667        170.250000         27.000000\n",
       "2014-12-28  197.375000        238.666667        170.250000\n",
       "2014-12-29  159.000000        197.375000        238.666667\n",
       "2014-12-30   46.083333        159.000000        197.375000\n",
       "2014-12-31   10.041667         46.083333        159.000000\n",
       "\n",
       "[1825 rows x 3 columns]"
      ]
     },
     "execution_count": 62,
     "metadata": {},
     "output_type": "execute_result"
    }
   ],
   "source": [
    "from feature_engine.timeseries.forecasting import LagFeatures\n",
    "df2 = df.copy()\n",
    "lag_transformer = LagFeatures(variables=['pollution'], freq=['1D','2D'])\n",
    "lag_transformer.fit_transform(df2)"
   ]
  },
  {
   "cell_type": "markdown",
   "id": "727c871c",
   "metadata": {},
   "source": [
    "# window "
   ]
  },
  {
   "cell_type": "code",
   "execution_count": 63,
   "id": "12426e8d",
   "metadata": {
    "ExecuteTime": {
     "end_time": "2022-11-15T15:54:54.296495Z",
     "start_time": "2022-11-15T15:54:54.279538Z"
    }
   },
   "outputs": [],
   "source": [
    "df1 = df.copy()"
   ]
  },
  {
   "cell_type": "code",
   "execution_count": 64,
   "id": "c6d3aa1d",
   "metadata": {
    "ExecuteTime": {
     "end_time": "2022-11-15T15:54:59.703827Z",
     "start_time": "2022-11-15T15:54:59.680850Z"
    }
   },
   "outputs": [
    {
     "data": {
      "text/html": [
       "<div>\n",
       "<style scoped>\n",
       "    .dataframe tbody tr th:only-of-type {\n",
       "        vertical-align: middle;\n",
       "    }\n",
       "\n",
       "    .dataframe tbody tr th {\n",
       "        vertical-align: top;\n",
       "    }\n",
       "\n",
       "    .dataframe thead th {\n",
       "        text-align: right;\n",
       "    }\n",
       "</style>\n",
       "<table border=\"1\" class=\"dataframe\">\n",
       "  <thead>\n",
       "    <tr style=\"text-align: right;\">\n",
       "      <th></th>\n",
       "      <th>mean</th>\n",
       "      <th>std</th>\n",
       "    </tr>\n",
       "    <tr>\n",
       "      <th>date</th>\n",
       "      <th></th>\n",
       "      <th></th>\n",
       "    </tr>\n",
       "  </thead>\n",
       "  <tbody>\n",
       "    <tr>\n",
       "      <th>2010-01-03</th>\n",
       "      <td>145.958333</td>\n",
       "      <td>NaN</td>\n",
       "    </tr>\n",
       "    <tr>\n",
       "      <th>2010-01-04</th>\n",
       "      <td>112.395833</td>\n",
       "      <td>47.464543</td>\n",
       "    </tr>\n",
       "    <tr>\n",
       "      <th>2010-01-05</th>\n",
       "      <td>85.375000</td>\n",
       "      <td>57.591820</td>\n",
       "    </tr>\n",
       "    <tr>\n",
       "      <th>2010-01-06</th>\n",
       "      <td>74.645833</td>\n",
       "      <td>51.688218</td>\n",
       "    </tr>\n",
       "    <tr>\n",
       "      <th>2010-01-07</th>\n",
       "      <td>71.000000</td>\n",
       "      <td>45.499609</td>\n",
       "    </tr>\n",
       "  </tbody>\n",
       "</table>\n",
       "</div>"
      ],
      "text/plain": [
       "                  mean        std\n",
       "date                             \n",
       "2010-01-03  145.958333        NaN\n",
       "2010-01-04  112.395833  47.464543\n",
       "2010-01-05   85.375000  57.591820\n",
       "2010-01-06   74.645833  51.688218\n",
       "2010-01-07   71.000000  45.499609"
      ]
     },
     "execution_count": 64,
     "metadata": {},
     "output_type": "execute_result"
    }
   ],
   "source": [
    "window_size = 5\n",
    "result = (df1['pollution'].rolling(window=window_size, min_periods=1)\n",
    "                        .agg(['mean','std'])\n",
    "                        .shift(freq='1D'))\n",
    "result.head()"
   ]
  },
  {
   "cell_type": "code",
   "execution_count": 65,
   "id": "28193527",
   "metadata": {
    "ExecuteTime": {
     "end_time": "2022-11-15T15:55:07.127453Z",
     "start_time": "2022-11-15T15:55:07.108471Z"
    }
   },
   "outputs": [
    {
     "data": {
      "text/html": [
       "<div>\n",
       "<style scoped>\n",
       "    .dataframe tbody tr th:only-of-type {\n",
       "        vertical-align: middle;\n",
       "    }\n",
       "\n",
       "    .dataframe tbody tr th {\n",
       "        vertical-align: top;\n",
       "    }\n",
       "\n",
       "    .dataframe thead th {\n",
       "        text-align: right;\n",
       "    }\n",
       "</style>\n",
       "<table border=\"1\" class=\"dataframe\">\n",
       "  <thead>\n",
       "    <tr style=\"text-align: right;\">\n",
       "      <th></th>\n",
       "      <th>window_5_mean</th>\n",
       "      <th>window_5_std</th>\n",
       "    </tr>\n",
       "    <tr>\n",
       "      <th>date</th>\n",
       "      <th></th>\n",
       "      <th></th>\n",
       "    </tr>\n",
       "  </thead>\n",
       "  <tbody>\n",
       "    <tr>\n",
       "      <th>2010-01-03</th>\n",
       "      <td>145.958333</td>\n",
       "      <td>NaN</td>\n",
       "    </tr>\n",
       "    <tr>\n",
       "      <th>2010-01-04</th>\n",
       "      <td>112.395833</td>\n",
       "      <td>47.464543</td>\n",
       "    </tr>\n",
       "    <tr>\n",
       "      <th>2010-01-05</th>\n",
       "      <td>85.375000</td>\n",
       "      <td>57.591820</td>\n",
       "    </tr>\n",
       "    <tr>\n",
       "      <th>2010-01-06</th>\n",
       "      <td>74.645833</td>\n",
       "      <td>51.688218</td>\n",
       "    </tr>\n",
       "    <tr>\n",
       "      <th>2010-01-07</th>\n",
       "      <td>71.000000</td>\n",
       "      <td>45.499609</td>\n",
       "    </tr>\n",
       "  </tbody>\n",
       "</table>\n",
       "</div>"
      ],
      "text/plain": [
       "            window_5_mean  window_5_std\n",
       "date                                   \n",
       "2010-01-03     145.958333           NaN\n",
       "2010-01-04     112.395833     47.464543\n",
       "2010-01-05      85.375000     57.591820\n",
       "2010-01-06      74.645833     51.688218\n",
       "2010-01-07      71.000000     45.499609"
      ]
     },
     "execution_count": 65,
     "metadata": {},
     "output_type": "execute_result"
    }
   ],
   "source": [
    "result = result.add_prefix(f'window_{window_size}_')\n",
    "result.head()"
   ]
  },
  {
   "cell_type": "code",
   "execution_count": 66,
   "id": "177a0518",
   "metadata": {
    "ExecuteTime": {
     "end_time": "2022-11-15T15:55:40.801538Z",
     "start_time": "2022-11-15T15:55:40.776835Z"
    }
   },
   "outputs": [
    {
     "data": {
      "text/html": [
       "<div>\n",
       "<style scoped>\n",
       "    .dataframe tbody tr th:only-of-type {\n",
       "        vertical-align: middle;\n",
       "    }\n",
       "\n",
       "    .dataframe tbody tr th {\n",
       "        vertical-align: top;\n",
       "    }\n",
       "\n",
       "    .dataframe thead th {\n",
       "        text-align: right;\n",
       "    }\n",
       "</style>\n",
       "<table border=\"1\" class=\"dataframe\">\n",
       "  <thead>\n",
       "    <tr style=\"text-align: right;\">\n",
       "      <th></th>\n",
       "      <th>pollution</th>\n",
       "      <th>window_5_mean</th>\n",
       "      <th>window_5_std</th>\n",
       "    </tr>\n",
       "    <tr>\n",
       "      <th>date</th>\n",
       "      <th></th>\n",
       "      <th></th>\n",
       "      <th></th>\n",
       "    </tr>\n",
       "  </thead>\n",
       "  <tbody>\n",
       "    <tr>\n",
       "      <th>2010-01-02</th>\n",
       "      <td>145.958333</td>\n",
       "      <td>NaN</td>\n",
       "      <td>NaN</td>\n",
       "    </tr>\n",
       "    <tr>\n",
       "      <th>2010-01-03</th>\n",
       "      <td>78.833333</td>\n",
       "      <td>145.958333</td>\n",
       "      <td>NaN</td>\n",
       "    </tr>\n",
       "    <tr>\n",
       "      <th>2010-01-04</th>\n",
       "      <td>31.333333</td>\n",
       "      <td>112.395833</td>\n",
       "      <td>47.464543</td>\n",
       "    </tr>\n",
       "    <tr>\n",
       "      <th>2010-01-05</th>\n",
       "      <td>42.458333</td>\n",
       "      <td>85.375000</td>\n",
       "      <td>57.591820</td>\n",
       "    </tr>\n",
       "    <tr>\n",
       "      <th>2010-01-06</th>\n",
       "      <td>56.416667</td>\n",
       "      <td>74.645833</td>\n",
       "      <td>51.688218</td>\n",
       "    </tr>\n",
       "  </tbody>\n",
       "</table>\n",
       "</div>"
      ],
      "text/plain": [
       "             pollution  window_5_mean  window_5_std\n",
       "date                                               \n",
       "2010-01-02  145.958333            NaN           NaN\n",
       "2010-01-03   78.833333     145.958333           NaN\n",
       "2010-01-04   31.333333     112.395833     47.464543\n",
       "2010-01-05   42.458333      85.375000     57.591820\n",
       "2010-01-06   56.416667      74.645833     51.688218"
      ]
     },
     "execution_count": 66,
     "metadata": {},
     "output_type": "execute_result"
    }
   ],
   "source": [
    "df_window = df1.merge(result,how='left',right_index=True,left_index=True)\n",
    "df_window.head()"
   ]
  },
  {
   "cell_type": "markdown",
   "id": "6ade6e6d",
   "metadata": {},
   "source": [
    "## feature engine"
   ]
  },
  {
   "cell_type": "code",
   "execution_count": 69,
   "id": "2d13d434",
   "metadata": {
    "ExecuteTime": {
     "end_time": "2022-11-15T15:57:20.880548Z",
     "start_time": "2022-11-15T15:57:20.868581Z"
    }
   },
   "outputs": [],
   "source": [
    "df1 = df.copy()"
   ]
  },
  {
   "cell_type": "code",
   "execution_count": 73,
   "id": "699e589e",
   "metadata": {
    "ExecuteTime": {
     "end_time": "2022-11-15T15:58:35.509349Z",
     "start_time": "2022-11-15T15:58:35.456491Z"
    }
   },
   "outputs": [
    {
     "data": {
      "text/html": [
       "<div>\n",
       "<style scoped>\n",
       "    .dataframe tbody tr th:only-of-type {\n",
       "        vertical-align: middle;\n",
       "    }\n",
       "\n",
       "    .dataframe tbody tr th {\n",
       "        vertical-align: top;\n",
       "    }\n",
       "\n",
       "    .dataframe thead th {\n",
       "        text-align: right;\n",
       "    }\n",
       "</style>\n",
       "<table border=\"1\" class=\"dataframe\">\n",
       "  <thead>\n",
       "    <tr style=\"text-align: right;\">\n",
       "      <th></th>\n",
       "      <th>pollution</th>\n",
       "      <th>pollution_window_2_mean</th>\n",
       "      <th>pollution_window_2_std</th>\n",
       "      <th>pollution_window_3_mean</th>\n",
       "      <th>pollution_window_3_std</th>\n",
       "      <th>pollution_window_4_mean</th>\n",
       "      <th>pollution_window_4_std</th>\n",
       "    </tr>\n",
       "    <tr>\n",
       "      <th>date</th>\n",
       "      <th></th>\n",
       "      <th></th>\n",
       "      <th></th>\n",
       "      <th></th>\n",
       "      <th></th>\n",
       "      <th></th>\n",
       "      <th></th>\n",
       "    </tr>\n",
       "  </thead>\n",
       "  <tbody>\n",
       "    <tr>\n",
       "      <th>2010-01-02</th>\n",
       "      <td>145.958333</td>\n",
       "      <td>NaN</td>\n",
       "      <td>NaN</td>\n",
       "      <td>NaN</td>\n",
       "      <td>NaN</td>\n",
       "      <td>NaN</td>\n",
       "      <td>NaN</td>\n",
       "    </tr>\n",
       "    <tr>\n",
       "      <th>2010-01-03</th>\n",
       "      <td>78.833333</td>\n",
       "      <td>NaN</td>\n",
       "      <td>NaN</td>\n",
       "      <td>NaN</td>\n",
       "      <td>NaN</td>\n",
       "      <td>NaN</td>\n",
       "      <td>NaN</td>\n",
       "    </tr>\n",
       "    <tr>\n",
       "      <th>2010-01-04</th>\n",
       "      <td>31.333333</td>\n",
       "      <td>112.395833</td>\n",
       "      <td>47.464543</td>\n",
       "      <td>NaN</td>\n",
       "      <td>NaN</td>\n",
       "      <td>NaN</td>\n",
       "      <td>NaN</td>\n",
       "    </tr>\n",
       "    <tr>\n",
       "      <th>2010-01-05</th>\n",
       "      <td>42.458333</td>\n",
       "      <td>55.083333</td>\n",
       "      <td>33.587572</td>\n",
       "      <td>85.375000</td>\n",
       "      <td>57.591820</td>\n",
       "      <td>NaN</td>\n",
       "      <td>NaN</td>\n",
       "    </tr>\n",
       "    <tr>\n",
       "      <th>2010-01-06</th>\n",
       "      <td>56.416667</td>\n",
       "      <td>36.895833</td>\n",
       "      <td>7.866563</td>\n",
       "      <td>50.875000</td>\n",
       "      <td>24.843363</td>\n",
       "      <td>74.645833</td>\n",
       "      <td>51.688218</td>\n",
       "    </tr>\n",
       "    <tr>\n",
       "      <th>2010-01-07</th>\n",
       "      <td>69.000000</td>\n",
       "      <td>49.437500</td>\n",
       "      <td>9.870032</td>\n",
       "      <td>43.402778</td>\n",
       "      <td>12.568309</td>\n",
       "      <td>52.260417</td>\n",
       "      <td>20.472892</td>\n",
       "    </tr>\n",
       "    <tr>\n",
       "      <th>2010-01-08</th>\n",
       "      <td>176.208333</td>\n",
       "      <td>62.708333</td>\n",
       "      <td>8.897760</td>\n",
       "      <td>55.958333</td>\n",
       "      <td>13.276768</td>\n",
       "      <td>49.802083</td>\n",
       "      <td>16.404655</td>\n",
       "    </tr>\n",
       "    <tr>\n",
       "      <th>2010-01-09</th>\n",
       "      <td>88.500000</td>\n",
       "      <td>122.604167</td>\n",
       "      <td>75.807739</td>\n",
       "      <td>100.541667</td>\n",
       "      <td>65.830604</td>\n",
       "      <td>86.020833</td>\n",
       "      <td>61.094441</td>\n",
       "    </tr>\n",
       "    <tr>\n",
       "      <th>2010-01-10</th>\n",
       "      <td>57.250000</td>\n",
       "      <td>132.354167</td>\n",
       "      <td>62.019157</td>\n",
       "      <td>111.236111</td>\n",
       "      <td>57.106083</td>\n",
       "      <td>97.531250</td>\n",
       "      <td>54.086622</td>\n",
       "    </tr>\n",
       "    <tr>\n",
       "      <th>2010-01-11</th>\n",
       "      <td>20.000000</td>\n",
       "      <td>72.875000</td>\n",
       "      <td>22.097087</td>\n",
       "      <td>107.319444</td>\n",
       "      <td>61.671711</td>\n",
       "      <td>97.739583</td>\n",
       "      <td>53.876664</td>\n",
       "    </tr>\n",
       "  </tbody>\n",
       "</table>\n",
       "</div>"
      ],
      "text/plain": [
       "             pollution  pollution_window_2_mean  ...  pollution_window_4_mean  pollution_window_4_std\n",
       "date                                             ...                                                 \n",
       "2010-01-02  145.958333                      NaN  ...                      NaN                     NaN\n",
       "2010-01-03   78.833333                      NaN  ...                      NaN                     NaN\n",
       "2010-01-04   31.333333               112.395833  ...                      NaN                     NaN\n",
       "2010-01-05   42.458333                55.083333  ...                      NaN                     NaN\n",
       "2010-01-06   56.416667                36.895833  ...                74.645833               51.688218\n",
       "2010-01-07   69.000000                49.437500  ...                52.260417               20.472892\n",
       "2010-01-08  176.208333                62.708333  ...                49.802083               16.404655\n",
       "2010-01-09   88.500000               122.604167  ...                86.020833               61.094441\n",
       "2010-01-10   57.250000               132.354167  ...                97.531250               54.086622\n",
       "2010-01-11   20.000000                72.875000  ...                97.739583               53.876664\n",
       "\n",
       "[10 rows x 7 columns]"
      ]
     },
     "execution_count": 73,
     "metadata": {},
     "output_type": "execute_result"
    }
   ],
   "source": [
    "from feature_engine.timeseries.forecasting import WindowFeatures\n",
    "window_transformer = WindowFeatures(variables=['pollution'],\n",
    "                                    functions=['mean','std'],\n",
    "                                    window= [2,3,4],\n",
    "                                   freq='D')\n",
    "\n",
    "df_window = window_transformer.fit_transform(df1)\n",
    "df_window.head(10)"
   ]
  },
  {
   "cell_type": "code",
   "execution_count": null,
   "id": "ba7eca9b",
   "metadata": {},
   "outputs": [],
   "source": []
  },
  {
   "cell_type": "code",
   "execution_count": null,
   "id": "7195b58b",
   "metadata": {},
   "outputs": [],
   "source": []
  },
  {
   "cell_type": "code",
   "execution_count": null,
   "id": "01798273",
   "metadata": {},
   "outputs": [],
   "source": []
  },
  {
   "cell_type": "markdown",
   "id": "392eb57d",
   "metadata": {},
   "source": [
    "# scaler"
   ]
  },
  {
   "cell_type": "code",
   "execution_count": null,
   "id": "b45e09a3",
   "metadata": {},
   "outputs": [],
   "source": []
  },
  {
   "cell_type": "code",
   "execution_count": null,
   "id": "04c911a3",
   "metadata": {},
   "outputs": [],
   "source": []
  },
  {
   "cell_type": "code",
   "execution_count": null,
   "id": "049e0bac",
   "metadata": {},
   "outputs": [],
   "source": []
  },
  {
   "cell_type": "code",
   "execution_count": null,
   "id": "765d39ea",
   "metadata": {},
   "outputs": [],
   "source": []
  }
 ],
 "metadata": {
  "kernelspec": {
   "display_name": "Python 3 (ipykernel)",
   "language": "python",
   "name": "python3"
  },
  "language_info": {
   "codemirror_mode": {
    "name": "ipython",
    "version": 3
   },
   "file_extension": ".py",
   "mimetype": "text/x-python",
   "name": "python",
   "nbconvert_exporter": "python",
   "pygments_lexer": "ipython3",
   "version": "3.9.7"
  },
  "toc": {
   "base_numbering": 1,
   "nav_menu": {},
   "number_sections": true,
   "sideBar": true,
   "skip_h1_title": false,
   "title_cell": "Table of Contents",
   "title_sidebar": "Contents",
   "toc_cell": false,
   "toc_position": {},
   "toc_section_display": true,
   "toc_window_display": true
  },
  "varInspector": {
   "cols": {
    "lenName": 16,
    "lenType": 16,
    "lenVar": 40
   },
   "kernels_config": {
    "python": {
     "delete_cmd_postfix": "",
     "delete_cmd_prefix": "del ",
     "library": "var_list.py",
     "varRefreshCmd": "print(var_dic_list())"
    },
    "r": {
     "delete_cmd_postfix": ") ",
     "delete_cmd_prefix": "rm(",
     "library": "var_list.r",
     "varRefreshCmd": "cat(var_dic_list()) "
    }
   },
   "types_to_exclude": [
    "module",
    "function",
    "builtin_function_or_method",
    "instance",
    "_Feature"
   ],
   "window_display": false
  }
 },
 "nbformat": 4,
 "nbformat_minor": 5
}
