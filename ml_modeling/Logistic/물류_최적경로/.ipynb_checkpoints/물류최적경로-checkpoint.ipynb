{
 "cells": [
  {
   "cell_type": "markdown",
   "id": "11ef1d7f",
   "metadata": {},
   "source": [
    "# 물류 최적경로\n",
    "물류에서의 문제: 여러 공장에서 생산된 물품을 여러 창고에 보관하고 어느 대리점에 몇개의 상품을 배송할 지 결정해야 하는 문제<br>\n",
    "의의: 물류비용을 줄이고 효율화를 통해 회사 실적을 개선할 수 있음<br>\n",
    "\n",
    "물류가 아니더라도 택시회사의 태시배차, 영업사원 최적화 영업경로 등 여러가지 상황에 적용할 수 있음\n"
   ]
  },
  {
   "cell_type": "markdown",
   "id": "95086735",
   "metadata": {
    "ExecuteTime": {
     "end_time": "2023-04-08T05:45:39.057145Z",
     "start_time": "2023-04-08T05:45:39.041396Z"
    }
   },
   "source": [
    "# Data\n",
    "\n",
    "1. tbl_factory.csv : 생산 공장 데이터\n",
    "2. tbl_warehouse.csv : 창고 데이터\n",
    "3. rel_cost.csv : 창고와 공장 간의 운송 비용\n",
    "4. tbl_transaction.csv : 2019년의 공장으로의 부품 운송 실적"
   ]
  },
  {
   "cell_type": "code",
   "execution_count": 15,
   "id": "4b82e016",
   "metadata": {
    "ExecuteTime": {
     "end_time": "2023-04-08T07:04:46.393416Z",
     "start_time": "2023-04-08T07:04:46.368482Z"
    }
   },
   "outputs": [
    {
     "data": {
      "text/html": [
       "<div>\n",
       "<style scoped>\n",
       "    .dataframe tbody tr th:only-of-type {\n",
       "        vertical-align: middle;\n",
       "    }\n",
       "\n",
       "    .dataframe tbody tr th {\n",
       "        vertical-align: top;\n",
       "    }\n",
       "\n",
       "    .dataframe thead th {\n",
       "        text-align: right;\n",
       "    }\n",
       "</style>\n",
       "<table border=\"1\" class=\"dataframe\">\n",
       "  <thead>\n",
       "    <tr style=\"text-align: right;\">\n",
       "      <th></th>\n",
       "      <th>FCName</th>\n",
       "      <th>FCDemand</th>\n",
       "      <th>FCRegion</th>\n",
       "    </tr>\n",
       "    <tr>\n",
       "      <th>FCID</th>\n",
       "      <th></th>\n",
       "      <th></th>\n",
       "      <th></th>\n",
       "    </tr>\n",
       "  </thead>\n",
       "  <tbody>\n",
       "    <tr>\n",
       "      <th>FC00001</th>\n",
       "      <td>서울공장</td>\n",
       "      <td>28</td>\n",
       "      <td>북부</td>\n",
       "    </tr>\n",
       "    <tr>\n",
       "      <th>FC00002</th>\n",
       "      <td>수원공장</td>\n",
       "      <td>29</td>\n",
       "      <td>북부</td>\n",
       "    </tr>\n",
       "    <tr>\n",
       "      <th>FC00003</th>\n",
       "      <td>인천공장</td>\n",
       "      <td>31</td>\n",
       "      <td>북부</td>\n",
       "    </tr>\n",
       "    <tr>\n",
       "      <th>FC00004</th>\n",
       "      <td>대전공장</td>\n",
       "      <td>25</td>\n",
       "      <td>북부</td>\n",
       "    </tr>\n",
       "    <tr>\n",
       "      <th>FC00005</th>\n",
       "      <td>대구공장</td>\n",
       "      <td>21</td>\n",
       "      <td>남부</td>\n",
       "    </tr>\n",
       "  </tbody>\n",
       "</table>\n",
       "</div>"
      ],
      "text/plain": [
       "        FCName  FCDemand FCRegion\n",
       "FCID                             \n",
       "FC00001   서울공장        28       북부\n",
       "FC00002   수원공장        29       북부\n",
       "FC00003   인천공장        31       북부\n",
       "FC00004   대전공장        25       북부\n",
       "FC00005   대구공장        21       남부"
      ]
     },
     "execution_count": 15,
     "metadata": {},
     "output_type": "execute_result"
    }
   ],
   "source": [
    "import pandas as pd\n",
    "# 공장\n",
    "factories = pd.read_csv(\"./data/tbl_factory.csv\",index_col=0)\n",
    "factories.head()"
   ]
  },
  {
   "cell_type": "code",
   "execution_count": 16,
   "id": "eb146142",
   "metadata": {
    "ExecuteTime": {
     "end_time": "2023-04-08T07:04:55.470998Z",
     "start_time": "2023-04-08T07:04:55.450418Z"
    }
   },
   "outputs": [
    {
     "data": {
      "text/html": [
       "<div>\n",
       "<style scoped>\n",
       "    .dataframe tbody tr th:only-of-type {\n",
       "        vertical-align: middle;\n",
       "    }\n",
       "\n",
       "    .dataframe tbody tr th {\n",
       "        vertical-align: top;\n",
       "    }\n",
       "\n",
       "    .dataframe thead th {\n",
       "        text-align: right;\n",
       "    }\n",
       "</style>\n",
       "<table border=\"1\" class=\"dataframe\">\n",
       "  <thead>\n",
       "    <tr style=\"text-align: right;\">\n",
       "      <th></th>\n",
       "      <th>WHName</th>\n",
       "      <th>WHSupply</th>\n",
       "      <th>WHRegion</th>\n",
       "    </tr>\n",
       "    <tr>\n",
       "      <th>WHID</th>\n",
       "      <th></th>\n",
       "      <th></th>\n",
       "      <th></th>\n",
       "    </tr>\n",
       "  </thead>\n",
       "  <tbody>\n",
       "    <tr>\n",
       "      <th>WH00001</th>\n",
       "      <td>판교창고</td>\n",
       "      <td>35</td>\n",
       "      <td>북부</td>\n",
       "    </tr>\n",
       "    <tr>\n",
       "      <th>WH00002</th>\n",
       "      <td>용인창고</td>\n",
       "      <td>41</td>\n",
       "      <td>북부</td>\n",
       "    </tr>\n",
       "    <tr>\n",
       "      <th>WH00003</th>\n",
       "      <td>수원창고</td>\n",
       "      <td>42</td>\n",
       "      <td>북부</td>\n",
       "    </tr>\n",
       "    <tr>\n",
       "      <th>WH00004</th>\n",
       "      <td>대전창고</td>\n",
       "      <td>60</td>\n",
       "      <td>남부</td>\n",
       "    </tr>\n",
       "    <tr>\n",
       "      <th>WH00005</th>\n",
       "      <td>대구창고</td>\n",
       "      <td>72</td>\n",
       "      <td>남부</td>\n",
       "    </tr>\n",
       "  </tbody>\n",
       "</table>\n",
       "</div>"
      ],
      "text/plain": [
       "        WHName  WHSupply WHRegion\n",
       "WHID                             \n",
       "WH00001   판교창고        35       북부\n",
       "WH00002   용인창고        41       북부\n",
       "WH00003   수원창고        42       북부\n",
       "WH00004   대전창고        60       남부\n",
       "WH00005   대구창고        72       남부"
      ]
     },
     "execution_count": 16,
     "metadata": {},
     "output_type": "execute_result"
    }
   ],
   "source": [
    "# 창고\n",
    "warehouses = pd.read_csv('./data/tbl_warehouse.csv',index_col=0)\n",
    "warehouses.head()"
   ]
  },
  {
   "cell_type": "code",
   "execution_count": 24,
   "id": "4e3c6a44",
   "metadata": {
    "ExecuteTime": {
     "end_time": "2023-04-08T07:09:48.616920Z",
     "start_time": "2023-04-08T07:09:48.586041Z"
    }
   },
   "outputs": [
    {
     "data": {
      "text/html": [
       "<div>\n",
       "<style scoped>\n",
       "    .dataframe tbody tr th:only-of-type {\n",
       "        vertical-align: middle;\n",
       "    }\n",
       "\n",
       "    .dataframe tbody tr th {\n",
       "        vertical-align: top;\n",
       "    }\n",
       "\n",
       "    .dataframe thead th {\n",
       "        text-align: right;\n",
       "    }\n",
       "</style>\n",
       "<table border=\"1\" class=\"dataframe\">\n",
       "  <thead>\n",
       "    <tr style=\"text-align: right;\">\n",
       "      <th></th>\n",
       "      <th>FCID</th>\n",
       "      <th>WHID</th>\n",
       "      <th>Cost</th>\n",
       "    </tr>\n",
       "    <tr>\n",
       "      <th>RCostID</th>\n",
       "      <th></th>\n",
       "      <th></th>\n",
       "      <th></th>\n",
       "    </tr>\n",
       "  </thead>\n",
       "  <tbody>\n",
       "    <tr>\n",
       "      <th>1</th>\n",
       "      <td>FC00001</td>\n",
       "      <td>WH00001</td>\n",
       "      <td>0.4</td>\n",
       "    </tr>\n",
       "    <tr>\n",
       "      <th>2</th>\n",
       "      <td>FC00001</td>\n",
       "      <td>WH00002</td>\n",
       "      <td>0.8</td>\n",
       "    </tr>\n",
       "    <tr>\n",
       "      <th>3</th>\n",
       "      <td>FC00001</td>\n",
       "      <td>WH00003</td>\n",
       "      <td>1.5</td>\n",
       "    </tr>\n",
       "    <tr>\n",
       "      <th>4</th>\n",
       "      <td>FC00002</td>\n",
       "      <td>WH00001</td>\n",
       "      <td>0.9</td>\n",
       "    </tr>\n",
       "    <tr>\n",
       "      <th>5</th>\n",
       "      <td>FC00002</td>\n",
       "      <td>WH00002</td>\n",
       "      <td>0.8</td>\n",
       "    </tr>\n",
       "  </tbody>\n",
       "</table>\n",
       "</div>"
      ],
      "text/plain": [
       "            FCID     WHID  Cost\n",
       "RCostID                        \n",
       "1        FC00001  WH00001   0.4\n",
       "2        FC00001  WH00002   0.8\n",
       "3        FC00001  WH00003   1.5\n",
       "4        FC00002  WH00001   0.9\n",
       "5        FC00002  WH00002   0.8"
      ]
     },
     "execution_count": 24,
     "metadata": {},
     "output_type": "execute_result"
    }
   ],
   "source": [
    "# 비용\n",
    "cost = pd.read_csv('./data/rel_cost.csv',index_col=0)\n",
    "cost.head()"
   ]
  },
  {
   "cell_type": "code",
   "execution_count": 25,
   "id": "c2b1efa9",
   "metadata": {
    "ExecuteTime": {
     "end_time": "2023-04-08T07:09:55.801291Z",
     "start_time": "2023-04-08T07:09:55.750765Z"
    }
   },
   "outputs": [
    {
     "data": {
      "text/html": [
       "<div>\n",
       "<style scoped>\n",
       "    .dataframe tbody tr th:only-of-type {\n",
       "        vertical-align: middle;\n",
       "    }\n",
       "\n",
       "    .dataframe tbody tr th {\n",
       "        vertical-align: top;\n",
       "    }\n",
       "\n",
       "    .dataframe thead th {\n",
       "        text-align: right;\n",
       "    }\n",
       "</style>\n",
       "<table border=\"1\" class=\"dataframe\">\n",
       "  <thead>\n",
       "    <tr style=\"text-align: right;\">\n",
       "      <th></th>\n",
       "      <th>TransactionDate</th>\n",
       "      <th>ToFC</th>\n",
       "      <th>FromWH</th>\n",
       "      <th>Quantity</th>\n",
       "    </tr>\n",
       "    <tr>\n",
       "      <th>TRID</th>\n",
       "      <th></th>\n",
       "      <th></th>\n",
       "      <th></th>\n",
       "      <th></th>\n",
       "    </tr>\n",
       "  </thead>\n",
       "  <tbody>\n",
       "    <tr>\n",
       "      <th>0</th>\n",
       "      <td>2019-01-01 02:11:10</td>\n",
       "      <td>FC00004</td>\n",
       "      <td>WH00003</td>\n",
       "      <td>33</td>\n",
       "    </tr>\n",
       "    <tr>\n",
       "      <th>1</th>\n",
       "      <td>2019-01-01 06:12:42</td>\n",
       "      <td>FC00007</td>\n",
       "      <td>WH00006</td>\n",
       "      <td>19</td>\n",
       "    </tr>\n",
       "    <tr>\n",
       "      <th>2</th>\n",
       "      <td>2019-01-01 06:32:32</td>\n",
       "      <td>FC00006</td>\n",
       "      <td>WH00004</td>\n",
       "      <td>31</td>\n",
       "    </tr>\n",
       "    <tr>\n",
       "      <th>3</th>\n",
       "      <td>2019-01-01 07:17:06</td>\n",
       "      <td>FC00002</td>\n",
       "      <td>WH00003</td>\n",
       "      <td>18</td>\n",
       "    </tr>\n",
       "    <tr>\n",
       "      <th>4</th>\n",
       "      <td>2019-01-01 07:52:18</td>\n",
       "      <td>FC00001</td>\n",
       "      <td>WH00002</td>\n",
       "      <td>30</td>\n",
       "    </tr>\n",
       "  </tbody>\n",
       "</table>\n",
       "</div>"
      ],
      "text/plain": [
       "          TransactionDate     ToFC   FromWH  Quantity\n",
       "TRID                                                 \n",
       "0     2019-01-01 02:11:10  FC00004  WH00003        33\n",
       "1     2019-01-01 06:12:42  FC00007  WH00006        19\n",
       "2     2019-01-01 06:32:32  FC00006  WH00004        31\n",
       "3     2019-01-01 07:17:06  FC00002  WH00003        18\n",
       "4     2019-01-01 07:52:18  FC00001  WH00002        30"
      ]
     },
     "execution_count": 25,
     "metadata": {},
     "output_type": "execute_result"
    }
   ],
   "source": [
    "# 거래\n",
    "trans = pd.read_csv('./data/tbl_transaction.csv',index_col=0)\n",
    "trans.head()"
   ]
  },
  {
   "cell_type": "markdown",
   "id": "da59cd6e",
   "metadata": {
    "ExecuteTime": {
     "end_time": "2023-04-08T07:09:56.083436Z",
     "start_time": "2023-04-08T07:09:56.074205Z"
    }
   },
   "source": [
    "## merge"
   ]
  },
  {
   "cell_type": "code",
   "execution_count": 27,
   "id": "d1ce5f86",
   "metadata": {
    "ExecuteTime": {
     "end_time": "2023-04-08T07:09:56.383651Z",
     "start_time": "2023-04-08T07:09:56.334595Z"
    }
   },
   "outputs": [
    {
     "data": {
      "text/html": [
       "<div>\n",
       "<style scoped>\n",
       "    .dataframe tbody tr th:only-of-type {\n",
       "        vertical-align: middle;\n",
       "    }\n",
       "\n",
       "    .dataframe tbody tr th {\n",
       "        vertical-align: top;\n",
       "    }\n",
       "\n",
       "    .dataframe thead th {\n",
       "        text-align: right;\n",
       "    }\n",
       "</style>\n",
       "<table border=\"1\" class=\"dataframe\">\n",
       "  <thead>\n",
       "    <tr style=\"text-align: right;\">\n",
       "      <th></th>\n",
       "      <th>TransactionDate</th>\n",
       "      <th>ToFC</th>\n",
       "      <th>FromWH</th>\n",
       "      <th>Quantity</th>\n",
       "      <th>FCID</th>\n",
       "      <th>WHID</th>\n",
       "      <th>Cost</th>\n",
       "    </tr>\n",
       "  </thead>\n",
       "  <tbody>\n",
       "    <tr>\n",
       "      <th>0</th>\n",
       "      <td>2019-01-01 02:11:10</td>\n",
       "      <td>FC00004</td>\n",
       "      <td>WH00003</td>\n",
       "      <td>33</td>\n",
       "      <td>FC00004</td>\n",
       "      <td>WH00003</td>\n",
       "      <td>1.1</td>\n",
       "    </tr>\n",
       "    <tr>\n",
       "      <th>1</th>\n",
       "      <td>2019-01-04 04:43:52</td>\n",
       "      <td>FC00004</td>\n",
       "      <td>WH00003</td>\n",
       "      <td>25</td>\n",
       "      <td>FC00004</td>\n",
       "      <td>WH00003</td>\n",
       "      <td>1.1</td>\n",
       "    </tr>\n",
       "    <tr>\n",
       "      <th>2</th>\n",
       "      <td>2019-01-06 07:01:42</td>\n",
       "      <td>FC00004</td>\n",
       "      <td>WH00003</td>\n",
       "      <td>37</td>\n",
       "      <td>FC00004</td>\n",
       "      <td>WH00003</td>\n",
       "      <td>1.1</td>\n",
       "    </tr>\n",
       "    <tr>\n",
       "      <th>3</th>\n",
       "      <td>2019-01-08 08:47:05</td>\n",
       "      <td>FC00004</td>\n",
       "      <td>WH00003</td>\n",
       "      <td>24</td>\n",
       "      <td>FC00004</td>\n",
       "      <td>WH00003</td>\n",
       "      <td>1.1</td>\n",
       "    </tr>\n",
       "    <tr>\n",
       "      <th>4</th>\n",
       "      <td>2019-01-09 00:12:40</td>\n",
       "      <td>FC00004</td>\n",
       "      <td>WH00003</td>\n",
       "      <td>33</td>\n",
       "      <td>FC00004</td>\n",
       "      <td>WH00003</td>\n",
       "      <td>1.1</td>\n",
       "    </tr>\n",
       "  </tbody>\n",
       "</table>\n",
       "</div>"
      ],
      "text/plain": [
       "       TransactionDate     ToFC   FromWH  Quantity     FCID     WHID  Cost\n",
       "0  2019-01-01 02:11:10  FC00004  WH00003        33  FC00004  WH00003   1.1\n",
       "1  2019-01-04 04:43:52  FC00004  WH00003        25  FC00004  WH00003   1.1\n",
       "2  2019-01-06 07:01:42  FC00004  WH00003        37  FC00004  WH00003   1.1\n",
       "3  2019-01-08 08:47:05  FC00004  WH00003        24  FC00004  WH00003   1.1\n",
       "4  2019-01-09 00:12:40  FC00004  WH00003        33  FC00004  WH00003   1.1"
      ]
     },
     "execution_count": 27,
     "metadata": {},
     "output_type": "execute_result"
    }
   ],
   "source": [
    "join_data = trans.merge(cost, left_on=['ToFC','FromWH'], right_on=['FCID','WHID'])\n",
    "join_data.head()"
   ]
  },
  {
   "cell_type": "code",
   "execution_count": 28,
   "id": "e8ea3b6c",
   "metadata": {
    "ExecuteTime": {
     "end_time": "2023-04-08T07:09:58.446709Z",
     "start_time": "2023-04-08T07:09:58.409526Z"
    }
   },
   "outputs": [
    {
     "data": {
      "text/html": [
       "<div>\n",
       "<style scoped>\n",
       "    .dataframe tbody tr th:only-of-type {\n",
       "        vertical-align: middle;\n",
       "    }\n",
       "\n",
       "    .dataframe tbody tr th {\n",
       "        vertical-align: top;\n",
       "    }\n",
       "\n",
       "    .dataframe thead th {\n",
       "        text-align: right;\n",
       "    }\n",
       "</style>\n",
       "<table border=\"1\" class=\"dataframe\">\n",
       "  <thead>\n",
       "    <tr style=\"text-align: right;\">\n",
       "      <th></th>\n",
       "      <th>TransactionDate</th>\n",
       "      <th>ToFC</th>\n",
       "      <th>FromWH</th>\n",
       "      <th>Quantity</th>\n",
       "      <th>FCID</th>\n",
       "      <th>WHID</th>\n",
       "      <th>Cost</th>\n",
       "      <th>FCName</th>\n",
       "      <th>FCDemand</th>\n",
       "      <th>FCRegion</th>\n",
       "    </tr>\n",
       "  </thead>\n",
       "  <tbody>\n",
       "    <tr>\n",
       "      <th>0</th>\n",
       "      <td>2019-01-01 02:11:10</td>\n",
       "      <td>FC00004</td>\n",
       "      <td>WH00003</td>\n",
       "      <td>33</td>\n",
       "      <td>FC00004</td>\n",
       "      <td>WH00003</td>\n",
       "      <td>1.1</td>\n",
       "      <td>대전공장</td>\n",
       "      <td>25</td>\n",
       "      <td>북부</td>\n",
       "    </tr>\n",
       "    <tr>\n",
       "      <th>1</th>\n",
       "      <td>2019-01-04 04:43:52</td>\n",
       "      <td>FC00004</td>\n",
       "      <td>WH00003</td>\n",
       "      <td>25</td>\n",
       "      <td>FC00004</td>\n",
       "      <td>WH00003</td>\n",
       "      <td>1.1</td>\n",
       "      <td>대전공장</td>\n",
       "      <td>25</td>\n",
       "      <td>북부</td>\n",
       "    </tr>\n",
       "    <tr>\n",
       "      <th>2</th>\n",
       "      <td>2019-01-06 07:01:42</td>\n",
       "      <td>FC00004</td>\n",
       "      <td>WH00003</td>\n",
       "      <td>37</td>\n",
       "      <td>FC00004</td>\n",
       "      <td>WH00003</td>\n",
       "      <td>1.1</td>\n",
       "      <td>대전공장</td>\n",
       "      <td>25</td>\n",
       "      <td>북부</td>\n",
       "    </tr>\n",
       "    <tr>\n",
       "      <th>3</th>\n",
       "      <td>2019-01-08 08:47:05</td>\n",
       "      <td>FC00004</td>\n",
       "      <td>WH00003</td>\n",
       "      <td>24</td>\n",
       "      <td>FC00004</td>\n",
       "      <td>WH00003</td>\n",
       "      <td>1.1</td>\n",
       "      <td>대전공장</td>\n",
       "      <td>25</td>\n",
       "      <td>북부</td>\n",
       "    </tr>\n",
       "    <tr>\n",
       "      <th>4</th>\n",
       "      <td>2019-01-09 00:12:40</td>\n",
       "      <td>FC00004</td>\n",
       "      <td>WH00003</td>\n",
       "      <td>33</td>\n",
       "      <td>FC00004</td>\n",
       "      <td>WH00003</td>\n",
       "      <td>1.1</td>\n",
       "      <td>대전공장</td>\n",
       "      <td>25</td>\n",
       "      <td>북부</td>\n",
       "    </tr>\n",
       "  </tbody>\n",
       "</table>\n",
       "</div>"
      ],
      "text/plain": [
       "       TransactionDate     ToFC   FromWH  Quantity     FCID     WHID  Cost  \\\n",
       "0  2019-01-01 02:11:10  FC00004  WH00003        33  FC00004  WH00003   1.1   \n",
       "1  2019-01-04 04:43:52  FC00004  WH00003        25  FC00004  WH00003   1.1   \n",
       "2  2019-01-06 07:01:42  FC00004  WH00003        37  FC00004  WH00003   1.1   \n",
       "3  2019-01-08 08:47:05  FC00004  WH00003        24  FC00004  WH00003   1.1   \n",
       "4  2019-01-09 00:12:40  FC00004  WH00003        33  FC00004  WH00003   1.1   \n",
       "\n",
       "  FCName  FCDemand FCRegion  \n",
       "0   대전공장        25       북부  \n",
       "1   대전공장        25       북부  \n",
       "2   대전공장        25       북부  \n",
       "3   대전공장        25       북부  \n",
       "4   대전공장        25       북부  "
      ]
     },
     "execution_count": 28,
     "metadata": {},
     "output_type": "execute_result"
    }
   ],
   "source": [
    "join_data = join_data.merge(factories, left_on=['ToFC'],right_on=['FCID'],how='left')\n",
    "join_data.head()"
   ]
  },
  {
   "cell_type": "code",
   "execution_count": 29,
   "id": "746d00d8",
   "metadata": {
    "ExecuteTime": {
     "end_time": "2023-04-08T07:09:58.945641Z",
     "start_time": "2023-04-08T07:09:58.905908Z"
    }
   },
   "outputs": [
    {
     "data": {
      "text/html": [
       "<div>\n",
       "<style scoped>\n",
       "    .dataframe tbody tr th:only-of-type {\n",
       "        vertical-align: middle;\n",
       "    }\n",
       "\n",
       "    .dataframe tbody tr th {\n",
       "        vertical-align: top;\n",
       "    }\n",
       "\n",
       "    .dataframe thead th {\n",
       "        text-align: right;\n",
       "    }\n",
       "</style>\n",
       "<table border=\"1\" class=\"dataframe\">\n",
       "  <thead>\n",
       "    <tr style=\"text-align: right;\">\n",
       "      <th></th>\n",
       "      <th>TransactionDate</th>\n",
       "      <th>ToFC</th>\n",
       "      <th>FromWH</th>\n",
       "      <th>Quantity</th>\n",
       "      <th>FCID</th>\n",
       "      <th>WHID</th>\n",
       "      <th>Cost</th>\n",
       "      <th>FCName</th>\n",
       "      <th>FCDemand</th>\n",
       "      <th>FCRegion</th>\n",
       "      <th>WHName</th>\n",
       "      <th>WHSupply</th>\n",
       "      <th>WHRegion</th>\n",
       "    </tr>\n",
       "  </thead>\n",
       "  <tbody>\n",
       "    <tr>\n",
       "      <th>0</th>\n",
       "      <td>2019-01-01 02:11:10</td>\n",
       "      <td>FC00004</td>\n",
       "      <td>WH00003</td>\n",
       "      <td>33</td>\n",
       "      <td>FC00004</td>\n",
       "      <td>WH00003</td>\n",
       "      <td>1.1</td>\n",
       "      <td>대전공장</td>\n",
       "      <td>25</td>\n",
       "      <td>북부</td>\n",
       "      <td>수원창고</td>\n",
       "      <td>42</td>\n",
       "      <td>북부</td>\n",
       "    </tr>\n",
       "    <tr>\n",
       "      <th>1</th>\n",
       "      <td>2019-01-04 04:43:52</td>\n",
       "      <td>FC00004</td>\n",
       "      <td>WH00003</td>\n",
       "      <td>25</td>\n",
       "      <td>FC00004</td>\n",
       "      <td>WH00003</td>\n",
       "      <td>1.1</td>\n",
       "      <td>대전공장</td>\n",
       "      <td>25</td>\n",
       "      <td>북부</td>\n",
       "      <td>수원창고</td>\n",
       "      <td>42</td>\n",
       "      <td>북부</td>\n",
       "    </tr>\n",
       "    <tr>\n",
       "      <th>2</th>\n",
       "      <td>2019-01-06 07:01:42</td>\n",
       "      <td>FC00004</td>\n",
       "      <td>WH00003</td>\n",
       "      <td>37</td>\n",
       "      <td>FC00004</td>\n",
       "      <td>WH00003</td>\n",
       "      <td>1.1</td>\n",
       "      <td>대전공장</td>\n",
       "      <td>25</td>\n",
       "      <td>북부</td>\n",
       "      <td>수원창고</td>\n",
       "      <td>42</td>\n",
       "      <td>북부</td>\n",
       "    </tr>\n",
       "    <tr>\n",
       "      <th>3</th>\n",
       "      <td>2019-01-08 08:47:05</td>\n",
       "      <td>FC00004</td>\n",
       "      <td>WH00003</td>\n",
       "      <td>24</td>\n",
       "      <td>FC00004</td>\n",
       "      <td>WH00003</td>\n",
       "      <td>1.1</td>\n",
       "      <td>대전공장</td>\n",
       "      <td>25</td>\n",
       "      <td>북부</td>\n",
       "      <td>수원창고</td>\n",
       "      <td>42</td>\n",
       "      <td>북부</td>\n",
       "    </tr>\n",
       "    <tr>\n",
       "      <th>4</th>\n",
       "      <td>2019-01-09 00:12:40</td>\n",
       "      <td>FC00004</td>\n",
       "      <td>WH00003</td>\n",
       "      <td>33</td>\n",
       "      <td>FC00004</td>\n",
       "      <td>WH00003</td>\n",
       "      <td>1.1</td>\n",
       "      <td>대전공장</td>\n",
       "      <td>25</td>\n",
       "      <td>북부</td>\n",
       "      <td>수원창고</td>\n",
       "      <td>42</td>\n",
       "      <td>북부</td>\n",
       "    </tr>\n",
       "  </tbody>\n",
       "</table>\n",
       "</div>"
      ],
      "text/plain": [
       "       TransactionDate     ToFC   FromWH  Quantity     FCID     WHID  Cost  \\\n",
       "0  2019-01-01 02:11:10  FC00004  WH00003        33  FC00004  WH00003   1.1   \n",
       "1  2019-01-04 04:43:52  FC00004  WH00003        25  FC00004  WH00003   1.1   \n",
       "2  2019-01-06 07:01:42  FC00004  WH00003        37  FC00004  WH00003   1.1   \n",
       "3  2019-01-08 08:47:05  FC00004  WH00003        24  FC00004  WH00003   1.1   \n",
       "4  2019-01-09 00:12:40  FC00004  WH00003        33  FC00004  WH00003   1.1   \n",
       "\n",
       "  FCName  FCDemand FCRegion WHName  WHSupply WHRegion  \n",
       "0   대전공장        25       북부   수원창고        42       북부  \n",
       "1   대전공장        25       북부   수원창고        42       북부  \n",
       "2   대전공장        25       북부   수원창고        42       북부  \n",
       "3   대전공장        25       북부   수원창고        42       북부  \n",
       "4   대전공장        25       북부   수원창고        42       북부  "
      ]
     },
     "execution_count": 29,
     "metadata": {},
     "output_type": "execute_result"
    }
   ],
   "source": [
    "join_data = join_data.merge(warehouses, left_on=['FromWH'],right_on=['WHID'])\n",
    "join_data.head()"
   ]
  },
  {
   "cell_type": "code",
   "execution_count": 30,
   "id": "119ddb85",
   "metadata": {
    "ExecuteTime": {
     "end_time": "2023-04-08T07:09:59.998175Z",
     "start_time": "2023-04-08T07:09:59.972227Z"
    }
   },
   "outputs": [
    {
     "data": {
      "text/html": [
       "<div>\n",
       "<style scoped>\n",
       "    .dataframe tbody tr th:only-of-type {\n",
       "        vertical-align: middle;\n",
       "    }\n",
       "\n",
       "    .dataframe tbody tr th {\n",
       "        vertical-align: top;\n",
       "    }\n",
       "\n",
       "    .dataframe thead th {\n",
       "        text-align: right;\n",
       "    }\n",
       "</style>\n",
       "<table border=\"1\" class=\"dataframe\">\n",
       "  <thead>\n",
       "    <tr style=\"text-align: right;\">\n",
       "      <th></th>\n",
       "      <th>TransactionDate</th>\n",
       "      <th>Quantity</th>\n",
       "      <th>Cost</th>\n",
       "      <th>ToFC</th>\n",
       "      <th>FCName</th>\n",
       "      <th>FCDemand</th>\n",
       "      <th>FromWH</th>\n",
       "      <th>WHName</th>\n",
       "      <th>WHSupply</th>\n",
       "      <th>WHRegion</th>\n",
       "    </tr>\n",
       "  </thead>\n",
       "  <tbody>\n",
       "    <tr>\n",
       "      <th>0</th>\n",
       "      <td>2019-01-01 02:11:10</td>\n",
       "      <td>33</td>\n",
       "      <td>1.1</td>\n",
       "      <td>FC00004</td>\n",
       "      <td>대전공장</td>\n",
       "      <td>25</td>\n",
       "      <td>WH00003</td>\n",
       "      <td>수원창고</td>\n",
       "      <td>42</td>\n",
       "      <td>북부</td>\n",
       "    </tr>\n",
       "    <tr>\n",
       "      <th>1</th>\n",
       "      <td>2019-01-04 04:43:52</td>\n",
       "      <td>25</td>\n",
       "      <td>1.1</td>\n",
       "      <td>FC00004</td>\n",
       "      <td>대전공장</td>\n",
       "      <td>25</td>\n",
       "      <td>WH00003</td>\n",
       "      <td>수원창고</td>\n",
       "      <td>42</td>\n",
       "      <td>북부</td>\n",
       "    </tr>\n",
       "    <tr>\n",
       "      <th>2</th>\n",
       "      <td>2019-01-06 07:01:42</td>\n",
       "      <td>37</td>\n",
       "      <td>1.1</td>\n",
       "      <td>FC00004</td>\n",
       "      <td>대전공장</td>\n",
       "      <td>25</td>\n",
       "      <td>WH00003</td>\n",
       "      <td>수원창고</td>\n",
       "      <td>42</td>\n",
       "      <td>북부</td>\n",
       "    </tr>\n",
       "    <tr>\n",
       "      <th>3</th>\n",
       "      <td>2019-01-08 08:47:05</td>\n",
       "      <td>24</td>\n",
       "      <td>1.1</td>\n",
       "      <td>FC00004</td>\n",
       "      <td>대전공장</td>\n",
       "      <td>25</td>\n",
       "      <td>WH00003</td>\n",
       "      <td>수원창고</td>\n",
       "      <td>42</td>\n",
       "      <td>북부</td>\n",
       "    </tr>\n",
       "    <tr>\n",
       "      <th>4</th>\n",
       "      <td>2019-01-09 00:12:40</td>\n",
       "      <td>33</td>\n",
       "      <td>1.1</td>\n",
       "      <td>FC00004</td>\n",
       "      <td>대전공장</td>\n",
       "      <td>25</td>\n",
       "      <td>WH00003</td>\n",
       "      <td>수원창고</td>\n",
       "      <td>42</td>\n",
       "      <td>북부</td>\n",
       "    </tr>\n",
       "  </tbody>\n",
       "</table>\n",
       "</div>"
      ],
      "text/plain": [
       "       TransactionDate  Quantity  Cost     ToFC FCName  FCDemand   FromWH  \\\n",
       "0  2019-01-01 02:11:10        33   1.1  FC00004   대전공장        25  WH00003   \n",
       "1  2019-01-04 04:43:52        25   1.1  FC00004   대전공장        25  WH00003   \n",
       "2  2019-01-06 07:01:42        37   1.1  FC00004   대전공장        25  WH00003   \n",
       "3  2019-01-08 08:47:05        24   1.1  FC00004   대전공장        25  WH00003   \n",
       "4  2019-01-09 00:12:40        33   1.1  FC00004   대전공장        25  WH00003   \n",
       "\n",
       "  WHName  WHSupply WHRegion  \n",
       "0   수원창고        42       북부  \n",
       "1   수원창고        42       북부  \n",
       "2   수원창고        42       북부  \n",
       "3   수원창고        42       북부  \n",
       "4   수원창고        42       북부  "
      ]
     },
     "execution_count": 30,
     "metadata": {},
     "output_type": "execute_result"
    }
   ],
   "source": [
    "join_data = join_data[['TransactionDate', 'Quantity', 'Cost','ToFC','FCName','FCDemand','FromWH','WHName','WHSupply','WHRegion' ]]\n",
    "join_data.head()"
   ]
  },
  {
   "cell_type": "markdown",
   "id": "ebe3d873",
   "metadata": {},
   "source": [
    "## 북부, 남부 데이터"
   ]
  },
  {
   "cell_type": "code",
   "execution_count": 31,
   "id": "d75142cc",
   "metadata": {
    "ExecuteTime": {
     "end_time": "2023-04-09T05:06:29.852543Z",
     "start_time": "2023-04-09T05:06:29.804445Z"
    }
   },
   "outputs": [
    {
     "data": {
      "text/html": [
       "<div>\n",
       "<style scoped>\n",
       "    .dataframe tbody tr th:only-of-type {\n",
       "        vertical-align: middle;\n",
       "    }\n",
       "\n",
       "    .dataframe tbody tr th {\n",
       "        vertical-align: top;\n",
       "    }\n",
       "\n",
       "    .dataframe thead th {\n",
       "        text-align: right;\n",
       "    }\n",
       "</style>\n",
       "<table border=\"1\" class=\"dataframe\">\n",
       "  <thead>\n",
       "    <tr style=\"text-align: right;\">\n",
       "      <th></th>\n",
       "      <th>TransactionDate</th>\n",
       "      <th>Quantity</th>\n",
       "      <th>Cost</th>\n",
       "      <th>ToFC</th>\n",
       "      <th>FCName</th>\n",
       "      <th>FCDemand</th>\n",
       "      <th>FromWH</th>\n",
       "      <th>WHName</th>\n",
       "      <th>WHSupply</th>\n",
       "      <th>WHRegion</th>\n",
       "    </tr>\n",
       "  </thead>\n",
       "  <tbody>\n",
       "    <tr>\n",
       "      <th>0</th>\n",
       "      <td>2019-01-01 02:11:10</td>\n",
       "      <td>33</td>\n",
       "      <td>1.1</td>\n",
       "      <td>FC00004</td>\n",
       "      <td>대전공장</td>\n",
       "      <td>25</td>\n",
       "      <td>WH00003</td>\n",
       "      <td>수원창고</td>\n",
       "      <td>42</td>\n",
       "      <td>북부</td>\n",
       "    </tr>\n",
       "    <tr>\n",
       "      <th>1</th>\n",
       "      <td>2019-01-04 04:43:52</td>\n",
       "      <td>25</td>\n",
       "      <td>1.1</td>\n",
       "      <td>FC00004</td>\n",
       "      <td>대전공장</td>\n",
       "      <td>25</td>\n",
       "      <td>WH00003</td>\n",
       "      <td>수원창고</td>\n",
       "      <td>42</td>\n",
       "      <td>북부</td>\n",
       "    </tr>\n",
       "    <tr>\n",
       "      <th>2</th>\n",
       "      <td>2019-01-06 07:01:42</td>\n",
       "      <td>37</td>\n",
       "      <td>1.1</td>\n",
       "      <td>FC00004</td>\n",
       "      <td>대전공장</td>\n",
       "      <td>25</td>\n",
       "      <td>WH00003</td>\n",
       "      <td>수원창고</td>\n",
       "      <td>42</td>\n",
       "      <td>북부</td>\n",
       "    </tr>\n",
       "    <tr>\n",
       "      <th>3</th>\n",
       "      <td>2019-01-08 08:47:05</td>\n",
       "      <td>24</td>\n",
       "      <td>1.1</td>\n",
       "      <td>FC00004</td>\n",
       "      <td>대전공장</td>\n",
       "      <td>25</td>\n",
       "      <td>WH00003</td>\n",
       "      <td>수원창고</td>\n",
       "      <td>42</td>\n",
       "      <td>북부</td>\n",
       "    </tr>\n",
       "    <tr>\n",
       "      <th>4</th>\n",
       "      <td>2019-01-09 00:12:40</td>\n",
       "      <td>33</td>\n",
       "      <td>1.1</td>\n",
       "      <td>FC00004</td>\n",
       "      <td>대전공장</td>\n",
       "      <td>25</td>\n",
       "      <td>WH00003</td>\n",
       "      <td>수원창고</td>\n",
       "      <td>42</td>\n",
       "      <td>북부</td>\n",
       "    </tr>\n",
       "  </tbody>\n",
       "</table>\n",
       "</div>"
      ],
      "text/plain": [
       "       TransactionDate  Quantity  Cost     ToFC FCName  FCDemand   FromWH  \\\n",
       "0  2019-01-01 02:11:10        33   1.1  FC00004   대전공장        25  WH00003   \n",
       "1  2019-01-04 04:43:52        25   1.1  FC00004   대전공장        25  WH00003   \n",
       "2  2019-01-06 07:01:42        37   1.1  FC00004   대전공장        25  WH00003   \n",
       "3  2019-01-08 08:47:05        24   1.1  FC00004   대전공장        25  WH00003   \n",
       "4  2019-01-09 00:12:40        33   1.1  FC00004   대전공장        25  WH00003   \n",
       "\n",
       "  WHName  WHSupply WHRegion  \n",
       "0   수원창고        42       북부  \n",
       "1   수원창고        42       북부  \n",
       "2   수원창고        42       북부  \n",
       "3   수원창고        42       북부  \n",
       "4   수원창고        42       북부  "
      ]
     },
     "execution_count": 31,
     "metadata": {},
     "output_type": "execute_result"
    }
   ],
   "source": [
    "# 북부데이터\n",
    "north = join_data.loc[join_data['WHRegion']=='북부']\n",
    "north.head()"
   ]
  },
  {
   "cell_type": "code",
   "execution_count": 32,
   "id": "d23bda30",
   "metadata": {
    "ExecuteTime": {
     "end_time": "2023-04-09T05:07:16.269910Z",
     "start_time": "2023-04-09T05:07:16.231940Z"
    }
   },
   "outputs": [
    {
     "data": {
      "text/html": [
       "<div>\n",
       "<style scoped>\n",
       "    .dataframe tbody tr th:only-of-type {\n",
       "        vertical-align: middle;\n",
       "    }\n",
       "\n",
       "    .dataframe tbody tr th {\n",
       "        vertical-align: top;\n",
       "    }\n",
       "\n",
       "    .dataframe thead th {\n",
       "        text-align: right;\n",
       "    }\n",
       "</style>\n",
       "<table border=\"1\" class=\"dataframe\">\n",
       "  <thead>\n",
       "    <tr style=\"text-align: right;\">\n",
       "      <th></th>\n",
       "      <th>TransactionDate</th>\n",
       "      <th>Quantity</th>\n",
       "      <th>Cost</th>\n",
       "      <th>ToFC</th>\n",
       "      <th>FCName</th>\n",
       "      <th>FCDemand</th>\n",
       "      <th>FromWH</th>\n",
       "      <th>WHName</th>\n",
       "      <th>WHSupply</th>\n",
       "      <th>WHRegion</th>\n",
       "    </tr>\n",
       "  </thead>\n",
       "  <tbody>\n",
       "    <tr>\n",
       "      <th>721</th>\n",
       "      <td>2019-01-01 06:12:42</td>\n",
       "      <td>19</td>\n",
       "      <td>1.3</td>\n",
       "      <td>FC00007</td>\n",
       "      <td>부산공장</td>\n",
       "      <td>25</td>\n",
       "      <td>WH00006</td>\n",
       "      <td>광주창고</td>\n",
       "      <td>65</td>\n",
       "      <td>남부</td>\n",
       "    </tr>\n",
       "    <tr>\n",
       "      <th>722</th>\n",
       "      <td>2019-01-04 20:59:44</td>\n",
       "      <td>30</td>\n",
       "      <td>1.3</td>\n",
       "      <td>FC00007</td>\n",
       "      <td>부산공장</td>\n",
       "      <td>25</td>\n",
       "      <td>WH00006</td>\n",
       "      <td>광주창고</td>\n",
       "      <td>65</td>\n",
       "      <td>남부</td>\n",
       "    </tr>\n",
       "    <tr>\n",
       "      <th>723</th>\n",
       "      <td>2019-01-05 18:11:00</td>\n",
       "      <td>25</td>\n",
       "      <td>1.3</td>\n",
       "      <td>FC00007</td>\n",
       "      <td>부산공장</td>\n",
       "      <td>25</td>\n",
       "      <td>WH00006</td>\n",
       "      <td>광주창고</td>\n",
       "      <td>65</td>\n",
       "      <td>남부</td>\n",
       "    </tr>\n",
       "    <tr>\n",
       "      <th>724</th>\n",
       "      <td>2019-01-06 11:45:59</td>\n",
       "      <td>22</td>\n",
       "      <td>1.3</td>\n",
       "      <td>FC00007</td>\n",
       "      <td>부산공장</td>\n",
       "      <td>25</td>\n",
       "      <td>WH00006</td>\n",
       "      <td>광주창고</td>\n",
       "      <td>65</td>\n",
       "      <td>남부</td>\n",
       "    </tr>\n",
       "    <tr>\n",
       "      <th>725</th>\n",
       "      <td>2019-01-06 22:14:53</td>\n",
       "      <td>24</td>\n",
       "      <td>1.3</td>\n",
       "      <td>FC00007</td>\n",
       "      <td>부산공장</td>\n",
       "      <td>25</td>\n",
       "      <td>WH00006</td>\n",
       "      <td>광주창고</td>\n",
       "      <td>65</td>\n",
       "      <td>남부</td>\n",
       "    </tr>\n",
       "  </tbody>\n",
       "</table>\n",
       "</div>"
      ],
      "text/plain": [
       "         TransactionDate  Quantity  Cost     ToFC FCName  FCDemand   FromWH  \\\n",
       "721  2019-01-01 06:12:42        19   1.3  FC00007   부산공장        25  WH00006   \n",
       "722  2019-01-04 20:59:44        30   1.3  FC00007   부산공장        25  WH00006   \n",
       "723  2019-01-05 18:11:00        25   1.3  FC00007   부산공장        25  WH00006   \n",
       "724  2019-01-06 11:45:59        22   1.3  FC00007   부산공장        25  WH00006   \n",
       "725  2019-01-06 22:14:53        24   1.3  FC00007   부산공장        25  WH00006   \n",
       "\n",
       "    WHName  WHSupply WHRegion  \n",
       "721   광주창고        65       남부  \n",
       "722   광주창고        65       남부  \n",
       "723   광주창고        65       남부  \n",
       "724   광주창고        65       남부  \n",
       "725   광주창고        65       남부  "
      ]
     },
     "execution_count": 32,
     "metadata": {},
     "output_type": "execute_result"
    }
   ],
   "source": [
    "# 남부데이터\n",
    "south = join_data.loc[join_data['WHRegion']=='남부']\n",
    "south.head()"
   ]
  },
  {
   "cell_type": "markdown",
   "id": "c2deae90",
   "metadata": {},
   "source": [
    "# 운송량, 운송비용 분석"
   ]
  },
  {
   "cell_type": "code",
   "execution_count": 34,
   "id": "03144a22",
   "metadata": {
    "ExecuteTime": {
     "end_time": "2023-04-09T05:26:09.823389Z",
     "start_time": "2023-04-09T05:26:09.802235Z"
    }
   },
   "outputs": [
    {
     "name": "stdout",
     "output_type": "stream",
     "text": [
      "북부지사 총비용: 2189.3\n",
      "남부지사 총비용: 2062.0\n"
     ]
    }
   ],
   "source": [
    "# 총 운송비용\n",
    "print(f\"북부지사 총비용: {north['Cost'].sum()}\")\n",
    "print(f\"남부지사 총비용: {south['Cost'].sum()}\")"
   ]
  },
  {
   "cell_type": "code",
   "execution_count": 36,
   "id": "1369550e",
   "metadata": {
    "ExecuteTime": {
     "end_time": "2023-04-09T05:27:09.689257Z",
     "start_time": "2023-04-09T05:27:09.677626Z"
    }
   },
   "outputs": [
    {
     "name": "stdout",
     "output_type": "stream",
     "text": [
      "북부지사 총부품 운송개수: 49146\n",
      "남부지사 총부품 운송개수: 50214\n"
     ]
    }
   ],
   "source": [
    "# 총 운송량\n",
    "print(f\"북부지사 총부품 운송개수: {north['Quantity'].sum()}\")\n",
    "print(f\"남부지사 총부품 운송개수: {south['Quantity'].sum()}\")"
   ]
  },
  {
   "cell_type": "code",
   "execution_count": 53,
   "id": "beb44273",
   "metadata": {
    "ExecuteTime": {
     "end_time": "2023-04-09T05:44:19.243611Z",
     "start_time": "2023-04-09T05:44:19.232378Z"
    }
   },
   "outputs": [
    {
     "name": "stdout",
     "output_type": "stream",
     "text": [
      "북부지사의 부품1개당 비용: 445원\n",
      "북부지사의 부품1개당 비용: 410원\n"
     ]
    }
   ],
   "source": [
    "# 부품 1개당 운송비용\n",
    "tmp = (north['Cost'].sum()/north['Quantity'].sum())*10000\n",
    "print(f\"북부지사의 부품1개당 비용: {int(tmp)}원\")\n",
    "\n",
    "tmp = (south['Cost'].sum()/south['Quantity'].sum())*10000\n",
    "print(f\"북부지사의 부품1개당 비용: {int(tmp)}원\")"
   ]
  },
  {
   "cell_type": "code",
   "execution_count": 54,
   "id": "2eb3721b",
   "metadata": {
    "ExecuteTime": {
     "end_time": "2023-04-09T05:46:05.140569Z",
     "start_time": "2023-04-09T05:46:05.098682Z"
    },
    "scrolled": true
   },
   "outputs": [
    {
     "data": {
      "text/html": [
       "<div>\n",
       "<style scoped>\n",
       "    .dataframe tbody tr th:only-of-type {\n",
       "        vertical-align: middle;\n",
       "    }\n",
       "\n",
       "    .dataframe tbody tr th {\n",
       "        vertical-align: top;\n",
       "    }\n",
       "\n",
       "    .dataframe thead th {\n",
       "        text-align: right;\n",
       "    }\n",
       "</style>\n",
       "<table border=\"1\" class=\"dataframe\">\n",
       "  <thead>\n",
       "    <tr style=\"text-align: right;\">\n",
       "      <th></th>\n",
       "      <th>FCID</th>\n",
       "      <th>WHID</th>\n",
       "      <th>Cost</th>\n",
       "      <th>FCName</th>\n",
       "      <th>FCDemand</th>\n",
       "      <th>FCRegion</th>\n",
       "    </tr>\n",
       "  </thead>\n",
       "  <tbody>\n",
       "    <tr>\n",
       "      <th>0</th>\n",
       "      <td>FC00001</td>\n",
       "      <td>WH00001</td>\n",
       "      <td>0.4</td>\n",
       "      <td>서울공장</td>\n",
       "      <td>28</td>\n",
       "      <td>북부</td>\n",
       "    </tr>\n",
       "    <tr>\n",
       "      <th>1</th>\n",
       "      <td>FC00001</td>\n",
       "      <td>WH00002</td>\n",
       "      <td>0.8</td>\n",
       "      <td>서울공장</td>\n",
       "      <td>28</td>\n",
       "      <td>북부</td>\n",
       "    </tr>\n",
       "    <tr>\n",
       "      <th>2</th>\n",
       "      <td>FC00001</td>\n",
       "      <td>WH00003</td>\n",
       "      <td>1.5</td>\n",
       "      <td>서울공장</td>\n",
       "      <td>28</td>\n",
       "      <td>북부</td>\n",
       "    </tr>\n",
       "    <tr>\n",
       "      <th>3</th>\n",
       "      <td>FC00002</td>\n",
       "      <td>WH00001</td>\n",
       "      <td>0.9</td>\n",
       "      <td>수원공장</td>\n",
       "      <td>29</td>\n",
       "      <td>북부</td>\n",
       "    </tr>\n",
       "    <tr>\n",
       "      <th>4</th>\n",
       "      <td>FC00002</td>\n",
       "      <td>WH00002</td>\n",
       "      <td>0.8</td>\n",
       "      <td>수원공장</td>\n",
       "      <td>29</td>\n",
       "      <td>북부</td>\n",
       "    </tr>\n",
       "    <tr>\n",
       "      <th>5</th>\n",
       "      <td>FC00002</td>\n",
       "      <td>WH00003</td>\n",
       "      <td>1.6</td>\n",
       "      <td>수원공장</td>\n",
       "      <td>29</td>\n",
       "      <td>북부</td>\n",
       "    </tr>\n",
       "    <tr>\n",
       "      <th>6</th>\n",
       "      <td>FC00003</td>\n",
       "      <td>WH00001</td>\n",
       "      <td>1.2</td>\n",
       "      <td>인천공장</td>\n",
       "      <td>31</td>\n",
       "      <td>북부</td>\n",
       "    </tr>\n",
       "    <tr>\n",
       "      <th>7</th>\n",
       "      <td>FC00003</td>\n",
       "      <td>WH00002</td>\n",
       "      <td>1.3</td>\n",
       "      <td>인천공장</td>\n",
       "      <td>31</td>\n",
       "      <td>북부</td>\n",
       "    </tr>\n",
       "    <tr>\n",
       "      <th>8</th>\n",
       "      <td>FC00003</td>\n",
       "      <td>WH00003</td>\n",
       "      <td>1.5</td>\n",
       "      <td>인천공장</td>\n",
       "      <td>31</td>\n",
       "      <td>북부</td>\n",
       "    </tr>\n",
       "    <tr>\n",
       "      <th>9</th>\n",
       "      <td>FC00004</td>\n",
       "      <td>WH00001</td>\n",
       "      <td>0.8</td>\n",
       "      <td>대전공장</td>\n",
       "      <td>25</td>\n",
       "      <td>북부</td>\n",
       "    </tr>\n",
       "    <tr>\n",
       "      <th>10</th>\n",
       "      <td>FC00004</td>\n",
       "      <td>WH00002</td>\n",
       "      <td>1.0</td>\n",
       "      <td>대전공장</td>\n",
       "      <td>25</td>\n",
       "      <td>북부</td>\n",
       "    </tr>\n",
       "    <tr>\n",
       "      <th>11</th>\n",
       "      <td>FC00004</td>\n",
       "      <td>WH00003</td>\n",
       "      <td>1.1</td>\n",
       "      <td>대전공장</td>\n",
       "      <td>25</td>\n",
       "      <td>북부</td>\n",
       "    </tr>\n",
       "    <tr>\n",
       "      <th>12</th>\n",
       "      <td>FC00005</td>\n",
       "      <td>WH00004</td>\n",
       "      <td>0.8</td>\n",
       "      <td>대구공장</td>\n",
       "      <td>21</td>\n",
       "      <td>남부</td>\n",
       "    </tr>\n",
       "    <tr>\n",
       "      <th>13</th>\n",
       "      <td>FC00005</td>\n",
       "      <td>WH00005</td>\n",
       "      <td>0.3</td>\n",
       "      <td>대구공장</td>\n",
       "      <td>21</td>\n",
       "      <td>남부</td>\n",
       "    </tr>\n",
       "    <tr>\n",
       "      <th>14</th>\n",
       "      <td>FC00005</td>\n",
       "      <td>WH00006</td>\n",
       "      <td>1.4</td>\n",
       "      <td>대구공장</td>\n",
       "      <td>21</td>\n",
       "      <td>남부</td>\n",
       "    </tr>\n",
       "    <tr>\n",
       "      <th>15</th>\n",
       "      <td>FC00006</td>\n",
       "      <td>WH00004</td>\n",
       "      <td>0.9</td>\n",
       "      <td>광주공장</td>\n",
       "      <td>30</td>\n",
       "      <td>남부</td>\n",
       "    </tr>\n",
       "    <tr>\n",
       "      <th>16</th>\n",
       "      <td>FC00006</td>\n",
       "      <td>WH00005</td>\n",
       "      <td>1.1</td>\n",
       "      <td>광주공장</td>\n",
       "      <td>30</td>\n",
       "      <td>남부</td>\n",
       "    </tr>\n",
       "    <tr>\n",
       "      <th>17</th>\n",
       "      <td>FC00006</td>\n",
       "      <td>WH00006</td>\n",
       "      <td>0.7</td>\n",
       "      <td>광주공장</td>\n",
       "      <td>30</td>\n",
       "      <td>남부</td>\n",
       "    </tr>\n",
       "    <tr>\n",
       "      <th>18</th>\n",
       "      <td>FC00007</td>\n",
       "      <td>WH00004</td>\n",
       "      <td>0.9</td>\n",
       "      <td>부산공장</td>\n",
       "      <td>25</td>\n",
       "      <td>남부</td>\n",
       "    </tr>\n",
       "    <tr>\n",
       "      <th>19</th>\n",
       "      <td>FC00007</td>\n",
       "      <td>WH00005</td>\n",
       "      <td>1.2</td>\n",
       "      <td>부산공장</td>\n",
       "      <td>25</td>\n",
       "      <td>남부</td>\n",
       "    </tr>\n",
       "    <tr>\n",
       "      <th>20</th>\n",
       "      <td>FC00007</td>\n",
       "      <td>WH00006</td>\n",
       "      <td>1.3</td>\n",
       "      <td>부산공장</td>\n",
       "      <td>25</td>\n",
       "      <td>남부</td>\n",
       "    </tr>\n",
       "    <tr>\n",
       "      <th>21</th>\n",
       "      <td>FC00008</td>\n",
       "      <td>WH00004</td>\n",
       "      <td>1.5</td>\n",
       "      <td>울산공장</td>\n",
       "      <td>16</td>\n",
       "      <td>남부</td>\n",
       "    </tr>\n",
       "    <tr>\n",
       "      <th>22</th>\n",
       "      <td>FC00008</td>\n",
       "      <td>WH00005</td>\n",
       "      <td>1.2</td>\n",
       "      <td>울산공장</td>\n",
       "      <td>16</td>\n",
       "      <td>남부</td>\n",
       "    </tr>\n",
       "    <tr>\n",
       "      <th>23</th>\n",
       "      <td>FC00008</td>\n",
       "      <td>WH00006</td>\n",
       "      <td>1.3</td>\n",
       "      <td>울산공장</td>\n",
       "      <td>16</td>\n",
       "      <td>남부</td>\n",
       "    </tr>\n",
       "  </tbody>\n",
       "</table>\n",
       "</div>"
      ],
      "text/plain": [
       "       FCID     WHID  Cost FCName  FCDemand FCRegion\n",
       "0   FC00001  WH00001   0.4   서울공장        28       북부\n",
       "1   FC00001  WH00002   0.8   서울공장        28       북부\n",
       "2   FC00001  WH00003   1.5   서울공장        28       북부\n",
       "3   FC00002  WH00001   0.9   수원공장        29       북부\n",
       "4   FC00002  WH00002   0.8   수원공장        29       북부\n",
       "5   FC00002  WH00003   1.6   수원공장        29       북부\n",
       "6   FC00003  WH00001   1.2   인천공장        31       북부\n",
       "7   FC00003  WH00002   1.3   인천공장        31       북부\n",
       "8   FC00003  WH00003   1.5   인천공장        31       북부\n",
       "9   FC00004  WH00001   0.8   대전공장        25       북부\n",
       "10  FC00004  WH00002   1.0   대전공장        25       북부\n",
       "11  FC00004  WH00003   1.1   대전공장        25       북부\n",
       "12  FC00005  WH00004   0.8   대구공장        21       남부\n",
       "13  FC00005  WH00005   0.3   대구공장        21       남부\n",
       "14  FC00005  WH00006   1.4   대구공장        21       남부\n",
       "15  FC00006  WH00004   0.9   광주공장        30       남부\n",
       "16  FC00006  WH00005   1.1   광주공장        30       남부\n",
       "17  FC00006  WH00006   0.7   광주공장        30       남부\n",
       "18  FC00007  WH00004   0.9   부산공장        25       남부\n",
       "19  FC00007  WH00005   1.2   부산공장        25       남부\n",
       "20  FC00007  WH00006   1.3   부산공장        25       남부\n",
       "21  FC00008  WH00004   1.5   울산공장        16       남부\n",
       "22  FC00008  WH00005   1.2   울산공장        16       남부\n",
       "23  FC00008  WH00006   1.3   울산공장        16       남부"
      ]
     },
     "execution_count": 54,
     "metadata": {},
     "output_type": "execute_result"
    }
   ],
   "source": [
    "# 비용을 지사별로 집계\n",
    "cost_chk = pd.merge(cost,factories, on=\"FCID\",how=\"left\")\n",
    "cost_chk"
   ]
  },
  {
   "cell_type": "code",
   "execution_count": 59,
   "id": "19635f34",
   "metadata": {
    "ExecuteTime": {
     "end_time": "2023-04-09T06:27:46.683585Z",
     "start_time": "2023-04-09T06:27:46.671687Z"
    }
   },
   "outputs": [
    {
     "name": "stdout",
     "output_type": "stream",
     "text": [
      "북부지사의 평균운송비용: 1.075\n",
      "남부지사의 평균운송비용: 1.05\n"
     ]
    }
   ],
   "source": [
    "# 평균\n",
    "# 남부지사가 더 효율적으로 운송하고 있다는 것을 알 수 있다\n",
    "# 내생각: 거리를 생각하지 않고 단순히 효율적이라고 할 수 있는지 잘 모르겠다\n",
    "avg_n = cost_chk.loc[cost_chk['FCRegion']=='북부','Cost'].mean()\n",
    "avg_s = cost_chk.loc[cost_chk['FCRegion']=='남부','Cost'].mean()\n",
    "print(f\"북부지사의 평균운송비용: {avg_n}\")\n",
    "print(f\"남부지사의 평균운송비용: {avg_s}\")"
   ]
  },
  {
   "cell_type": "code",
   "execution_count": null,
   "id": "5778ceb1",
   "metadata": {},
   "outputs": [],
   "source": []
  },
  {
   "cell_type": "markdown",
   "id": "8e3af044",
   "metadata": {},
   "source": [
    "# 네트워크 practice"
   ]
  },
  {
   "cell_type": "code",
   "execution_count": 60,
   "id": "e7061f47",
   "metadata": {
    "ExecuteTime": {
     "end_time": "2023-04-09T06:34:38.159333Z",
     "start_time": "2023-04-09T06:34:36.358807Z"
    }
   },
   "outputs": [],
   "source": [
    "import networkx as nx\n",
    "import matplotlib.pyplot as plt"
   ]
  },
  {
   "cell_type": "markdown",
   "id": "3d0fc957",
   "metadata": {},
   "source": [
    "## basic"
   ]
  },
  {
   "cell_type": "code",
   "execution_count": 61,
   "id": "626137a3",
   "metadata": {
    "ExecuteTime": {
     "end_time": "2023-04-09T06:42:44.008263Z",
     "start_time": "2023-04-09T06:42:43.787547Z"
    }
   },
   "outputs": [
    {
     "data": {
      "image/png": "[encoded data removed]",
      "text/plain": [
       "<Figure size 432x288 with 1 Axes>"
      ]
     },
     "metadata": {},
     "output_type": "display_data"
    }
   ],
   "source": [
    "# 그래프 객체 생성\n",
    "G = nx.Graph()\n",
    "\n",
    "# 노드 설정\n",
    "G.add_node(\"nodeA\")\n",
    "G.add_node(\"nodeB\")\n",
    "G.add_node(\"nodeC\")\n",
    "\n",
    "# 엣지 설정\n",
    "G.add_edge(\"nodeA\", \"nodeB\")\n",
    "G.add_edge(\"nodeA\", \"nodeC\")\n",
    "G.add_edge(\"nodeB\", \"nodeC\")\n",
    "\n",
    "# 좌표설정\n",
    "pos= {}\n",
    "pos[\"nodeA\"] = (0,0)\n",
    "pos[\"nodeB\"] = (1,1)\n",
    "pos[\"nodeC\"] = (0,1)\n",
    "\n",
    "# 그리기\n",
    "nx.draw(G,pos)\n",
    "plt.show()"
   ]
  },
  {
   "cell_type": "markdown",
   "id": "c4a8810a",
   "metadata": {},
   "source": [
    "## 노드 추가하기"
   ]
  },
  {
   "cell_type": "code",
   "execution_count": 64,
   "id": "22cb604c",
   "metadata": {
    "ExecuteTime": {
     "end_time": "2023-04-09T06:45:27.256289Z",
     "start_time": "2023-04-09T06:45:27.112716Z"
    }
   },
   "outputs": [
    {
     "data": {
      "image/png": "[encoded data removed]",
      "text/plain": [
       "<Figure size 432x288 with 1 Axes>"
      ]
     },
     "metadata": {},
     "output_type": "display_data"
    }
   ],
   "source": [
    "# 그래프 객체 생성\n",
    "G = nx.Graph()\n",
    "\n",
    "# 노드 설정\n",
    "G.add_node(\"nodeA\")\n",
    "G.add_node(\"nodeB\")\n",
    "G.add_node(\"nodeC\")\n",
    "G.add_node(\"nodeD\")\n",
    "\n",
    "# 엣지 설정\n",
    "G.add_edge(\"nodeA\", \"nodeB\")\n",
    "G.add_edge(\"nodeA\", \"nodeC\")\n",
    "G.add_edge(\"nodeB\", \"nodeC\")\n",
    "G.add_edge(\"nodeA\", \"nodeD\")\n",
    "\n",
    "# 좌표설정\n",
    "pos= {}\n",
    "pos[\"nodeA\"] = (0,0)\n",
    "pos[\"nodeB\"] = (1,1)\n",
    "pos[\"nodeC\"] = (0,1)\n",
    "pos[\"nodeD\"] = (1,0)\n",
    "\n",
    "# 그리기\n",
    "nx.draw(G,pos,with_labels=True)\n",
    "plt.show()"
   ]
  },
  {
   "cell_type": "markdown",
   "id": "18d66edd",
   "metadata": {},
   "source": [
    "## 경로에 가중치 부여"
   ]
  },
  {
   "cell_type": "code",
   "execution_count": 66,
   "id": "06456b30",
   "metadata": {
    "ExecuteTime": {
     "end_time": "2023-04-09T06:46:49.166475Z",
     "start_time": "2023-04-09T06:46:49.147432Z"
    }
   },
   "outputs": [],
   "source": [
    "import pandas as pd\n",
    "import numpy as np\n",
    "import matplotlib.pyplot as plt\n",
    "import networkx as nx"
   ]
  },
  {
   "cell_type": "code",
   "execution_count": 67,
   "id": "639933eb",
   "metadata": {
    "ExecuteTime": {
     "end_time": "2023-04-09T06:47:54.537182Z",
     "start_time": "2023-04-09T06:47:54.496163Z"
    }
   },
   "outputs": [
    {
     "data": {
      "text/html": [
       "<div>\n",
       "<style scoped>\n",
       "    .dataframe tbody tr th:only-of-type {\n",
       "        vertical-align: middle;\n",
       "    }\n",
       "\n",
       "    .dataframe tbody tr th {\n",
       "        vertical-align: top;\n",
       "    }\n",
       "\n",
       "    .dataframe thead th {\n",
       "        text-align: right;\n",
       "    }\n",
       "</style>\n",
       "<table border=\"1\" class=\"dataframe\">\n",
       "  <thead>\n",
       "    <tr style=\"text-align: right;\">\n",
       "      <th></th>\n",
       "      <th>A</th>\n",
       "      <th>B</th>\n",
       "      <th>C</th>\n",
       "      <th>D</th>\n",
       "      <th>E</th>\n",
       "    </tr>\n",
       "  </thead>\n",
       "  <tbody>\n",
       "    <tr>\n",
       "      <th>0</th>\n",
       "      <td>0.639921</td>\n",
       "      <td>0.143353</td>\n",
       "      <td>0.944669</td>\n",
       "      <td>0.521848</td>\n",
       "      <td>0.000000</td>\n",
       "    </tr>\n",
       "    <tr>\n",
       "      <th>1</th>\n",
       "      <td>0.264556</td>\n",
       "      <td>0.000000</td>\n",
       "      <td>0.456150</td>\n",
       "      <td>0.568434</td>\n",
       "      <td>0.000000</td>\n",
       "    </tr>\n",
       "    <tr>\n",
       "      <th>2</th>\n",
       "      <td>0.617635</td>\n",
       "      <td>0.612096</td>\n",
       "      <td>0.616934</td>\n",
       "      <td>0.943748</td>\n",
       "      <td>0.000000</td>\n",
       "    </tr>\n",
       "    <tr>\n",
       "      <th>3</th>\n",
       "      <td>0.000000</td>\n",
       "      <td>0.000000</td>\n",
       "      <td>0.697631</td>\n",
       "      <td>0.060225</td>\n",
       "      <td>0.666767</td>\n",
       "    </tr>\n",
       "    <tr>\n",
       "      <th>4</th>\n",
       "      <td>0.670638</td>\n",
       "      <td>0.210383</td>\n",
       "      <td>0.000000</td>\n",
       "      <td>0.315428</td>\n",
       "      <td>0.000000</td>\n",
       "    </tr>\n",
       "  </tbody>\n",
       "</table>\n",
       "</div>"
      ],
      "text/plain": [
       "          A         B         C         D         E\n",
       "0  0.639921  0.143353  0.944669  0.521848  0.000000\n",
       "1  0.264556  0.000000  0.456150  0.568434  0.000000\n",
       "2  0.617635  0.612096  0.616934  0.943748  0.000000\n",
       "3  0.000000  0.000000  0.697631  0.060225  0.666767\n",
       "4  0.670638  0.210383  0.000000  0.315428  0.000000"
      ]
     },
     "execution_count": 67,
     "metadata": {},
     "output_type": "execute_result"
    }
   ],
   "source": [
    "# 위치, 가중치 데이터\n",
    "df_w = pd.read_csv(\"./data/network_weight.csv\")\n",
    "df_w.head()"
   ]
  },
  {
   "cell_type": "code",
   "execution_count": 68,
   "id": "6f18acbc",
   "metadata": {
    "ExecuteTime": {
     "end_time": "2023-04-09T06:48:00.694950Z",
     "start_time": "2023-04-09T06:48:00.660469Z"
    }
   },
   "outputs": [
    {
     "data": {
      "text/html": [
       "<div>\n",
       "<style scoped>\n",
       "    .dataframe tbody tr th:only-of-type {\n",
       "        vertical-align: middle;\n",
       "    }\n",
       "\n",
       "    .dataframe tbody tr th {\n",
       "        vertical-align: top;\n",
       "    }\n",
       "\n",
       "    .dataframe thead th {\n",
       "        text-align: right;\n",
       "    }\n",
       "</style>\n",
       "<table border=\"1\" class=\"dataframe\">\n",
       "  <thead>\n",
       "    <tr style=\"text-align: right;\">\n",
       "      <th></th>\n",
       "      <th>A</th>\n",
       "      <th>B</th>\n",
       "      <th>C</th>\n",
       "      <th>D</th>\n",
       "      <th>E</th>\n",
       "    </tr>\n",
       "  </thead>\n",
       "  <tbody>\n",
       "    <tr>\n",
       "      <th>0</th>\n",
       "      <td>0</td>\n",
       "      <td>0</td>\n",
       "      <td>2</td>\n",
       "      <td>2</td>\n",
       "      <td>1</td>\n",
       "    </tr>\n",
       "    <tr>\n",
       "      <th>1</th>\n",
       "      <td>0</td>\n",
       "      <td>2</td>\n",
       "      <td>0</td>\n",
       "      <td>2</td>\n",
       "      <td>1</td>\n",
       "    </tr>\n",
       "  </tbody>\n",
       "</table>\n",
       "</div>"
      ],
      "text/plain": [
       "   A  B  C  D  E\n",
       "0  0  0  2  2  1\n",
       "1  0  2  0  2  1"
      ]
     },
     "execution_count": 68,
     "metadata": {},
     "output_type": "execute_result"
    }
   ],
   "source": [
    "df_p = pd.read_csv(\"./data/network_pos.csv\")\n",
    "df_p.head()"
   ]
  },
  {
   "cell_type": "code",
   "execution_count": 70,
   "id": "b780d018",
   "metadata": {
    "ExecuteTime": {
     "end_time": "2023-04-09T06:52:27.969517Z",
     "start_time": "2023-04-09T06:52:27.951150Z"
    }
   },
   "outputs": [
    {
     "data": {
      "text/plain": [
       "[6.39921,\n",
       " 1.4335300000000002,\n",
       " 9.44669,\n",
       " 5.21848,\n",
       " 0.0,\n",
       " 2.64556,\n",
       " 0.0,\n",
       " 4.5615,\n",
       " 5.68434,\n",
       " 0.0,\n",
       " 6.17635,\n",
       " 6.12096,\n",
       " 6.16934,\n",
       " 9.43748,\n",
       " 0.0,\n",
       " 0.0,\n",
       " 0.0,\n",
       " 6.97631,\n",
       " 0.60225,\n",
       " 6.66767,\n",
       " 6.706379999999999,\n",
       " 2.10383,\n",
       " 0.0,\n",
       " 3.15428,\n",
       " 0.0]"
      ]
     },
     "execution_count": 70,
     "metadata": {},
     "output_type": "execute_result"
    }
   ],
   "source": [
    "# 엣지 가중치 리스트화\n",
    "size = 10\n",
    "edge_weight = []\n",
    "for i in range(len(df_w)):\n",
    "    for j in range(len(df_w.columns)):\n",
    "        edge_weight.append(df_w.iloc[i][j]* size)\n",
    "edge_weight"
   ]
  },
  {
   "cell_type": "code",
   "execution_count": 72,
   "id": "5fb92592",
   "metadata": {
    "ExecuteTime": {
     "end_time": "2023-04-09T07:07:07.324124Z",
     "start_time": "2023-04-09T07:07:07.117747Z"
    }
   },
   "outputs": [
    {
     "data": {
      "image/png": "[encoded data removed]",
      "text/plain": [
       "<Figure size 432x288 with 1 Axes>"
      ]
     },
     "metadata": {},
     "output_type": "display_data"
    }
   ],
   "source": [
    "# 그래프 그리기\n",
    "G = nx.Graph()\n",
    "\n",
    "# 노드 설정\n",
    "for i in range(len(df_w.columns)):\n",
    "    G.add_node(df_w.columns[i])\n",
    "    \n",
    "# 엣지 설정 (A->B, A->C ..)\n",
    "for i in range(len(df_w.columns)):\n",
    "    for j in range(len(df_w.columns)):\n",
    "        G.add_edge(df_w.columns[i],df_w.columns[j])\n",
    "        \n",
    "# 좌표설정\n",
    "pos = {}\n",
    "for i in range(len(df_w.columns)):\n",
    "    node = df_w.columns[i]\n",
    "    pos[node] = (df_p[node][0], df_p[node][1])\n",
    "    \n",
    "# 그리기\n",
    "nx.draw(G, pos, with_labels=True, font_size=16, node_size=1000, node_color='k', font_color='w', width=edge_weight)\n",
    "\n",
    "# 표시\n",
    "plt.show()"
   ]
  },
  {
   "cell_type": "markdown",
   "id": "a0c5a40b",
   "metadata": {},
   "source": [
    "# 운송경로 분석"
   ]
  },
  {
   "cell_type": "code",
   "execution_count": 82,
   "id": "4cad4313",
   "metadata": {
    "ExecuteTime": {
     "end_time": "2023-04-09T07:47:34.488030Z",
     "start_time": "2023-04-09T07:47:34.454456Z"
    }
   },
   "outputs": [
    {
     "data": {
      "text/html": [
       "<div>\n",
       "<style scoped>\n",
       "    .dataframe tbody tr th:only-of-type {\n",
       "        vertical-align: middle;\n",
       "    }\n",
       "\n",
       "    .dataframe tbody tr th {\n",
       "        vertical-align: top;\n",
       "    }\n",
       "\n",
       "    .dataframe thead th {\n",
       "        text-align: right;\n",
       "    }\n",
       "</style>\n",
       "<table border=\"1\" class=\"dataframe\">\n",
       "  <thead>\n",
       "    <tr style=\"text-align: right;\">\n",
       "      <th></th>\n",
       "      <th>F1</th>\n",
       "      <th>F2</th>\n",
       "      <th>F3</th>\n",
       "      <th>F4</th>\n",
       "    </tr>\n",
       "    <tr>\n",
       "      <th>공장</th>\n",
       "      <th></th>\n",
       "      <th></th>\n",
       "      <th></th>\n",
       "      <th></th>\n",
       "    </tr>\n",
       "  </thead>\n",
       "  <tbody>\n",
       "    <tr>\n",
       "      <th>W1</th>\n",
       "      <td>15</td>\n",
       "      <td>15</td>\n",
       "      <td>0</td>\n",
       "      <td>5</td>\n",
       "    </tr>\n",
       "    <tr>\n",
       "      <th>W2</th>\n",
       "      <td>5</td>\n",
       "      <td>0</td>\n",
       "      <td>30</td>\n",
       "      <td>5</td>\n",
       "    </tr>\n",
       "    <tr>\n",
       "      <th>W3</th>\n",
       "      <td>10</td>\n",
       "      <td>15</td>\n",
       "      <td>2</td>\n",
       "      <td>15</td>\n",
       "    </tr>\n",
       "  </tbody>\n",
       "</table>\n",
       "</div>"
      ],
      "text/plain": [
       "    F1  F2  F3  F4\n",
       "공장                \n",
       "W1  15  15   0   5\n",
       "W2   5   0  30   5\n",
       "W3  10  15   2  15"
      ]
     },
     "execution_count": 82,
     "metadata": {},
     "output_type": "execute_result"
    }
   ],
   "source": [
    "# 운송경로 정보\n",
    "# 어느 창고에서 어느 공장으로 어느 정도의 양을 운송했는지\n",
    "df_tr = pd.read_csv('./data/trans_route.csv', index_col='공장')\n",
    "df_tr.head()"
   ]
  },
  {
   "cell_type": "code",
   "execution_count": 83,
   "id": "57971eb9",
   "metadata": {
    "ExecuteTime": {
     "end_time": "2023-04-09T07:47:34.865106Z",
     "start_time": "2023-04-09T07:47:34.836967Z"
    }
   },
   "outputs": [
    {
     "data": {
      "text/html": [
       "<div>\n",
       "<style scoped>\n",
       "    .dataframe tbody tr th:only-of-type {\n",
       "        vertical-align: middle;\n",
       "    }\n",
       "\n",
       "    .dataframe tbody tr th {\n",
       "        vertical-align: top;\n",
       "    }\n",
       "\n",
       "    .dataframe thead th {\n",
       "        text-align: right;\n",
       "    }\n",
       "</style>\n",
       "<table border=\"1\" class=\"dataframe\">\n",
       "  <thead>\n",
       "    <tr style=\"text-align: right;\">\n",
       "      <th></th>\n",
       "      <th>W1</th>\n",
       "      <th>W2</th>\n",
       "      <th>W3</th>\n",
       "      <th>F1</th>\n",
       "      <th>F2</th>\n",
       "      <th>F3</th>\n",
       "      <th>F4</th>\n",
       "    </tr>\n",
       "  </thead>\n",
       "  <tbody>\n",
       "    <tr>\n",
       "      <th>0</th>\n",
       "      <td>0</td>\n",
       "      <td>0</td>\n",
       "      <td>0</td>\n",
       "      <td>4.0</td>\n",
       "      <td>4.0</td>\n",
       "      <td>4.0</td>\n",
       "      <td>4.0</td>\n",
       "    </tr>\n",
       "    <tr>\n",
       "      <th>1</th>\n",
       "      <td>1</td>\n",
       "      <td>2</td>\n",
       "      <td>3</td>\n",
       "      <td>0.5</td>\n",
       "      <td>1.5</td>\n",
       "      <td>2.5</td>\n",
       "      <td>3.5</td>\n",
       "    </tr>\n",
       "  </tbody>\n",
       "</table>\n",
       "</div>"
      ],
      "text/plain": [
       "   W1  W2  W3   F1   F2   F3   F4\n",
       "0   0   0   0  4.0  4.0  4.0  4.0\n",
       "1   1   2   3  0.5  1.5  2.5  3.5"
      ]
     },
     "execution_count": 83,
     "metadata": {},
     "output_type": "execute_result"
    }
   ],
   "source": [
    "# 공장, 창고 좌표\n",
    "df_pos = pd.read_csv('./data/trans_route_pos.csv')\n",
    "df_pos.head()"
   ]
  },
  {
   "cell_type": "code",
   "execution_count": 84,
   "id": "ce51739d",
   "metadata": {
    "ExecuteTime": {
     "end_time": "2023-04-09T07:47:35.206468Z",
     "start_time": "2023-04-09T07:47:35.195594Z"
    }
   },
   "outputs": [
    {
     "name": "stdout",
     "output_type": "stream",
     "text": [
      "[('W1', 'W2'), ('W1', 'W3'), ('W1', 'F1'), ('W1', 'F2'), ('W1', 'F3'), ('W1', 'F4'), ('W2', 'W3'), ('W2', 'F1'), ('W2', 'F2'), ('W2', 'F3'), ('W2', 'F4'), ('W3', 'F1'), ('W3', 'F2'), ('W3', 'F3'), ('W3', 'F4'), ('F1', 'F2'), ('F1', 'F3'), ('F1', 'F4'), ('F2', 'F3'), ('F2', 'F4'), ('F3', 'F4')]\n"
     ]
    }
   ],
   "source": [
    "# 객체\n",
    "G = nx.Graph()\n",
    "\n",
    "# 노드 설정\n",
    "for i in range(len(df_pos)):\n",
    "    G.add_node(df_pos.columns[i])\n",
    "\n",
    "# 엣지 설정 및 가중치 리스트화\n",
    "num_pre = 0\n",
    "edge_weights = []\n",
    "size = 0.1\n",
    "\n",
    "for i in range(len(df_pos.columns)):\n",
    "    for j in range(len(df_pos.columns)):\n",
    "        if not (i==j): # 같은 곳 아닐 때\n",
    "            # 엣지 추가(W1 -> W2, W1->F1 ...)\n",
    "            G.add_edge(df_pos.columns[i], df_pos.columns[j])\n",
    "print(G.edges)"
   ]
  },
  {
   "cell_type": "code",
   "execution_count": 96,
   "id": "e808e4e9",
   "metadata": {
    "ExecuteTime": {
     "end_time": "2023-04-09T08:05:47.576238Z",
     "start_time": "2023-04-09T08:05:47.518978Z"
    },
    "scrolled": true
   },
   "outputs": [
    {
     "name": "stdout",
     "output_type": "stream",
     "text": [
      "G edge수: 1\n",
      "node:  W1 W2\n",
      "G edge수: 2\n",
      "node:  W1 W3\n",
      "G edge수: 3\n",
      "node:  W1 F1\n",
      "운송량:  15\n",
      "G edge수: 4\n",
      "node:  W1 F2\n",
      "운송량:  15\n",
      "G edge수: 5\n",
      "node:  W1 F3\n",
      "운송량:  0\n",
      "G edge수: 6\n",
      "node:  W1 F4\n",
      "운송량:  5\n",
      "G edge수: 6\n",
      "G edge수: 7\n",
      "node:  W2 W3\n",
      "G edge수: 8\n",
      "node:  W2 F1\n",
      "운송량:  5\n",
      "G edge수: 9\n",
      "node:  W2 F2\n",
      "운송량:  0\n",
      "G edge수: 10\n",
      "node:  W2 F3\n",
      "운송량:  30\n",
      "G edge수: 11\n",
      "node:  W2 F4\n",
      "운송량:  5\n",
      "G edge수: 11\n",
      "G edge수: 11\n",
      "G edge수: 12\n",
      "node:  W3 F1\n",
      "운송량:  10\n",
      "G edge수: 13\n",
      "node:  W3 F2\n",
      "운송량:  15\n",
      "G edge수: 14\n",
      "node:  W3 F3\n",
      "운송량:  2\n",
      "G edge수: 15\n",
      "node:  W3 F4\n",
      "운송량:  15\n",
      "G edge수: 15\n",
      "G edge수: 15\n",
      "G edge수: 15\n",
      "G edge수: 16\n",
      "node:  F1 F2\n",
      "G edge수: 17\n",
      "node:  F1 F3\n",
      "G edge수: 18\n",
      "node:  F1 F4\n",
      "G edge수: 18\n",
      "G edge수: 18\n",
      "G edge수: 18\n",
      "G edge수: 18\n",
      "G edge수: 19\n",
      "node:  F2 F3\n",
      "G edge수: 20\n",
      "node:  F2 F4\n",
      "G edge수: 20\n",
      "G edge수: 20\n",
      "G edge수: 20\n",
      "G edge수: 20\n",
      "G edge수: 20\n",
      "G edge수: 21\n",
      "node:  F3 F4\n",
      "G edge수: 21\n",
      "G edge수: 21\n",
      "G edge수: 21\n",
      "G edge수: 21\n",
      "G edge수: 21\n",
      "G edge수: 21\n",
      "[6.39921, 1.4335300000000002, 9.44669, 5.21848, 0.0, 2.64556, 0.0, 4.5615, 5.68434, 0.0, 6.17635, 6.12096, 6.16934, 9.43748, 0.0, 0.0, 0.0, 6.97631, 0.60225, 6.66767, 6.706379999999999, 2.10383, 0.0, 3.15428, 0.0, 0, 0, 0, 0, 0, 1.5, 1.5, 0, 0.5, 0, 0.5, 0, 3.0, 0.5, 1.0, 1.5, 0.2, 1.5, 0, 0, 0, 0, 0, 0, 0, 0, 1.5, 1.5, 0, 0.5, 0, 0.5, 0, 3.0, 0.5, 1.0, 1.5, 0.2, 1.5, 0, 0, 0, 0, 0, 0, 0, 0, 1.5, 1.5, 0, 0.5, 0, 0.5, 0, 3.0, 0.5, 1.0, 1.5, 0.2, 1.5, 0, 0, 0, 0, 0, 0, 0, 0, 1.5, 1.5, 0, 0.5, 0, 0.5, 0, 3.0, 0.5, 1.0, 1.5, 0.2, 1.5, 0, 0, 0, 0, 0, 0, 0, 0, 1.5, 1.5, 0, 0.5, 0, 0.5, 0, 3.0, 0.5, 1.0, 1.5, 0.2, 1.5, 0, 0, 0, 0, 0, 0] "
     ]
    }
   ],
   "source": [
    "# 객체\n",
    "G = nx.Graph()\n",
    "\n",
    "# 노드 설정\n",
    "for i in range(len(df_pos)):\n",
    "    G.add_node(df_pos.columns[i])\n",
    "    \n",
    "# 엣지 설정 및 가중치 리스트화\n",
    "# 코드를 너무 복잡하게 짠거 같다\n",
    "num_pre = 0\n",
    "edge_weights = []\n",
    "size = 0.1\n",
    "\n",
    "for i in range(len(df_pos.columns)):\n",
    "    for j in range(len(df_pos.columns)):\n",
    "        if not (i==j): # 같은 곳 아닐 때\n",
    "            # 엣지 추가(W1 -> W2, W1->F1 ...)\n",
    "            G.add_edge(df_pos.columns[i], df_pos.columns[j])\n",
    "            print(\"G edge수:\", len(G.edges))\n",
    "            # 엣지 가중치 추가\n",
    "            if num_pre < len(G.edges):\n",
    "                num_pre = len(G.edges)\n",
    "                weight = 0\n",
    "                node1 = df_pos.columns[i]\n",
    "                node2 = df_pos.columns[j]\n",
    "                print(\"node: \",node1,node2)\n",
    "                if (node1 in df_tr.columns) and (node2 in df_tr.index):\n",
    "                    print(\"운송량: \",df_tr[node1][node2])\n",
    "                    if df_tr[node1][node2]:\n",
    "                        weight = df_tr[node1][node2] * size\n",
    "                elif (node2 in df_tr.columns) and (node1 in df_tr.index):\n",
    "                    print(\"운송량: \",df_tr[node2][node1])\n",
    "                    if df_tr[node2][node1]:\n",
    "                        weight = df_tr[node2][node1]* size\n",
    "                edge_weight.append(weight)\n",
    "print(edge_weight,end=' ')"
   ]
  },
  {
   "cell_type": "code",
   "execution_count": 95,
   "id": "042d6821",
   "metadata": {
    "ExecuteTime": {
     "end_time": "2023-04-09T08:05:10.625141Z",
     "start_time": "2023-04-09T08:05:10.435578Z"
    }
   },
   "outputs": [
    {
     "data": {
      "image/png": "[encoded data removed]",
      "text/plain": [
       "<Figure size 432x288 with 1 Axes>"
      ]
     },
     "metadata": {},
     "output_type": "display_data"
    }
   ],
   "source": [
    "# 전체 코드\n",
    "# 객체\n",
    "G = nx.Graph()\n",
    "\n",
    "# 노드 설정\n",
    "for i in range(len(df_pos)):\n",
    "    G.add_node(df_pos.columns[i])\n",
    "    \n",
    "# 엣지 설정 및 가중치 리스트화\n",
    "# 책에서 코드를 너무 복잡하게 짠거 같다\n",
    "num_pre = 0\n",
    "edge_weights = []\n",
    "size = 0.1\n",
    "\n",
    "for i in range(len(df_pos.columns)):\n",
    "    for j in range(len(df_pos.columns)):\n",
    "        if not (i==j): # 같은 곳 아닐 때\n",
    "            # 엣지 추가(W1 -> W2, W1->F1 ...)\n",
    "            G.add_edge(df_pos.columns[i], df_pos.columns[j])\n",
    "#             print(\"G edge수:\", len(G.edges))\n",
    "            # 엣지 가중치 추가\n",
    "            if num_pre < len(G.edges):\n",
    "                num_pre = len(G.edges)\n",
    "                weight = 0\n",
    "                node1 = df_pos.columns[i]\n",
    "                node2 = df_pos.columns[j]\n",
    "#                 print(\"node: \",node1,node2)\n",
    "                if (node1 in df_tr.columns) and (node2 in df_tr.index):\n",
    "#                     print(\"운송량: \",df_tr[node1][node2])\n",
    "                    if df_tr[node1][node2]:\n",
    "                        weight = df_tr[node1][node2] * size\n",
    "                elif (node2 in df_tr.columns) and (node1 in df_tr.index):\n",
    "#                     print(\"운송량: \",df_tr[node2][node1])\n",
    "                    if df_tr[node2][node1]:\n",
    "                        weight = df_tr[node2][node1]* size\n",
    "                edge_weights.append(weight)\n",
    "\n",
    "# 좌표 설정\n",
    "pos = {}\n",
    "for i in range(len(df_pos.columns)):\n",
    "    node = df_pos.columns[i]\n",
    "    pos[node] = (df_pos[node][0], df_pos[node][1])\n",
    "    \n",
    "# 그리기\n",
    "nx.draw(G, pos, with_labels=True, font_size= 16, node_size=1000, node_color='k', font_color='w', width=edge_weights)\n",
    "\n",
    "plt.show()"
   ]
  },
  {
   "cell_type": "markdown",
   "id": "93fff8f9",
   "metadata": {},
   "source": [
    "## 자체 수정 코드"
   ]
  },
  {
   "cell_type": "code",
   "execution_count": null,
   "id": "9ca25be8",
   "metadata": {},
   "outputs": [],
   "source": []
  },
  {
   "cell_type": "markdown",
   "id": "e9fc905a",
   "metadata": {},
   "source": [
    "# 운송 비용 함수\n",
    "운송최적화 문제: <br>\n",
    "1. 최소,최대화 하고 싶은 것을 함수로 정의(목적함수)<br>\n",
    "2. 지켜야할 조건 정의(제약함수)<br>\n",
    "\n",
    "위의 운송경로 시각화를 통해 \"운송비용을 낮출 효율적인 운송 경로가 존재한다\" 라고 가설을 세울 수 있음<br>\n",
    "가설 입증과 운송 경로 최적화를 해보는 과정"
   ]
  },
  {
   "cell_type": "code",
   "execution_count": 97,
   "id": "3c3b4f95",
   "metadata": {
    "ExecuteTime": {
     "end_time": "2023-04-09T08:20:44.001123Z",
     "start_time": "2023-04-09T08:20:43.971512Z"
    }
   },
   "outputs": [
    {
     "data": {
      "text/html": [
       "<div>\n",
       "<style scoped>\n",
       "    .dataframe tbody tr th:only-of-type {\n",
       "        vertical-align: middle;\n",
       "    }\n",
       "\n",
       "    .dataframe tbody tr th {\n",
       "        vertical-align: top;\n",
       "    }\n",
       "\n",
       "    .dataframe thead th {\n",
       "        text-align: right;\n",
       "    }\n",
       "</style>\n",
       "<table border=\"1\" class=\"dataframe\">\n",
       "  <thead>\n",
       "    <tr style=\"text-align: right;\">\n",
       "      <th></th>\n",
       "      <th>F1</th>\n",
       "      <th>F2</th>\n",
       "      <th>F3</th>\n",
       "      <th>F4</th>\n",
       "    </tr>\n",
       "    <tr>\n",
       "      <th>공장</th>\n",
       "      <th></th>\n",
       "      <th></th>\n",
       "      <th></th>\n",
       "      <th></th>\n",
       "    </tr>\n",
       "  </thead>\n",
       "  <tbody>\n",
       "    <tr>\n",
       "      <th>W1</th>\n",
       "      <td>15</td>\n",
       "      <td>15</td>\n",
       "      <td>0</td>\n",
       "      <td>5</td>\n",
       "    </tr>\n",
       "    <tr>\n",
       "      <th>W2</th>\n",
       "      <td>5</td>\n",
       "      <td>0</td>\n",
       "      <td>30</td>\n",
       "      <td>5</td>\n",
       "    </tr>\n",
       "    <tr>\n",
       "      <th>W3</th>\n",
       "      <td>10</td>\n",
       "      <td>15</td>\n",
       "      <td>2</td>\n",
       "      <td>15</td>\n",
       "    </tr>\n",
       "  </tbody>\n",
       "</table>\n",
       "</div>"
      ],
      "text/plain": [
       "    F1  F2  F3  F4\n",
       "공장                \n",
       "W1  15  15   0   5\n",
       "W2   5   0  30   5\n",
       "W3  10  15   2  15"
      ]
     },
     "execution_count": 97,
     "metadata": {},
     "output_type": "execute_result"
    }
   ],
   "source": [
    "# 운송량\n",
    "df_tr = pd.read_csv(\"./data/trans_route.csv\", index_col='공장')\n",
    "df_tr.head()"
   ]
  },
  {
   "cell_type": "code",
   "execution_count": 98,
   "id": "eac92eef",
   "metadata": {
    "ExecuteTime": {
     "end_time": "2023-04-09T08:26:45.317116Z",
     "start_time": "2023-04-09T08:26:45.280544Z"
    }
   },
   "outputs": [
    {
     "data": {
      "text/html": [
       "<div>\n",
       "<style scoped>\n",
       "    .dataframe tbody tr th:only-of-type {\n",
       "        vertical-align: middle;\n",
       "    }\n",
       "\n",
       "    .dataframe tbody tr th {\n",
       "        vertical-align: top;\n",
       "    }\n",
       "\n",
       "    .dataframe thead th {\n",
       "        text-align: right;\n",
       "    }\n",
       "</style>\n",
       "<table border=\"1\" class=\"dataframe\">\n",
       "  <thead>\n",
       "    <tr style=\"text-align: right;\">\n",
       "      <th></th>\n",
       "      <th>F1</th>\n",
       "      <th>F2</th>\n",
       "      <th>F3</th>\n",
       "      <th>F4</th>\n",
       "    </tr>\n",
       "    <tr>\n",
       "      <th>공장</th>\n",
       "      <th></th>\n",
       "      <th></th>\n",
       "      <th></th>\n",
       "      <th></th>\n",
       "    </tr>\n",
       "  </thead>\n",
       "  <tbody>\n",
       "    <tr>\n",
       "      <th>W1</th>\n",
       "      <td>10</td>\n",
       "      <td>10</td>\n",
       "      <td>11</td>\n",
       "      <td>27</td>\n",
       "    </tr>\n",
       "    <tr>\n",
       "      <th>W2</th>\n",
       "      <td>18</td>\n",
       "      <td>21</td>\n",
       "      <td>12</td>\n",
       "      <td>14</td>\n",
       "    </tr>\n",
       "    <tr>\n",
       "      <th>W3</th>\n",
       "      <td>15</td>\n",
       "      <td>12</td>\n",
       "      <td>14</td>\n",
       "      <td>12</td>\n",
       "    </tr>\n",
       "  </tbody>\n",
       "</table>\n",
       "</div>"
      ],
      "text/plain": [
       "    F1  F2  F3  F4\n",
       "공장                \n",
       "W1  10  10  11  27\n",
       "W2  18  21  12  14\n",
       "W3  15  12  14  12"
      ]
     },
     "execution_count": 98,
     "metadata": {},
     "output_type": "execute_result"
    }
   ],
   "source": [
    "# 운송 비용\n",
    "df_tc = pd.read_csv('./data/trans_cost.csv', index_col='공장')\n",
    "df_tc.head()"
   ]
  },
  {
   "cell_type": "markdown",
   "id": "c41cdc91",
   "metadata": {},
   "source": [
    "## 목적함수"
   ]
  },
  {
   "cell_type": "code",
   "execution_count": 99,
   "id": "65d74109",
   "metadata": {
    "ExecuteTime": {
     "end_time": "2023-04-09T08:28:26.793151Z",
     "start_time": "2023-04-09T08:28:26.779025Z"
    }
   },
   "outputs": [
    {
     "data": {
      "text/html": [
       "<div>\n",
       "<style scoped>\n",
       "    .dataframe tbody tr th:only-of-type {\n",
       "        vertical-align: middle;\n",
       "    }\n",
       "\n",
       "    .dataframe tbody tr th {\n",
       "        vertical-align: top;\n",
       "    }\n",
       "\n",
       "    .dataframe thead th {\n",
       "        text-align: right;\n",
       "    }\n",
       "</style>\n",
       "<table border=\"1\" class=\"dataframe\">\n",
       "  <thead>\n",
       "    <tr style=\"text-align: right;\">\n",
       "      <th></th>\n",
       "      <th>F1</th>\n",
       "      <th>F2</th>\n",
       "      <th>F3</th>\n",
       "      <th>F4</th>\n",
       "    </tr>\n",
       "    <tr>\n",
       "      <th>공장</th>\n",
       "      <th></th>\n",
       "      <th></th>\n",
       "      <th></th>\n",
       "      <th></th>\n",
       "    </tr>\n",
       "  </thead>\n",
       "  <tbody>\n",
       "    <tr>\n",
       "      <th>W1</th>\n",
       "      <td>150</td>\n",
       "      <td>150</td>\n",
       "      <td>0</td>\n",
       "      <td>135</td>\n",
       "    </tr>\n",
       "    <tr>\n",
       "      <th>W2</th>\n",
       "      <td>90</td>\n",
       "      <td>0</td>\n",
       "      <td>360</td>\n",
       "      <td>70</td>\n",
       "    </tr>\n",
       "    <tr>\n",
       "      <th>W3</th>\n",
       "      <td>150</td>\n",
       "      <td>180</td>\n",
       "      <td>28</td>\n",
       "      <td>180</td>\n",
       "    </tr>\n",
       "  </tbody>\n",
       "</table>\n",
       "</div>"
      ],
      "text/plain": [
       "     F1   F2   F3   F4\n",
       "공장                    \n",
       "W1  150  150    0  135\n",
       "W2   90    0  360   70\n",
       "W3  150  180   28  180"
      ]
     },
     "execution_count": 99,
     "metadata": {},
     "output_type": "execute_result"
    }
   ],
   "source": [
    "df_tr * df_tc"
   ]
  },
  {
   "cell_type": "code",
   "execution_count": 101,
   "id": "e372fb06",
   "metadata": {
    "ExecuteTime": {
     "end_time": "2023-04-09T08:29:30.895581Z",
     "start_time": "2023-04-09T08:29:30.885908Z"
    }
   },
   "outputs": [
    {
     "data": {
      "text/plain": [
       "1493"
      ]
     },
     "execution_count": 101,
     "metadata": {},
     "output_type": "execute_result"
    }
   ],
   "source": [
    "(df_tr * df_tc).sum().sum()"
   ]
  },
  {
   "cell_type": "code",
   "execution_count": 102,
   "id": "447a43bf",
   "metadata": {
    "ExecuteTime": {
     "end_time": "2023-04-09T08:30:14.053132Z",
     "start_time": "2023-04-09T08:30:14.031842Z"
    }
   },
   "outputs": [],
   "source": [
    "# 운송비용 함수\n",
    "def trans_cost(df_tr,df_tc):\n",
    "    df_multiple = df_tr * df_tc\n",
    "    cost = df_multiple.sum().sum()\n",
    "    return cost"
   ]
  },
  {
   "cell_type": "markdown",
   "id": "071fa2ce",
   "metadata": {},
   "source": [
    "## 제약함수"
   ]
  },
  {
   "cell_type": "code",
   "execution_count": 103,
   "id": "98a511aa",
   "metadata": {
    "ExecuteTime": {
     "end_time": "2023-04-09T08:37:49.486792Z",
     "start_time": "2023-04-09T08:37:49.454849Z"
    }
   },
   "outputs": [
    {
     "data": {
      "text/html": [
       "<div>\n",
       "<style scoped>\n",
       "    .dataframe tbody tr th:only-of-type {\n",
       "        vertical-align: middle;\n",
       "    }\n",
       "\n",
       "    .dataframe tbody tr th {\n",
       "        vertical-align: top;\n",
       "    }\n",
       "\n",
       "    .dataframe thead th {\n",
       "        text-align: right;\n",
       "    }\n",
       "</style>\n",
       "<table border=\"1\" class=\"dataframe\">\n",
       "  <thead>\n",
       "    <tr style=\"text-align: right;\">\n",
       "      <th></th>\n",
       "      <th>F1</th>\n",
       "      <th>F2</th>\n",
       "      <th>F3</th>\n",
       "      <th>F4</th>\n",
       "    </tr>\n",
       "  </thead>\n",
       "  <tbody>\n",
       "    <tr>\n",
       "      <th>0</th>\n",
       "      <td>28</td>\n",
       "      <td>29</td>\n",
       "      <td>31</td>\n",
       "      <td>25</td>\n",
       "    </tr>\n",
       "  </tbody>\n",
       "</table>\n",
       "</div>"
      ],
      "text/plain": [
       "   F1  F2  F3  F4\n",
       "0  28  29  31  25"
      ]
     },
     "execution_count": 103,
     "metadata": {},
     "output_type": "execute_result"
    }
   ],
   "source": [
    "# 수요(부품을 가져와야 함)\n",
    "# 각 생산공장의 채워야 할 제품 제조량\n",
    "df_demand = pd.read_csv('./data/demand.csv')\n",
    "df_demand.head()"
   ]
  },
  {
   "cell_type": "code",
   "execution_count": 104,
   "id": "d21fa6a0",
   "metadata": {
    "ExecuteTime": {
     "end_time": "2023-04-09T08:37:58.158384Z",
     "start_time": "2023-04-09T08:37:58.120224Z"
    }
   },
   "outputs": [
    {
     "data": {
      "text/html": [
       "<div>\n",
       "<style scoped>\n",
       "    .dataframe tbody tr th:only-of-type {\n",
       "        vertical-align: middle;\n",
       "    }\n",
       "\n",
       "    .dataframe tbody tr th {\n",
       "        vertical-align: top;\n",
       "    }\n",
       "\n",
       "    .dataframe thead th {\n",
       "        text-align: right;\n",
       "    }\n",
       "</style>\n",
       "<table border=\"1\" class=\"dataframe\">\n",
       "  <thead>\n",
       "    <tr style=\"text-align: right;\">\n",
       "      <th></th>\n",
       "      <th>W1</th>\n",
       "      <th>W2</th>\n",
       "      <th>W3</th>\n",
       "    </tr>\n",
       "  </thead>\n",
       "  <tbody>\n",
       "    <tr>\n",
       "      <th>0</th>\n",
       "      <td>35</td>\n",
       "      <td>41</td>\n",
       "      <td>42</td>\n",
       "    </tr>\n",
       "  </tbody>\n",
       "</table>\n",
       "</div>"
      ],
      "text/plain": [
       "   W1  W2  W3\n",
       "0  35  41  42"
      ]
     },
     "execution_count": 104,
     "metadata": {},
     "output_type": "execute_result"
    }
   ],
   "source": [
    "# 각 부품창고마다 공급 가능한 부품 수\n",
    "df_supply = pd.read_csv('./data/supply.csv')\n",
    "df_supply.head()"
   ]
  },
  {
   "cell_type": "code",
   "execution_count": 112,
   "id": "87fef56c",
   "metadata": {
    "ExecuteTime": {
     "end_time": "2023-04-09T09:06:19.245730Z",
     "start_time": "2023-04-09T09:06:19.234489Z"
    }
   },
   "outputs": [
    {
     "name": "stdout",
     "output_type": "stream",
     "text": [
      "생산공장 F1으로 운송량: 30, 채워야 할 제조량(수요량): 28\n",
      "수요량 만족시키고 있음\n",
      "생산공장 F2으로 운송량: 30, 채워야 할 제조량(수요량): 29\n",
      "수요량 만족시키고 있음\n",
      "생산공장 F3으로 운송량: 32, 채워야 할 제조량(수요량): 31\n",
      "수요량 만족시키고 있음\n",
      "생산공장 F4으로 운송량: 25, 채워야 할 제조량(수요량): 25\n",
      "수요량 만족시키고 있음\n"
     ]
    }
   ],
   "source": [
    "# 수요측 제약조건\n",
    "for f in range(len(df_demand.columns)):\n",
    "    factory = df_demand.columns[f]\n",
    "    temp_sum = sum(df_tr[df_demand.columns[f]])\n",
    "    demand = df_demand.iloc[0][f]\n",
    "    print(f\"생산공장 {factory}으로 운송량: {temp_sum}, 채워야 할 제조량(수요량): {demand}\")\n",
    "    if temp_sum>=demand:\n",
    "        print(\"수요량 만족시키고 있음\")\n",
    "    else:\n",
    "        print(\"수요량을 만족시키지 못하고 있음, 운송경로 재계산 필요\")"
   ]
  },
  {
   "cell_type": "code",
   "execution_count": 138,
   "id": "f99cc5ca",
   "metadata": {
    "ExecuteTime": {
     "end_time": "2023-04-09T09:21:56.210022Z",
     "start_time": "2023-04-09T09:21:56.189220Z"
    }
   },
   "outputs": [
    {
     "name": "stdout",
     "output_type": "stream",
     "text": [
      "부품창고 W1으로 운송량: 35, 공급 가능한 부품 수(공급량): 35\n",
      "공급 한계 범위내\n",
      "부품창고 W2으로 운송량: 40, 공급 가능한 부품 수(공급량): 41\n",
      "공급 한계 범위내\n",
      "부품창고 W3으로 운송량: 42, 공급 가능한 부품 수(공급량): 42\n",
      "공급 한계 범위내\n"
     ]
    }
   ],
   "source": [
    "# 공급 측 제약조건\n",
    "for w in range(len(df_supply.columns)):\n",
    "    warehouse = df_supply.columns[w]\n",
    "    temp_sum = df_tr.loc[warehouse].sum()\n",
    "    supply = df_supply.iloc[0][w]\n",
    "    print(f\"부품창고 {warehouse}으로 운송량: {temp_sum}, 공급 가능한 부품 수(공급량): {supply}\")\n",
    "    if temp_sum <= supply:\n",
    "        print(\"공급 한계 범위내\")\n",
    "    else:\n",
    "        print(\"공급한계 초과, 운송경로 재계산 필요\")"
   ]
  },
  {
   "cell_type": "markdown",
   "id": "72ad160a",
   "metadata": {},
   "source": [
    "## 운송경로를 변경하여 운송비용 함수 변화 확인"
   ]
  },
  {
   "cell_type": "code",
   "execution_count": 139,
   "id": "65ef2c2b",
   "metadata": {
    "ExecuteTime": {
     "end_time": "2023-04-09T09:26:19.508392Z",
     "start_time": "2023-04-09T09:26:19.459199Z"
    }
   },
   "outputs": [
    {
     "data": {
      "text/html": [
       "<div>\n",
       "<style scoped>\n",
       "    .dataframe tbody tr th:only-of-type {\n",
       "        vertical-align: middle;\n",
       "    }\n",
       "\n",
       "    .dataframe tbody tr th {\n",
       "        vertical-align: top;\n",
       "    }\n",
       "\n",
       "    .dataframe thead th {\n",
       "        text-align: right;\n",
       "    }\n",
       "</style>\n",
       "<table border=\"1\" class=\"dataframe\">\n",
       "  <thead>\n",
       "    <tr style=\"text-align: right;\">\n",
       "      <th></th>\n",
       "      <th>F1</th>\n",
       "      <th>F2</th>\n",
       "      <th>F3</th>\n",
       "      <th>F4</th>\n",
       "    </tr>\n",
       "    <tr>\n",
       "      <th>공장</th>\n",
       "      <th></th>\n",
       "      <th></th>\n",
       "      <th></th>\n",
       "      <th></th>\n",
       "    </tr>\n",
       "  </thead>\n",
       "  <tbody>\n",
       "    <tr>\n",
       "      <th>W1</th>\n",
       "      <td>15</td>\n",
       "      <td>15</td>\n",
       "      <td>0</td>\n",
       "      <td>0</td>\n",
       "    </tr>\n",
       "    <tr>\n",
       "      <th>W2</th>\n",
       "      <td>5</td>\n",
       "      <td>0</td>\n",
       "      <td>30</td>\n",
       "      <td>10</td>\n",
       "    </tr>\n",
       "    <tr>\n",
       "      <th>W3</th>\n",
       "      <td>10</td>\n",
       "      <td>15</td>\n",
       "      <td>2</td>\n",
       "      <td>15</td>\n",
       "    </tr>\n",
       "  </tbody>\n",
       "</table>\n",
       "</div>"
      ],
      "text/plain": [
       "    F1  F2  F3  F4\n",
       "공장                \n",
       "W1  15  15   0   0\n",
       "W2   5   0  30  10\n",
       "W3  10  15   2  15"
      ]
     },
     "execution_count": 139,
     "metadata": {},
     "output_type": "execute_result"
    }
   ],
   "source": [
    "# W1->F4를 줄이고 그만큼을 W2->F4 로 옮김\n",
    "df_tr_new = pd.read_csv('./data/trans_route_new.csv',index_col='공장')\n",
    "df_tr_new.head()"
   ]
  },
  {
   "cell_type": "code",
   "execution_count": 141,
   "id": "649f3c13",
   "metadata": {
    "ExecuteTime": {
     "end_time": "2023-04-09T09:30:25.268200Z",
     "start_time": "2023-04-09T09:30:25.259517Z"
    }
   },
   "outputs": [
    {
     "name": "stdout",
     "output_type": "stream",
     "text": [
      "이전 운송비용: 1493원\n",
      "새로운 운송비용: 1428원\n"
     ]
    }
   ],
   "source": [
    "# 운송비용\n",
    "cost = trans_cost(df_tr, df_tc)\n",
    "cost_new = trans_cost(df_tr_new, df_tc)\n",
    "print(f\"이전 운송비용: {cost}원\")\n",
    "print(f\"새로운 운송비용: {cost_new}원\")"
   ]
  },
  {
   "cell_type": "code",
   "execution_count": 172,
   "id": "f87d7982",
   "metadata": {
    "ExecuteTime": {
     "end_time": "2023-04-09T09:47:26.690479Z",
     "start_time": "2023-04-09T09:47:26.662499Z"
    }
   },
   "outputs": [],
   "source": [
    "# 제약조건 함수\n",
    "# 수요측\n",
    "def condition_demand(df_tr,df_demand):\n",
    "    flag= np.zeros(len(df_demand.columns))\n",
    "    for i in range(len(df_demand.columns)):\n",
    "        temp_sum = sum(df_tr[df_demand.columns[i]])\n",
    "        if temp_sum >= df_demand.iloc[0][i]:\n",
    "            flag[i]=1\n",
    "    return flag\n",
    "        \n",
    "# 공급측\n",
    "def condition_supply(df_tr,df_supply):\n",
    "    flag= np.zeros(len(df_supply.columns))\n",
    "    for i in range(len(df_supply.columns)):\n",
    "        temp_sum = sum(df_tr.loc[df_supply.columns[i]])\n",
    "        if temp_sum <= df_supply.iloc[0][i]:\n",
    "            flag[i]=1\n",
    "    return flag"
   ]
  },
  {
   "cell_type": "code",
   "execution_count": 173,
   "id": "aeadca70",
   "metadata": {
    "ExecuteTime": {
     "end_time": "2023-04-09T09:47:30.781621Z",
     "start_time": "2023-04-09T09:47:30.766974Z"
    },
    "scrolled": true
   },
   "outputs": [
    {
     "name": "stdout",
     "output_type": "stream",
     "text": [
      "수요조건 만족 여부:  [1. 1. 1. 1.]\n",
      "공급조건 만족 여부:  [1. 0. 1.]\n"
     ]
    }
   ],
   "source": [
    "print(\"수요조건 만족 여부: \", condition_demand(df_tr_new,df_demand))\n",
    "print(\"공급조건 만족 여부: \", condition_supply(df_tr_new,df_supply))"
   ]
  },
  {
   "cell_type": "code",
   "execution_count": null,
   "id": "82542a27",
   "metadata": {},
   "outputs": [],
   "source": []
  }
 ],
 "metadata": {
  "kernelspec": {
   "display_name": "Python 3 (ipykernel)",
   "language": "python",
   "name": "python3"
  },
  "language_info": {
   "codemirror_mode": {
    "name": "ipython",
    "version": 3
   },
   "file_extension": ".py",
   "mimetype": "text/x-python",
   "name": "python",
   "nbconvert_exporter": "python",
   "pygments_lexer": "ipython3",
   "version": "3.9.7"
  },
  "toc": {
   "base_numbering": 1,
   "nav_menu": {},
   "number_sections": true,
   "sideBar": true,
   "skip_h1_title": false,
   "title_cell": "Table of Contents",
   "title_sidebar": "Contents",
   "toc_cell": false,
   "toc_position": {
    "height": "calc(100% - 180px)",
    "left": "10px",
    "top": "150px",
    "width": "261.225px"
   },
   "toc_section_display": true,
   "toc_window_display": true
  },
  "varInspector": {
   "cols": {
    "lenName": 16,
    "lenType": 16,
    "lenVar": 40
   },
   "kernels_config": {
    "python": {
     "delete_cmd_postfix": "",
     "delete_cmd_prefix": "del ",
     "library": "var_list.py",
     "varRefreshCmd": "print(var_dic_list())"
    },
    "r": {
     "delete_cmd_postfix": ") ",
     "delete_cmd_prefix": "rm(",
     "library": "var_list.r",
     "varRefreshCmd": "cat(var_dic_list()) "
    }
   },
   "types_to_exclude": [
    "module",
    "function",
    "builtin_function_or_method",
    "instance",
    "_Feature"
   ],
   "window_display": false
  }
 },
 "nbformat": 4,
 "nbformat_minor": 5
}
