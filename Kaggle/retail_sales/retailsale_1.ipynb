{
 "cells": [
  {
   "cell_type": "markdown",
   "id": "6159488f",
   "metadata": {},
   "source": [
    "# Retail sale\n",
    "https://www.kaggle.com/datasets/manjeetsingh/retaildataset?resource=download"
   ]
  },
  {
   "cell_type": "markdown",
   "id": "c024cd50",
   "metadata": {},
   "source": [
    "## Feature\n",
    "\n",
    "* MarkDown1-5 - anonymized data related to promotional markdowns. MarkDown data is only available after Nov 2011, and is not available for all stores all the time. Any missing value is marked with an NA\n",
    "\n",
    "* Dept - the department number"
   ]
  },
  {
   "cell_type": "markdown",
   "id": "b4016b4c",
   "metadata": {},
   "source": [
    "## The Task\n",
    "1.Predict the department-wide sales for each store for the following year\n",
    "\n",
    "2.Model the effects of markdowns on holiday weeks\n",
    "\n",
    "3.Provide recommended actions based on the insights drawn, with prioritization placed on largest business impact"
   ]
  },
  {
   "cell_type": "markdown",
   "id": "73d51f12",
   "metadata": {},
   "source": [
    "# Analysis"
   ]
  },
  {
   "cell_type": "markdown",
   "id": "40f7acd3",
   "metadata": {},
   "source": [
    "## explore"
   ]
  },
  {
   "cell_type": "code",
   "execution_count": 71,
   "id": "9d35063b",
   "metadata": {
    "ExecuteTime": {
     "end_time": "2023-01-21T08:50:18.971498Z",
     "start_time": "2023-01-21T08:50:18.955014Z"
    }
   },
   "outputs": [],
   "source": [
    "import pandas as pd\n",
    "import numpy as np\n",
    "import matplotlib.pyplot as plt\n",
    "import seaborn as sns\n",
    "%matplotlib inline\n",
    "\n",
    "import warnings\n",
    "warnings.filterwarnings('ignore')"
   ]
  },
  {
   "cell_type": "code",
   "execution_count": 16,
   "id": "911dd4dd",
   "metadata": {
    "ExecuteTime": {
     "end_time": "2023-01-21T06:47:16.117431Z",
     "start_time": "2023-01-21T06:47:16.032533Z"
    }
   },
   "outputs": [
    {
     "data": {
      "text/html": [
       "<div>\n",
       "<style scoped>\n",
       "    .dataframe tbody tr th:only-of-type {\n",
       "        vertical-align: middle;\n",
       "    }\n",
       "\n",
       "    .dataframe tbody tr th {\n",
       "        vertical-align: top;\n",
       "    }\n",
       "\n",
       "    .dataframe thead th {\n",
       "        text-align: right;\n",
       "    }\n",
       "</style>\n",
       "<table border=\"1\" class=\"dataframe\">\n",
       "  <thead>\n",
       "    <tr style=\"text-align: right;\">\n",
       "      <th></th>\n",
       "      <th>Store</th>\n",
       "      <th>Date</th>\n",
       "      <th>Temperature</th>\n",
       "      <th>Fuel_Price</th>\n",
       "      <th>MarkDown1</th>\n",
       "      <th>MarkDown2</th>\n",
       "      <th>MarkDown3</th>\n",
       "      <th>MarkDown4</th>\n",
       "      <th>MarkDown5</th>\n",
       "      <th>CPI</th>\n",
       "      <th>Unemployment</th>\n",
       "      <th>IsHoliday</th>\n",
       "    </tr>\n",
       "  </thead>\n",
       "  <tbody>\n",
       "    <tr>\n",
       "      <th>0</th>\n",
       "      <td>1</td>\n",
       "      <td>05/02/2010</td>\n",
       "      <td>42.31</td>\n",
       "      <td>2.572</td>\n",
       "      <td>NaN</td>\n",
       "      <td>NaN</td>\n",
       "      <td>NaN</td>\n",
       "      <td>NaN</td>\n",
       "      <td>NaN</td>\n",
       "      <td>211.096358</td>\n",
       "      <td>8.106</td>\n",
       "      <td>False</td>\n",
       "    </tr>\n",
       "    <tr>\n",
       "      <th>1</th>\n",
       "      <td>1</td>\n",
       "      <td>12/02/2010</td>\n",
       "      <td>38.51</td>\n",
       "      <td>2.548</td>\n",
       "      <td>NaN</td>\n",
       "      <td>NaN</td>\n",
       "      <td>NaN</td>\n",
       "      <td>NaN</td>\n",
       "      <td>NaN</td>\n",
       "      <td>211.242170</td>\n",
       "      <td>8.106</td>\n",
       "      <td>True</td>\n",
       "    </tr>\n",
       "    <tr>\n",
       "      <th>2</th>\n",
       "      <td>1</td>\n",
       "      <td>19/02/2010</td>\n",
       "      <td>39.93</td>\n",
       "      <td>2.514</td>\n",
       "      <td>NaN</td>\n",
       "      <td>NaN</td>\n",
       "      <td>NaN</td>\n",
       "      <td>NaN</td>\n",
       "      <td>NaN</td>\n",
       "      <td>211.289143</td>\n",
       "      <td>8.106</td>\n",
       "      <td>False</td>\n",
       "    </tr>\n",
       "    <tr>\n",
       "      <th>3</th>\n",
       "      <td>1</td>\n",
       "      <td>26/02/2010</td>\n",
       "      <td>46.63</td>\n",
       "      <td>2.561</td>\n",
       "      <td>NaN</td>\n",
       "      <td>NaN</td>\n",
       "      <td>NaN</td>\n",
       "      <td>NaN</td>\n",
       "      <td>NaN</td>\n",
       "      <td>211.319643</td>\n",
       "      <td>8.106</td>\n",
       "      <td>False</td>\n",
       "    </tr>\n",
       "    <tr>\n",
       "      <th>4</th>\n",
       "      <td>1</td>\n",
       "      <td>05/03/2010</td>\n",
       "      <td>46.50</td>\n",
       "      <td>2.625</td>\n",
       "      <td>NaN</td>\n",
       "      <td>NaN</td>\n",
       "      <td>NaN</td>\n",
       "      <td>NaN</td>\n",
       "      <td>NaN</td>\n",
       "      <td>211.350143</td>\n",
       "      <td>8.106</td>\n",
       "      <td>False</td>\n",
       "    </tr>\n",
       "  </tbody>\n",
       "</table>\n",
       "</div>"
      ],
      "text/plain": [
       "   Store        Date  Temperature  Fuel_Price  MarkDown1  MarkDown2  \\\n",
       "0      1  05/02/2010        42.31       2.572        NaN        NaN   \n",
       "1      1  12/02/2010        38.51       2.548        NaN        NaN   \n",
       "2      1  19/02/2010        39.93       2.514        NaN        NaN   \n",
       "3      1  26/02/2010        46.63       2.561        NaN        NaN   \n",
       "4      1  05/03/2010        46.50       2.625        NaN        NaN   \n",
       "\n",
       "   MarkDown3  MarkDown4  MarkDown5         CPI  Unemployment  IsHoliday  \n",
       "0        NaN        NaN        NaN  211.096358         8.106      False  \n",
       "1        NaN        NaN        NaN  211.242170         8.106       True  \n",
       "2        NaN        NaN        NaN  211.289143         8.106      False  \n",
       "3        NaN        NaN        NaN  211.319643         8.106      False  \n",
       "4        NaN        NaN        NaN  211.350143         8.106      False  "
      ]
     },
     "execution_count": 16,
     "metadata": {},
     "output_type": "execute_result"
    }
   ],
   "source": [
    "feature = pd.read_csv('./data/Features data set.csv')\n",
    "feature.head()"
   ]
  },
  {
   "cell_type": "code",
   "execution_count": 18,
   "id": "428a8000",
   "metadata": {
    "ExecuteTime": {
     "end_time": "2023-01-21T06:55:50.412816Z",
     "start_time": "2023-01-21T06:55:50.345659Z"
    }
   },
   "outputs": [
    {
     "data": {
      "text/html": [
       "<div>\n",
       "<style scoped>\n",
       "    .dataframe tbody tr th:only-of-type {\n",
       "        vertical-align: middle;\n",
       "    }\n",
       "\n",
       "    .dataframe tbody tr th {\n",
       "        vertical-align: top;\n",
       "    }\n",
       "\n",
       "    .dataframe thead th {\n",
       "        text-align: right;\n",
       "    }\n",
       "</style>\n",
       "<table border=\"1\" class=\"dataframe\">\n",
       "  <thead>\n",
       "    <tr style=\"text-align: right;\">\n",
       "      <th></th>\n",
       "      <th>Store</th>\n",
       "      <th>Temperature</th>\n",
       "      <th>Fuel_Price</th>\n",
       "      <th>MarkDown1</th>\n",
       "      <th>MarkDown2</th>\n",
       "      <th>MarkDown3</th>\n",
       "      <th>MarkDown4</th>\n",
       "      <th>MarkDown5</th>\n",
       "      <th>CPI</th>\n",
       "      <th>Unemployment</th>\n",
       "    </tr>\n",
       "  </thead>\n",
       "  <tbody>\n",
       "    <tr>\n",
       "      <th>count</th>\n",
       "      <td>8190.000000</td>\n",
       "      <td>8190.000000</td>\n",
       "      <td>8190.000000</td>\n",
       "      <td>4032.000000</td>\n",
       "      <td>2921.000000</td>\n",
       "      <td>3613.000000</td>\n",
       "      <td>3464.000000</td>\n",
       "      <td>4050.000000</td>\n",
       "      <td>7605.000000</td>\n",
       "      <td>7605.000000</td>\n",
       "    </tr>\n",
       "    <tr>\n",
       "      <th>mean</th>\n",
       "      <td>23.000000</td>\n",
       "      <td>59.356198</td>\n",
       "      <td>3.405992</td>\n",
       "      <td>7032.371786</td>\n",
       "      <td>3384.176594</td>\n",
       "      <td>1760.100180</td>\n",
       "      <td>3292.935886</td>\n",
       "      <td>4132.216422</td>\n",
       "      <td>172.460809</td>\n",
       "      <td>7.826821</td>\n",
       "    </tr>\n",
       "    <tr>\n",
       "      <th>std</th>\n",
       "      <td>12.987966</td>\n",
       "      <td>18.678607</td>\n",
       "      <td>0.431337</td>\n",
       "      <td>9262.747448</td>\n",
       "      <td>8793.583016</td>\n",
       "      <td>11276.462208</td>\n",
       "      <td>6792.329861</td>\n",
       "      <td>13086.690278</td>\n",
       "      <td>39.738346</td>\n",
       "      <td>1.877259</td>\n",
       "    </tr>\n",
       "    <tr>\n",
       "      <th>min</th>\n",
       "      <td>1.000000</td>\n",
       "      <td>-7.290000</td>\n",
       "      <td>2.472000</td>\n",
       "      <td>-2781.450000</td>\n",
       "      <td>-265.760000</td>\n",
       "      <td>-179.260000</td>\n",
       "      <td>0.220000</td>\n",
       "      <td>-185.170000</td>\n",
       "      <td>126.064000</td>\n",
       "      <td>3.684000</td>\n",
       "    </tr>\n",
       "    <tr>\n",
       "      <th>25%</th>\n",
       "      <td>12.000000</td>\n",
       "      <td>45.902500</td>\n",
       "      <td>3.041000</td>\n",
       "      <td>1577.532500</td>\n",
       "      <td>68.880000</td>\n",
       "      <td>6.600000</td>\n",
       "      <td>304.687500</td>\n",
       "      <td>1440.827500</td>\n",
       "      <td>132.364839</td>\n",
       "      <td>6.634000</td>\n",
       "    </tr>\n",
       "    <tr>\n",
       "      <th>50%</th>\n",
       "      <td>23.000000</td>\n",
       "      <td>60.710000</td>\n",
       "      <td>3.513000</td>\n",
       "      <td>4743.580000</td>\n",
       "      <td>364.570000</td>\n",
       "      <td>36.260000</td>\n",
       "      <td>1176.425000</td>\n",
       "      <td>2727.135000</td>\n",
       "      <td>182.764003</td>\n",
       "      <td>7.806000</td>\n",
       "    </tr>\n",
       "    <tr>\n",
       "      <th>75%</th>\n",
       "      <td>34.000000</td>\n",
       "      <td>73.880000</td>\n",
       "      <td>3.743000</td>\n",
       "      <td>8923.310000</td>\n",
       "      <td>2153.350000</td>\n",
       "      <td>163.150000</td>\n",
       "      <td>3310.007500</td>\n",
       "      <td>4832.555000</td>\n",
       "      <td>213.932412</td>\n",
       "      <td>8.567000</td>\n",
       "    </tr>\n",
       "    <tr>\n",
       "      <th>max</th>\n",
       "      <td>45.000000</td>\n",
       "      <td>101.950000</td>\n",
       "      <td>4.468000</td>\n",
       "      <td>103184.980000</td>\n",
       "      <td>104519.540000</td>\n",
       "      <td>149483.310000</td>\n",
       "      <td>67474.850000</td>\n",
       "      <td>771448.100000</td>\n",
       "      <td>228.976456</td>\n",
       "      <td>14.313000</td>\n",
       "    </tr>\n",
       "  </tbody>\n",
       "</table>\n",
       "</div>"
      ],
      "text/plain": [
       "             Store  Temperature   Fuel_Price      MarkDown1      MarkDown2  \\\n",
       "count  8190.000000  8190.000000  8190.000000    4032.000000    2921.000000   \n",
       "mean     23.000000    59.356198     3.405992    7032.371786    3384.176594   \n",
       "std      12.987966    18.678607     0.431337    9262.747448    8793.583016   \n",
       "min       1.000000    -7.290000     2.472000   -2781.450000    -265.760000   \n",
       "25%      12.000000    45.902500     3.041000    1577.532500      68.880000   \n",
       "50%      23.000000    60.710000     3.513000    4743.580000     364.570000   \n",
       "75%      34.000000    73.880000     3.743000    8923.310000    2153.350000   \n",
       "max      45.000000   101.950000     4.468000  103184.980000  104519.540000   \n",
       "\n",
       "           MarkDown3     MarkDown4      MarkDown5          CPI  Unemployment  \n",
       "count    3613.000000   3464.000000    4050.000000  7605.000000   7605.000000  \n",
       "mean     1760.100180   3292.935886    4132.216422   172.460809      7.826821  \n",
       "std     11276.462208   6792.329861   13086.690278    39.738346      1.877259  \n",
       "min      -179.260000      0.220000    -185.170000   126.064000      3.684000  \n",
       "25%         6.600000    304.687500    1440.827500   132.364839      6.634000  \n",
       "50%        36.260000   1176.425000    2727.135000   182.764003      7.806000  \n",
       "75%       163.150000   3310.007500    4832.555000   213.932412      8.567000  \n",
       "max    149483.310000  67474.850000  771448.100000   228.976456     14.313000  "
      ]
     },
     "execution_count": 18,
     "metadata": {},
     "output_type": "execute_result"
    }
   ],
   "source": [
    "feature.describe()"
   ]
  },
  {
   "cell_type": "code",
   "execution_count": 23,
   "id": "0eb13c90",
   "metadata": {
    "ExecuteTime": {
     "end_time": "2023-01-21T07:02:51.871253Z",
     "start_time": "2023-01-21T07:02:51.847788Z"
    }
   },
   "outputs": [
    {
     "data": {
      "text/plain": [
       "Store              0\n",
       "Date               0\n",
       "Temperature        0\n",
       "Fuel_Price         0\n",
       "MarkDown1       4158\n",
       "MarkDown2       5269\n",
       "MarkDown3       4577\n",
       "MarkDown4       4726\n",
       "MarkDown5       4140\n",
       "CPI              585\n",
       "Unemployment     585\n",
       "IsHoliday          0\n",
       "dtype: int64"
      ]
     },
     "execution_count": 23,
     "metadata": {},
     "output_type": "execute_result"
    }
   ],
   "source": [
    "feature.isnull().sum()"
   ]
  },
  {
   "cell_type": "code",
   "execution_count": 15,
   "id": "f000bad2",
   "metadata": {
    "ExecuteTime": {
     "end_time": "2023-01-21T06:47:13.035779Z",
     "start_time": "2023-01-21T06:47:12.583854Z"
    }
   },
   "outputs": [
    {
     "data": {
      "text/html": [
       "<div>\n",
       "<style scoped>\n",
       "    .dataframe tbody tr th:only-of-type {\n",
       "        vertical-align: middle;\n",
       "    }\n",
       "\n",
       "    .dataframe tbody tr th {\n",
       "        vertical-align: top;\n",
       "    }\n",
       "\n",
       "    .dataframe thead th {\n",
       "        text-align: right;\n",
       "    }\n",
       "</style>\n",
       "<table border=\"1\" class=\"dataframe\">\n",
       "  <thead>\n",
       "    <tr style=\"text-align: right;\">\n",
       "      <th></th>\n",
       "      <th>Store</th>\n",
       "      <th>Dept</th>\n",
       "      <th>Date</th>\n",
       "      <th>Weekly_Sales</th>\n",
       "      <th>IsHoliday</th>\n",
       "    </tr>\n",
       "  </thead>\n",
       "  <tbody>\n",
       "    <tr>\n",
       "      <th>0</th>\n",
       "      <td>1</td>\n",
       "      <td>1</td>\n",
       "      <td>05/02/2010</td>\n",
       "      <td>24924.50</td>\n",
       "      <td>False</td>\n",
       "    </tr>\n",
       "    <tr>\n",
       "      <th>1</th>\n",
       "      <td>1</td>\n",
       "      <td>1</td>\n",
       "      <td>12/02/2010</td>\n",
       "      <td>46039.49</td>\n",
       "      <td>True</td>\n",
       "    </tr>\n",
       "    <tr>\n",
       "      <th>2</th>\n",
       "      <td>1</td>\n",
       "      <td>1</td>\n",
       "      <td>19/02/2010</td>\n",
       "      <td>41595.55</td>\n",
       "      <td>False</td>\n",
       "    </tr>\n",
       "    <tr>\n",
       "      <th>3</th>\n",
       "      <td>1</td>\n",
       "      <td>1</td>\n",
       "      <td>26/02/2010</td>\n",
       "      <td>19403.54</td>\n",
       "      <td>False</td>\n",
       "    </tr>\n",
       "    <tr>\n",
       "      <th>4</th>\n",
       "      <td>1</td>\n",
       "      <td>1</td>\n",
       "      <td>05/03/2010</td>\n",
       "      <td>21827.90</td>\n",
       "      <td>False</td>\n",
       "    </tr>\n",
       "  </tbody>\n",
       "</table>\n",
       "</div>"
      ],
      "text/plain": [
       "   Store  Dept        Date  Weekly_Sales  IsHoliday\n",
       "0      1     1  05/02/2010      24924.50      False\n",
       "1      1     1  12/02/2010      46039.49       True\n",
       "2      1     1  19/02/2010      41595.55      False\n",
       "3      1     1  26/02/2010      19403.54      False\n",
       "4      1     1  05/03/2010      21827.90      False"
      ]
     },
     "execution_count": 15,
     "metadata": {},
     "output_type": "execute_result"
    }
   ],
   "source": [
    "sales = pd.read_csv('./data/sales data-set.csv')\n",
    "sales.head()"
   ]
  },
  {
   "cell_type": "code",
   "execution_count": 24,
   "id": "a0161610",
   "metadata": {
    "ExecuteTime": {
     "end_time": "2023-01-21T07:03:48.072708Z",
     "start_time": "2023-01-21T07:03:47.966812Z"
    }
   },
   "outputs": [
    {
     "data": {
      "text/html": [
       "<div>\n",
       "<style scoped>\n",
       "    .dataframe tbody tr th:only-of-type {\n",
       "        vertical-align: middle;\n",
       "    }\n",
       "\n",
       "    .dataframe tbody tr th {\n",
       "        vertical-align: top;\n",
       "    }\n",
       "\n",
       "    .dataframe thead th {\n",
       "        text-align: right;\n",
       "    }\n",
       "</style>\n",
       "<table border=\"1\" class=\"dataframe\">\n",
       "  <thead>\n",
       "    <tr style=\"text-align: right;\">\n",
       "      <th></th>\n",
       "      <th>Store</th>\n",
       "      <th>Dept</th>\n",
       "      <th>Weekly_Sales</th>\n",
       "    </tr>\n",
       "  </thead>\n",
       "  <tbody>\n",
       "    <tr>\n",
       "      <th>count</th>\n",
       "      <td>421570.000000</td>\n",
       "      <td>421570.000000</td>\n",
       "      <td>421570.000000</td>\n",
       "    </tr>\n",
       "    <tr>\n",
       "      <th>mean</th>\n",
       "      <td>22.200546</td>\n",
       "      <td>44.260317</td>\n",
       "      <td>15981.258123</td>\n",
       "    </tr>\n",
       "    <tr>\n",
       "      <th>std</th>\n",
       "      <td>12.785297</td>\n",
       "      <td>30.492054</td>\n",
       "      <td>22711.183519</td>\n",
       "    </tr>\n",
       "    <tr>\n",
       "      <th>min</th>\n",
       "      <td>1.000000</td>\n",
       "      <td>1.000000</td>\n",
       "      <td>-4988.940000</td>\n",
       "    </tr>\n",
       "    <tr>\n",
       "      <th>25%</th>\n",
       "      <td>11.000000</td>\n",
       "      <td>18.000000</td>\n",
       "      <td>2079.650000</td>\n",
       "    </tr>\n",
       "    <tr>\n",
       "      <th>50%</th>\n",
       "      <td>22.000000</td>\n",
       "      <td>37.000000</td>\n",
       "      <td>7612.030000</td>\n",
       "    </tr>\n",
       "    <tr>\n",
       "      <th>75%</th>\n",
       "      <td>33.000000</td>\n",
       "      <td>74.000000</td>\n",
       "      <td>20205.852500</td>\n",
       "    </tr>\n",
       "    <tr>\n",
       "      <th>max</th>\n",
       "      <td>45.000000</td>\n",
       "      <td>99.000000</td>\n",
       "      <td>693099.360000</td>\n",
       "    </tr>\n",
       "  </tbody>\n",
       "</table>\n",
       "</div>"
      ],
      "text/plain": [
       "               Store           Dept   Weekly_Sales\n",
       "count  421570.000000  421570.000000  421570.000000\n",
       "mean       22.200546      44.260317   15981.258123\n",
       "std        12.785297      30.492054   22711.183519\n",
       "min         1.000000       1.000000   -4988.940000\n",
       "25%        11.000000      18.000000    2079.650000\n",
       "50%        22.000000      37.000000    7612.030000\n",
       "75%        33.000000      74.000000   20205.852500\n",
       "max        45.000000      99.000000  693099.360000"
      ]
     },
     "execution_count": 24,
     "metadata": {},
     "output_type": "execute_result"
    }
   ],
   "source": [
    "sales.describe()"
   ]
  },
  {
   "cell_type": "code",
   "execution_count": 25,
   "id": "c72d3673",
   "metadata": {
    "ExecuteTime": {
     "end_time": "2023-01-21T07:03:57.359596Z",
     "start_time": "2023-01-21T07:03:57.147859Z"
    }
   },
   "outputs": [
    {
     "data": {
      "text/plain": [
       "Store           0\n",
       "Dept            0\n",
       "Date            0\n",
       "Weekly_Sales    0\n",
       "IsHoliday       0\n",
       "dtype: int64"
      ]
     },
     "execution_count": 25,
     "metadata": {},
     "output_type": "execute_result"
    }
   ],
   "source": [
    "sales.isnull().sum()"
   ]
  },
  {
   "cell_type": "code",
   "execution_count": 5,
   "id": "7cb7e888",
   "metadata": {
    "ExecuteTime": {
     "end_time": "2023-01-21T06:34:12.914047Z",
     "start_time": "2023-01-21T06:34:12.881445Z"
    }
   },
   "outputs": [
    {
     "data": {
      "text/html": [
       "<div>\n",
       "<style scoped>\n",
       "    .dataframe tbody tr th:only-of-type {\n",
       "        vertical-align: middle;\n",
       "    }\n",
       "\n",
       "    .dataframe tbody tr th {\n",
       "        vertical-align: top;\n",
       "    }\n",
       "\n",
       "    .dataframe thead th {\n",
       "        text-align: right;\n",
       "    }\n",
       "</style>\n",
       "<table border=\"1\" class=\"dataframe\">\n",
       "  <thead>\n",
       "    <tr style=\"text-align: right;\">\n",
       "      <th></th>\n",
       "      <th>Store</th>\n",
       "      <th>Type</th>\n",
       "      <th>Size</th>\n",
       "    </tr>\n",
       "  </thead>\n",
       "  <tbody>\n",
       "    <tr>\n",
       "      <th>0</th>\n",
       "      <td>1</td>\n",
       "      <td>A</td>\n",
       "      <td>151315</td>\n",
       "    </tr>\n",
       "    <tr>\n",
       "      <th>1</th>\n",
       "      <td>2</td>\n",
       "      <td>A</td>\n",
       "      <td>202307</td>\n",
       "    </tr>\n",
       "    <tr>\n",
       "      <th>2</th>\n",
       "      <td>3</td>\n",
       "      <td>B</td>\n",
       "      <td>37392</td>\n",
       "    </tr>\n",
       "    <tr>\n",
       "      <th>3</th>\n",
       "      <td>4</td>\n",
       "      <td>A</td>\n",
       "      <td>205863</td>\n",
       "    </tr>\n",
       "    <tr>\n",
       "      <th>4</th>\n",
       "      <td>5</td>\n",
       "      <td>B</td>\n",
       "      <td>34875</td>\n",
       "    </tr>\n",
       "  </tbody>\n",
       "</table>\n",
       "</div>"
      ],
      "text/plain": [
       "   Store Type    Size\n",
       "0      1    A  151315\n",
       "1      2    A  202307\n",
       "2      3    B   37392\n",
       "3      4    A  205863\n",
       "4      5    B   34875"
      ]
     },
     "execution_count": 5,
     "metadata": {},
     "output_type": "execute_result"
    }
   ],
   "source": [
    "stores = pd.read_csv('./data/stores data-set.csv')\n",
    "stores.head()"
   ]
  },
  {
   "cell_type": "markdown",
   "id": "8c43312d",
   "metadata": {},
   "source": [
    "## merge"
   ]
  },
  {
   "cell_type": "code",
   "execution_count": 14,
   "id": "419285fb",
   "metadata": {
    "ExecuteTime": {
     "end_time": "2023-01-21T06:47:06.726795Z",
     "start_time": "2023-01-21T06:47:06.371793Z"
    }
   },
   "outputs": [
    {
     "data": {
      "text/html": [
       "<div>\n",
       "<style scoped>\n",
       "    .dataframe tbody tr th:only-of-type {\n",
       "        vertical-align: middle;\n",
       "    }\n",
       "\n",
       "    .dataframe tbody tr th {\n",
       "        vertical-align: top;\n",
       "    }\n",
       "\n",
       "    .dataframe thead th {\n",
       "        text-align: right;\n",
       "    }\n",
       "</style>\n",
       "<table border=\"1\" class=\"dataframe\">\n",
       "  <thead>\n",
       "    <tr style=\"text-align: right;\">\n",
       "      <th></th>\n",
       "      <th>Store</th>\n",
       "      <th>Dept</th>\n",
       "      <th>Date</th>\n",
       "      <th>Weekly_Sales</th>\n",
       "      <th>IsHoliday</th>\n",
       "      <th>Temperature</th>\n",
       "      <th>Fuel_Price</th>\n",
       "      <th>MarkDown1</th>\n",
       "      <th>MarkDown2</th>\n",
       "      <th>MarkDown3</th>\n",
       "      <th>MarkDown4</th>\n",
       "      <th>MarkDown5</th>\n",
       "      <th>CPI</th>\n",
       "      <th>Unemployment</th>\n",
       "    </tr>\n",
       "  </thead>\n",
       "  <tbody>\n",
       "    <tr>\n",
       "      <th>0</th>\n",
       "      <td>1</td>\n",
       "      <td>1</td>\n",
       "      <td>05/02/2010</td>\n",
       "      <td>24924.50</td>\n",
       "      <td>False</td>\n",
       "      <td>42.31</td>\n",
       "      <td>2.572</td>\n",
       "      <td>NaN</td>\n",
       "      <td>NaN</td>\n",
       "      <td>NaN</td>\n",
       "      <td>NaN</td>\n",
       "      <td>NaN</td>\n",
       "      <td>211.096358</td>\n",
       "      <td>8.106</td>\n",
       "    </tr>\n",
       "    <tr>\n",
       "      <th>1</th>\n",
       "      <td>1</td>\n",
       "      <td>2</td>\n",
       "      <td>05/02/2010</td>\n",
       "      <td>50605.27</td>\n",
       "      <td>False</td>\n",
       "      <td>42.31</td>\n",
       "      <td>2.572</td>\n",
       "      <td>NaN</td>\n",
       "      <td>NaN</td>\n",
       "      <td>NaN</td>\n",
       "      <td>NaN</td>\n",
       "      <td>NaN</td>\n",
       "      <td>211.096358</td>\n",
       "      <td>8.106</td>\n",
       "    </tr>\n",
       "    <tr>\n",
       "      <th>2</th>\n",
       "      <td>1</td>\n",
       "      <td>3</td>\n",
       "      <td>05/02/2010</td>\n",
       "      <td>13740.12</td>\n",
       "      <td>False</td>\n",
       "      <td>42.31</td>\n",
       "      <td>2.572</td>\n",
       "      <td>NaN</td>\n",
       "      <td>NaN</td>\n",
       "      <td>NaN</td>\n",
       "      <td>NaN</td>\n",
       "      <td>NaN</td>\n",
       "      <td>211.096358</td>\n",
       "      <td>8.106</td>\n",
       "    </tr>\n",
       "    <tr>\n",
       "      <th>3</th>\n",
       "      <td>1</td>\n",
       "      <td>4</td>\n",
       "      <td>05/02/2010</td>\n",
       "      <td>39954.04</td>\n",
       "      <td>False</td>\n",
       "      <td>42.31</td>\n",
       "      <td>2.572</td>\n",
       "      <td>NaN</td>\n",
       "      <td>NaN</td>\n",
       "      <td>NaN</td>\n",
       "      <td>NaN</td>\n",
       "      <td>NaN</td>\n",
       "      <td>211.096358</td>\n",
       "      <td>8.106</td>\n",
       "    </tr>\n",
       "    <tr>\n",
       "      <th>4</th>\n",
       "      <td>1</td>\n",
       "      <td>5</td>\n",
       "      <td>05/02/2010</td>\n",
       "      <td>32229.38</td>\n",
       "      <td>False</td>\n",
       "      <td>42.31</td>\n",
       "      <td>2.572</td>\n",
       "      <td>NaN</td>\n",
       "      <td>NaN</td>\n",
       "      <td>NaN</td>\n",
       "      <td>NaN</td>\n",
       "      <td>NaN</td>\n",
       "      <td>211.096358</td>\n",
       "      <td>8.106</td>\n",
       "    </tr>\n",
       "  </tbody>\n",
       "</table>\n",
       "</div>"
      ],
      "text/plain": [
       "   Store  Dept        Date  Weekly_Sales  IsHoliday  Temperature  Fuel_Price  \\\n",
       "0      1     1  05/02/2010      24924.50      False        42.31       2.572   \n",
       "1      1     2  05/02/2010      50605.27      False        42.31       2.572   \n",
       "2      1     3  05/02/2010      13740.12      False        42.31       2.572   \n",
       "3      1     4  05/02/2010      39954.04      False        42.31       2.572   \n",
       "4      1     5  05/02/2010      32229.38      False        42.31       2.572   \n",
       "\n",
       "   MarkDown1  MarkDown2  MarkDown3  MarkDown4  MarkDown5         CPI  \\\n",
       "0        NaN        NaN        NaN        NaN        NaN  211.096358   \n",
       "1        NaN        NaN        NaN        NaN        NaN  211.096358   \n",
       "2        NaN        NaN        NaN        NaN        NaN  211.096358   \n",
       "3        NaN        NaN        NaN        NaN        NaN  211.096358   \n",
       "4        NaN        NaN        NaN        NaN        NaN  211.096358   \n",
       "\n",
       "   Unemployment  \n",
       "0         8.106  \n",
       "1         8.106  \n",
       "2         8.106  \n",
       "3         8.106  \n",
       "4         8.106  "
      ]
     },
     "execution_count": 14,
     "metadata": {},
     "output_type": "execute_result"
    }
   ],
   "source": [
    "# merge1\n",
    "# 데이터 많은쪽 기준으로 데이터 적은 쪽 merge\n",
    "\n",
    "df_merge = sales.merge(feature,on=['Store','Date','IsHoliday'])\n",
    "df_merge.head()"
   ]
  },
  {
   "cell_type": "code",
   "execution_count": 13,
   "id": "551b6a87",
   "metadata": {
    "ExecuteTime": {
     "end_time": "2023-01-21T06:47:00.658341Z",
     "start_time": "2023-01-21T06:47:00.484721Z"
    }
   },
   "outputs": [
    {
     "data": {
      "text/html": [
       "<div>\n",
       "<style scoped>\n",
       "    .dataframe tbody tr th:only-of-type {\n",
       "        vertical-align: middle;\n",
       "    }\n",
       "\n",
       "    .dataframe tbody tr th {\n",
       "        vertical-align: top;\n",
       "    }\n",
       "\n",
       "    .dataframe thead th {\n",
       "        text-align: right;\n",
       "    }\n",
       "</style>\n",
       "<table border=\"1\" class=\"dataframe\">\n",
       "  <thead>\n",
       "    <tr style=\"text-align: right;\">\n",
       "      <th></th>\n",
       "      <th>Store</th>\n",
       "      <th>Dept</th>\n",
       "      <th>Date</th>\n",
       "      <th>Weekly_Sales</th>\n",
       "      <th>IsHoliday</th>\n",
       "      <th>Temperature</th>\n",
       "      <th>Fuel_Price</th>\n",
       "      <th>MarkDown1</th>\n",
       "      <th>MarkDown2</th>\n",
       "      <th>MarkDown3</th>\n",
       "      <th>MarkDown4</th>\n",
       "      <th>MarkDown5</th>\n",
       "      <th>CPI</th>\n",
       "      <th>Unemployment</th>\n",
       "      <th>Type</th>\n",
       "      <th>Size</th>\n",
       "    </tr>\n",
       "  </thead>\n",
       "  <tbody>\n",
       "    <tr>\n",
       "      <th>0</th>\n",
       "      <td>1</td>\n",
       "      <td>1</td>\n",
       "      <td>05/02/2010</td>\n",
       "      <td>24924.50</td>\n",
       "      <td>False</td>\n",
       "      <td>42.31</td>\n",
       "      <td>2.572</td>\n",
       "      <td>NaN</td>\n",
       "      <td>NaN</td>\n",
       "      <td>NaN</td>\n",
       "      <td>NaN</td>\n",
       "      <td>NaN</td>\n",
       "      <td>211.096358</td>\n",
       "      <td>8.106</td>\n",
       "      <td>A</td>\n",
       "      <td>151315</td>\n",
       "    </tr>\n",
       "    <tr>\n",
       "      <th>1</th>\n",
       "      <td>1</td>\n",
       "      <td>2</td>\n",
       "      <td>05/02/2010</td>\n",
       "      <td>50605.27</td>\n",
       "      <td>False</td>\n",
       "      <td>42.31</td>\n",
       "      <td>2.572</td>\n",
       "      <td>NaN</td>\n",
       "      <td>NaN</td>\n",
       "      <td>NaN</td>\n",
       "      <td>NaN</td>\n",
       "      <td>NaN</td>\n",
       "      <td>211.096358</td>\n",
       "      <td>8.106</td>\n",
       "      <td>A</td>\n",
       "      <td>151315</td>\n",
       "    </tr>\n",
       "    <tr>\n",
       "      <th>2</th>\n",
       "      <td>1</td>\n",
       "      <td>3</td>\n",
       "      <td>05/02/2010</td>\n",
       "      <td>13740.12</td>\n",
       "      <td>False</td>\n",
       "      <td>42.31</td>\n",
       "      <td>2.572</td>\n",
       "      <td>NaN</td>\n",
       "      <td>NaN</td>\n",
       "      <td>NaN</td>\n",
       "      <td>NaN</td>\n",
       "      <td>NaN</td>\n",
       "      <td>211.096358</td>\n",
       "      <td>8.106</td>\n",
       "      <td>A</td>\n",
       "      <td>151315</td>\n",
       "    </tr>\n",
       "    <tr>\n",
       "      <th>3</th>\n",
       "      <td>1</td>\n",
       "      <td>4</td>\n",
       "      <td>05/02/2010</td>\n",
       "      <td>39954.04</td>\n",
       "      <td>False</td>\n",
       "      <td>42.31</td>\n",
       "      <td>2.572</td>\n",
       "      <td>NaN</td>\n",
       "      <td>NaN</td>\n",
       "      <td>NaN</td>\n",
       "      <td>NaN</td>\n",
       "      <td>NaN</td>\n",
       "      <td>211.096358</td>\n",
       "      <td>8.106</td>\n",
       "      <td>A</td>\n",
       "      <td>151315</td>\n",
       "    </tr>\n",
       "    <tr>\n",
       "      <th>4</th>\n",
       "      <td>1</td>\n",
       "      <td>5</td>\n",
       "      <td>05/02/2010</td>\n",
       "      <td>32229.38</td>\n",
       "      <td>False</td>\n",
       "      <td>42.31</td>\n",
       "      <td>2.572</td>\n",
       "      <td>NaN</td>\n",
       "      <td>NaN</td>\n",
       "      <td>NaN</td>\n",
       "      <td>NaN</td>\n",
       "      <td>NaN</td>\n",
       "      <td>211.096358</td>\n",
       "      <td>8.106</td>\n",
       "      <td>A</td>\n",
       "      <td>151315</td>\n",
       "    </tr>\n",
       "  </tbody>\n",
       "</table>\n",
       "</div>"
      ],
      "text/plain": [
       "   Store  Dept        Date  Weekly_Sales  IsHoliday  Temperature  Fuel_Price  \\\n",
       "0      1     1  05/02/2010      24924.50      False        42.31       2.572   \n",
       "1      1     2  05/02/2010      50605.27      False        42.31       2.572   \n",
       "2      1     3  05/02/2010      13740.12      False        42.31       2.572   \n",
       "3      1     4  05/02/2010      39954.04      False        42.31       2.572   \n",
       "4      1     5  05/02/2010      32229.38      False        42.31       2.572   \n",
       "\n",
       "   MarkDown1  MarkDown2  MarkDown3  MarkDown4  MarkDown5         CPI  \\\n",
       "0        NaN        NaN        NaN        NaN        NaN  211.096358   \n",
       "1        NaN        NaN        NaN        NaN        NaN  211.096358   \n",
       "2        NaN        NaN        NaN        NaN        NaN  211.096358   \n",
       "3        NaN        NaN        NaN        NaN        NaN  211.096358   \n",
       "4        NaN        NaN        NaN        NaN        NaN  211.096358   \n",
       "\n",
       "   Unemployment Type    Size  \n",
       "0         8.106    A  151315  \n",
       "1         8.106    A  151315  \n",
       "2         8.106    A  151315  \n",
       "3         8.106    A  151315  \n",
       "4         8.106    A  151315  "
      ]
     },
     "execution_count": 13,
     "metadata": {},
     "output_type": "execute_result"
    }
   ],
   "source": [
    "# merge2\n",
    "\n",
    "df = df_merge.merge(stores, on=['Store'])\n",
    "df.head()"
   ]
  },
  {
   "cell_type": "markdown",
   "id": "4f824173",
   "metadata": {},
   "source": [
    "## preprocessing"
   ]
  },
  {
   "cell_type": "code",
   "execution_count": 76,
   "id": "d91bfbc3",
   "metadata": {
    "ExecuteTime": {
     "end_time": "2023-01-21T08:55:47.479640Z",
     "start_time": "2023-01-21T08:55:47.315114Z"
    }
   },
   "outputs": [],
   "source": [
    "# 날짜\n",
    "df['Date'] = pd.to_datetime(df['Date'])\n",
    "df['month'] = df['Date'].dt.month\n",
    "df['year'] = df['Date'].dt.year"
   ]
  },
  {
   "cell_type": "code",
   "execution_count": 34,
   "id": "e5b52c1e",
   "metadata": {
    "ExecuteTime": {
     "end_time": "2023-01-21T07:25:27.862220Z",
     "start_time": "2023-01-21T07:25:27.820779Z"
    }
   },
   "outputs": [],
   "source": [
    "# IsHoliday encoding\n",
    "df['IsHoliday'] = pd.factorize(df['IsHoliday'])[0]"
   ]
  },
  {
   "cell_type": "code",
   "execution_count": 77,
   "id": "0c59af8e",
   "metadata": {
    "ExecuteTime": {
     "end_time": "2023-01-21T08:55:59.790320Z",
     "start_time": "2023-01-21T08:55:59.730240Z"
    }
   },
   "outputs": [
    {
     "data": {
      "text/html": [
       "<div>\n",
       "<style scoped>\n",
       "    .dataframe tbody tr th:only-of-type {\n",
       "        vertical-align: middle;\n",
       "    }\n",
       "\n",
       "    .dataframe tbody tr th {\n",
       "        vertical-align: top;\n",
       "    }\n",
       "\n",
       "    .dataframe thead th {\n",
       "        text-align: right;\n",
       "    }\n",
       "</style>\n",
       "<table border=\"1\" class=\"dataframe\">\n",
       "  <thead>\n",
       "    <tr style=\"text-align: right;\">\n",
       "      <th></th>\n",
       "      <th>Store</th>\n",
       "      <th>Dept</th>\n",
       "      <th>Date</th>\n",
       "      <th>Weekly_Sales</th>\n",
       "      <th>IsHoliday</th>\n",
       "      <th>Temperature</th>\n",
       "      <th>Fuel_Price</th>\n",
       "      <th>MarkDown1</th>\n",
       "      <th>MarkDown2</th>\n",
       "      <th>MarkDown3</th>\n",
       "      <th>MarkDown4</th>\n",
       "      <th>MarkDown5</th>\n",
       "      <th>CPI</th>\n",
       "      <th>Unemployment</th>\n",
       "      <th>Type</th>\n",
       "      <th>Size</th>\n",
       "      <th>month</th>\n",
       "      <th>year</th>\n",
       "    </tr>\n",
       "  </thead>\n",
       "  <tbody>\n",
       "    <tr>\n",
       "      <th>0</th>\n",
       "      <td>1</td>\n",
       "      <td>1</td>\n",
       "      <td>2010-05-02</td>\n",
       "      <td>24924.50</td>\n",
       "      <td>0</td>\n",
       "      <td>42.31</td>\n",
       "      <td>2.572</td>\n",
       "      <td>NaN</td>\n",
       "      <td>NaN</td>\n",
       "      <td>NaN</td>\n",
       "      <td>NaN</td>\n",
       "      <td>NaN</td>\n",
       "      <td>211.096358</td>\n",
       "      <td>8.106</td>\n",
       "      <td>A</td>\n",
       "      <td>151315</td>\n",
       "      <td>5</td>\n",
       "      <td>2010</td>\n",
       "    </tr>\n",
       "    <tr>\n",
       "      <th>1</th>\n",
       "      <td>1</td>\n",
       "      <td>2</td>\n",
       "      <td>2010-05-02</td>\n",
       "      <td>50605.27</td>\n",
       "      <td>0</td>\n",
       "      <td>42.31</td>\n",
       "      <td>2.572</td>\n",
       "      <td>NaN</td>\n",
       "      <td>NaN</td>\n",
       "      <td>NaN</td>\n",
       "      <td>NaN</td>\n",
       "      <td>NaN</td>\n",
       "      <td>211.096358</td>\n",
       "      <td>8.106</td>\n",
       "      <td>A</td>\n",
       "      <td>151315</td>\n",
       "      <td>5</td>\n",
       "      <td>2010</td>\n",
       "    </tr>\n",
       "    <tr>\n",
       "      <th>2</th>\n",
       "      <td>1</td>\n",
       "      <td>3</td>\n",
       "      <td>2010-05-02</td>\n",
       "      <td>13740.12</td>\n",
       "      <td>0</td>\n",
       "      <td>42.31</td>\n",
       "      <td>2.572</td>\n",
       "      <td>NaN</td>\n",
       "      <td>NaN</td>\n",
       "      <td>NaN</td>\n",
       "      <td>NaN</td>\n",
       "      <td>NaN</td>\n",
       "      <td>211.096358</td>\n",
       "      <td>8.106</td>\n",
       "      <td>A</td>\n",
       "      <td>151315</td>\n",
       "      <td>5</td>\n",
       "      <td>2010</td>\n",
       "    </tr>\n",
       "    <tr>\n",
       "      <th>3</th>\n",
       "      <td>1</td>\n",
       "      <td>4</td>\n",
       "      <td>2010-05-02</td>\n",
       "      <td>39954.04</td>\n",
       "      <td>0</td>\n",
       "      <td>42.31</td>\n",
       "      <td>2.572</td>\n",
       "      <td>NaN</td>\n",
       "      <td>NaN</td>\n",
       "      <td>NaN</td>\n",
       "      <td>NaN</td>\n",
       "      <td>NaN</td>\n",
       "      <td>211.096358</td>\n",
       "      <td>8.106</td>\n",
       "      <td>A</td>\n",
       "      <td>151315</td>\n",
       "      <td>5</td>\n",
       "      <td>2010</td>\n",
       "    </tr>\n",
       "    <tr>\n",
       "      <th>4</th>\n",
       "      <td>1</td>\n",
       "      <td>5</td>\n",
       "      <td>2010-05-02</td>\n",
       "      <td>32229.38</td>\n",
       "      <td>0</td>\n",
       "      <td>42.31</td>\n",
       "      <td>2.572</td>\n",
       "      <td>NaN</td>\n",
       "      <td>NaN</td>\n",
       "      <td>NaN</td>\n",
       "      <td>NaN</td>\n",
       "      <td>NaN</td>\n",
       "      <td>211.096358</td>\n",
       "      <td>8.106</td>\n",
       "      <td>A</td>\n",
       "      <td>151315</td>\n",
       "      <td>5</td>\n",
       "      <td>2010</td>\n",
       "    </tr>\n",
       "    <tr>\n",
       "      <th>...</th>\n",
       "      <td>...</td>\n",
       "      <td>...</td>\n",
       "      <td>...</td>\n",
       "      <td>...</td>\n",
       "      <td>...</td>\n",
       "      <td>...</td>\n",
       "      <td>...</td>\n",
       "      <td>...</td>\n",
       "      <td>...</td>\n",
       "      <td>...</td>\n",
       "      <td>...</td>\n",
       "      <td>...</td>\n",
       "      <td>...</td>\n",
       "      <td>...</td>\n",
       "      <td>...</td>\n",
       "      <td>...</td>\n",
       "      <td>...</td>\n",
       "      <td>...</td>\n",
       "    </tr>\n",
       "    <tr>\n",
       "      <th>421565</th>\n",
       "      <td>45</td>\n",
       "      <td>93</td>\n",
       "      <td>2012-10-26</td>\n",
       "      <td>2487.80</td>\n",
       "      <td>0</td>\n",
       "      <td>58.85</td>\n",
       "      <td>3.882</td>\n",
       "      <td>4018.91</td>\n",
       "      <td>58.08</td>\n",
       "      <td>100.0</td>\n",
       "      <td>211.94</td>\n",
       "      <td>858.33</td>\n",
       "      <td>192.308899</td>\n",
       "      <td>8.667</td>\n",
       "      <td>B</td>\n",
       "      <td>118221</td>\n",
       "      <td>10</td>\n",
       "      <td>2012</td>\n",
       "    </tr>\n",
       "    <tr>\n",
       "      <th>421566</th>\n",
       "      <td>45</td>\n",
       "      <td>94</td>\n",
       "      <td>2012-10-26</td>\n",
       "      <td>5203.31</td>\n",
       "      <td>0</td>\n",
       "      <td>58.85</td>\n",
       "      <td>3.882</td>\n",
       "      <td>4018.91</td>\n",
       "      <td>58.08</td>\n",
       "      <td>100.0</td>\n",
       "      <td>211.94</td>\n",
       "      <td>858.33</td>\n",
       "      <td>192.308899</td>\n",
       "      <td>8.667</td>\n",
       "      <td>B</td>\n",
       "      <td>118221</td>\n",
       "      <td>10</td>\n",
       "      <td>2012</td>\n",
       "    </tr>\n",
       "    <tr>\n",
       "      <th>421567</th>\n",
       "      <td>45</td>\n",
       "      <td>95</td>\n",
       "      <td>2012-10-26</td>\n",
       "      <td>56017.47</td>\n",
       "      <td>0</td>\n",
       "      <td>58.85</td>\n",
       "      <td>3.882</td>\n",
       "      <td>4018.91</td>\n",
       "      <td>58.08</td>\n",
       "      <td>100.0</td>\n",
       "      <td>211.94</td>\n",
       "      <td>858.33</td>\n",
       "      <td>192.308899</td>\n",
       "      <td>8.667</td>\n",
       "      <td>B</td>\n",
       "      <td>118221</td>\n",
       "      <td>10</td>\n",
       "      <td>2012</td>\n",
       "    </tr>\n",
       "    <tr>\n",
       "      <th>421568</th>\n",
       "      <td>45</td>\n",
       "      <td>97</td>\n",
       "      <td>2012-10-26</td>\n",
       "      <td>6817.48</td>\n",
       "      <td>0</td>\n",
       "      <td>58.85</td>\n",
       "      <td>3.882</td>\n",
       "      <td>4018.91</td>\n",
       "      <td>58.08</td>\n",
       "      <td>100.0</td>\n",
       "      <td>211.94</td>\n",
       "      <td>858.33</td>\n",
       "      <td>192.308899</td>\n",
       "      <td>8.667</td>\n",
       "      <td>B</td>\n",
       "      <td>118221</td>\n",
       "      <td>10</td>\n",
       "      <td>2012</td>\n",
       "    </tr>\n",
       "    <tr>\n",
       "      <th>421569</th>\n",
       "      <td>45</td>\n",
       "      <td>98</td>\n",
       "      <td>2012-10-26</td>\n",
       "      <td>1076.80</td>\n",
       "      <td>0</td>\n",
       "      <td>58.85</td>\n",
       "      <td>3.882</td>\n",
       "      <td>4018.91</td>\n",
       "      <td>58.08</td>\n",
       "      <td>100.0</td>\n",
       "      <td>211.94</td>\n",
       "      <td>858.33</td>\n",
       "      <td>192.308899</td>\n",
       "      <td>8.667</td>\n",
       "      <td>B</td>\n",
       "      <td>118221</td>\n",
       "      <td>10</td>\n",
       "      <td>2012</td>\n",
       "    </tr>\n",
       "  </tbody>\n",
       "</table>\n",
       "<p>421570 rows × 18 columns</p>\n",
       "</div>"
      ],
      "text/plain": [
       "        Store  Dept       Date  Weekly_Sales  IsHoliday  Temperature  \\\n",
       "0           1     1 2010-05-02      24924.50          0        42.31   \n",
       "1           1     2 2010-05-02      50605.27          0        42.31   \n",
       "2           1     3 2010-05-02      13740.12          0        42.31   \n",
       "3           1     4 2010-05-02      39954.04          0        42.31   \n",
       "4           1     5 2010-05-02      32229.38          0        42.31   \n",
       "...       ...   ...        ...           ...        ...          ...   \n",
       "421565     45    93 2012-10-26       2487.80          0        58.85   \n",
       "421566     45    94 2012-10-26       5203.31          0        58.85   \n",
       "421567     45    95 2012-10-26      56017.47          0        58.85   \n",
       "421568     45    97 2012-10-26       6817.48          0        58.85   \n",
       "421569     45    98 2012-10-26       1076.80          0        58.85   \n",
       "\n",
       "        Fuel_Price  MarkDown1  MarkDown2  MarkDown3  MarkDown4  MarkDown5  \\\n",
       "0            2.572        NaN        NaN        NaN        NaN        NaN   \n",
       "1            2.572        NaN        NaN        NaN        NaN        NaN   \n",
       "2            2.572        NaN        NaN        NaN        NaN        NaN   \n",
       "3            2.572        NaN        NaN        NaN        NaN        NaN   \n",
       "4            2.572        NaN        NaN        NaN        NaN        NaN   \n",
       "...            ...        ...        ...        ...        ...        ...   \n",
       "421565       3.882    4018.91      58.08      100.0     211.94     858.33   \n",
       "421566       3.882    4018.91      58.08      100.0     211.94     858.33   \n",
       "421567       3.882    4018.91      58.08      100.0     211.94     858.33   \n",
       "421568       3.882    4018.91      58.08      100.0     211.94     858.33   \n",
       "421569       3.882    4018.91      58.08      100.0     211.94     858.33   \n",
       "\n",
       "               CPI  Unemployment Type    Size  month  year  \n",
       "0       211.096358         8.106    A  151315      5  2010  \n",
       "1       211.096358         8.106    A  151315      5  2010  \n",
       "2       211.096358         8.106    A  151315      5  2010  \n",
       "3       211.096358         8.106    A  151315      5  2010  \n",
       "4       211.096358         8.106    A  151315      5  2010  \n",
       "...            ...           ...  ...     ...    ...   ...  \n",
       "421565  192.308899         8.667    B  118221     10  2012  \n",
       "421566  192.308899         8.667    B  118221     10  2012  \n",
       "421567  192.308899         8.667    B  118221     10  2012  \n",
       "421568  192.308899         8.667    B  118221     10  2012  \n",
       "421569  192.308899         8.667    B  118221     10  2012  \n",
       "\n",
       "[421570 rows x 18 columns]"
      ]
     },
     "execution_count": 77,
     "metadata": {},
     "output_type": "execute_result"
    }
   ],
   "source": [
    "df"
   ]
  },
  {
   "cell_type": "code",
   "execution_count": null,
   "id": "42690cb5",
   "metadata": {},
   "outputs": [],
   "source": []
  },
  {
   "cell_type": "markdown",
   "id": "bbd9123c",
   "metadata": {},
   "source": [
    "## pivot_table"
   ]
  },
  {
   "cell_type": "markdown",
   "id": "33f747c7",
   "metadata": {},
   "source": [
    "### Type"
   ]
  },
  {
   "cell_type": "code",
   "execution_count": 44,
   "id": "4491a13c",
   "metadata": {
    "ExecuteTime": {
     "end_time": "2023-01-21T08:10:47.691714Z",
     "start_time": "2023-01-21T08:10:47.175018Z"
    }
   },
   "outputs": [],
   "source": [
    "# 데이터간 관계 확인\n",
    "\n",
    "col = 'Type'\n",
    "res_type = pd.pivot_table(df, values='Weekly_Sales', columns=[f'{col}'], index=['Date','Store','Dept'],\n",
    "                       aggfunc=np.mean)"
   ]
  },
  {
   "cell_type": "code",
   "execution_count": 45,
   "id": "930064f0",
   "metadata": {
    "ExecuteTime": {
     "end_time": "2023-01-21T08:10:48.006726Z",
     "start_time": "2023-01-21T08:10:47.965501Z"
    }
   },
   "outputs": [
    {
     "data": {
      "text/html": [
       "<div>\n",
       "<style scoped>\n",
       "    .dataframe tbody tr th:only-of-type {\n",
       "        vertical-align: middle;\n",
       "    }\n",
       "\n",
       "    .dataframe tbody tr th {\n",
       "        vertical-align: top;\n",
       "    }\n",
       "\n",
       "    .dataframe thead th {\n",
       "        text-align: right;\n",
       "    }\n",
       "</style>\n",
       "<table border=\"1\" class=\"dataframe\">\n",
       "  <thead>\n",
       "    <tr style=\"text-align: right;\">\n",
       "      <th></th>\n",
       "      <th></th>\n",
       "      <th>Type</th>\n",
       "      <th>A</th>\n",
       "      <th>B</th>\n",
       "      <th>C</th>\n",
       "    </tr>\n",
       "    <tr>\n",
       "      <th>Date</th>\n",
       "      <th>Store</th>\n",
       "      <th>Dept</th>\n",
       "      <th></th>\n",
       "      <th></th>\n",
       "      <th></th>\n",
       "    </tr>\n",
       "  </thead>\n",
       "  <tbody>\n",
       "    <tr>\n",
       "      <th rowspan=\"5\" valign=\"top\">2010-01-10</th>\n",
       "      <th rowspan=\"5\" valign=\"top\">1</th>\n",
       "      <th>1</th>\n",
       "      <td>20094.19</td>\n",
       "      <td>NaN</td>\n",
       "      <td>NaN</td>\n",
       "    </tr>\n",
       "    <tr>\n",
       "      <th>2</th>\n",
       "      <td>45829.02</td>\n",
       "      <td>NaN</td>\n",
       "      <td>NaN</td>\n",
       "    </tr>\n",
       "    <tr>\n",
       "      <th>3</th>\n",
       "      <td>9775.17</td>\n",
       "      <td>NaN</td>\n",
       "      <td>NaN</td>\n",
       "    </tr>\n",
       "    <tr>\n",
       "      <th>4</th>\n",
       "      <td>34912.45</td>\n",
       "      <td>NaN</td>\n",
       "      <td>NaN</td>\n",
       "    </tr>\n",
       "    <tr>\n",
       "      <th>5</th>\n",
       "      <td>23381.38</td>\n",
       "      <td>NaN</td>\n",
       "      <td>NaN</td>\n",
       "    </tr>\n",
       "    <tr>\n",
       "      <th>...</th>\n",
       "      <th>...</th>\n",
       "      <th>...</th>\n",
       "      <td>...</td>\n",
       "      <td>...</td>\n",
       "      <td>...</td>\n",
       "    </tr>\n",
       "    <tr>\n",
       "      <th rowspan=\"5\" valign=\"top\">2012-12-10</th>\n",
       "      <th rowspan=\"5\" valign=\"top\">45</th>\n",
       "      <th>93</th>\n",
       "      <td>NaN</td>\n",
       "      <td>2644.24</td>\n",
       "      <td>NaN</td>\n",
       "    </tr>\n",
       "    <tr>\n",
       "      <th>94</th>\n",
       "      <td>NaN</td>\n",
       "      <td>4041.28</td>\n",
       "      <td>NaN</td>\n",
       "    </tr>\n",
       "    <tr>\n",
       "      <th>95</th>\n",
       "      <td>NaN</td>\n",
       "      <td>49334.77</td>\n",
       "      <td>NaN</td>\n",
       "    </tr>\n",
       "    <tr>\n",
       "      <th>97</th>\n",
       "      <td>NaN</td>\n",
       "      <td>6463.32</td>\n",
       "      <td>NaN</td>\n",
       "    </tr>\n",
       "    <tr>\n",
       "      <th>98</th>\n",
       "      <td>NaN</td>\n",
       "      <td>1061.02</td>\n",
       "      <td>NaN</td>\n",
       "    </tr>\n",
       "  </tbody>\n",
       "</table>\n",
       "<p>421570 rows × 3 columns</p>\n",
       "</div>"
      ],
      "text/plain": [
       "Type                          A         B   C\n",
       "Date       Store Dept                        \n",
       "2010-01-10 1     1     20094.19       NaN NaN\n",
       "                 2     45829.02       NaN NaN\n",
       "                 3      9775.17       NaN NaN\n",
       "                 4     34912.45       NaN NaN\n",
       "                 5     23381.38       NaN NaN\n",
       "...                         ...       ...  ..\n",
       "2012-12-10 45    93         NaN   2644.24 NaN\n",
       "                 94         NaN   4041.28 NaN\n",
       "                 95         NaN  49334.77 NaN\n",
       "                 97         NaN   6463.32 NaN\n",
       "                 98         NaN   1061.02 NaN\n",
       "\n",
       "[421570 rows x 3 columns]"
      ]
     },
     "execution_count": 45,
     "metadata": {},
     "output_type": "execute_result"
    }
   ],
   "source": [
    "res_type"
   ]
  },
  {
   "cell_type": "code",
   "execution_count": 46,
   "id": "b5b4c4d8",
   "metadata": {
    "ExecuteTime": {
     "end_time": "2023-01-21T08:10:48.271005Z",
     "start_time": "2023-01-21T08:10:48.212470Z"
    }
   },
   "outputs": [
    {
     "data": {
      "text/html": [
       "<div>\n",
       "<style scoped>\n",
       "    .dataframe tbody tr th:only-of-type {\n",
       "        vertical-align: middle;\n",
       "    }\n",
       "\n",
       "    .dataframe tbody tr th {\n",
       "        vertical-align: top;\n",
       "    }\n",
       "\n",
       "    .dataframe thead th {\n",
       "        text-align: right;\n",
       "    }\n",
       "</style>\n",
       "<table border=\"1\" class=\"dataframe\">\n",
       "  <thead>\n",
       "    <tr style=\"text-align: right;\">\n",
       "      <th>Type</th>\n",
       "      <th>A</th>\n",
       "      <th>B</th>\n",
       "      <th>C</th>\n",
       "    </tr>\n",
       "  </thead>\n",
       "  <tbody>\n",
       "    <tr>\n",
       "      <th>count</th>\n",
       "      <td>215478.000000</td>\n",
       "      <td>163495.000000</td>\n",
       "      <td>42597.000000</td>\n",
       "    </tr>\n",
       "    <tr>\n",
       "      <th>mean</th>\n",
       "      <td>20099.568043</td>\n",
       "      <td>12237.075977</td>\n",
       "      <td>9519.532538</td>\n",
       "    </tr>\n",
       "    <tr>\n",
       "      <th>std</th>\n",
       "      <td>26423.457227</td>\n",
       "      <td>17203.668989</td>\n",
       "      <td>15985.351612</td>\n",
       "    </tr>\n",
       "    <tr>\n",
       "      <th>min</th>\n",
       "      <td>-4988.940000</td>\n",
       "      <td>-3924.000000</td>\n",
       "      <td>-379.000000</td>\n",
       "    </tr>\n",
       "    <tr>\n",
       "      <th>25%</th>\n",
       "      <td>3315.090000</td>\n",
       "      <td>1927.055000</td>\n",
       "      <td>131.990000</td>\n",
       "    </tr>\n",
       "    <tr>\n",
       "      <th>50%</th>\n",
       "      <td>10105.170000</td>\n",
       "      <td>6187.870000</td>\n",
       "      <td>1149.670000</td>\n",
       "    </tr>\n",
       "    <tr>\n",
       "      <th>75%</th>\n",
       "      <td>26357.180000</td>\n",
       "      <td>15353.740000</td>\n",
       "      <td>12695.010000</td>\n",
       "    </tr>\n",
       "    <tr>\n",
       "      <th>max</th>\n",
       "      <td>474330.100000</td>\n",
       "      <td>693099.360000</td>\n",
       "      <td>112152.350000</td>\n",
       "    </tr>\n",
       "  </tbody>\n",
       "</table>\n",
       "</div>"
      ],
      "text/plain": [
       "Type               A              B              C\n",
       "count  215478.000000  163495.000000   42597.000000\n",
       "mean    20099.568043   12237.075977    9519.532538\n",
       "std     26423.457227   17203.668989   15985.351612\n",
       "min     -4988.940000   -3924.000000    -379.000000\n",
       "25%      3315.090000    1927.055000     131.990000\n",
       "50%     10105.170000    6187.870000    1149.670000\n",
       "75%     26357.180000   15353.740000   12695.010000\n",
       "max    474330.100000  693099.360000  112152.350000"
      ]
     },
     "execution_count": 46,
     "metadata": {},
     "output_type": "execute_result"
    }
   ],
   "source": [
    "res_type.describe()"
   ]
  },
  {
   "cell_type": "markdown",
   "id": "d43d2790",
   "metadata": {},
   "source": [
    "### IsHoliday"
   ]
  },
  {
   "cell_type": "code",
   "execution_count": 47,
   "id": "7e4175bf",
   "metadata": {
    "ExecuteTime": {
     "end_time": "2023-01-21T08:11:10.880809Z",
     "start_time": "2023-01-21T08:11:10.372772Z"
    }
   },
   "outputs": [],
   "source": [
    "col = 'IsHoliday'\n",
    "res_hol = pd.pivot_table(df, values='Weekly_Sales', columns=[f'{col}'], index=['Date','Store','Dept'],\n",
    "                       aggfunc=np.mean)"
   ]
  },
  {
   "cell_type": "code",
   "execution_count": 48,
   "id": "755b2b7b",
   "metadata": {
    "ExecuteTime": {
     "end_time": "2023-01-21T08:11:14.780468Z",
     "start_time": "2023-01-21T08:11:14.732785Z"
    }
   },
   "outputs": [
    {
     "data": {
      "text/html": [
       "<div>\n",
       "<style scoped>\n",
       "    .dataframe tbody tr th:only-of-type {\n",
       "        vertical-align: middle;\n",
       "    }\n",
       "\n",
       "    .dataframe tbody tr th {\n",
       "        vertical-align: top;\n",
       "    }\n",
       "\n",
       "    .dataframe thead th {\n",
       "        text-align: right;\n",
       "    }\n",
       "</style>\n",
       "<table border=\"1\" class=\"dataframe\">\n",
       "  <thead>\n",
       "    <tr style=\"text-align: right;\">\n",
       "      <th></th>\n",
       "      <th></th>\n",
       "      <th>IsHoliday</th>\n",
       "      <th>0</th>\n",
       "      <th>1</th>\n",
       "    </tr>\n",
       "    <tr>\n",
       "      <th>Date</th>\n",
       "      <th>Store</th>\n",
       "      <th>Dept</th>\n",
       "      <th></th>\n",
       "      <th></th>\n",
       "    </tr>\n",
       "  </thead>\n",
       "  <tbody>\n",
       "    <tr>\n",
       "      <th rowspan=\"5\" valign=\"top\">2010-01-10</th>\n",
       "      <th rowspan=\"5\" valign=\"top\">1</th>\n",
       "      <th>1</th>\n",
       "      <td>20094.19</td>\n",
       "      <td>NaN</td>\n",
       "    </tr>\n",
       "    <tr>\n",
       "      <th>2</th>\n",
       "      <td>45829.02</td>\n",
       "      <td>NaN</td>\n",
       "    </tr>\n",
       "    <tr>\n",
       "      <th>3</th>\n",
       "      <td>9775.17</td>\n",
       "      <td>NaN</td>\n",
       "    </tr>\n",
       "    <tr>\n",
       "      <th>4</th>\n",
       "      <td>34912.45</td>\n",
       "      <td>NaN</td>\n",
       "    </tr>\n",
       "    <tr>\n",
       "      <th>5</th>\n",
       "      <td>23381.38</td>\n",
       "      <td>NaN</td>\n",
       "    </tr>\n",
       "    <tr>\n",
       "      <th>...</th>\n",
       "      <th>...</th>\n",
       "      <th>...</th>\n",
       "      <td>...</td>\n",
       "      <td>...</td>\n",
       "    </tr>\n",
       "    <tr>\n",
       "      <th rowspan=\"5\" valign=\"top\">2012-12-10</th>\n",
       "      <th rowspan=\"5\" valign=\"top\">45</th>\n",
       "      <th>93</th>\n",
       "      <td>2644.24</td>\n",
       "      <td>NaN</td>\n",
       "    </tr>\n",
       "    <tr>\n",
       "      <th>94</th>\n",
       "      <td>4041.28</td>\n",
       "      <td>NaN</td>\n",
       "    </tr>\n",
       "    <tr>\n",
       "      <th>95</th>\n",
       "      <td>49334.77</td>\n",
       "      <td>NaN</td>\n",
       "    </tr>\n",
       "    <tr>\n",
       "      <th>97</th>\n",
       "      <td>6463.32</td>\n",
       "      <td>NaN</td>\n",
       "    </tr>\n",
       "    <tr>\n",
       "      <th>98</th>\n",
       "      <td>1061.02</td>\n",
       "      <td>NaN</td>\n",
       "    </tr>\n",
       "  </tbody>\n",
       "</table>\n",
       "<p>421570 rows × 2 columns</p>\n",
       "</div>"
      ],
      "text/plain": [
       "IsHoliday                     0   1\n",
       "Date       Store Dept              \n",
       "2010-01-10 1     1     20094.19 NaN\n",
       "                 2     45829.02 NaN\n",
       "                 3      9775.17 NaN\n",
       "                 4     34912.45 NaN\n",
       "                 5     23381.38 NaN\n",
       "...                         ...  ..\n",
       "2012-12-10 45    93     2644.24 NaN\n",
       "                 94     4041.28 NaN\n",
       "                 95    49334.77 NaN\n",
       "                 97     6463.32 NaN\n",
       "                 98     1061.02 NaN\n",
       "\n",
       "[421570 rows x 2 columns]"
      ]
     },
     "execution_count": 48,
     "metadata": {},
     "output_type": "execute_result"
    }
   ],
   "source": [
    "res_hol"
   ]
  },
  {
   "cell_type": "code",
   "execution_count": 49,
   "id": "7b8c4d40",
   "metadata": {
    "ExecuteTime": {
     "end_time": "2023-01-21T08:11:25.776665Z",
     "start_time": "2023-01-21T08:11:25.718824Z"
    }
   },
   "outputs": [
    {
     "data": {
      "text/html": [
       "<div>\n",
       "<style scoped>\n",
       "    .dataframe tbody tr th:only-of-type {\n",
       "        vertical-align: middle;\n",
       "    }\n",
       "\n",
       "    .dataframe tbody tr th {\n",
       "        vertical-align: top;\n",
       "    }\n",
       "\n",
       "    .dataframe thead th {\n",
       "        text-align: right;\n",
       "    }\n",
       "</style>\n",
       "<table border=\"1\" class=\"dataframe\">\n",
       "  <thead>\n",
       "    <tr style=\"text-align: right;\">\n",
       "      <th>IsHoliday</th>\n",
       "      <th>0</th>\n",
       "      <th>1</th>\n",
       "    </tr>\n",
       "  </thead>\n",
       "  <tbody>\n",
       "    <tr>\n",
       "      <th>count</th>\n",
       "      <td>391909.000000</td>\n",
       "      <td>29661.000000</td>\n",
       "    </tr>\n",
       "    <tr>\n",
       "      <th>mean</th>\n",
       "      <td>15901.445069</td>\n",
       "      <td>17035.823187</td>\n",
       "    </tr>\n",
       "    <tr>\n",
       "      <th>std</th>\n",
       "      <td>22330.747450</td>\n",
       "      <td>27222.000409</td>\n",
       "    </tr>\n",
       "    <tr>\n",
       "      <th>min</th>\n",
       "      <td>-4988.940000</td>\n",
       "      <td>-798.000000</td>\n",
       "    </tr>\n",
       "    <tr>\n",
       "      <th>25%</th>\n",
       "      <td>2079.750000</td>\n",
       "      <td>2078.540000</td>\n",
       "    </tr>\n",
       "    <tr>\n",
       "      <th>50%</th>\n",
       "      <td>7589.950000</td>\n",
       "      <td>7947.740000</td>\n",
       "    </tr>\n",
       "    <tr>\n",
       "      <th>75%</th>\n",
       "      <td>20131.210000</td>\n",
       "      <td>21189.250000</td>\n",
       "    </tr>\n",
       "    <tr>\n",
       "      <th>max</th>\n",
       "      <td>406988.630000</td>\n",
       "      <td>693099.360000</td>\n",
       "    </tr>\n",
       "  </tbody>\n",
       "</table>\n",
       "</div>"
      ],
      "text/plain": [
       "IsHoliday              0              1\n",
       "count      391909.000000   29661.000000\n",
       "mean        15901.445069   17035.823187\n",
       "std         22330.747450   27222.000409\n",
       "min         -4988.940000    -798.000000\n",
       "25%          2079.750000    2078.540000\n",
       "50%          7589.950000    7947.740000\n",
       "75%         20131.210000   21189.250000\n",
       "max        406988.630000  693099.360000"
      ]
     },
     "execution_count": 49,
     "metadata": {},
     "output_type": "execute_result"
    }
   ],
   "source": [
    "res_hol.describe()"
   ]
  },
  {
   "cell_type": "code",
   "execution_count": 54,
   "id": "99ca5e29",
   "metadata": {
    "ExecuteTime": {
     "end_time": "2023-01-21T08:24:29.711889Z",
     "start_time": "2023-01-21T08:24:29.702824Z"
    }
   },
   "outputs": [
    {
     "data": {
      "text/plain": [
       "Index(['Store', 'Dept', 'Date', 'Weekly_Sales', 'IsHoliday', 'Temperature',\n",
       "       'Fuel_Price', 'MarkDown1', 'MarkDown2', 'MarkDown3', 'MarkDown4',\n",
       "       'MarkDown5', 'CPI', 'Unemployment', 'Type', 'Size'],\n",
       "      dtype='object')"
      ]
     },
     "execution_count": 54,
     "metadata": {},
     "output_type": "execute_result"
    }
   ],
   "source": [
    "df.columns"
   ]
  },
  {
   "cell_type": "code",
   "execution_count": 61,
   "id": "8ce04f85",
   "metadata": {
    "ExecuteTime": {
     "end_time": "2023-01-21T08:30:42.028401Z",
     "start_time": "2023-01-21T08:30:42.014368Z"
    }
   },
   "outputs": [
    {
     "data": {
      "text/plain": [
       "['MarkDown1', 'MarkDown2', 'MarkDown3', 'MarkDown4', 'MarkDown5']"
      ]
     },
     "execution_count": 61,
     "metadata": {},
     "output_type": "execute_result"
    }
   ],
   "source": [
    "# Markdown\n",
    "# task : 2.Model the effects of markdowns on holiday weeks\n",
    "\n",
    "col = 'IsHoliday'\n",
    "values = [c for c in df.columns if 'MarkDown' in c]\n",
    "values"
   ]
  },
  {
   "cell_type": "code",
   "execution_count": 63,
   "id": "23fcc433",
   "metadata": {
    "ExecuteTime": {
     "end_time": "2023-01-21T08:31:16.623625Z",
     "start_time": "2023-01-21T08:31:15.205973Z"
    }
   },
   "outputs": [],
   "source": [
    "res_md = pd.pivot_table(df, values=values, columns= [col], index=['Date','Store','Dept'],\n",
    "                       aggfunc={values[0]:np.mean, values[1]:np.mean, values[2]:np.mean, values[3]:np.mean, values[4]:np.mean})"
   ]
  },
  {
   "cell_type": "code",
   "execution_count": 64,
   "id": "f3acc700",
   "metadata": {
    "ExecuteTime": {
     "end_time": "2023-01-21T08:31:18.546398Z",
     "start_time": "2023-01-21T08:31:18.427029Z"
    }
   },
   "outputs": [
    {
     "data": {
      "text/html": [
       "<div>\n",
       "<style scoped>\n",
       "    .dataframe tbody tr th:only-of-type {\n",
       "        vertical-align: middle;\n",
       "    }\n",
       "\n",
       "    .dataframe tbody tr th {\n",
       "        vertical-align: top;\n",
       "    }\n",
       "\n",
       "    .dataframe thead tr th {\n",
       "        text-align: left;\n",
       "    }\n",
       "</style>\n",
       "<table border=\"1\" class=\"dataframe\">\n",
       "  <thead>\n",
       "    <tr>\n",
       "      <th></th>\n",
       "      <th colspan=\"2\" halign=\"left\">MarkDown1</th>\n",
       "      <th colspan=\"2\" halign=\"left\">MarkDown2</th>\n",
       "      <th colspan=\"2\" halign=\"left\">MarkDown3</th>\n",
       "      <th colspan=\"2\" halign=\"left\">MarkDown4</th>\n",
       "      <th colspan=\"2\" halign=\"left\">MarkDown5</th>\n",
       "    </tr>\n",
       "    <tr>\n",
       "      <th>IsHoliday</th>\n",
       "      <th>0</th>\n",
       "      <th>1</th>\n",
       "      <th>0</th>\n",
       "      <th>1</th>\n",
       "      <th>0</th>\n",
       "      <th>1</th>\n",
       "      <th>0</th>\n",
       "      <th>1</th>\n",
       "      <th>0</th>\n",
       "      <th>1</th>\n",
       "    </tr>\n",
       "  </thead>\n",
       "  <tbody>\n",
       "    <tr>\n",
       "      <th>count</th>\n",
       "      <td>138739.000000</td>\n",
       "      <td>11942.000000</td>\n",
       "      <td>100526.000000</td>\n",
       "      <td>10722.000000</td>\n",
       "      <td>125635.000000</td>\n",
       "      <td>11456.000000</td>\n",
       "      <td>123997.000000</td>\n",
       "      <td>10970.000000</td>\n",
       "      <td>139441.000000</td>\n",
       "      <td>11991.000000</td>\n",
       "    </tr>\n",
       "    <tr>\n",
       "      <th>mean</th>\n",
       "      <td>7332.984933</td>\n",
       "      <td>6240.733956</td>\n",
       "      <td>2298.528959</td>\n",
       "      <td>13048.763547</td>\n",
       "      <td>195.831724</td>\n",
       "      <td>15077.548736</td>\n",
       "      <td>3384.219730</td>\n",
       "      <td>3371.283148</td>\n",
       "      <td>4722.908034</td>\n",
       "      <td>3536.647067</td>\n",
       "    </tr>\n",
       "    <tr>\n",
       "      <th>std</th>\n",
       "      <td>8436.950798</td>\n",
       "      <td>6271.189481</td>\n",
       "      <td>5548.867501</td>\n",
       "      <td>23205.433537</td>\n",
       "      <td>1102.189294</td>\n",
       "      <td>29865.571239</td>\n",
       "      <td>6385.681355</td>\n",
       "      <td>5121.189881</td>\n",
       "      <td>6155.436006</td>\n",
       "      <td>2669.602227</td>\n",
       "    </tr>\n",
       "    <tr>\n",
       "      <th>min</th>\n",
       "      <td>0.270000</td>\n",
       "      <td>2.800000</td>\n",
       "      <td>-265.760000</td>\n",
       "      <td>-9.980000</td>\n",
       "      <td>-29.100000</td>\n",
       "      <td>0.450000</td>\n",
       "      <td>0.220000</td>\n",
       "      <td>3.000000</td>\n",
       "      <td>153.040000</td>\n",
       "      <td>135.160000</td>\n",
       "    </tr>\n",
       "    <tr>\n",
       "      <th>25%</th>\n",
       "      <td>2344.650000</td>\n",
       "      <td>531.090000</td>\n",
       "      <td>40.480000</td>\n",
       "      <td>47.960000</td>\n",
       "      <td>4.590000</td>\n",
       "      <td>39.660000</td>\n",
       "      <td>536.080000</td>\n",
       "      <td>106.240000</td>\n",
       "      <td>1904.050000</td>\n",
       "      <td>1508.560000</td>\n",
       "    </tr>\n",
       "    <tr>\n",
       "      <th>50%</th>\n",
       "      <td>5369.610000</td>\n",
       "      <td>5140.440000</td>\n",
       "      <td>180.020000</td>\n",
       "      <td>1447.260000</td>\n",
       "      <td>21.380000</td>\n",
       "      <td>118.160000</td>\n",
       "      <td>1523.110000</td>\n",
       "      <td>1009.780000</td>\n",
       "      <td>3402.660000</td>\n",
       "      <td>2737.170000</td>\n",
       "    </tr>\n",
       "    <tr>\n",
       "      <th>75%</th>\n",
       "      <td>9173.970000</td>\n",
       "      <td>10155.750000</td>\n",
       "      <td>1407.400000</td>\n",
       "      <td>11778.680000</td>\n",
       "      <td>92.360000</td>\n",
       "      <td>326.680000</td>\n",
       "      <td>3572.950000</td>\n",
       "      <td>4361.360000</td>\n",
       "      <td>5588.470000</td>\n",
       "      <td>5266.900000</td>\n",
       "    </tr>\n",
       "    <tr>\n",
       "      <th>max</th>\n",
       "      <td>88646.760000</td>\n",
       "      <td>36778.650000</td>\n",
       "      <td>45971.430000</td>\n",
       "      <td>104519.540000</td>\n",
       "      <td>25959.980000</td>\n",
       "      <td>141630.610000</td>\n",
       "      <td>67474.850000</td>\n",
       "      <td>29483.810000</td>\n",
       "      <td>108519.280000</td>\n",
       "      <td>11100.550000</td>\n",
       "    </tr>\n",
       "  </tbody>\n",
       "</table>\n",
       "</div>"
      ],
      "text/plain": [
       "               MarkDown1                    MarkDown2                 \\\n",
       "IsHoliday              0             1              0              1   \n",
       "count      138739.000000  11942.000000  100526.000000   10722.000000   \n",
       "mean         7332.984933   6240.733956    2298.528959   13048.763547   \n",
       "std          8436.950798   6271.189481    5548.867501   23205.433537   \n",
       "min             0.270000      2.800000    -265.760000      -9.980000   \n",
       "25%          2344.650000    531.090000      40.480000      47.960000   \n",
       "50%          5369.610000   5140.440000     180.020000    1447.260000   \n",
       "75%          9173.970000  10155.750000    1407.400000   11778.680000   \n",
       "max         88646.760000  36778.650000   45971.430000  104519.540000   \n",
       "\n",
       "               MarkDown3                     MarkDown4                \\\n",
       "IsHoliday              0              1              0             1   \n",
       "count      125635.000000   11456.000000  123997.000000  10970.000000   \n",
       "mean          195.831724   15077.548736    3384.219730   3371.283148   \n",
       "std          1102.189294   29865.571239    6385.681355   5121.189881   \n",
       "min           -29.100000       0.450000       0.220000      3.000000   \n",
       "25%             4.590000      39.660000     536.080000    106.240000   \n",
       "50%            21.380000     118.160000    1523.110000   1009.780000   \n",
       "75%            92.360000     326.680000    3572.950000   4361.360000   \n",
       "max         25959.980000  141630.610000   67474.850000  29483.810000   \n",
       "\n",
       "               MarkDown5                \n",
       "IsHoliday              0             1  \n",
       "count      139441.000000  11991.000000  \n",
       "mean         4722.908034   3536.647067  \n",
       "std          6155.436006   2669.602227  \n",
       "min           153.040000    135.160000  \n",
       "25%          1904.050000   1508.560000  \n",
       "50%          3402.660000   2737.170000  \n",
       "75%          5588.470000   5266.900000  \n",
       "max        108519.280000  11100.550000  "
      ]
     },
     "execution_count": 64,
     "metadata": {},
     "output_type": "execute_result"
    }
   ],
   "source": [
    "# Markdown2, Markdown3 는 holiday에 영향을 받은 것으로 보임\n",
    "\n",
    "res_md.describe()"
   ]
  },
  {
   "cell_type": "code",
   "execution_count": null,
   "id": "acd356ff",
   "metadata": {},
   "outputs": [],
   "source": []
  },
  {
   "cell_type": "markdown",
   "id": "12c5a8ef",
   "metadata": {},
   "source": [
    "# Visualization"
   ]
  },
  {
   "cell_type": "markdown",
   "id": "8fea4caf",
   "metadata": {},
   "source": [
    "## heatmap"
   ]
  },
  {
   "cell_type": "code",
   "execution_count": 78,
   "id": "473afe25",
   "metadata": {
    "ExecuteTime": {
     "end_time": "2023-01-21T08:56:12.189517Z",
     "start_time": "2023-01-21T08:56:11.665301Z"
    }
   },
   "outputs": [],
   "source": [
    "corr_matrix = df.corr()"
   ]
  },
  {
   "cell_type": "code",
   "execution_count": 79,
   "id": "8e1791f8",
   "metadata": {
    "ExecuteTime": {
     "end_time": "2023-01-21T08:56:14.484282Z",
     "start_time": "2023-01-21T08:56:12.554432Z"
    }
   },
   "outputs": [
    {
     "data": {
      "text/plain": [
       "<AxesSubplot:>"
      ]
     },
     "execution_count": 79,
     "metadata": {},
     "output_type": "execute_result"
    },
    {
     "data": {
      "image/png": "[encoded data removed]",
      "text/plain": [
       "<Figure size 720x720 with 2 Axes>"
      ]
     },
     "metadata": {
      "needs_background": "light"
     },
     "output_type": "display_data"
    }
   ],
   "source": [
    "plt.figure(figsize= (10,10) )\n",
    "sns.heatmap(corr_matrix, annot= True) "
   ]
  },
  {
   "cell_type": "markdown",
   "id": "a015b743",
   "metadata": {},
   "source": [
    "## histogram"
   ]
  },
  {
   "cell_type": "code",
   "execution_count": 80,
   "id": "f9ca8b8e",
   "metadata": {
    "ExecuteTime": {
     "end_time": "2023-01-21T08:56:30.133518Z",
     "start_time": "2023-01-21T08:56:25.975509Z"
    }
   },
   "outputs": [
    {
     "data": {
      "text/plain": [
       "array([[<AxesSubplot:title={'center':'Store'}>,\n",
       "        <AxesSubplot:title={'center':'Dept'}>,\n",
       "        <AxesSubplot:title={'center':'Date'}>,\n",
       "        <AxesSubplot:title={'center':'Weekly_Sales'}>],\n",
       "       [<AxesSubplot:title={'center':'IsHoliday'}>,\n",
       "        <AxesSubplot:title={'center':'Temperature'}>,\n",
       "        <AxesSubplot:title={'center':'Fuel_Price'}>,\n",
       "        <AxesSubplot:title={'center':'MarkDown1'}>],\n",
       "       [<AxesSubplot:title={'center':'MarkDown2'}>,\n",
       "        <AxesSubplot:title={'center':'MarkDown3'}>,\n",
       "        <AxesSubplot:title={'center':'MarkDown4'}>,\n",
       "        <AxesSubplot:title={'center':'MarkDown5'}>],\n",
       "       [<AxesSubplot:title={'center':'CPI'}>,\n",
       "        <AxesSubplot:title={'center':'Unemployment'}>,\n",
       "        <AxesSubplot:title={'center':'Size'}>,\n",
       "        <AxesSubplot:title={'center':'month'}>],\n",
       "       [<AxesSubplot:title={'center':'year'}>, <AxesSubplot:>,\n",
       "        <AxesSubplot:>, <AxesSubplot:>]], dtype=object)"
      ]
     },
     "execution_count": 80,
     "metadata": {},
     "output_type": "execute_result"
    },
    {
     "data": {
      "image/png": "[encoded data removed]",
      "text/plain": [
       "<Figure size 1440x1440 with 20 Axes>"
      ]
     },
     "metadata": {
      "needs_background": "light"
     },
     "output_type": "display_data"
    }
   ],
   "source": [
    "df.hist(figsize=(20,20), bins=20)"
   ]
  },
  {
   "cell_type": "markdown",
   "id": "39ad3c8b",
   "metadata": {},
   "source": [
    "## pariplot"
   ]
  },
  {
   "cell_type": "code",
   "execution_count": 81,
   "id": "feb47af9",
   "metadata": {
    "ExecuteTime": {
     "end_time": "2023-01-21T09:02:23.722019Z",
     "start_time": "2023-01-21T09:02:23.708965Z"
    }
   },
   "outputs": [],
   "source": [
    "# col = ['Weekly_Sales','MarkDown1','Markdown2']\n",
    "# sns.pairplot(df[col])"
   ]
  },
  {
   "cell_type": "code",
   "execution_count": null,
   "id": "94977bbe",
   "metadata": {},
   "outputs": [],
   "source": []
  },
  {
   "cell_type": "markdown",
   "id": "07743021",
   "metadata": {},
   "source": [
    "## Type"
   ]
  },
  {
   "cell_type": "code",
   "execution_count": 82,
   "id": "6a2306e5",
   "metadata": {
    "ExecuteTime": {
     "end_time": "2023-01-21T09:04:13.779633Z",
     "start_time": "2023-01-21T09:04:13.610466Z"
    }
   },
   "outputs": [
    {
     "data": {
      "text/html": [
       "<div>\n",
       "<style scoped>\n",
       "    .dataframe tbody tr th:only-of-type {\n",
       "        vertical-align: middle;\n",
       "    }\n",
       "\n",
       "    .dataframe tbody tr th {\n",
       "        vertical-align: top;\n",
       "    }\n",
       "\n",
       "    .dataframe thead th {\n",
       "        text-align: right;\n",
       "    }\n",
       "</style>\n",
       "<table border=\"1\" class=\"dataframe\">\n",
       "  <thead>\n",
       "    <tr style=\"text-align: right;\">\n",
       "      <th></th>\n",
       "      <th>Store</th>\n",
       "      <th>Dept</th>\n",
       "      <th>Weekly_Sales</th>\n",
       "      <th>IsHoliday</th>\n",
       "      <th>Temperature</th>\n",
       "      <th>Fuel_Price</th>\n",
       "      <th>MarkDown1</th>\n",
       "      <th>MarkDown2</th>\n",
       "      <th>MarkDown3</th>\n",
       "      <th>MarkDown4</th>\n",
       "      <th>MarkDown5</th>\n",
       "      <th>CPI</th>\n",
       "      <th>Unemployment</th>\n",
       "      <th>Size</th>\n",
       "      <th>month</th>\n",
       "      <th>year</th>\n",
       "    </tr>\n",
       "    <tr>\n",
       "      <th>Type</th>\n",
       "      <th></th>\n",
       "      <th></th>\n",
       "      <th></th>\n",
       "      <th></th>\n",
       "      <th></th>\n",
       "      <th></th>\n",
       "      <th></th>\n",
       "      <th></th>\n",
       "      <th></th>\n",
       "      <th></th>\n",
       "      <th></th>\n",
       "      <th></th>\n",
       "      <th></th>\n",
       "      <th></th>\n",
       "      <th></th>\n",
       "      <th></th>\n",
       "    </tr>\n",
       "  </thead>\n",
       "  <tbody>\n",
       "    <tr>\n",
       "      <th>A</th>\n",
       "      <td>21.736419</td>\n",
       "      <td>44.622156</td>\n",
       "      <td>20099.568043</td>\n",
       "      <td>0.070471</td>\n",
       "      <td>60.531945</td>\n",
       "      <td>3.343999</td>\n",
       "      <td>8686.890200</td>\n",
       "      <td>3763.754760</td>\n",
       "      <td>1647.306427</td>\n",
       "      <td>3916.010821</td>\n",
       "      <td>5999.613028</td>\n",
       "      <td>174.408895</td>\n",
       "      <td>7.791595</td>\n",
       "      <td>182231.285486</td>\n",
       "      <td>6.480030</td>\n",
       "      <td>2010.966683</td>\n",
       "    </tr>\n",
       "    <tr>\n",
       "      <th>B</th>\n",
       "      <td>18.450417</td>\n",
       "      <td>43.112273</td>\n",
       "      <td>12237.075977</td>\n",
       "      <td>0.070412</td>\n",
       "      <td>57.562951</td>\n",
       "      <td>3.382523</td>\n",
       "      <td>7108.807166</td>\n",
       "      <td>3063.889903</td>\n",
       "      <td>1483.702329</td>\n",
       "      <td>2925.556313</td>\n",
       "      <td>3688.560768</td>\n",
       "      <td>167.176656</td>\n",
       "      <td>7.928836</td>\n",
       "      <td>101818.735827</td>\n",
       "      <td>6.478100</td>\n",
       "      <td>2010.967858</td>\n",
       "    </tr>\n",
       "    <tr>\n",
       "      <th>C</th>\n",
       "      <td>38.942015</td>\n",
       "      <td>46.836350</td>\n",
       "      <td>9519.532538</td>\n",
       "      <td>0.069582</td>\n",
       "      <td>67.554266</td>\n",
       "      <td>3.364654</td>\n",
       "      <td>394.645495</td>\n",
       "      <td>447.069931</td>\n",
       "      <td>18.003074</td>\n",
       "      <td>65.044490</td>\n",
       "      <td>1384.304338</td>\n",
       "      <td>170.429314</td>\n",
       "      <td>8.934350</td>\n",
       "      <td>40535.725286</td>\n",
       "      <td>6.473085</td>\n",
       "      <td>2010.981055</td>\n",
       "    </tr>\n",
       "  </tbody>\n",
       "</table>\n",
       "</div>"
      ],
      "text/plain": [
       "          Store       Dept  Weekly_Sales  IsHoliday  Temperature  Fuel_Price  \\\n",
       "Type                                                                           \n",
       "A     21.736419  44.622156  20099.568043   0.070471    60.531945    3.343999   \n",
       "B     18.450417  43.112273  12237.075977   0.070412    57.562951    3.382523   \n",
       "C     38.942015  46.836350   9519.532538   0.069582    67.554266    3.364654   \n",
       "\n",
       "        MarkDown1    MarkDown2    MarkDown3    MarkDown4    MarkDown5  \\\n",
       "Type                                                                    \n",
       "A     8686.890200  3763.754760  1647.306427  3916.010821  5999.613028   \n",
       "B     7108.807166  3063.889903  1483.702329  2925.556313  3688.560768   \n",
       "C      394.645495   447.069931    18.003074    65.044490  1384.304338   \n",
       "\n",
       "             CPI  Unemployment           Size     month         year  \n",
       "Type                                                                  \n",
       "A     174.408895      7.791595  182231.285486  6.480030  2010.966683  \n",
       "B     167.176656      7.928836  101818.735827  6.478100  2010.967858  \n",
       "C     170.429314      8.934350   40535.725286  6.473085  2010.981055  "
      ]
     },
     "execution_count": 82,
     "metadata": {},
     "output_type": "execute_result"
    }
   ],
   "source": [
    "df_type = df.groupby('Type').mean()\n",
    "df_type"
   ]
  },
  {
   "cell_type": "code",
   "execution_count": 87,
   "id": "a8d7ea45",
   "metadata": {
    "ExecuteTime": {
     "end_time": "2023-01-21T09:07:01.870485Z",
     "start_time": "2023-01-21T09:06:53.727294Z"
    }
   },
   "outputs": [
    {
     "data": {
      "text/plain": [
       "<AxesSubplot:xlabel='Type', ylabel='Weekly_Sales'>"
      ]
     },
     "execution_count": 87,
     "metadata": {},
     "output_type": "execute_result"
    },
    {
     "data": {
      "image/png": "[encoded data removed]",
      "text/plain": [
       "<Figure size 432x288 with 1 Axes>"
      ]
     },
     "metadata": {
      "needs_background": "light"
     },
     "output_type": "display_data"
    }
   ],
   "source": [
    " sns.barplot(data= df, x=df['Type'], y=df['Weekly_Sales'])"
   ]
  },
  {
   "cell_type": "code",
   "execution_count": null,
   "id": "2b8cd7f2",
   "metadata": {},
   "outputs": [],
   "source": []
  },
  {
   "cell_type": "markdown",
   "id": "2865b112",
   "metadata": {
    "ExecuteTime": {
     "end_time": "2023-01-21T09:04:49.587110Z",
     "start_time": "2023-01-21T09:04:49.576710Z"
    }
   },
   "source": [
    "## Dept"
   ]
  },
  {
   "cell_type": "code",
   "execution_count": 91,
   "id": "b94c2629",
   "metadata": {
    "ExecuteTime": {
     "end_time": "2023-01-21T09:11:56.061117Z",
     "start_time": "2023-01-21T09:11:55.993395Z"
    }
   },
   "outputs": [
    {
     "data": {
      "text/html": [
       "<div>\n",
       "<style scoped>\n",
       "    .dataframe tbody tr th:only-of-type {\n",
       "        vertical-align: middle;\n",
       "    }\n",
       "\n",
       "    .dataframe tbody tr th {\n",
       "        vertical-align: top;\n",
       "    }\n",
       "\n",
       "    .dataframe thead th {\n",
       "        text-align: right;\n",
       "    }\n",
       "</style>\n",
       "<table border=\"1\" class=\"dataframe\">\n",
       "  <thead>\n",
       "    <tr style=\"text-align: right;\">\n",
       "      <th></th>\n",
       "      <th>Weekly_Sales</th>\n",
       "      <th>MarkDown1</th>\n",
       "      <th>MarkDown2</th>\n",
       "      <th>MarkDown3</th>\n",
       "      <th>MarkDown4</th>\n",
       "      <th>MarkDown5</th>\n",
       "    </tr>\n",
       "    <tr>\n",
       "      <th>Dept</th>\n",
       "      <th></th>\n",
       "      <th></th>\n",
       "      <th></th>\n",
       "      <th></th>\n",
       "      <th></th>\n",
       "      <th></th>\n",
       "    </tr>\n",
       "  </thead>\n",
       "  <tbody>\n",
       "    <tr>\n",
       "      <th>1</th>\n",
       "      <td>19213.485088</td>\n",
       "      <td>6855.587430</td>\n",
       "      <td>3218.965504</td>\n",
       "      <td>1349.853021</td>\n",
       "      <td>3303.858142</td>\n",
       "      <td>4435.262240</td>\n",
       "    </tr>\n",
       "    <tr>\n",
       "      <th>2</th>\n",
       "      <td>43607.020113</td>\n",
       "      <td>6855.587430</td>\n",
       "      <td>3218.965504</td>\n",
       "      <td>1349.853021</td>\n",
       "      <td>3303.858142</td>\n",
       "      <td>4435.262240</td>\n",
       "    </tr>\n",
       "    <tr>\n",
       "      <th>3</th>\n",
       "      <td>11793.698516</td>\n",
       "      <td>6855.587430</td>\n",
       "      <td>3218.965504</td>\n",
       "      <td>1349.853021</td>\n",
       "      <td>3303.858142</td>\n",
       "      <td>4435.262240</td>\n",
       "    </tr>\n",
       "    <tr>\n",
       "      <th>4</th>\n",
       "      <td>25974.630238</td>\n",
       "      <td>6855.587430</td>\n",
       "      <td>3218.965504</td>\n",
       "      <td>1349.853021</td>\n",
       "      <td>3303.858142</td>\n",
       "      <td>4435.262240</td>\n",
       "    </tr>\n",
       "    <tr>\n",
       "      <th>5</th>\n",
       "      <td>21365.583515</td>\n",
       "      <td>6855.587430</td>\n",
       "      <td>3218.965504</td>\n",
       "      <td>1349.853021</td>\n",
       "      <td>3303.858142</td>\n",
       "      <td>4435.262240</td>\n",
       "    </tr>\n",
       "    <tr>\n",
       "      <th>...</th>\n",
       "      <td>...</td>\n",
       "      <td>...</td>\n",
       "      <td>...</td>\n",
       "      <td>...</td>\n",
       "      <td>...</td>\n",
       "      <td>...</td>\n",
       "    </tr>\n",
       "    <tr>\n",
       "      <th>95</th>\n",
       "      <td>69824.423080</td>\n",
       "      <td>6855.587430</td>\n",
       "      <td>3218.965504</td>\n",
       "      <td>1349.853021</td>\n",
       "      <td>3303.858142</td>\n",
       "      <td>4435.262240</td>\n",
       "    </tr>\n",
       "    <tr>\n",
       "      <th>96</th>\n",
       "      <td>15210.942761</td>\n",
       "      <td>6287.967527</td>\n",
       "      <td>3119.796797</td>\n",
       "      <td>1193.855988</td>\n",
       "      <td>3212.808232</td>\n",
       "      <td>4383.115400</td>\n",
       "    </tr>\n",
       "    <tr>\n",
       "      <th>97</th>\n",
       "      <td>14255.576919</td>\n",
       "      <td>6938.862342</td>\n",
       "      <td>3260.710711</td>\n",
       "      <td>1354.717655</td>\n",
       "      <td>3361.671816</td>\n",
       "      <td>4451.886377</td>\n",
       "    </tr>\n",
       "    <tr>\n",
       "      <th>98</th>\n",
       "      <td>6824.694889</td>\n",
       "      <td>6979.287650</td>\n",
       "      <td>3324.836217</td>\n",
       "      <td>1411.188604</td>\n",
       "      <td>3414.817774</td>\n",
       "      <td>4526.381211</td>\n",
       "    </tr>\n",
       "    <tr>\n",
       "      <th>99</th>\n",
       "      <td>415.487065</td>\n",
       "      <td>10475.808022</td>\n",
       "      <td>3637.157856</td>\n",
       "      <td>2377.478092</td>\n",
       "      <td>5410.023559</td>\n",
       "      <td>6125.841083</td>\n",
       "    </tr>\n",
       "  </tbody>\n",
       "</table>\n",
       "<p>81 rows × 6 columns</p>\n",
       "</div>"
      ],
      "text/plain": [
       "      Weekly_Sales     MarkDown1    MarkDown2    MarkDown3    MarkDown4  \\\n",
       "Dept                                                                      \n",
       "1     19213.485088   6855.587430  3218.965504  1349.853021  3303.858142   \n",
       "2     43607.020113   6855.587430  3218.965504  1349.853021  3303.858142   \n",
       "3     11793.698516   6855.587430  3218.965504  1349.853021  3303.858142   \n",
       "4     25974.630238   6855.587430  3218.965504  1349.853021  3303.858142   \n",
       "5     21365.583515   6855.587430  3218.965504  1349.853021  3303.858142   \n",
       "...            ...           ...          ...          ...          ...   \n",
       "95    69824.423080   6855.587430  3218.965504  1349.853021  3303.858142   \n",
       "96    15210.942761   6287.967527  3119.796797  1193.855988  3212.808232   \n",
       "97    14255.576919   6938.862342  3260.710711  1354.717655  3361.671816   \n",
       "98     6824.694889   6979.287650  3324.836217  1411.188604  3414.817774   \n",
       "99      415.487065  10475.808022  3637.157856  2377.478092  5410.023559   \n",
       "\n",
       "        MarkDown5  \n",
       "Dept               \n",
       "1     4435.262240  \n",
       "2     4435.262240  \n",
       "3     4435.262240  \n",
       "4     4435.262240  \n",
       "5     4435.262240  \n",
       "...           ...  \n",
       "95    4435.262240  \n",
       "96    4383.115400  \n",
       "97    4451.886377  \n",
       "98    4526.381211  \n",
       "99    6125.841083  \n",
       "\n",
       "[81 rows x 6 columns]"
      ]
     },
     "execution_count": 91,
     "metadata": {},
     "output_type": "execute_result"
    }
   ],
   "source": [
    "df_dept = df[['Weekly_Sales','MarkDown1','MarkDown2','MarkDown3','MarkDown4','MarkDown5','Dept']].groupby('Dept').mean()\n",
    "df_dept"
   ]
  },
  {
   "cell_type": "code",
   "execution_count": 95,
   "id": "6a4fc7a6",
   "metadata": {
    "ExecuteTime": {
     "end_time": "2023-01-21T09:14:52.652059Z",
     "start_time": "2023-01-21T09:14:51.196218Z"
    }
   },
   "outputs": [
    {
     "data": {
      "text/plain": [
       "<AxesSubplot:ylabel='Dept'>"
      ]
     },
     "execution_count": 95,
     "metadata": {},
     "output_type": "execute_result"
    },
    {
     "data": {
      "image/png": "[encoded data removed]",
      "text/plain": [
       "<Figure size 864x1008 with 1 Axes>"
      ]
     },
     "metadata": {
      "needs_background": "light"
     },
     "output_type": "display_data"
    }
   ],
   "source": [
    "plt.figure(figsize=(12,14))\n",
    "df_dept['Weekly_Sales'].plot(kind='barh',width= 0.9)"
   ]
  },
  {
   "cell_type": "code",
   "execution_count": 101,
   "id": "c7311d45",
   "metadata": {
    "ExecuteTime": {
     "end_time": "2023-01-21T09:19:57.255727Z",
     "start_time": "2023-01-21T09:19:55.274859Z"
    }
   },
   "outputs": [
    {
     "data": {
      "text/plain": [
       "<AxesSubplot:ylabel='Dept'>"
      ]
     },
     "execution_count": 101,
     "metadata": {},
     "output_type": "execute_result"
    },
    {
     "data": {
      "image/png": "[encoded data removed]",
      "text/plain": [
       "<Figure size 1008x1152 with 1 Axes>"
      ]
     },
     "metadata": {
      "needs_background": "light"
     },
     "output_type": "display_data"
    }
   ],
   "source": [
    "plt.figure(figsize=(14,16))\n",
    "df_dept['MarkDown1'].plot(kind='barh',width= 0.9)"
   ]
  },
  {
   "cell_type": "code",
   "execution_count": 97,
   "id": "6b9c325b",
   "metadata": {
    "ExecuteTime": {
     "end_time": "2023-01-21T09:15:54.525710Z",
     "start_time": "2023-01-21T09:15:53.248646Z"
    }
   },
   "outputs": [
    {
     "data": {
      "text/plain": [
       "<AxesSubplot:ylabel='Dept'>"
      ]
     },
     "execution_count": 97,
     "metadata": {},
     "output_type": "execute_result"
    },
    {
     "data": {
      "image/png": "[encoded data removed]",
      "text/plain": [
       "<Figure size 864x1008 with 1 Axes>"
      ]
     },
     "metadata": {
      "needs_background": "light"
     },
     "output_type": "display_data"
    }
   ],
   "source": [
    "plt.figure(figsize=(12,14))\n",
    "df_dept['MarkDown2'].plot(kind='barh',width= 0.9)"
   ]
  },
  {
   "cell_type": "code",
   "execution_count": 98,
   "id": "b6f91191",
   "metadata": {
    "ExecuteTime": {
     "end_time": "2023-01-21T09:16:03.050023Z",
     "start_time": "2023-01-21T09:16:01.840604Z"
    }
   },
   "outputs": [
    {
     "data": {
      "text/plain": [
       "<AxesSubplot:ylabel='Dept'>"
      ]
     },
     "execution_count": 98,
     "metadata": {},
     "output_type": "execute_result"
    },
    {
     "data": {
      "image/png": "[encoded data removed]",
      "text/plain": [
       "<Figure size 864x1008 with 1 Axes>"
      ]
     },
     "metadata": {
      "needs_background": "light"
     },
     "output_type": "display_data"
    }
   ],
   "source": [
    "plt.figure(figsize=(12,14))\n",
    "df_dept['MarkDown3'].plot(kind='barh',width= 0.9)"
   ]
  },
  {
   "cell_type": "code",
   "execution_count": 99,
   "id": "371fae0f",
   "metadata": {
    "ExecuteTime": {
     "end_time": "2023-01-21T09:17:21.801166Z",
     "start_time": "2023-01-21T09:17:20.177946Z"
    }
   },
   "outputs": [
    {
     "data": {
      "text/plain": [
       "<AxesSubplot:ylabel='Dept'>"
      ]
     },
     "execution_count": 99,
     "metadata": {},
     "output_type": "execute_result"
    },
    {
     "data": {
      "image/png": "[encoded data removed]",
      "text/plain": [
       "<Figure size 864x1008 with 1 Axes>"
      ]
     },
     "metadata": {
      "needs_background": "light"
     },
     "output_type": "display_data"
    }
   ],
   "source": [
    "plt.figure(figsize=(12,14))\n",
    "df_dept['MarkDown4'].plot(kind='barh',width= 0.9)"
   ]
  },
  {
   "cell_type": "code",
   "execution_count": 100,
   "id": "c0f4a60c",
   "metadata": {
    "ExecuteTime": {
     "end_time": "2023-01-21T09:17:41.255816Z",
     "start_time": "2023-01-21T09:17:40.044465Z"
    }
   },
   "outputs": [
    {
     "data": {
      "text/plain": [
       "<AxesSubplot:ylabel='Dept'>"
      ]
     },
     "execution_count": 100,
     "metadata": {},
     "output_type": "execute_result"
    },
    {
     "data": {
      "image/png": "[encoded data removed]",
      "text/plain": [
       "<Figure size 864x1008 with 1 Axes>"
      ]
     },
     "metadata": {
      "needs_background": "light"
     },
     "output_type": "display_data"
    }
   ],
   "source": [
    "plt.figure(figsize=(12,14))\n",
    "df_dept['MarkDown5'].plot(kind='barh',width= 0.9)"
   ]
  },
  {
   "cell_type": "code",
   "execution_count": null,
   "id": "8a964d04",
   "metadata": {},
   "outputs": [],
   "source": [
    "# 99, 78, 77\n",
    "# Sales 은 적고 Markdown 은 큰 수치를 보임"
   ]
  },
  {
   "cell_type": "code",
   "execution_count": null,
   "id": "0dad1da9",
   "metadata": {},
   "outputs": [],
   "source": []
  }
 ],
 "metadata": {
  "kernelspec": {
   "display_name": "Python 3 (ipykernel)",
   "language": "python",
   "name": "python3"
  },
  "language_info": {
   "codemirror_mode": {
    "name": "ipython",
    "version": 3
   },
   "file_extension": ".py",
   "mimetype": "text/x-python",
   "name": "python",
   "nbconvert_exporter": "python",
   "pygments_lexer": "ipython3",
   "version": "3.9.7"
  },
  "toc": {
   "base_numbering": 1,
   "nav_menu": {},
   "number_sections": true,
   "sideBar": true,
   "skip_h1_title": false,
   "title_cell": "Table of Contents",
   "title_sidebar": "Contents",
   "toc_cell": false,
   "toc_position": {
    "height": "calc(100% - 180px)",
    "left": "10px",
    "top": "150px",
    "width": "303.837px"
   },
   "toc_section_display": true,
   "toc_window_display": true
  },
  "varInspector": {
   "cols": {
    "lenName": 16,
    "lenType": 16,
    "lenVar": 40
   },
   "kernels_config": {
    "python": {
     "delete_cmd_postfix": "",
     "delete_cmd_prefix": "del ",
     "library": "var_list.py",
     "varRefreshCmd": "print(var_dic_list())"
    },
    "r": {
     "delete_cmd_postfix": ") ",
     "delete_cmd_prefix": "rm(",
     "library": "var_list.r",
     "varRefreshCmd": "cat(var_dic_list()) "
    }
   },
   "types_to_exclude": [
    "module",
    "function",
    "builtin_function_or_method",
    "instance",
    "_Feature"
   ],
   "window_display": false
  }
 },
 "nbformat": 4,
 "nbformat_minor": 5
}
