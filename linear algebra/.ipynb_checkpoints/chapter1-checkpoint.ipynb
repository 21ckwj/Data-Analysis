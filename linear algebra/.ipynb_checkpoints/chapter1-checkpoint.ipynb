{
 "cells": [
  {
   "cell_type": "markdown",
   "id": "2913d4df",
   "metadata": {},
   "source": [
    "1. 먼저 정수의 개수를 입력받은 다음, 해당하는 개수만큼의 정수를 입력받아 합을 계산하는 함수 calc()를 작성하여라"
   ]
  },
  {
   "cell_type": "code",
   "execution_count": 2,
   "id": "723c3bef",
   "metadata": {
    "ExecuteTime": {
     "end_time": "2023-01-24T05:53:35.785582Z",
     "start_time": "2023-01-24T05:53:35.771364Z"
    }
   },
   "outputs": [],
   "source": [
    "def calc(n):\n",
    "    result = 0\n",
    "    for i in range(n):\n",
    "        num = int(input())\n",
    "        result += num\n",
    "    \n",
    "    return result"
   ]
  },
  {
   "cell_type": "code",
   "execution_count": 4,
   "id": "a6b29a74",
   "metadata": {
    "ExecuteTime": {
     "end_time": "2023-01-24T05:53:57.270638Z",
     "start_time": "2023-01-24T05:53:52.488738Z"
    }
   },
   "outputs": [
    {
     "name": "stdout",
     "output_type": "stream",
     "text": [
      "2\n",
      "4\n",
      "6\n"
     ]
    },
    {
     "data": {
      "text/plain": [
       "12"
      ]
     },
     "execution_count": 4,
     "metadata": {},
     "output_type": "execute_result"
    }
   ],
   "source": [
    "calc(3)"
   ]
  },
  {
   "cell_type": "markdown",
   "id": "fb51444a",
   "metadata": {
    "ExecuteTime": {
     "end_time": "2023-01-24T05:54:34.057332Z",
     "start_time": "2023-01-24T05:54:34.046865Z"
    }
   },
   "source": [
    "2. 다음과 같은 행렬 A와 벡터 v를 파이썬으로 정의하고, 이를 출력하는 프로그램을 작성하여라\n",
    "\n",
    "A=<br>\n",
    "[1 2 3<br>\n",
    "4 5 6<br>\n",
    "7 8 9]\n",
    "\n",
    "v =<br> \n",
    "[1<br>\n",
    "2<br>\n",
    "3]"
   ]
  },
  {
   "cell_type": "code",
   "execution_count": 11,
   "id": "deafba0b",
   "metadata": {
    "ExecuteTime": {
     "end_time": "2023-01-24T06:00:34.023465Z",
     "start_time": "2023-01-24T06:00:34.006272Z"
    }
   },
   "outputs": [
    {
     "name": "stdout",
     "output_type": "stream",
     "text": [
      "A:  [[1 2 3]\n",
      " [4 5 6]\n",
      " [7 8 9]]\n",
      "v:  [[1]\n",
      " [2]\n",
      " [3]]\n"
     ]
    }
   ],
   "source": [
    "import numpy as np\n",
    "\n",
    "# array 사용\n",
    "A = np.array([[1,2,3],[4,5,6],[7,8,9]])\n",
    "# v = np.array([1,2,3]) 오답\n",
    "v = np.array([[1],[2],[3]])\n",
    "print(\"A: \",A)\n",
    "print(\"v: \",v)"
   ]
  },
  {
   "cell_type": "markdown",
   "id": "3af09668",
   "metadata": {
    "ExecuteTime": {
     "end_time": "2023-01-24T06:01:40.450566Z",
     "start_time": "2023-01-24T06:01:40.429815Z"
    }
   },
   "source": [
    "3. 다음과 같은 행렬과 벡터들의 크기를 출력하는 프로그램을 작성하라"
   ]
  },
  {
   "cell_type": "code",
   "execution_count": 16,
   "id": "aba77536",
   "metadata": {
    "ExecuteTime": {
     "end_time": "2023-01-24T06:05:02.515108Z",
     "start_time": "2023-01-24T06:05:02.504461Z"
    }
   },
   "outputs": [
    {
     "name": "stdout",
     "output_type": "stream",
     "text": [
      "(3, 3)\n",
      "(3, 1)\n",
      "(3,)\n",
      "(2, 3)\n"
     ]
    }
   ],
   "source": [
    "A = np.array([[1,2,3],[4,5,6],[7,8,9]])\n",
    "v = np.array([[1],[2],[3]])\n",
    "w = np.array([1,2,3])\n",
    "B = np.array([[1,2,3],[4,5,6]])\n",
    "\n",
    "print(A.shape)\n",
    "print(v.shape)\n",
    "print(w.shape)\n",
    "print(B.shape)"
   ]
  },
  {
   "cell_type": "code",
   "execution_count": null,
   "id": "517bdbde",
   "metadata": {},
   "outputs": [],
   "source": [
    " "
   ]
  }
 ],
 "metadata": {
  "kernelspec": {
   "display_name": "Python 3 (ipykernel)",
   "language": "python",
   "name": "python3"
  },
  "language_info": {
   "codemirror_mode": {
    "name": "ipython",
    "version": 3
   },
   "file_extension": ".py",
   "mimetype": "text/x-python",
   "name": "python",
   "nbconvert_exporter": "python",
   "pygments_lexer": "ipython3",
   "version": "3.9.7"
  },
  "varInspector": {
   "cols": {
    "lenName": 16,
    "lenType": 16,
    "lenVar": 40
   },
   "kernels_config": {
    "python": {
     "delete_cmd_postfix": "",
     "delete_cmd_prefix": "del ",
     "library": "var_list.py",
     "varRefreshCmd": "print(var_dic_list())"
    },
    "r": {
     "delete_cmd_postfix": ") ",
     "delete_cmd_prefix": "rm(",
     "library": "var_list.r",
     "varRefreshCmd": "cat(var_dic_list()) "
    }
   },
   "types_to_exclude": [
    "module",
    "function",
    "builtin_function_or_method",
    "instance",
    "_Feature"
   ],
   "window_display": false
  }
 },
 "nbformat": 4,
 "nbformat_minor": 5
}
