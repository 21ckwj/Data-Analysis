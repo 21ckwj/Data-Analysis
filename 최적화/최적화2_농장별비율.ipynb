{
 "cells": [
  {
   "cell_type": "markdown",
   "id": "4c5aab25-b98d-4803-bdfa-38011f8a1f90",
   "metadata": {},
   "source": [
    "# 문제 배경\n",
    "한 과일 선별장은 여러 농장에서 수확된 혼합 과일을 받아 등급 A 품질의 과일만 골라 판매한다. 선별 후 등급 A의 수율은 농장마다 다르며, 현재는 고정값으로 가정하고 있다. 그러나 실제 데이터를 보면 일자별로 수율이 유동적이며, 농장별 품질에도 편차가 존재한다.\n",
    "\n",
    "따라서, 각 농장이 공급한 과일에서 얼마나 높은 비율의 A급 과일이 나오는지를 데이터 기반으로 추정/최적화하여, 수익 예측 정확도와 공급 전략을 개선하고자 한다.\n",
    "\n",
    "## 최적화 과제\n",
    "30일간의 실제 수확량, 구매단가, 판매단가, 수익 데이터를 바탕으로\n",
    "각 농장별 등급 A 비율(수율)을 추정하라.\n",
    "\n",
    "⚠️ 단, “등급A_비율(%)”은 현재는 임의 수치로 되어 있으므로,\n",
    "이를 조정해 실제 수익과 최대한 부합하도록 하는 최적화 대상이 된다."
   ]
  },
  {
   "cell_type": "code",
   "execution_count": 1,
   "id": "6883da3b-7ae5-4b3a-9b3e-082fc7e33eca",
   "metadata": {},
   "outputs": [
    {
     "data": {
      "text/html": [
       "<div>\n",
       "<style scoped>\n",
       "    .dataframe tbody tr th:only-of-type {\n",
       "        vertical-align: middle;\n",
       "    }\n",
       "\n",
       "    .dataframe tbody tr th {\n",
       "        vertical-align: top;\n",
       "    }\n",
       "\n",
       "    .dataframe thead th {\n",
       "        text-align: right;\n",
       "    }\n",
       "</style>\n",
       "<table border=\"1\" class=\"dataframe\">\n",
       "  <thead>\n",
       "    <tr style=\"text-align: right;\">\n",
       "      <th></th>\n",
       "      <th>일자</th>\n",
       "      <th>농장</th>\n",
       "      <th>수확량(톤)</th>\n",
       "      <th>구매단가(만원/톤)</th>\n",
       "      <th>등급A_비율(%)</th>\n",
       "      <th>판매단가(만원/톤)</th>\n",
       "    </tr>\n",
       "  </thead>\n",
       "  <tbody>\n",
       "    <tr>\n",
       "      <th>0</th>\n",
       "      <td>2025-04-01</td>\n",
       "      <td>농장A</td>\n",
       "      <td>6</td>\n",
       "      <td>1.5</td>\n",
       "      <td>25</td>\n",
       "      <td>5</td>\n",
       "    </tr>\n",
       "    <tr>\n",
       "      <th>1</th>\n",
       "      <td>2025-04-01</td>\n",
       "      <td>농장B</td>\n",
       "      <td>28</td>\n",
       "      <td>1.2</td>\n",
       "      <td>18</td>\n",
       "      <td>5</td>\n",
       "    </tr>\n",
       "    <tr>\n",
       "      <th>2</th>\n",
       "      <td>2025-04-01</td>\n",
       "      <td>농장C</td>\n",
       "      <td>14</td>\n",
       "      <td>1.8</td>\n",
       "      <td>30</td>\n",
       "      <td>5</td>\n",
       "    </tr>\n",
       "    <tr>\n",
       "      <th>3</th>\n",
       "      <td>2025-04-01</td>\n",
       "      <td>농장D</td>\n",
       "      <td>7</td>\n",
       "      <td>0.9</td>\n",
       "      <td>12</td>\n",
       "      <td>5</td>\n",
       "    </tr>\n",
       "    <tr>\n",
       "      <th>4</th>\n",
       "      <td>2025-04-01</td>\n",
       "      <td>농장E</td>\n",
       "      <td>20</td>\n",
       "      <td>1.3</td>\n",
       "      <td>20</td>\n",
       "      <td>5</td>\n",
       "    </tr>\n",
       "    <tr>\n",
       "      <th>5</th>\n",
       "      <td>2025-04-02</td>\n",
       "      <td>농장A</td>\n",
       "      <td>6</td>\n",
       "      <td>1.5</td>\n",
       "      <td>25</td>\n",
       "      <td>5</td>\n",
       "    </tr>\n",
       "    <tr>\n",
       "      <th>6</th>\n",
       "      <td>2025-04-02</td>\n",
       "      <td>농장B</td>\n",
       "      <td>18</td>\n",
       "      <td>1.2</td>\n",
       "      <td>18</td>\n",
       "      <td>5</td>\n",
       "    </tr>\n",
       "    <tr>\n",
       "      <th>7</th>\n",
       "      <td>2025-04-02</td>\n",
       "      <td>농장C</td>\n",
       "      <td>10</td>\n",
       "      <td>1.8</td>\n",
       "      <td>30</td>\n",
       "      <td>5</td>\n",
       "    </tr>\n",
       "    <tr>\n",
       "      <th>8</th>\n",
       "      <td>2025-04-02</td>\n",
       "      <td>농장D</td>\n",
       "      <td>10</td>\n",
       "      <td>0.9</td>\n",
       "      <td>12</td>\n",
       "      <td>5</td>\n",
       "    </tr>\n",
       "    <tr>\n",
       "      <th>9</th>\n",
       "      <td>2025-04-02</td>\n",
       "      <td>농장E</td>\n",
       "      <td>23</td>\n",
       "      <td>1.3</td>\n",
       "      <td>20</td>\n",
       "      <td>5</td>\n",
       "    </tr>\n",
       "  </tbody>\n",
       "</table>\n",
       "</div>"
      ],
      "text/plain": [
       "           일자   농장  수확량(톤)  구매단가(만원/톤)  등급A_비율(%)  판매단가(만원/톤)\n",
       "0  2025-04-01  농장A       6         1.5         25           5\n",
       "1  2025-04-01  농장B      28         1.2         18           5\n",
       "2  2025-04-01  농장C      14         1.8         30           5\n",
       "3  2025-04-01  농장D       7         0.9         12           5\n",
       "4  2025-04-01  농장E      20         1.3         20           5\n",
       "5  2025-04-02  농장A       6         1.5         25           5\n",
       "6  2025-04-02  농장B      18         1.2         18           5\n",
       "7  2025-04-02  농장C      10         1.8         30           5\n",
       "8  2025-04-02  농장D      10         0.9         12           5\n",
       "9  2025-04-02  농장E      23         1.3         20           5"
      ]
     },
     "execution_count": 1,
     "metadata": {},
     "output_type": "execute_result"
    }
   ],
   "source": [
    "import pandas as pd\n",
    "import seaborn as sns\n",
    "\n",
    "df = pd.read_csv('./data/농산물_선별수율_최적화문제.csv', encoding = 'utf-8')\n",
    "df.head(10)"
   ]
  },
  {
   "cell_type": "markdown",
   "id": "2e48713f-1c95-4958-92cb-f48a23e37106",
   "metadata": {},
   "source": [
    "# 최적화 코드"
   ]
  },
  {
   "cell_type": "code",
   "execution_count": 13,
   "id": "5042ebe6-4a66-48bb-a862-8ffcf05f3650",
   "metadata": {},
   "outputs": [
    {
     "data": {
      "text/plain": [
       "[25, 18, 30, 12, 20]"
      ]
     },
     "execution_count": 13,
     "metadata": {},
     "output_type": "execute_result"
    }
   ],
   "source": [
    "import pandas as pd\n",
    "import numpy as np\n",
    "from scipy.optimize import minimize\n",
    "\n",
    "df = pd.read_csv('./data/농산물_선별수율_최적화문제.csv', encoding = 'utf-8')\n",
    "\n",
    "# 농장목록\n",
    "# farms = list(df['농장'].unique())\n",
    "farms = df['농장'].unique()\n",
    "\n",
    "# 초기 수율\n",
    "initial_ratio = [df[df['농장'] == farm]['등급A_비율(%)'].iloc[0] for farm in farms]\n",
    "initial_ratio"
   ]
  },
  {
   "cell_type": "code",
   "execution_count": null,
   "id": "dd6fe91e-c717-470f-8e51-48d329aad261",
   "metadata": {},
   "outputs": [],
   "source": [
    "# 최적화 대상 함수: 일자별 수익 총합의 표준편차(분산)을 최소화\n",
    "# 예측 수익 = 수확량*수율*판매단가 - 수확량*구매단가\n",
    "\n",
    "df_temp = df.copy()\n",
    "\n",
    "for i, farm in enumerate(farms):\n",
    "    df_temp.loc[df_temp['농장'] == farm, \"예측수익\"] = df_temp['수확량(톤)'] * (initial_ratio[i]/100 * df_temp[\"판매단가(만원/톤)\"] - df_temp[\"구매단가(만원/톤)\"]\n",
    "    "
   ]
  }
 ],
 "metadata": {
  "kernelspec": {
   "display_name": "Python 3 (ipykernel)",
   "language": "python",
   "name": "python3"
  },
  "language_info": {
   "codemirror_mode": {
    "name": "ipython",
    "version": 3
   },
   "file_extension": ".py",
   "mimetype": "text/x-python",
   "name": "python",
   "nbconvert_exporter": "python",
   "pygments_lexer": "ipython3",
   "version": "3.12.7"
  }
 },
 "nbformat": 4,
 "nbformat_minor": 5
}
